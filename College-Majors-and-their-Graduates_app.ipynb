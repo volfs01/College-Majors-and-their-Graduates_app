{
 "cells": [
  {
   "cell_type": "code",
   "execution_count": 6,
   "id": "88066cb2",
   "metadata": {},
   "outputs": [],
   "source": [
    "import pandas as pd \n",
    "import numpy as np"
   ]
  },
  {
   "cell_type": "code",
   "execution_count": 7,
   "id": "7b26a9aa",
   "metadata": {},
   "outputs": [],
   "source": [
    "# 모든 연령\n",
    "df_age = pd.read_csv('csv/all-ages.csv', index_col=0)"
   ]
  },
  {
   "cell_type": "code",
   "execution_count": 8,
   "id": "cc9c52dd",
   "metadata": {},
   "outputs": [],
   "source": [
    "# 대학원생\n",
    "df_grad = pd.read_csv('csv/grad-students.csv', index_col=0)"
   ]
  },
  {
   "cell_type": "code",
   "execution_count": 9,
   "id": "c40a5fc5",
   "metadata": {},
   "outputs": [],
   "source": [
    "\n",
    "df_recent = pd.read_csv('csv/recent-grads.csv', index_col=0)"
   ]
  },
  {
   "cell_type": "code",
   "execution_count": 10,
   "id": "57c45cee",
   "metadata": {
    "scrolled": true
   },
   "outputs": [
    {
     "data": {
      "text/html": [
       "<div>\n",
       "<style scoped>\n",
       "    .dataframe tbody tr th:only-of-type {\n",
       "        vertical-align: middle;\n",
       "    }\n",
       "\n",
       "    .dataframe tbody tr th {\n",
       "        vertical-align: top;\n",
       "    }\n",
       "\n",
       "    .dataframe thead th {\n",
       "        text-align: right;\n",
       "    }\n",
       "</style>\n",
       "<table border=\"1\" class=\"dataframe\">\n",
       "  <thead>\n",
       "    <tr style=\"text-align: right;\">\n",
       "      <th></th>\n",
       "      <th>Major_code</th>\n",
       "      <th>Major</th>\n",
       "      <th>Major_category</th>\n",
       "      <th>Total</th>\n",
       "      <th>Employed</th>\n",
       "      <th>Employed_full_time_year_round</th>\n",
       "      <th>Unemployed</th>\n",
       "      <th>Unemployment_rate</th>\n",
       "      <th>Median</th>\n",
       "      <th>P25th</th>\n",
       "      <th>P75th</th>\n",
       "    </tr>\n",
       "    <tr>\n",
       "      <th>index</th>\n",
       "      <th></th>\n",
       "      <th></th>\n",
       "      <th></th>\n",
       "      <th></th>\n",
       "      <th></th>\n",
       "      <th></th>\n",
       "      <th></th>\n",
       "      <th></th>\n",
       "      <th></th>\n",
       "      <th></th>\n",
       "      <th></th>\n",
       "    </tr>\n",
       "  </thead>\n",
       "  <tbody>\n",
       "    <tr>\n",
       "      <th>0</th>\n",
       "      <td>1100</td>\n",
       "      <td>GENERAL AGRICULTURE</td>\n",
       "      <td>Agriculture &amp; Natural Resources</td>\n",
       "      <td>128148</td>\n",
       "      <td>90245</td>\n",
       "      <td>74078</td>\n",
       "      <td>2423</td>\n",
       "      <td>0.026147</td>\n",
       "      <td>50000</td>\n",
       "      <td>34000</td>\n",
       "      <td>80000.0</td>\n",
       "    </tr>\n",
       "    <tr>\n",
       "      <th>1</th>\n",
       "      <td>1101</td>\n",
       "      <td>AGRICULTURE PRODUCTION AND MANAGEMENT</td>\n",
       "      <td>Agriculture &amp; Natural Resources</td>\n",
       "      <td>95326</td>\n",
       "      <td>76865</td>\n",
       "      <td>64240</td>\n",
       "      <td>2266</td>\n",
       "      <td>0.028636</td>\n",
       "      <td>54000</td>\n",
       "      <td>36000</td>\n",
       "      <td>80000.0</td>\n",
       "    </tr>\n",
       "    <tr>\n",
       "      <th>2</th>\n",
       "      <td>1102</td>\n",
       "      <td>AGRICULTURAL ECONOMICS</td>\n",
       "      <td>Agriculture &amp; Natural Resources</td>\n",
       "      <td>33955</td>\n",
       "      <td>26321</td>\n",
       "      <td>22810</td>\n",
       "      <td>821</td>\n",
       "      <td>0.030248</td>\n",
       "      <td>63000</td>\n",
       "      <td>40000</td>\n",
       "      <td>98000.0</td>\n",
       "    </tr>\n",
       "    <tr>\n",
       "      <th>3</th>\n",
       "      <td>1103</td>\n",
       "      <td>ANIMAL SCIENCES</td>\n",
       "      <td>Agriculture &amp; Natural Resources</td>\n",
       "      <td>103549</td>\n",
       "      <td>81177</td>\n",
       "      <td>64937</td>\n",
       "      <td>3619</td>\n",
       "      <td>0.042679</td>\n",
       "      <td>46000</td>\n",
       "      <td>30000</td>\n",
       "      <td>72000.0</td>\n",
       "    </tr>\n",
       "    <tr>\n",
       "      <th>4</th>\n",
       "      <td>1104</td>\n",
       "      <td>FOOD SCIENCE</td>\n",
       "      <td>Agriculture &amp; Natural Resources</td>\n",
       "      <td>24280</td>\n",
       "      <td>17281</td>\n",
       "      <td>12722</td>\n",
       "      <td>894</td>\n",
       "      <td>0.049188</td>\n",
       "      <td>62000</td>\n",
       "      <td>38500</td>\n",
       "      <td>90000.0</td>\n",
       "    </tr>\n",
       "    <tr>\n",
       "      <th>...</th>\n",
       "      <td>...</td>\n",
       "      <td>...</td>\n",
       "      <td>...</td>\n",
       "      <td>...</td>\n",
       "      <td>...</td>\n",
       "      <td>...</td>\n",
       "      <td>...</td>\n",
       "      <td>...</td>\n",
       "      <td>...</td>\n",
       "      <td>...</td>\n",
       "      <td>...</td>\n",
       "    </tr>\n",
       "    <tr>\n",
       "      <th>168</th>\n",
       "      <td>6211</td>\n",
       "      <td>HOSPITALITY MANAGEMENT</td>\n",
       "      <td>Business</td>\n",
       "      <td>200854</td>\n",
       "      <td>163393</td>\n",
       "      <td>122499</td>\n",
       "      <td>8862</td>\n",
       "      <td>0.051447</td>\n",
       "      <td>49000</td>\n",
       "      <td>33000</td>\n",
       "      <td>70000.0</td>\n",
       "    </tr>\n",
       "    <tr>\n",
       "      <th>169</th>\n",
       "      <td>6212</td>\n",
       "      <td>MANAGEMENT INFORMATION SYSTEMS AND STATISTICS</td>\n",
       "      <td>Business</td>\n",
       "      <td>156673</td>\n",
       "      <td>134478</td>\n",
       "      <td>118249</td>\n",
       "      <td>6186</td>\n",
       "      <td>0.043977</td>\n",
       "      <td>72000</td>\n",
       "      <td>50000</td>\n",
       "      <td>100000.0</td>\n",
       "    </tr>\n",
       "    <tr>\n",
       "      <th>170</th>\n",
       "      <td>6299</td>\n",
       "      <td>MISCELLANEOUS BUSINESS &amp; MEDICAL ADMINISTRATION</td>\n",
       "      <td>Business</td>\n",
       "      <td>102753</td>\n",
       "      <td>77471</td>\n",
       "      <td>61603</td>\n",
       "      <td>4308</td>\n",
       "      <td>0.052679</td>\n",
       "      <td>53000</td>\n",
       "      <td>36000</td>\n",
       "      <td>83000.0</td>\n",
       "    </tr>\n",
       "    <tr>\n",
       "      <th>171</th>\n",
       "      <td>6402</td>\n",
       "      <td>HISTORY</td>\n",
       "      <td>Humanities &amp; Liberal Arts</td>\n",
       "      <td>712509</td>\n",
       "      <td>478416</td>\n",
       "      <td>354163</td>\n",
       "      <td>33725</td>\n",
       "      <td>0.065851</td>\n",
       "      <td>50000</td>\n",
       "      <td>35000</td>\n",
       "      <td>80000.0</td>\n",
       "    </tr>\n",
       "    <tr>\n",
       "      <th>172</th>\n",
       "      <td>6403</td>\n",
       "      <td>UNITED STATES HISTORY</td>\n",
       "      <td>Humanities &amp; Liberal Arts</td>\n",
       "      <td>17746</td>\n",
       "      <td>11887</td>\n",
       "      <td>8204</td>\n",
       "      <td>943</td>\n",
       "      <td>0.073500</td>\n",
       "      <td>50000</td>\n",
       "      <td>39000</td>\n",
       "      <td>81000.0</td>\n",
       "    </tr>\n",
       "  </tbody>\n",
       "</table>\n",
       "<p>173 rows × 11 columns</p>\n",
       "</div>"
      ],
      "text/plain": [
       "       Major_code                                            Major  \\\n",
       "index                                                                \n",
       "0            1100                              GENERAL AGRICULTURE   \n",
       "1            1101            AGRICULTURE PRODUCTION AND MANAGEMENT   \n",
       "2            1102                           AGRICULTURAL ECONOMICS   \n",
       "3            1103                                  ANIMAL SCIENCES   \n",
       "4            1104                                     FOOD SCIENCE   \n",
       "...           ...                                              ...   \n",
       "168          6211                           HOSPITALITY MANAGEMENT   \n",
       "169          6212    MANAGEMENT INFORMATION SYSTEMS AND STATISTICS   \n",
       "170          6299  MISCELLANEOUS BUSINESS & MEDICAL ADMINISTRATION   \n",
       "171          6402                                          HISTORY   \n",
       "172          6403                            UNITED STATES HISTORY   \n",
       "\n",
       "                        Major_category   Total  Employed  \\\n",
       "index                                                      \n",
       "0      Agriculture & Natural Resources  128148     90245   \n",
       "1      Agriculture & Natural Resources   95326     76865   \n",
       "2      Agriculture & Natural Resources   33955     26321   \n",
       "3      Agriculture & Natural Resources  103549     81177   \n",
       "4      Agriculture & Natural Resources   24280     17281   \n",
       "...                                ...     ...       ...   \n",
       "168                           Business  200854    163393   \n",
       "169                           Business  156673    134478   \n",
       "170                           Business  102753     77471   \n",
       "171          Humanities & Liberal Arts  712509    478416   \n",
       "172          Humanities & Liberal Arts   17746     11887   \n",
       "\n",
       "       Employed_full_time_year_round  Unemployed  Unemployment_rate  Median  \\\n",
       "index                                                                         \n",
       "0                              74078        2423           0.026147   50000   \n",
       "1                              64240        2266           0.028636   54000   \n",
       "2                              22810         821           0.030248   63000   \n",
       "3                              64937        3619           0.042679   46000   \n",
       "4                              12722         894           0.049188   62000   \n",
       "...                              ...         ...                ...     ...   \n",
       "168                           122499        8862           0.051447   49000   \n",
       "169                           118249        6186           0.043977   72000   \n",
       "170                            61603        4308           0.052679   53000   \n",
       "171                           354163       33725           0.065851   50000   \n",
       "172                             8204         943           0.073500   50000   \n",
       "\n",
       "       P25th     P75th  \n",
       "index                   \n",
       "0      34000   80000.0  \n",
       "1      36000   80000.0  \n",
       "2      40000   98000.0  \n",
       "3      30000   72000.0  \n",
       "4      38500   90000.0  \n",
       "...      ...       ...  \n",
       "168    33000   70000.0  \n",
       "169    50000  100000.0  \n",
       "170    36000   83000.0  \n",
       "171    35000   80000.0  \n",
       "172    39000   81000.0  \n",
       "\n",
       "[173 rows x 11 columns]"
      ]
     },
     "execution_count": 10,
     "metadata": {},
     "output_type": "execute_result"
    }
   ],
   "source": [
    "df_age"
   ]
  },
  {
   "cell_type": "code",
   "execution_count": 11,
   "id": "d803019d",
   "metadata": {},
   "outputs": [
    {
     "data": {
      "text/plain": [
       "0"
      ]
     },
     "execution_count": 11,
     "metadata": {},
     "output_type": "execute_result"
    }
   ],
   "source": [
    "df_age['Major_category'].isna().sum()"
   ]
  },
  {
   "cell_type": "code",
   "execution_count": 12,
   "id": "db5b0e49",
   "metadata": {
    "scrolled": false
   },
   "outputs": [
    {
     "data": {
      "text/plain": [
       "array(['Agriculture & Natural Resources', 'Biology & Life Science',\n",
       "       'Engineering', 'Humanities & Liberal Arts',\n",
       "       'Communications & Journalism', 'Computers & Mathematics',\n",
       "       'Industrial Arts & Consumer Services', 'Education',\n",
       "       'Law & Public Policy', 'Interdisciplinary', 'Health',\n",
       "       'Social Science', 'Physical Sciences', 'Psychology & Social Work',\n",
       "       'Arts', 'Business'], dtype=object)"
      ]
     },
     "execution_count": 12,
     "metadata": {},
     "output_type": "execute_result"
    }
   ],
   "source": [
    "df_age['Major_category'].unique()"
   ]
  },
  {
   "cell_type": "code",
   "execution_count": 13,
   "id": "d933e7f7",
   "metadata": {
    "scrolled": true
   },
   "outputs": [
    {
     "data": {
      "text/plain": [
       "array(['GENERAL AGRICULTURE', 'AGRICULTURE PRODUCTION AND MANAGEMENT',\n",
       "       'AGRICULTURAL ECONOMICS', 'ANIMAL SCIENCES', 'FOOD SCIENCE',\n",
       "       'PLANT SCIENCE AND AGRONOMY', 'SOIL SCIENCE',\n",
       "       'MISCELLANEOUS AGRICULTURE', 'ENVIRONMENTAL SCIENCE', 'FORESTRY',\n",
       "       'NATURAL RESOURCES MANAGEMENT', 'ARCHITECTURE',\n",
       "       'AREA ETHNIC AND CIVILIZATION STUDIES', 'COMMUNICATIONS',\n",
       "       'JOURNALISM', 'MASS MEDIA', 'ADVERTISING AND PUBLIC RELATIONS',\n",
       "       'COMMUNICATION TECHNOLOGIES', 'COMPUTER AND INFORMATION SYSTEMS',\n",
       "       'COMPUTER PROGRAMMING AND DATA PROCESSING', 'COMPUTER SCIENCE',\n",
       "       'INFORMATION SCIENCES',\n",
       "       'COMPUTER ADMINISTRATION MANAGEMENT AND SECURITY',\n",
       "       'COMPUTER NETWORKING AND TELECOMMUNICATIONS',\n",
       "       'COSMETOLOGY SERVICES AND CULINARY ARTS', 'GENERAL EDUCATION',\n",
       "       'EDUCATIONAL ADMINISTRATION AND SUPERVISION',\n",
       "       'SCHOOL STUDENT COUNSELING', 'ELEMENTARY EDUCATION',\n",
       "       'MATHEMATICS TEACHER EDUCATION',\n",
       "       'PHYSICAL AND HEALTH EDUCATION TEACHING',\n",
       "       'EARLY CHILDHOOD EDUCATION',\n",
       "       'SCIENCE AND COMPUTER TEACHER EDUCATION',\n",
       "       'SECONDARY TEACHER EDUCATION', 'SPECIAL NEEDS EDUCATION',\n",
       "       'SOCIAL SCIENCE OR HISTORY TEACHER EDUCATION',\n",
       "       'TEACHER EDUCATION: MULTIPLE LEVELS',\n",
       "       'LANGUAGE AND DRAMA EDUCATION', 'ART AND MUSIC EDUCATION',\n",
       "       'MISCELLANEOUS EDUCATION', 'GENERAL ENGINEERING',\n",
       "       'AEROSPACE ENGINEERING', 'BIOLOGICAL ENGINEERING',\n",
       "       'ARCHITECTURAL ENGINEERING', 'BIOMEDICAL ENGINEERING',\n",
       "       'CHEMICAL ENGINEERING', 'CIVIL ENGINEERING',\n",
       "       'COMPUTER ENGINEERING', 'ELECTRICAL ENGINEERING',\n",
       "       'ENGINEERING MECHANICS PHYSICS AND SCIENCE',\n",
       "       'ENVIRONMENTAL ENGINEERING',\n",
       "       'GEOLOGICAL AND GEOPHYSICAL ENGINEERING',\n",
       "       'INDUSTRIAL AND MANUFACTURING ENGINEERING',\n",
       "       'MATERIALS ENGINEERING AND MATERIALS SCIENCE',\n",
       "       'MECHANICAL ENGINEERING', 'METALLURGICAL ENGINEERING',\n",
       "       'MINING AND MINERAL ENGINEERING',\n",
       "       'NAVAL ARCHITECTURE AND MARINE ENGINEERING', 'NUCLEAR ENGINEERING',\n",
       "       'PETROLEUM ENGINEERING', 'MISCELLANEOUS ENGINEERING',\n",
       "       'ENGINEERING TECHNOLOGIES',\n",
       "       'ENGINEERING AND INDUSTRIAL MANAGEMENT',\n",
       "       'ELECTRICAL ENGINEERING TECHNOLOGY',\n",
       "       'INDUSTRIAL PRODUCTION TECHNOLOGIES',\n",
       "       'MECHANICAL ENGINEERING RELATED TECHNOLOGIES',\n",
       "       'MISCELLANEOUS ENGINEERING TECHNOLOGIES',\n",
       "       'LINGUISTICS AND COMPARATIVE LANGUAGE AND LITERATURE',\n",
       "       'FRENCH GERMAN LATIN AND OTHER COMMON FOREIGN LANGUAGE STUDIES',\n",
       "       'OTHER FOREIGN LANGUAGES', 'FAMILY AND CONSUMER SCIENCES',\n",
       "       'COURT REPORTING', 'PRE-LAW AND LEGAL STUDIES',\n",
       "       'ENGLISH LANGUAGE AND LITERATURE', 'COMPOSITION AND RHETORIC',\n",
       "       'LIBERAL ARTS', 'HUMANITIES', 'LIBRARY SCIENCE', 'BIOLOGY',\n",
       "       'BIOCHEMICAL SCIENCES', 'BOTANY', 'MOLECULAR BIOLOGY', 'ECOLOGY',\n",
       "       'GENETICS', 'MICROBIOLOGY', 'PHARMACOLOGY', 'PHYSIOLOGY',\n",
       "       'ZOOLOGY', 'NEUROSCIENCE', 'MISCELLANEOUS BIOLOGY', 'MATHEMATICS',\n",
       "       'APPLIED MATHEMATICS', 'STATISTICS AND DECISION SCIENCE',\n",
       "       'MILITARY TECHNOLOGIES', 'MULTI/INTERDISCIPLINARY STUDIES',\n",
       "       'INTERCULTURAL AND INTERNATIONAL STUDIES', 'NUTRITION SCIENCES',\n",
       "       'MATHEMATICS AND COMPUTER SCIENCE',\n",
       "       'COGNITIVE SCIENCE AND BIOPSYCHOLOGY',\n",
       "       'INTERDISCIPLINARY SOCIAL SCIENCES',\n",
       "       'PHYSICAL FITNESS PARKS RECREATION AND LEISURE',\n",
       "       'PHILOSOPHY AND RELIGIOUS STUDIES',\n",
       "       'THEOLOGY AND RELIGIOUS VOCATIONS', 'PHYSICAL SCIENCES',\n",
       "       'ASTRONOMY AND ASTROPHYSICS',\n",
       "       'ATMOSPHERIC SCIENCES AND METEOROLOGY', 'CHEMISTRY',\n",
       "       'GEOLOGY AND EARTH SCIENCE', 'GEOSCIENCES', 'OCEANOGRAPHY',\n",
       "       'PHYSICS', 'MATERIALS SCIENCE',\n",
       "       'MULTI-DISCIPLINARY OR GENERAL SCIENCE',\n",
       "       'NUCLEAR, INDUSTRIAL RADIOLOGY, AND BIOLOGICAL TECHNOLOGIES',\n",
       "       'PSYCHOLOGY', 'EDUCATIONAL PSYCHOLOGY', 'CLINICAL PSYCHOLOGY',\n",
       "       'COUNSELING PSYCHOLOGY',\n",
       "       'INDUSTRIAL AND ORGANIZATIONAL PSYCHOLOGY', 'SOCIAL PSYCHOLOGY',\n",
       "       'MISCELLANEOUS PSYCHOLOGY', 'CRIMINAL JUSTICE AND FIRE PROTECTION',\n",
       "       'PUBLIC ADMINISTRATION', 'PUBLIC POLICY',\n",
       "       'HUMAN SERVICES AND COMMUNITY ORGANIZATION', 'SOCIAL WORK',\n",
       "       'GENERAL SOCIAL SCIENCES', 'ECONOMICS',\n",
       "       'ANTHROPOLOGY AND ARCHEOLOGY', 'CRIMINOLOGY', 'GEOGRAPHY',\n",
       "       'INTERNATIONAL RELATIONS', 'POLITICAL SCIENCE AND GOVERNMENT',\n",
       "       'SOCIOLOGY', 'MISCELLANEOUS SOCIAL SCIENCES',\n",
       "       'CONSTRUCTION SERVICES',\n",
       "       'ELECTRICAL, MECHANICAL, AND PRECISION TECHNOLOGIES AND PRODUCTION',\n",
       "       'TRANSPORTATION SCIENCES AND TECHNOLOGIES', 'FINE ARTS',\n",
       "       'DRAMA AND THEATER ARTS', 'MUSIC', 'VISUAL AND PERFORMING ARTS',\n",
       "       'COMMERCIAL ART AND GRAPHIC DESIGN',\n",
       "       'FILM VIDEO AND PHOTOGRAPHIC ARTS', 'ART HISTORY AND CRITICISM',\n",
       "       'STUDIO ARTS', 'MISCELLANEOUS FINE ARTS',\n",
       "       'GENERAL MEDICAL AND HEALTH SERVICES',\n",
       "       'COMMUNICATION DISORDERS SCIENCES AND SERVICES',\n",
       "       'HEALTH AND MEDICAL ADMINISTRATIVE SERVICES',\n",
       "       'MEDICAL ASSISTING SERVICES', 'MEDICAL TECHNOLOGIES TECHNICIANS',\n",
       "       'HEALTH AND MEDICAL PREPARATORY PROGRAMS', 'NURSING',\n",
       "       'PHARMACY PHARMACEUTICAL SCIENCES AND ADMINISTRATION',\n",
       "       'TREATMENT THERAPY PROFESSIONS', 'COMMUNITY AND PUBLIC HEALTH',\n",
       "       'MISCELLANEOUS HEALTH MEDICAL PROFESSIONS', 'GENERAL BUSINESS',\n",
       "       'ACCOUNTING', 'ACTUARIAL SCIENCE',\n",
       "       'BUSINESS MANAGEMENT AND ADMINISTRATION',\n",
       "       'OPERATIONS LOGISTICS AND E-COMMERCE', 'BUSINESS ECONOMICS',\n",
       "       'MARKETING AND MARKETING RESEARCH', 'FINANCE',\n",
       "       'HUMAN RESOURCES AND PERSONNEL MANAGEMENT',\n",
       "       'INTERNATIONAL BUSINESS', 'HOSPITALITY MANAGEMENT',\n",
       "       'MANAGEMENT INFORMATION SYSTEMS AND STATISTICS',\n",
       "       'MISCELLANEOUS BUSINESS & MEDICAL ADMINISTRATION', 'HISTORY',\n",
       "       'UNITED STATES HISTORY'], dtype=object)"
      ]
     },
     "execution_count": 13,
     "metadata": {},
     "output_type": "execute_result"
    }
   ],
   "source": [
    "df_age['Major'].unique()"
   ]
  },
  {
   "cell_type": "code",
   "execution_count": 14,
   "id": "1b6b2f84",
   "metadata": {
    "scrolled": false
   },
   "outputs": [
    {
     "data": {
      "text/plain": [
       "Engineering                            29\n",
       "Education                              16\n",
       "Humanities & Liberal Arts              15\n",
       "Biology & Life Science                 14\n",
       "Business                               13\n",
       "Health                                 12\n",
       "Computers & Mathematics                11\n",
       "Agriculture & Natural Resources        10\n",
       "Physical Sciences                      10\n",
       "Social Science                          9\n",
       "Psychology & Social Work                9\n",
       "Arts                                    8\n",
       "Industrial Arts & Consumer Services     7\n",
       "Law & Public Policy                     5\n",
       "Communications & Journalism             4\n",
       "Interdisciplinary                       1\n",
       "Name: Major_category, dtype: int64"
      ]
     },
     "execution_count": 14,
     "metadata": {},
     "output_type": "execute_result"
    }
   ],
   "source": [
    "df_age['Major_category'].value_counts()"
   ]
  },
  {
   "cell_type": "code",
   "execution_count": 15,
   "id": "55746b1e",
   "metadata": {},
   "outputs": [
    {
     "data": {
      "text/plain": [
       "index\n",
       "11                                    ARCHITECTURE\n",
       "40                             GENERAL ENGINEERING\n",
       "41                           AEROSPACE ENGINEERING\n",
       "42                          BIOLOGICAL ENGINEERING\n",
       "43                       ARCHITECTURAL ENGINEERING\n",
       "44                          BIOMEDICAL ENGINEERING\n",
       "45                            CHEMICAL ENGINEERING\n",
       "46                               CIVIL ENGINEERING\n",
       "47                            COMPUTER ENGINEERING\n",
       "48                          ELECTRICAL ENGINEERING\n",
       "49       ENGINEERING MECHANICS PHYSICS AND SCIENCE\n",
       "50                       ENVIRONMENTAL ENGINEERING\n",
       "51          GEOLOGICAL AND GEOPHYSICAL ENGINEERING\n",
       "52        INDUSTRIAL AND MANUFACTURING ENGINEERING\n",
       "53     MATERIALS ENGINEERING AND MATERIALS SCIENCE\n",
       "54                          MECHANICAL ENGINEERING\n",
       "55                       METALLURGICAL ENGINEERING\n",
       "56                  MINING AND MINERAL ENGINEERING\n",
       "57       NAVAL ARCHITECTURE AND MARINE ENGINEERING\n",
       "58                             NUCLEAR ENGINEERING\n",
       "59                           PETROLEUM ENGINEERING\n",
       "60                       MISCELLANEOUS ENGINEERING\n",
       "61                        ENGINEERING TECHNOLOGIES\n",
       "62           ENGINEERING AND INDUSTRIAL MANAGEMENT\n",
       "63               ELECTRICAL ENGINEERING TECHNOLOGY\n",
       "64              INDUSTRIAL PRODUCTION TECHNOLOGIES\n",
       "65     MECHANICAL ENGINEERING RELATED TECHNOLOGIES\n",
       "66          MISCELLANEOUS ENGINEERING TECHNOLOGIES\n",
       "111                              MATERIALS SCIENCE\n",
       "Name: Major, dtype: object"
      ]
     },
     "execution_count": 15,
     "metadata": {},
     "output_type": "execute_result"
    }
   ],
   "source": [
    "df_age.loc[df_age['Major_category'] == 'Engineering', :]['Major']"
   ]
  },
  {
   "cell_type": "code",
   "execution_count": 16,
   "id": "230759ea",
   "metadata": {},
   "outputs": [
    {
     "data": {
      "text/plain": [
       "index\n",
       "158                                   GENERAL BUSINESS\n",
       "159                                         ACCOUNTING\n",
       "160                                  ACTUARIAL SCIENCE\n",
       "161             BUSINESS MANAGEMENT AND ADMINISTRATION\n",
       "162                OPERATIONS LOGISTICS AND E-COMMERCE\n",
       "163                                 BUSINESS ECONOMICS\n",
       "164                   MARKETING AND MARKETING RESEARCH\n",
       "165                                            FINANCE\n",
       "166           HUMAN RESOURCES AND PERSONNEL MANAGEMENT\n",
       "167                             INTERNATIONAL BUSINESS\n",
       "168                             HOSPITALITY MANAGEMENT\n",
       "169      MANAGEMENT INFORMATION SYSTEMS AND STATISTICS\n",
       "170    MISCELLANEOUS BUSINESS & MEDICAL ADMINISTRATION\n",
       "Name: Major, dtype: object"
      ]
     },
     "execution_count": 16,
     "metadata": {},
     "output_type": "execute_result"
    }
   ],
   "source": [
    "df_age.loc[df_age['Major_category'] == 'Business'  , :              ]['Major']"
   ]
  },
  {
   "cell_type": "code",
   "execution_count": 17,
   "id": "5cdf3f91",
   "metadata": {},
   "outputs": [
    {
     "data": {
      "text/html": [
       "<div>\n",
       "<style scoped>\n",
       "    .dataframe tbody tr th:only-of-type {\n",
       "        vertical-align: middle;\n",
       "    }\n",
       "\n",
       "    .dataframe tbody tr th {\n",
       "        vertical-align: top;\n",
       "    }\n",
       "\n",
       "    .dataframe thead th {\n",
       "        text-align: right;\n",
       "    }\n",
       "</style>\n",
       "<table border=\"1\" class=\"dataframe\">\n",
       "  <thead>\n",
       "    <tr style=\"text-align: right;\">\n",
       "      <th></th>\n",
       "      <th>Total</th>\n",
       "      <th>Employed</th>\n",
       "      <th>Unemployed</th>\n",
       "      <th>Unemployment_rate</th>\n",
       "    </tr>\n",
       "    <tr>\n",
       "      <th>index</th>\n",
       "      <th></th>\n",
       "      <th></th>\n",
       "      <th></th>\n",
       "      <th></th>\n",
       "    </tr>\n",
       "  </thead>\n",
       "  <tbody>\n",
       "    <tr>\n",
       "      <th>0</th>\n",
       "      <td>128148</td>\n",
       "      <td>90245</td>\n",
       "      <td>2423</td>\n",
       "      <td>0.026147</td>\n",
       "    </tr>\n",
       "    <tr>\n",
       "      <th>1</th>\n",
       "      <td>95326</td>\n",
       "      <td>76865</td>\n",
       "      <td>2266</td>\n",
       "      <td>0.028636</td>\n",
       "    </tr>\n",
       "    <tr>\n",
       "      <th>2</th>\n",
       "      <td>33955</td>\n",
       "      <td>26321</td>\n",
       "      <td>821</td>\n",
       "      <td>0.030248</td>\n",
       "    </tr>\n",
       "    <tr>\n",
       "      <th>3</th>\n",
       "      <td>103549</td>\n",
       "      <td>81177</td>\n",
       "      <td>3619</td>\n",
       "      <td>0.042679</td>\n",
       "    </tr>\n",
       "    <tr>\n",
       "      <th>4</th>\n",
       "      <td>24280</td>\n",
       "      <td>17281</td>\n",
       "      <td>894</td>\n",
       "      <td>0.049188</td>\n",
       "    </tr>\n",
       "    <tr>\n",
       "      <th>...</th>\n",
       "      <td>...</td>\n",
       "      <td>...</td>\n",
       "      <td>...</td>\n",
       "      <td>...</td>\n",
       "    </tr>\n",
       "    <tr>\n",
       "      <th>168</th>\n",
       "      <td>200854</td>\n",
       "      <td>163393</td>\n",
       "      <td>8862</td>\n",
       "      <td>0.051447</td>\n",
       "    </tr>\n",
       "    <tr>\n",
       "      <th>169</th>\n",
       "      <td>156673</td>\n",
       "      <td>134478</td>\n",
       "      <td>6186</td>\n",
       "      <td>0.043977</td>\n",
       "    </tr>\n",
       "    <tr>\n",
       "      <th>170</th>\n",
       "      <td>102753</td>\n",
       "      <td>77471</td>\n",
       "      <td>4308</td>\n",
       "      <td>0.052679</td>\n",
       "    </tr>\n",
       "    <tr>\n",
       "      <th>171</th>\n",
       "      <td>712509</td>\n",
       "      <td>478416</td>\n",
       "      <td>33725</td>\n",
       "      <td>0.065851</td>\n",
       "    </tr>\n",
       "    <tr>\n",
       "      <th>172</th>\n",
       "      <td>17746</td>\n",
       "      <td>11887</td>\n",
       "      <td>943</td>\n",
       "      <td>0.073500</td>\n",
       "    </tr>\n",
       "  </tbody>\n",
       "</table>\n",
       "<p>173 rows × 4 columns</p>\n",
       "</div>"
      ],
      "text/plain": [
       "        Total  Employed  Unemployed  Unemployment_rate\n",
       "index                                                 \n",
       "0      128148     90245        2423           0.026147\n",
       "1       95326     76865        2266           0.028636\n",
       "2       33955     26321         821           0.030248\n",
       "3      103549     81177        3619           0.042679\n",
       "4       24280     17281         894           0.049188\n",
       "...       ...       ...         ...                ...\n",
       "168    200854    163393        8862           0.051447\n",
       "169    156673    134478        6186           0.043977\n",
       "170    102753     77471        4308           0.052679\n",
       "171    712509    478416       33725           0.065851\n",
       "172     17746     11887         943           0.073500\n",
       "\n",
       "[173 rows x 4 columns]"
      ]
     },
     "execution_count": 17,
     "metadata": {},
     "output_type": "execute_result"
    }
   ],
   "source": [
    "df_age.loc[ : , ['Total','Employed','Unemployed','Unemployment_rate']]"
   ]
  },
  {
   "cell_type": "code",
   "execution_count": 18,
   "id": "0337cdf7",
   "metadata": {},
   "outputs": [],
   "source": [
    "# 실업 1등"
   ]
  },
  {
   "cell_type": "code",
   "execution_count": 19,
   "id": "6b78fb53",
   "metadata": {},
   "outputs": [
    {
     "data": {
      "text/html": [
       "<div>\n",
       "<style scoped>\n",
       "    .dataframe tbody tr th:only-of-type {\n",
       "        vertical-align: middle;\n",
       "    }\n",
       "\n",
       "    .dataframe tbody tr th {\n",
       "        vertical-align: top;\n",
       "    }\n",
       "\n",
       "    .dataframe thead th {\n",
       "        text-align: right;\n",
       "    }\n",
       "</style>\n",
       "<table border=\"1\" class=\"dataframe\">\n",
       "  <thead>\n",
       "    <tr style=\"text-align: right;\">\n",
       "      <th></th>\n",
       "      <th>Major</th>\n",
       "      <th>Total</th>\n",
       "      <th>Employed</th>\n",
       "      <th>Unemployed</th>\n",
       "      <th>Unemployment_rate</th>\n",
       "    </tr>\n",
       "    <tr>\n",
       "      <th>index</th>\n",
       "      <th></th>\n",
       "      <th></th>\n",
       "      <th></th>\n",
       "      <th></th>\n",
       "      <th></th>\n",
       "    </tr>\n",
       "  </thead>\n",
       "  <tbody>\n",
       "    <tr>\n",
       "      <th>146</th>\n",
       "      <td>MISCELLANEOUS FINE ARTS</td>\n",
       "      <td>8511</td>\n",
       "      <td>6431</td>\n",
       "      <td>1190</td>\n",
       "      <td>0.156147</td>\n",
       "    </tr>\n",
       "    <tr>\n",
       "      <th>116</th>\n",
       "      <td>CLINICAL PSYCHOLOGY</td>\n",
       "      <td>7638</td>\n",
       "      <td>5128</td>\n",
       "      <td>587</td>\n",
       "      <td>0.102712</td>\n",
       "    </tr>\n",
       "    <tr>\n",
       "      <th>93</th>\n",
       "      <td>MILITARY TECHNOLOGIES</td>\n",
       "      <td>4315</td>\n",
       "      <td>1650</td>\n",
       "      <td>187</td>\n",
       "      <td>0.101796</td>\n",
       "    </tr>\n",
       "    <tr>\n",
       "      <th>27</th>\n",
       "      <td>SCHOOL STUDENT COUNSELING</td>\n",
       "      <td>2396</td>\n",
       "      <td>1492</td>\n",
       "      <td>169</td>\n",
       "      <td>0.101746</td>\n",
       "    </tr>\n",
       "    <tr>\n",
       "      <th>77</th>\n",
       "      <td>LIBRARY SCIENCE</td>\n",
       "      <td>16193</td>\n",
       "      <td>7091</td>\n",
       "      <td>743</td>\n",
       "      <td>0.094843</td>\n",
       "    </tr>\n",
       "    <tr>\n",
       "      <th>...</th>\n",
       "      <td>...</td>\n",
       "      <td>...</td>\n",
       "      <td>...</td>\n",
       "      <td>...</td>\n",
       "      <td>...</td>\n",
       "    </tr>\n",
       "    <tr>\n",
       "      <th>97</th>\n",
       "      <td>MATHEMATICS AND COMPUTER SCIENCE</td>\n",
       "      <td>7184</td>\n",
       "      <td>5874</td>\n",
       "      <td>150</td>\n",
       "      <td>0.024900</td>\n",
       "    </tr>\n",
       "    <tr>\n",
       "      <th>111</th>\n",
       "      <td>MATERIALS SCIENCE</td>\n",
       "      <td>7208</td>\n",
       "      <td>5866</td>\n",
       "      <td>134</td>\n",
       "      <td>0.022333</td>\n",
       "    </tr>\n",
       "    <tr>\n",
       "      <th>85</th>\n",
       "      <td>PHARMACOLOGY</td>\n",
       "      <td>5015</td>\n",
       "      <td>3481</td>\n",
       "      <td>57</td>\n",
       "      <td>0.016111</td>\n",
       "    </tr>\n",
       "    <tr>\n",
       "      <th>26</th>\n",
       "      <td>EDUCATIONAL ADMINISTRATION AND SUPERVISION</td>\n",
       "      <td>4037</td>\n",
       "      <td>3113</td>\n",
       "      <td>0</td>\n",
       "      <td>0.000000</td>\n",
       "    </tr>\n",
       "    <tr>\n",
       "      <th>51</th>\n",
       "      <td>GEOLOGICAL AND GEOPHYSICAL ENGINEERING</td>\n",
       "      <td>6264</td>\n",
       "      <td>4120</td>\n",
       "      <td>0</td>\n",
       "      <td>0.000000</td>\n",
       "    </tr>\n",
       "  </tbody>\n",
       "</table>\n",
       "<p>173 rows × 5 columns</p>\n",
       "</div>"
      ],
      "text/plain": [
       "                                            Major  Total  Employed  \\\n",
       "index                                                                \n",
       "146                       MISCELLANEOUS FINE ARTS   8511      6431   \n",
       "116                           CLINICAL PSYCHOLOGY   7638      5128   \n",
       "93                          MILITARY TECHNOLOGIES   4315      1650   \n",
       "27                      SCHOOL STUDENT COUNSELING   2396      1492   \n",
       "77                                LIBRARY SCIENCE  16193      7091   \n",
       "...                                           ...    ...       ...   \n",
       "97               MATHEMATICS AND COMPUTER SCIENCE   7184      5874   \n",
       "111                             MATERIALS SCIENCE   7208      5866   \n",
       "85                                   PHARMACOLOGY   5015      3481   \n",
       "26     EDUCATIONAL ADMINISTRATION AND SUPERVISION   4037      3113   \n",
       "51         GEOLOGICAL AND GEOPHYSICAL ENGINEERING   6264      4120   \n",
       "\n",
       "       Unemployed  Unemployment_rate  \n",
       "index                                 \n",
       "146          1190           0.156147  \n",
       "116           587           0.102712  \n",
       "93            187           0.101796  \n",
       "27            169           0.101746  \n",
       "77            743           0.094843  \n",
       "...           ...                ...  \n",
       "97            150           0.024900  \n",
       "111           134           0.022333  \n",
       "85             57           0.016111  \n",
       "26              0           0.000000  \n",
       "51              0           0.000000  \n",
       "\n",
       "[173 rows x 5 columns]"
      ]
     },
     "execution_count": 19,
     "metadata": {},
     "output_type": "execute_result"
    }
   ],
   "source": [
    "df_age.loc[ : , ['Major','Total','Employed','Unemployed','Unemployment_rate']].sort_values('Unemployment_rate' ,ascending= False)"
   ]
  },
  {
   "cell_type": "code",
   "execution_count": 20,
   "id": "9c535ca5",
   "metadata": {},
   "outputs": [],
   "source": [
    "# 취업율 코멘트로 1등과 알려주기 "
   ]
  },
  {
   "cell_type": "code",
   "execution_count": 21,
   "id": "94f34207",
   "metadata": {
    "scrolled": true
   },
   "outputs": [
    {
     "data": {
      "text/html": [
       "<div>\n",
       "<style scoped>\n",
       "    .dataframe tbody tr th:only-of-type {\n",
       "        vertical-align: middle;\n",
       "    }\n",
       "\n",
       "    .dataframe tbody tr th {\n",
       "        vertical-align: top;\n",
       "    }\n",
       "\n",
       "    .dataframe thead th {\n",
       "        text-align: right;\n",
       "    }\n",
       "</style>\n",
       "<table border=\"1\" class=\"dataframe\">\n",
       "  <thead>\n",
       "    <tr style=\"text-align: right;\">\n",
       "      <th></th>\n",
       "      <th>Major_code</th>\n",
       "      <th>Major</th>\n",
       "      <th>Major_category</th>\n",
       "      <th>Total</th>\n",
       "      <th>Employed</th>\n",
       "      <th>Employed_full_time_year_round</th>\n",
       "      <th>Unemployed</th>\n",
       "      <th>Unemployment_rate</th>\n",
       "      <th>Median</th>\n",
       "      <th>P25th</th>\n",
       "      <th>P75th</th>\n",
       "    </tr>\n",
       "    <tr>\n",
       "      <th>index</th>\n",
       "      <th></th>\n",
       "      <th></th>\n",
       "      <th></th>\n",
       "      <th></th>\n",
       "      <th></th>\n",
       "      <th></th>\n",
       "      <th></th>\n",
       "      <th></th>\n",
       "      <th></th>\n",
       "      <th></th>\n",
       "      <th></th>\n",
       "    </tr>\n",
       "  </thead>\n",
       "  <tbody>\n",
       "    <tr>\n",
       "      <th>18</th>\n",
       "      <td>2100</td>\n",
       "      <td>COMPUTER AND INFORMATION SYSTEMS</td>\n",
       "      <td>Computers &amp; Mathematics</td>\n",
       "      <td>253782</td>\n",
       "      <td>218248</td>\n",
       "      <td>189950</td>\n",
       "      <td>11945</td>\n",
       "      <td>0.051891</td>\n",
       "      <td>65000</td>\n",
       "      <td>45000</td>\n",
       "      <td>90000.0</td>\n",
       "    </tr>\n",
       "  </tbody>\n",
       "</table>\n",
       "</div>"
      ],
      "text/plain": [
       "       Major_code                             Major           Major_category  \\\n",
       "index                                                                          \n",
       "18           2100  COMPUTER AND INFORMATION SYSTEMS  Computers & Mathematics   \n",
       "\n",
       "        Total  Employed  Employed_full_time_year_round  Unemployed  \\\n",
       "index                                                                \n",
       "18     253782    218248                         189950       11945   \n",
       "\n",
       "       Unemployment_rate  Median  P25th    P75th  \n",
       "index                                             \n",
       "18              0.051891   65000  45000  90000.0  "
      ]
     },
     "execution_count": 21,
     "metadata": {},
     "output_type": "execute_result"
    }
   ],
   "source": [
    "df_age.loc[(df_age['Employed']/df_age['Total'] * 100) == (df_age['Employed']/df_age['Total'] * 100).max() , :]"
   ]
  },
  {
   "cell_type": "code",
   "execution_count": 22,
   "id": "2051b2b1",
   "metadata": {},
   "outputs": [],
   "source": [
    "df = df_age.loc[df_age['Major_category']=='Computers & Mathematics'   , : ]"
   ]
  },
  {
   "cell_type": "code",
   "execution_count": 23,
   "id": "0d769bc1",
   "metadata": {
    "scrolled": true
   },
   "outputs": [
    {
     "data": {
      "text/plain": [
       "array(['COMPUTER SCIENCE'], dtype=object)"
      ]
     },
     "execution_count": 23,
     "metadata": {},
     "output_type": "execute_result"
    }
   ],
   "source": [
    "df.loc[df['Total'].max() == df['Total'] , 'Major'].values"
   ]
  },
  {
   "cell_type": "code",
   "execution_count": 24,
   "id": "38995427",
   "metadata": {},
   "outputs": [],
   "source": [
    "x= np.array(3)"
   ]
  },
  {
   "cell_type": "code",
   "execution_count": 25,
   "id": "f5321585",
   "metadata": {},
   "outputs": [],
   "source": [
    "y = df[['Median','P25th','P75th']].head(1).values"
   ]
  },
  {
   "cell_type": "code",
   "execution_count": 26,
   "id": "28a62e32",
   "metadata": {},
   "outputs": [],
   "source": [
    "y= y.reshape(3,1)"
   ]
  },
  {
   "cell_type": "code",
   "execution_count": 27,
   "id": "f79c8d79",
   "metadata": {},
   "outputs": [],
   "source": [
    "z = ['Median','P25th','P75th']"
   ]
  },
  {
   "cell_type": "code",
   "execution_count": 28,
   "id": "9a4e1e57",
   "metadata": {},
   "outputs": [],
   "source": [
    "df_fig = pd.DataFrame({0:[20190103, 20190222, 20190531,x],\n",
    "                             }, index = ['총 졸업자', '취업자 수', '실업자','실업자비율'])"
   ]
  },
  {
   "cell_type": "code",
   "execution_count": 29,
   "id": "94e44283",
   "metadata": {
    "scrolled": true
   },
   "outputs": [
    {
     "ename": "NameError",
     "evalue": "name 'student_card' is not defined",
     "output_type": "error",
     "traceback": [
      "\u001b[1;31m---------------------------------------------------------------------------\u001b[0m",
      "\u001b[1;31mNameError\u001b[0m                                 Traceback (most recent call last)",
      "Cell \u001b[1;32mIn [29], line 1\u001b[0m\n\u001b[1;32m----> 1\u001b[0m \u001b[43mstudent_card\u001b[49m\n",
      "\u001b[1;31mNameError\u001b[0m: name 'student_card' is not defined"
     ]
    }
   ],
   "source": [
    "student_card"
   ]
  },
  {
   "cell_type": "code",
   "execution_count": null,
   "id": "28cbd271",
   "metadata": {},
   "outputs": [],
   "source": [
    "df_fig = pd.DataFrame({ '컬럼' :['총 졸업자', '취업자 수', '실업자','실업자비율'] ,'값':[x, y, z,a],\n",
    "                             }, index = [1,2,3,4])"
   ]
  },
  {
   "cell_type": "code",
   "execution_count": null,
   "id": "5832a57b",
   "metadata": {},
   "outputs": [],
   "source": [
    "x = df.loc[df['Major']=='COMMUNICATION TECHNOLOGIES' , 'Employed'].values"
   ]
  },
  {
   "cell_type": "code",
   "execution_count": null,
   "id": "52a23b91",
   "metadata": {
    "scrolled": true
   },
   "outputs": [],
   "source": [
    "df_age[['Employed_full_time_year_round','Unemployed','Unemployment_rate' ] ].values"
   ]
  },
  {
   "cell_type": "code",
   "execution_count": 40,
   "id": "6a586789",
   "metadata": {},
   "outputs": [
    {
     "name": "stderr",
     "output_type": "stream",
     "text": [
      "2022-12-21 12:20:20.822 \n",
      "  \u001b[33m\u001b[1mWarning:\u001b[0m to view this Streamlit app on a browser, run it with the following\n",
      "  command:\n",
      "\n",
      "    streamlit run C:\\Users\\5-18\\anaconda3\\envs\\YH\\lib\\site-packages\\ipykernel_launcher.py [ARGUMENTS]\n"
     ]
    },
    {
     "data": {
      "text/plain": [
       "DeltaGenerator(_root_container=0, _provided_cursor=None, _parent=None, _block_type=None, _form_data=None)"
      ]
     },
     "execution_count": 40,
     "metadata": {},
     "output_type": "execute_result"
    }
   ],
   "source": [
    "fig6 = px.pie(df_fig,'columns' , 'sum' ,title= '각 언어별 파이차트')\n",
    "st.plotly_chart(fig6)"
   ]
  },
  {
   "cell_type": "code",
   "execution_count": 36,
   "id": "ff9185ae",
   "metadata": {},
   "outputs": [],
   "source": [
    "df_fig = pd.DataFrame({ 'columns' :['총 졸업자', '취업자 수', '실업자'] ,'sum':[100, 200, 300],\n",
    "                             }, index = ['총 졸업자', '취업자 수', '실업자'])"
   ]
  },
  {
   "cell_type": "code",
   "execution_count": 37,
   "id": "6deb8cb2",
   "metadata": {},
   "outputs": [
    {
     "data": {
      "text/html": [
       "<div>\n",
       "<style scoped>\n",
       "    .dataframe tbody tr th:only-of-type {\n",
       "        vertical-align: middle;\n",
       "    }\n",
       "\n",
       "    .dataframe tbody tr th {\n",
       "        vertical-align: top;\n",
       "    }\n",
       "\n",
       "    .dataframe thead th {\n",
       "        text-align: right;\n",
       "    }\n",
       "</style>\n",
       "<table border=\"1\" class=\"dataframe\">\n",
       "  <thead>\n",
       "    <tr style=\"text-align: right;\">\n",
       "      <th></th>\n",
       "      <th>columns</th>\n",
       "      <th>sum</th>\n",
       "    </tr>\n",
       "  </thead>\n",
       "  <tbody>\n",
       "    <tr>\n",
       "      <th>총 졸업자</th>\n",
       "      <td>총 졸업자</td>\n",
       "      <td>100</td>\n",
       "    </tr>\n",
       "    <tr>\n",
       "      <th>취업자 수</th>\n",
       "      <td>취업자 수</td>\n",
       "      <td>200</td>\n",
       "    </tr>\n",
       "    <tr>\n",
       "      <th>실업자</th>\n",
       "      <td>실업자</td>\n",
       "      <td>300</td>\n",
       "    </tr>\n",
       "  </tbody>\n",
       "</table>\n",
       "</div>"
      ],
      "text/plain": [
       "      columns  sum\n",
       "총 졸업자   총 졸업자  100\n",
       "취업자 수   취업자 수  200\n",
       "실업자       실업자  300"
      ]
     },
     "execution_count": 37,
     "metadata": {},
     "output_type": "execute_result"
    }
   ],
   "source": [
    "df_fig"
   ]
  },
  {
   "cell_type": "code",
   "execution_count": 44,
   "id": "683639e9",
   "metadata": {
    "scrolled": true
   },
   "outputs": [
    {
     "data": {
      "text/plain": [
       "Major_code                                                  1100\n",
       "Major                                        GENERAL AGRICULTURE\n",
       "Major_category                   Agriculture & Natural Resources\n",
       "Total                                                     128148\n",
       "Employed                                                   90245\n",
       "Employed_full_time_year_round                              74078\n",
       "Unemployed                                                  2423\n",
       "Unemployment_rate                                       0.026147\n",
       "Median                                                     50000\n",
       "P25th                                                      34000\n",
       "P75th                                                    80000.0\n",
       "Name: 0, dtype: object"
      ]
     },
     "execution_count": 44,
     "metadata": {},
     "output_type": "execute_result"
    }
   ],
   "source": [
    "df_age.iloc[0,:]"
   ]
  },
  {
   "cell_type": "code",
   "execution_count": 49,
   "id": "50b2fa42",
   "metadata": {},
   "outputs": [],
   "source": [
    "import platform\n",
    "from matplotlib import font_manager, rc\n",
    "plt.rcParams['axes.unicode_minus'] = False\n",
    "if platform.system() == 'Linux':\n",
    "    rc('font', family='NanumGothic')"
   ]
  },
  {
   "cell_type": "code",
   "execution_count": 50,
   "id": "2e629630",
   "metadata": {
    "scrolled": true
   },
   "outputs": [
    {
     "name": "stderr",
     "output_type": "stream",
     "text": [
      "C:\\Users\\5-18\\anaconda3\\envs\\YH\\lib\\site-packages\\IPython\\core\\pylabtools.py:152: UserWarning:\n",
      "\n",
      "Glyph 44032 (\\N{HANGUL SYLLABLE GA}) missing from current font.\n",
      "\n"
     ]
    },
    {
     "data": {
      "image/png": "[encoded data removed]",
      "text/plain": [
       "<Figure size 640x480 with 1 Axes>"
      ]
     },
     "metadata": {},
     "output_type": "display_data"
    }
   ],
   "source": [
    "plt.bar(np.arange(3),df_age.iloc[0,-3:])\n",
    "plt.xticks(np.arange(3),['가','pasd','p'])\n",
    "plt.show()"
   ]
  },
  {
   "cell_type": "code",
   "execution_count": null,
   "id": "a9f509c5",
   "metadata": {},
   "outputs": [],
   "source": []
  },
  {
   "cell_type": "code",
   "execution_count": null,
   "id": "50f2ec6b",
   "metadata": {},
   "outputs": [],
   "source": []
  },
  {
   "cell_type": "code",
   "execution_count": null,
   "id": "e7944b31",
   "metadata": {},
   "outputs": [],
   "source": []
  },
  {
   "cell_type": "code",
   "execution_count": null,
   "id": "08ab05dd",
   "metadata": {},
   "outputs": [],
   "source": []
  },
  {
   "cell_type": "code",
   "execution_count": null,
   "id": "738df49f",
   "metadata": {},
   "outputs": [],
   "source": []
  },
  {
   "cell_type": "code",
   "execution_count": null,
   "id": "b224f4a9",
   "metadata": {},
   "outputs": [],
   "source": []
  },
  {
   "cell_type": "code",
   "execution_count": null,
   "id": "4af1ac75",
   "metadata": {},
   "outputs": [],
   "source": []
  },
  {
   "cell_type": "code",
   "execution_count": null,
   "id": "49e74f67",
   "metadata": {},
   "outputs": [],
   "source": []
  },
  {
   "cell_type": "code",
   "execution_count": null,
   "id": "fb452745",
   "metadata": {},
   "outputs": [],
   "source": []
  }
 ],
 "metadata": {
  "kernelspec": {
   "display_name": "Python 3 (ipykernel)",
   "language": "python",
   "name": "python3"
  },
  "language_info": {
   "codemirror_mode": {
    "name": "ipython",
    "version": 3
   },
   "file_extension": ".py",
   "mimetype": "text/x-python",
   "name": "python",
   "nbconvert_exporter": "python",
   "pygments_lexer": "ipython3",
   "version": "3.8.13"
  }
 },
 "nbformat": 4,
 "nbformat_minor": 5
}
