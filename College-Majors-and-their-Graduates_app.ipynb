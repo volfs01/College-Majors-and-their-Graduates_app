{
 "cells": [
  {
   "cell_type": "code",
   "execution_count": 64,
   "id": "88066cb2",
   "metadata": {},
   "outputs": [],
   "source": [
    "import pandas as pd \n",
    "import numpy as np"
   ]
  },
  {
   "cell_type": "code",
   "execution_count": 65,
   "id": "7b26a9aa",
   "metadata": {},
   "outputs": [],
   "source": [
    "# 모든 연령\n",
    "df_age = pd.read_csv('csv/all-ages.csv', index_col=0)"
   ]
  },
  {
   "cell_type": "code",
   "execution_count": 131,
   "id": "cc9c52dd",
   "metadata": {},
   "outputs": [],
   "source": [
    "# 대학원생\n",
    "df_grad = pd.read_csv('csv/grad-students.csv', index_col=0)"
   ]
  },
  {
   "cell_type": "code",
   "execution_count": 67,
   "id": "c40a5fc5",
   "metadata": {},
   "outputs": [],
   "source": [
    "\n",
    "df_recent = pd.read_csv('csv/recent-grads.csv', index_col=0)"
   ]
  },
  {
   "cell_type": "code",
   "execution_count": 68,
   "id": "57c45cee",
   "metadata": {
    "scrolled": true
   },
   "outputs": [
    {
     "data": {
      "text/html": [
       "<div>\n",
       "<style scoped>\n",
       "    .dataframe tbody tr th:only-of-type {\n",
       "        vertical-align: middle;\n",
       "    }\n",
       "\n",
       "    .dataframe tbody tr th {\n",
       "        vertical-align: top;\n",
       "    }\n",
       "\n",
       "    .dataframe thead th {\n",
       "        text-align: right;\n",
       "    }\n",
       "</style>\n",
       "<table border=\"1\" class=\"dataframe\">\n",
       "  <thead>\n",
       "    <tr style=\"text-align: right;\">\n",
       "      <th></th>\n",
       "      <th>Major_code</th>\n",
       "      <th>Major</th>\n",
       "      <th>Major_category</th>\n",
       "      <th>Total</th>\n",
       "      <th>Employed</th>\n",
       "      <th>Employed_full_time_year_round</th>\n",
       "      <th>Unemployed</th>\n",
       "      <th>Unemployment_rate</th>\n",
       "      <th>Median</th>\n",
       "      <th>P25th</th>\n",
       "      <th>P75th</th>\n",
       "    </tr>\n",
       "    <tr>\n",
       "      <th>index</th>\n",
       "      <th></th>\n",
       "      <th></th>\n",
       "      <th></th>\n",
       "      <th></th>\n",
       "      <th></th>\n",
       "      <th></th>\n",
       "      <th></th>\n",
       "      <th></th>\n",
       "      <th></th>\n",
       "      <th></th>\n",
       "      <th></th>\n",
       "    </tr>\n",
       "  </thead>\n",
       "  <tbody>\n",
       "    <tr>\n",
       "      <th>0</th>\n",
       "      <td>1100</td>\n",
       "      <td>GENERAL AGRICULTURE</td>\n",
       "      <td>Agriculture &amp; Natural Resources</td>\n",
       "      <td>128148</td>\n",
       "      <td>90245</td>\n",
       "      <td>74078</td>\n",
       "      <td>2423</td>\n",
       "      <td>0.026147</td>\n",
       "      <td>50000</td>\n",
       "      <td>34000</td>\n",
       "      <td>80000.0</td>\n",
       "    </tr>\n",
       "    <tr>\n",
       "      <th>1</th>\n",
       "      <td>1101</td>\n",
       "      <td>AGRICULTURE PRODUCTION AND MANAGEMENT</td>\n",
       "      <td>Agriculture &amp; Natural Resources</td>\n",
       "      <td>95326</td>\n",
       "      <td>76865</td>\n",
       "      <td>64240</td>\n",
       "      <td>2266</td>\n",
       "      <td>0.028636</td>\n",
       "      <td>54000</td>\n",
       "      <td>36000</td>\n",
       "      <td>80000.0</td>\n",
       "    </tr>\n",
       "    <tr>\n",
       "      <th>2</th>\n",
       "      <td>1102</td>\n",
       "      <td>AGRICULTURAL ECONOMICS</td>\n",
       "      <td>Agriculture &amp; Natural Resources</td>\n",
       "      <td>33955</td>\n",
       "      <td>26321</td>\n",
       "      <td>22810</td>\n",
       "      <td>821</td>\n",
       "      <td>0.030248</td>\n",
       "      <td>63000</td>\n",
       "      <td>40000</td>\n",
       "      <td>98000.0</td>\n",
       "    </tr>\n",
       "    <tr>\n",
       "      <th>3</th>\n",
       "      <td>1103</td>\n",
       "      <td>ANIMAL SCIENCES</td>\n",
       "      <td>Agriculture &amp; Natural Resources</td>\n",
       "      <td>103549</td>\n",
       "      <td>81177</td>\n",
       "      <td>64937</td>\n",
       "      <td>3619</td>\n",
       "      <td>0.042679</td>\n",
       "      <td>46000</td>\n",
       "      <td>30000</td>\n",
       "      <td>72000.0</td>\n",
       "    </tr>\n",
       "    <tr>\n",
       "      <th>4</th>\n",
       "      <td>1104</td>\n",
       "      <td>FOOD SCIENCE</td>\n",
       "      <td>Agriculture &amp; Natural Resources</td>\n",
       "      <td>24280</td>\n",
       "      <td>17281</td>\n",
       "      <td>12722</td>\n",
       "      <td>894</td>\n",
       "      <td>0.049188</td>\n",
       "      <td>62000</td>\n",
       "      <td>38500</td>\n",
       "      <td>90000.0</td>\n",
       "    </tr>\n",
       "    <tr>\n",
       "      <th>...</th>\n",
       "      <td>...</td>\n",
       "      <td>...</td>\n",
       "      <td>...</td>\n",
       "      <td>...</td>\n",
       "      <td>...</td>\n",
       "      <td>...</td>\n",
       "      <td>...</td>\n",
       "      <td>...</td>\n",
       "      <td>...</td>\n",
       "      <td>...</td>\n",
       "      <td>...</td>\n",
       "    </tr>\n",
       "    <tr>\n",
       "      <th>168</th>\n",
       "      <td>6211</td>\n",
       "      <td>HOSPITALITY MANAGEMENT</td>\n",
       "      <td>Business</td>\n",
       "      <td>200854</td>\n",
       "      <td>163393</td>\n",
       "      <td>122499</td>\n",
       "      <td>8862</td>\n",
       "      <td>0.051447</td>\n",
       "      <td>49000</td>\n",
       "      <td>33000</td>\n",
       "      <td>70000.0</td>\n",
       "    </tr>\n",
       "    <tr>\n",
       "      <th>169</th>\n",
       "      <td>6212</td>\n",
       "      <td>MANAGEMENT INFORMATION SYSTEMS AND STATISTICS</td>\n",
       "      <td>Business</td>\n",
       "      <td>156673</td>\n",
       "      <td>134478</td>\n",
       "      <td>118249</td>\n",
       "      <td>6186</td>\n",
       "      <td>0.043977</td>\n",
       "      <td>72000</td>\n",
       "      <td>50000</td>\n",
       "      <td>100000.0</td>\n",
       "    </tr>\n",
       "    <tr>\n",
       "      <th>170</th>\n",
       "      <td>6299</td>\n",
       "      <td>MISCELLANEOUS BUSINESS &amp; MEDICAL ADMINISTRATION</td>\n",
       "      <td>Business</td>\n",
       "      <td>102753</td>\n",
       "      <td>77471</td>\n",
       "      <td>61603</td>\n",
       "      <td>4308</td>\n",
       "      <td>0.052679</td>\n",
       "      <td>53000</td>\n",
       "      <td>36000</td>\n",
       "      <td>83000.0</td>\n",
       "    </tr>\n",
       "    <tr>\n",
       "      <th>171</th>\n",
       "      <td>6402</td>\n",
       "      <td>HISTORY</td>\n",
       "      <td>Humanities &amp; Liberal Arts</td>\n",
       "      <td>712509</td>\n",
       "      <td>478416</td>\n",
       "      <td>354163</td>\n",
       "      <td>33725</td>\n",
       "      <td>0.065851</td>\n",
       "      <td>50000</td>\n",
       "      <td>35000</td>\n",
       "      <td>80000.0</td>\n",
       "    </tr>\n",
       "    <tr>\n",
       "      <th>172</th>\n",
       "      <td>6403</td>\n",
       "      <td>UNITED STATES HISTORY</td>\n",
       "      <td>Humanities &amp; Liberal Arts</td>\n",
       "      <td>17746</td>\n",
       "      <td>11887</td>\n",
       "      <td>8204</td>\n",
       "      <td>943</td>\n",
       "      <td>0.073500</td>\n",
       "      <td>50000</td>\n",
       "      <td>39000</td>\n",
       "      <td>81000.0</td>\n",
       "    </tr>\n",
       "  </tbody>\n",
       "</table>\n",
       "<p>173 rows × 11 columns</p>\n",
       "</div>"
      ],
      "text/plain": [
       "       Major_code                                            Major  \\\n",
       "index                                                                \n",
       "0            1100                              GENERAL AGRICULTURE   \n",
       "1            1101            AGRICULTURE PRODUCTION AND MANAGEMENT   \n",
       "2            1102                           AGRICULTURAL ECONOMICS   \n",
       "3            1103                                  ANIMAL SCIENCES   \n",
       "4            1104                                     FOOD SCIENCE   \n",
       "...           ...                                              ...   \n",
       "168          6211                           HOSPITALITY MANAGEMENT   \n",
       "169          6212    MANAGEMENT INFORMATION SYSTEMS AND STATISTICS   \n",
       "170          6299  MISCELLANEOUS BUSINESS & MEDICAL ADMINISTRATION   \n",
       "171          6402                                          HISTORY   \n",
       "172          6403                            UNITED STATES HISTORY   \n",
       "\n",
       "                        Major_category   Total  Employed  \\\n",
       "index                                                      \n",
       "0      Agriculture & Natural Resources  128148     90245   \n",
       "1      Agriculture & Natural Resources   95326     76865   \n",
       "2      Agriculture & Natural Resources   33955     26321   \n",
       "3      Agriculture & Natural Resources  103549     81177   \n",
       "4      Agriculture & Natural Resources   24280     17281   \n",
       "...                                ...     ...       ...   \n",
       "168                           Business  200854    163393   \n",
       "169                           Business  156673    134478   \n",
       "170                           Business  102753     77471   \n",
       "171          Humanities & Liberal Arts  712509    478416   \n",
       "172          Humanities & Liberal Arts   17746     11887   \n",
       "\n",
       "       Employed_full_time_year_round  Unemployed  Unemployment_rate  Median  \\\n",
       "index                                                                         \n",
       "0                              74078        2423           0.026147   50000   \n",
       "1                              64240        2266           0.028636   54000   \n",
       "2                              22810         821           0.030248   63000   \n",
       "3                              64937        3619           0.042679   46000   \n",
       "4                              12722         894           0.049188   62000   \n",
       "...                              ...         ...                ...     ...   \n",
       "168                           122499        8862           0.051447   49000   \n",
       "169                           118249        6186           0.043977   72000   \n",
       "170                            61603        4308           0.052679   53000   \n",
       "171                           354163       33725           0.065851   50000   \n",
       "172                             8204         943           0.073500   50000   \n",
       "\n",
       "       P25th     P75th  \n",
       "index                   \n",
       "0      34000   80000.0  \n",
       "1      36000   80000.0  \n",
       "2      40000   98000.0  \n",
       "3      30000   72000.0  \n",
       "4      38500   90000.0  \n",
       "...      ...       ...  \n",
       "168    33000   70000.0  \n",
       "169    50000  100000.0  \n",
       "170    36000   83000.0  \n",
       "171    35000   80000.0  \n",
       "172    39000   81000.0  \n",
       "\n",
       "[173 rows x 11 columns]"
      ]
     },
     "execution_count": 68,
     "metadata": {},
     "output_type": "execute_result"
    }
   ],
   "source": [
    "df_age"
   ]
  },
  {
   "cell_type": "code",
   "execution_count": 69,
   "id": "d803019d",
   "metadata": {},
   "outputs": [
    {
     "data": {
      "text/plain": [
       "0"
      ]
     },
     "execution_count": 69,
     "metadata": {},
     "output_type": "execute_result"
    }
   ],
   "source": [
    "df_age['Major_category'].isna().sum()"
   ]
  },
  {
   "cell_type": "code",
   "execution_count": 70,
   "id": "db5b0e49",
   "metadata": {
    "scrolled": false
   },
   "outputs": [
    {
     "data": {
      "text/plain": [
       "array(['Agriculture & Natural Resources', 'Biology & Life Science',\n",
       "       'Engineering', 'Humanities & Liberal Arts',\n",
       "       'Communications & Journalism', 'Computers & Mathematics',\n",
       "       'Industrial Arts & Consumer Services', 'Education',\n",
       "       'Law & Public Policy', 'Interdisciplinary', 'Health',\n",
       "       'Social Science', 'Physical Sciences', 'Psychology & Social Work',\n",
       "       'Arts', 'Business'], dtype=object)"
      ]
     },
     "execution_count": 70,
     "metadata": {},
     "output_type": "execute_result"
    }
   ],
   "source": [
    "df_age['Major_category'].unique()"
   ]
  },
  {
   "cell_type": "code",
   "execution_count": 71,
   "id": "d933e7f7",
   "metadata": {
    "scrolled": true
   },
   "outputs": [
    {
     "data": {
      "text/plain": [
       "array(['GENERAL AGRICULTURE', 'AGRICULTURE PRODUCTION AND MANAGEMENT',\n",
       "       'AGRICULTURAL ECONOMICS', 'ANIMAL SCIENCES', 'FOOD SCIENCE',\n",
       "       'PLANT SCIENCE AND AGRONOMY', 'SOIL SCIENCE',\n",
       "       'MISCELLANEOUS AGRICULTURE', 'ENVIRONMENTAL SCIENCE', 'FORESTRY',\n",
       "       'NATURAL RESOURCES MANAGEMENT', 'ARCHITECTURE',\n",
       "       'AREA ETHNIC AND CIVILIZATION STUDIES', 'COMMUNICATIONS',\n",
       "       'JOURNALISM', 'MASS MEDIA', 'ADVERTISING AND PUBLIC RELATIONS',\n",
       "       'COMMUNICATION TECHNOLOGIES', 'COMPUTER AND INFORMATION SYSTEMS',\n",
       "       'COMPUTER PROGRAMMING AND DATA PROCESSING', 'COMPUTER SCIENCE',\n",
       "       'INFORMATION SCIENCES',\n",
       "       'COMPUTER ADMINISTRATION MANAGEMENT AND SECURITY',\n",
       "       'COMPUTER NETWORKING AND TELECOMMUNICATIONS',\n",
       "       'COSMETOLOGY SERVICES AND CULINARY ARTS', 'GENERAL EDUCATION',\n",
       "       'EDUCATIONAL ADMINISTRATION AND SUPERVISION',\n",
       "       'SCHOOL STUDENT COUNSELING', 'ELEMENTARY EDUCATION',\n",
       "       'MATHEMATICS TEACHER EDUCATION',\n",
       "       'PHYSICAL AND HEALTH EDUCATION TEACHING',\n",
       "       'EARLY CHILDHOOD EDUCATION',\n",
       "       'SCIENCE AND COMPUTER TEACHER EDUCATION',\n",
       "       'SECONDARY TEACHER EDUCATION', 'SPECIAL NEEDS EDUCATION',\n",
       "       'SOCIAL SCIENCE OR HISTORY TEACHER EDUCATION',\n",
       "       'TEACHER EDUCATION: MULTIPLE LEVELS',\n",
       "       'LANGUAGE AND DRAMA EDUCATION', 'ART AND MUSIC EDUCATION',\n",
       "       'MISCELLANEOUS EDUCATION', 'GENERAL ENGINEERING',\n",
       "       'AEROSPACE ENGINEERING', 'BIOLOGICAL ENGINEERING',\n",
       "       'ARCHITECTURAL ENGINEERING', 'BIOMEDICAL ENGINEERING',\n",
       "       'CHEMICAL ENGINEERING', 'CIVIL ENGINEERING',\n",
       "       'COMPUTER ENGINEERING', 'ELECTRICAL ENGINEERING',\n",
       "       'ENGINEERING MECHANICS PHYSICS AND SCIENCE',\n",
       "       'ENVIRONMENTAL ENGINEERING',\n",
       "       'GEOLOGICAL AND GEOPHYSICAL ENGINEERING',\n",
       "       'INDUSTRIAL AND MANUFACTURING ENGINEERING',\n",
       "       'MATERIALS ENGINEERING AND MATERIALS SCIENCE',\n",
       "       'MECHANICAL ENGINEERING', 'METALLURGICAL ENGINEERING',\n",
       "       'MINING AND MINERAL ENGINEERING',\n",
       "       'NAVAL ARCHITECTURE AND MARINE ENGINEERING', 'NUCLEAR ENGINEERING',\n",
       "       'PETROLEUM ENGINEERING', 'MISCELLANEOUS ENGINEERING',\n",
       "       'ENGINEERING TECHNOLOGIES',\n",
       "       'ENGINEERING AND INDUSTRIAL MANAGEMENT',\n",
       "       'ELECTRICAL ENGINEERING TECHNOLOGY',\n",
       "       'INDUSTRIAL PRODUCTION TECHNOLOGIES',\n",
       "       'MECHANICAL ENGINEERING RELATED TECHNOLOGIES',\n",
       "       'MISCELLANEOUS ENGINEERING TECHNOLOGIES',\n",
       "       'LINGUISTICS AND COMPARATIVE LANGUAGE AND LITERATURE',\n",
       "       'FRENCH GERMAN LATIN AND OTHER COMMON FOREIGN LANGUAGE STUDIES',\n",
       "       'OTHER FOREIGN LANGUAGES', 'FAMILY AND CONSUMER SCIENCES',\n",
       "       'COURT REPORTING', 'PRE-LAW AND LEGAL STUDIES',\n",
       "       'ENGLISH LANGUAGE AND LITERATURE', 'COMPOSITION AND RHETORIC',\n",
       "       'LIBERAL ARTS', 'HUMANITIES', 'LIBRARY SCIENCE', 'BIOLOGY',\n",
       "       'BIOCHEMICAL SCIENCES', 'BOTANY', 'MOLECULAR BIOLOGY', 'ECOLOGY',\n",
       "       'GENETICS', 'MICROBIOLOGY', 'PHARMACOLOGY', 'PHYSIOLOGY',\n",
       "       'ZOOLOGY', 'NEUROSCIENCE', 'MISCELLANEOUS BIOLOGY', 'MATHEMATICS',\n",
       "       'APPLIED MATHEMATICS', 'STATISTICS AND DECISION SCIENCE',\n",
       "       'MILITARY TECHNOLOGIES', 'MULTI/INTERDISCIPLINARY STUDIES',\n",
       "       'INTERCULTURAL AND INTERNATIONAL STUDIES', 'NUTRITION SCIENCES',\n",
       "       'MATHEMATICS AND COMPUTER SCIENCE',\n",
       "       'COGNITIVE SCIENCE AND BIOPSYCHOLOGY',\n",
       "       'INTERDISCIPLINARY SOCIAL SCIENCES',\n",
       "       'PHYSICAL FITNESS PARKS RECREATION AND LEISURE',\n",
       "       'PHILOSOPHY AND RELIGIOUS STUDIES',\n",
       "       'THEOLOGY AND RELIGIOUS VOCATIONS', 'PHYSICAL SCIENCES',\n",
       "       'ASTRONOMY AND ASTROPHYSICS',\n",
       "       'ATMOSPHERIC SCIENCES AND METEOROLOGY', 'CHEMISTRY',\n",
       "       'GEOLOGY AND EARTH SCIENCE', 'GEOSCIENCES', 'OCEANOGRAPHY',\n",
       "       'PHYSICS', 'MATERIALS SCIENCE',\n",
       "       'MULTI-DISCIPLINARY OR GENERAL SCIENCE',\n",
       "       'NUCLEAR, INDUSTRIAL RADIOLOGY, AND BIOLOGICAL TECHNOLOGIES',\n",
       "       'PSYCHOLOGY', 'EDUCATIONAL PSYCHOLOGY', 'CLINICAL PSYCHOLOGY',\n",
       "       'COUNSELING PSYCHOLOGY',\n",
       "       'INDUSTRIAL AND ORGANIZATIONAL PSYCHOLOGY', 'SOCIAL PSYCHOLOGY',\n",
       "       'MISCELLANEOUS PSYCHOLOGY', 'CRIMINAL JUSTICE AND FIRE PROTECTION',\n",
       "       'PUBLIC ADMINISTRATION', 'PUBLIC POLICY',\n",
       "       'HUMAN SERVICES AND COMMUNITY ORGANIZATION', 'SOCIAL WORK',\n",
       "       'GENERAL SOCIAL SCIENCES', 'ECONOMICS',\n",
       "       'ANTHROPOLOGY AND ARCHEOLOGY', 'CRIMINOLOGY', 'GEOGRAPHY',\n",
       "       'INTERNATIONAL RELATIONS', 'POLITICAL SCIENCE AND GOVERNMENT',\n",
       "       'SOCIOLOGY', 'MISCELLANEOUS SOCIAL SCIENCES',\n",
       "       'CONSTRUCTION SERVICES',\n",
       "       'ELECTRICAL, MECHANICAL, AND PRECISION TECHNOLOGIES AND PRODUCTION',\n",
       "       'TRANSPORTATION SCIENCES AND TECHNOLOGIES', 'FINE ARTS',\n",
       "       'DRAMA AND THEATER ARTS', 'MUSIC', 'VISUAL AND PERFORMING ARTS',\n",
       "       'COMMERCIAL ART AND GRAPHIC DESIGN',\n",
       "       'FILM VIDEO AND PHOTOGRAPHIC ARTS', 'ART HISTORY AND CRITICISM',\n",
       "       'STUDIO ARTS', 'MISCELLANEOUS FINE ARTS',\n",
       "       'GENERAL MEDICAL AND HEALTH SERVICES',\n",
       "       'COMMUNICATION DISORDERS SCIENCES AND SERVICES',\n",
       "       'HEALTH AND MEDICAL ADMINISTRATIVE SERVICES',\n",
       "       'MEDICAL ASSISTING SERVICES', 'MEDICAL TECHNOLOGIES TECHNICIANS',\n",
       "       'HEALTH AND MEDICAL PREPARATORY PROGRAMS', 'NURSING',\n",
       "       'PHARMACY PHARMACEUTICAL SCIENCES AND ADMINISTRATION',\n",
       "       'TREATMENT THERAPY PROFESSIONS', 'COMMUNITY AND PUBLIC HEALTH',\n",
       "       'MISCELLANEOUS HEALTH MEDICAL PROFESSIONS', 'GENERAL BUSINESS',\n",
       "       'ACCOUNTING', 'ACTUARIAL SCIENCE',\n",
       "       'BUSINESS MANAGEMENT AND ADMINISTRATION',\n",
       "       'OPERATIONS LOGISTICS AND E-COMMERCE', 'BUSINESS ECONOMICS',\n",
       "       'MARKETING AND MARKETING RESEARCH', 'FINANCE',\n",
       "       'HUMAN RESOURCES AND PERSONNEL MANAGEMENT',\n",
       "       'INTERNATIONAL BUSINESS', 'HOSPITALITY MANAGEMENT',\n",
       "       'MANAGEMENT INFORMATION SYSTEMS AND STATISTICS',\n",
       "       'MISCELLANEOUS BUSINESS & MEDICAL ADMINISTRATION', 'HISTORY',\n",
       "       'UNITED STATES HISTORY'], dtype=object)"
      ]
     },
     "execution_count": 71,
     "metadata": {},
     "output_type": "execute_result"
    }
   ],
   "source": [
    "df_age['Major'].unique()"
   ]
  },
  {
   "cell_type": "code",
   "execution_count": 72,
   "id": "1b6b2f84",
   "metadata": {
    "scrolled": false
   },
   "outputs": [
    {
     "data": {
      "text/plain": [
       "Engineering                            29\n",
       "Education                              16\n",
       "Humanities & Liberal Arts              15\n",
       "Biology & Life Science                 14\n",
       "Business                               13\n",
       "Health                                 12\n",
       "Computers & Mathematics                11\n",
       "Agriculture & Natural Resources        10\n",
       "Physical Sciences                      10\n",
       "Social Science                          9\n",
       "Psychology & Social Work                9\n",
       "Arts                                    8\n",
       "Industrial Arts & Consumer Services     7\n",
       "Law & Public Policy                     5\n",
       "Communications & Journalism             4\n",
       "Interdisciplinary                       1\n",
       "Name: Major_category, dtype: int64"
      ]
     },
     "execution_count": 72,
     "metadata": {},
     "output_type": "execute_result"
    }
   ],
   "source": [
    "df_age['Major_category'].value_counts()"
   ]
  },
  {
   "cell_type": "code",
   "execution_count": 73,
   "id": "55746b1e",
   "metadata": {},
   "outputs": [
    {
     "data": {
      "text/plain": [
       "index\n",
       "11                                    ARCHITECTURE\n",
       "40                             GENERAL ENGINEERING\n",
       "41                           AEROSPACE ENGINEERING\n",
       "42                          BIOLOGICAL ENGINEERING\n",
       "43                       ARCHITECTURAL ENGINEERING\n",
       "44                          BIOMEDICAL ENGINEERING\n",
       "45                            CHEMICAL ENGINEERING\n",
       "46                               CIVIL ENGINEERING\n",
       "47                            COMPUTER ENGINEERING\n",
       "48                          ELECTRICAL ENGINEERING\n",
       "49       ENGINEERING MECHANICS PHYSICS AND SCIENCE\n",
       "50                       ENVIRONMENTAL ENGINEERING\n",
       "51          GEOLOGICAL AND GEOPHYSICAL ENGINEERING\n",
       "52        INDUSTRIAL AND MANUFACTURING ENGINEERING\n",
       "53     MATERIALS ENGINEERING AND MATERIALS SCIENCE\n",
       "54                          MECHANICAL ENGINEERING\n",
       "55                       METALLURGICAL ENGINEERING\n",
       "56                  MINING AND MINERAL ENGINEERING\n",
       "57       NAVAL ARCHITECTURE AND MARINE ENGINEERING\n",
       "58                             NUCLEAR ENGINEERING\n",
       "59                           PETROLEUM ENGINEERING\n",
       "60                       MISCELLANEOUS ENGINEERING\n",
       "61                        ENGINEERING TECHNOLOGIES\n",
       "62           ENGINEERING AND INDUSTRIAL MANAGEMENT\n",
       "63               ELECTRICAL ENGINEERING TECHNOLOGY\n",
       "64              INDUSTRIAL PRODUCTION TECHNOLOGIES\n",
       "65     MECHANICAL ENGINEERING RELATED TECHNOLOGIES\n",
       "66          MISCELLANEOUS ENGINEERING TECHNOLOGIES\n",
       "111                              MATERIALS SCIENCE\n",
       "Name: Major, dtype: object"
      ]
     },
     "execution_count": 73,
     "metadata": {},
     "output_type": "execute_result"
    }
   ],
   "source": [
    "df_age.loc[df_age['Major_category'] == 'Engineering', :]['Major']"
   ]
  },
  {
   "cell_type": "code",
   "execution_count": 74,
   "id": "230759ea",
   "metadata": {},
   "outputs": [
    {
     "data": {
      "text/plain": [
       "index\n",
       "158                                   GENERAL BUSINESS\n",
       "159                                         ACCOUNTING\n",
       "160                                  ACTUARIAL SCIENCE\n",
       "161             BUSINESS MANAGEMENT AND ADMINISTRATION\n",
       "162                OPERATIONS LOGISTICS AND E-COMMERCE\n",
       "163                                 BUSINESS ECONOMICS\n",
       "164                   MARKETING AND MARKETING RESEARCH\n",
       "165                                            FINANCE\n",
       "166           HUMAN RESOURCES AND PERSONNEL MANAGEMENT\n",
       "167                             INTERNATIONAL BUSINESS\n",
       "168                             HOSPITALITY MANAGEMENT\n",
       "169      MANAGEMENT INFORMATION SYSTEMS AND STATISTICS\n",
       "170    MISCELLANEOUS BUSINESS & MEDICAL ADMINISTRATION\n",
       "Name: Major, dtype: object"
      ]
     },
     "execution_count": 74,
     "metadata": {},
     "output_type": "execute_result"
    }
   ],
   "source": [
    "df_age.loc[df_age['Major_category'] == 'Business'  , :              ]['Major']"
   ]
  },
  {
   "cell_type": "code",
   "execution_count": 75,
   "id": "5cdf3f91",
   "metadata": {},
   "outputs": [
    {
     "data": {
      "text/html": [
       "<div>\n",
       "<style scoped>\n",
       "    .dataframe tbody tr th:only-of-type {\n",
       "        vertical-align: middle;\n",
       "    }\n",
       "\n",
       "    .dataframe tbody tr th {\n",
       "        vertical-align: top;\n",
       "    }\n",
       "\n",
       "    .dataframe thead th {\n",
       "        text-align: right;\n",
       "    }\n",
       "</style>\n",
       "<table border=\"1\" class=\"dataframe\">\n",
       "  <thead>\n",
       "    <tr style=\"text-align: right;\">\n",
       "      <th></th>\n",
       "      <th>Total</th>\n",
       "      <th>Employed</th>\n",
       "      <th>Unemployed</th>\n",
       "      <th>Unemployment_rate</th>\n",
       "    </tr>\n",
       "    <tr>\n",
       "      <th>index</th>\n",
       "      <th></th>\n",
       "      <th></th>\n",
       "      <th></th>\n",
       "      <th></th>\n",
       "    </tr>\n",
       "  </thead>\n",
       "  <tbody>\n",
       "    <tr>\n",
       "      <th>0</th>\n",
       "      <td>128148</td>\n",
       "      <td>90245</td>\n",
       "      <td>2423</td>\n",
       "      <td>0.026147</td>\n",
       "    </tr>\n",
       "    <tr>\n",
       "      <th>1</th>\n",
       "      <td>95326</td>\n",
       "      <td>76865</td>\n",
       "      <td>2266</td>\n",
       "      <td>0.028636</td>\n",
       "    </tr>\n",
       "    <tr>\n",
       "      <th>2</th>\n",
       "      <td>33955</td>\n",
       "      <td>26321</td>\n",
       "      <td>821</td>\n",
       "      <td>0.030248</td>\n",
       "    </tr>\n",
       "    <tr>\n",
       "      <th>3</th>\n",
       "      <td>103549</td>\n",
       "      <td>81177</td>\n",
       "      <td>3619</td>\n",
       "      <td>0.042679</td>\n",
       "    </tr>\n",
       "    <tr>\n",
       "      <th>4</th>\n",
       "      <td>24280</td>\n",
       "      <td>17281</td>\n",
       "      <td>894</td>\n",
       "      <td>0.049188</td>\n",
       "    </tr>\n",
       "    <tr>\n",
       "      <th>...</th>\n",
       "      <td>...</td>\n",
       "      <td>...</td>\n",
       "      <td>...</td>\n",
       "      <td>...</td>\n",
       "    </tr>\n",
       "    <tr>\n",
       "      <th>168</th>\n",
       "      <td>200854</td>\n",
       "      <td>163393</td>\n",
       "      <td>8862</td>\n",
       "      <td>0.051447</td>\n",
       "    </tr>\n",
       "    <tr>\n",
       "      <th>169</th>\n",
       "      <td>156673</td>\n",
       "      <td>134478</td>\n",
       "      <td>6186</td>\n",
       "      <td>0.043977</td>\n",
       "    </tr>\n",
       "    <tr>\n",
       "      <th>170</th>\n",
       "      <td>102753</td>\n",
       "      <td>77471</td>\n",
       "      <td>4308</td>\n",
       "      <td>0.052679</td>\n",
       "    </tr>\n",
       "    <tr>\n",
       "      <th>171</th>\n",
       "      <td>712509</td>\n",
       "      <td>478416</td>\n",
       "      <td>33725</td>\n",
       "      <td>0.065851</td>\n",
       "    </tr>\n",
       "    <tr>\n",
       "      <th>172</th>\n",
       "      <td>17746</td>\n",
       "      <td>11887</td>\n",
       "      <td>943</td>\n",
       "      <td>0.073500</td>\n",
       "    </tr>\n",
       "  </tbody>\n",
       "</table>\n",
       "<p>173 rows × 4 columns</p>\n",
       "</div>"
      ],
      "text/plain": [
       "        Total  Employed  Unemployed  Unemployment_rate\n",
       "index                                                 \n",
       "0      128148     90245        2423           0.026147\n",
       "1       95326     76865        2266           0.028636\n",
       "2       33955     26321         821           0.030248\n",
       "3      103549     81177        3619           0.042679\n",
       "4       24280     17281         894           0.049188\n",
       "...       ...       ...         ...                ...\n",
       "168    200854    163393        8862           0.051447\n",
       "169    156673    134478        6186           0.043977\n",
       "170    102753     77471        4308           0.052679\n",
       "171    712509    478416       33725           0.065851\n",
       "172     17746     11887         943           0.073500\n",
       "\n",
       "[173 rows x 4 columns]"
      ]
     },
     "execution_count": 75,
     "metadata": {},
     "output_type": "execute_result"
    }
   ],
   "source": [
    "df_age.loc[ : , ['Total','Employed','Unemployed','Unemployment_rate']]"
   ]
  },
  {
   "cell_type": "code",
   "execution_count": 76,
   "id": "0337cdf7",
   "metadata": {},
   "outputs": [],
   "source": [
    "# 실업 1등"
   ]
  },
  {
   "cell_type": "code",
   "execution_count": 77,
   "id": "6b78fb53",
   "metadata": {},
   "outputs": [
    {
     "data": {
      "text/html": [
       "<div>\n",
       "<style scoped>\n",
       "    .dataframe tbody tr th:only-of-type {\n",
       "        vertical-align: middle;\n",
       "    }\n",
       "\n",
       "    .dataframe tbody tr th {\n",
       "        vertical-align: top;\n",
       "    }\n",
       "\n",
       "    .dataframe thead th {\n",
       "        text-align: right;\n",
       "    }\n",
       "</style>\n",
       "<table border=\"1\" class=\"dataframe\">\n",
       "  <thead>\n",
       "    <tr style=\"text-align: right;\">\n",
       "      <th></th>\n",
       "      <th>Major</th>\n",
       "      <th>Total</th>\n",
       "      <th>Employed</th>\n",
       "      <th>Unemployed</th>\n",
       "      <th>Unemployment_rate</th>\n",
       "    </tr>\n",
       "    <tr>\n",
       "      <th>index</th>\n",
       "      <th></th>\n",
       "      <th></th>\n",
       "      <th></th>\n",
       "      <th></th>\n",
       "      <th></th>\n",
       "    </tr>\n",
       "  </thead>\n",
       "  <tbody>\n",
       "    <tr>\n",
       "      <th>146</th>\n",
       "      <td>MISCELLANEOUS FINE ARTS</td>\n",
       "      <td>8511</td>\n",
       "      <td>6431</td>\n",
       "      <td>1190</td>\n",
       "      <td>0.156147</td>\n",
       "    </tr>\n",
       "    <tr>\n",
       "      <th>116</th>\n",
       "      <td>CLINICAL PSYCHOLOGY</td>\n",
       "      <td>7638</td>\n",
       "      <td>5128</td>\n",
       "      <td>587</td>\n",
       "      <td>0.102712</td>\n",
       "    </tr>\n",
       "    <tr>\n",
       "      <th>93</th>\n",
       "      <td>MILITARY TECHNOLOGIES</td>\n",
       "      <td>4315</td>\n",
       "      <td>1650</td>\n",
       "      <td>187</td>\n",
       "      <td>0.101796</td>\n",
       "    </tr>\n",
       "    <tr>\n",
       "      <th>27</th>\n",
       "      <td>SCHOOL STUDENT COUNSELING</td>\n",
       "      <td>2396</td>\n",
       "      <td>1492</td>\n",
       "      <td>169</td>\n",
       "      <td>0.101746</td>\n",
       "    </tr>\n",
       "    <tr>\n",
       "      <th>77</th>\n",
       "      <td>LIBRARY SCIENCE</td>\n",
       "      <td>16193</td>\n",
       "      <td>7091</td>\n",
       "      <td>743</td>\n",
       "      <td>0.094843</td>\n",
       "    </tr>\n",
       "    <tr>\n",
       "      <th>...</th>\n",
       "      <td>...</td>\n",
       "      <td>...</td>\n",
       "      <td>...</td>\n",
       "      <td>...</td>\n",
       "      <td>...</td>\n",
       "    </tr>\n",
       "    <tr>\n",
       "      <th>97</th>\n",
       "      <td>MATHEMATICS AND COMPUTER SCIENCE</td>\n",
       "      <td>7184</td>\n",
       "      <td>5874</td>\n",
       "      <td>150</td>\n",
       "      <td>0.024900</td>\n",
       "    </tr>\n",
       "    <tr>\n",
       "      <th>111</th>\n",
       "      <td>MATERIALS SCIENCE</td>\n",
       "      <td>7208</td>\n",
       "      <td>5866</td>\n",
       "      <td>134</td>\n",
       "      <td>0.022333</td>\n",
       "    </tr>\n",
       "    <tr>\n",
       "      <th>85</th>\n",
       "      <td>PHARMACOLOGY</td>\n",
       "      <td>5015</td>\n",
       "      <td>3481</td>\n",
       "      <td>57</td>\n",
       "      <td>0.016111</td>\n",
       "    </tr>\n",
       "    <tr>\n",
       "      <th>26</th>\n",
       "      <td>EDUCATIONAL ADMINISTRATION AND SUPERVISION</td>\n",
       "      <td>4037</td>\n",
       "      <td>3113</td>\n",
       "      <td>0</td>\n",
       "      <td>0.000000</td>\n",
       "    </tr>\n",
       "    <tr>\n",
       "      <th>51</th>\n",
       "      <td>GEOLOGICAL AND GEOPHYSICAL ENGINEERING</td>\n",
       "      <td>6264</td>\n",
       "      <td>4120</td>\n",
       "      <td>0</td>\n",
       "      <td>0.000000</td>\n",
       "    </tr>\n",
       "  </tbody>\n",
       "</table>\n",
       "<p>173 rows × 5 columns</p>\n",
       "</div>"
      ],
      "text/plain": [
       "                                            Major  Total  Employed  \\\n",
       "index                                                                \n",
       "146                       MISCELLANEOUS FINE ARTS   8511      6431   \n",
       "116                           CLINICAL PSYCHOLOGY   7638      5128   \n",
       "93                          MILITARY TECHNOLOGIES   4315      1650   \n",
       "27                      SCHOOL STUDENT COUNSELING   2396      1492   \n",
       "77                                LIBRARY SCIENCE  16193      7091   \n",
       "...                                           ...    ...       ...   \n",
       "97               MATHEMATICS AND COMPUTER SCIENCE   7184      5874   \n",
       "111                             MATERIALS SCIENCE   7208      5866   \n",
       "85                                   PHARMACOLOGY   5015      3481   \n",
       "26     EDUCATIONAL ADMINISTRATION AND SUPERVISION   4037      3113   \n",
       "51         GEOLOGICAL AND GEOPHYSICAL ENGINEERING   6264      4120   \n",
       "\n",
       "       Unemployed  Unemployment_rate  \n",
       "index                                 \n",
       "146          1190           0.156147  \n",
       "116           587           0.102712  \n",
       "93            187           0.101796  \n",
       "27            169           0.101746  \n",
       "77            743           0.094843  \n",
       "...           ...                ...  \n",
       "97            150           0.024900  \n",
       "111           134           0.022333  \n",
       "85             57           0.016111  \n",
       "26              0           0.000000  \n",
       "51              0           0.000000  \n",
       "\n",
       "[173 rows x 5 columns]"
      ]
     },
     "execution_count": 77,
     "metadata": {},
     "output_type": "execute_result"
    }
   ],
   "source": [
    "df_age.loc[ : , ['Major','Total','Employed','Unemployed','Unemployment_rate']].sort_values('Unemployment_rate' ,ascending= False)"
   ]
  },
  {
   "cell_type": "code",
   "execution_count": 78,
   "id": "9c535ca5",
   "metadata": {},
   "outputs": [],
   "source": [
    "# 취업율 코멘트로 1등과 알려주기 "
   ]
  },
  {
   "cell_type": "code",
   "execution_count": 79,
   "id": "94f34207",
   "metadata": {
    "scrolled": true
   },
   "outputs": [
    {
     "data": {
      "text/html": [
       "<div>\n",
       "<style scoped>\n",
       "    .dataframe tbody tr th:only-of-type {\n",
       "        vertical-align: middle;\n",
       "    }\n",
       "\n",
       "    .dataframe tbody tr th {\n",
       "        vertical-align: top;\n",
       "    }\n",
       "\n",
       "    .dataframe thead th {\n",
       "        text-align: right;\n",
       "    }\n",
       "</style>\n",
       "<table border=\"1\" class=\"dataframe\">\n",
       "  <thead>\n",
       "    <tr style=\"text-align: right;\">\n",
       "      <th></th>\n",
       "      <th>Major_code</th>\n",
       "      <th>Major</th>\n",
       "      <th>Major_category</th>\n",
       "      <th>Total</th>\n",
       "      <th>Employed</th>\n",
       "      <th>Employed_full_time_year_round</th>\n",
       "      <th>Unemployed</th>\n",
       "      <th>Unemployment_rate</th>\n",
       "      <th>Median</th>\n",
       "      <th>P25th</th>\n",
       "      <th>P75th</th>\n",
       "    </tr>\n",
       "    <tr>\n",
       "      <th>index</th>\n",
       "      <th></th>\n",
       "      <th></th>\n",
       "      <th></th>\n",
       "      <th></th>\n",
       "      <th></th>\n",
       "      <th></th>\n",
       "      <th></th>\n",
       "      <th></th>\n",
       "      <th></th>\n",
       "      <th></th>\n",
       "      <th></th>\n",
       "    </tr>\n",
       "  </thead>\n",
       "  <tbody>\n",
       "    <tr>\n",
       "      <th>18</th>\n",
       "      <td>2100</td>\n",
       "      <td>COMPUTER AND INFORMATION SYSTEMS</td>\n",
       "      <td>Computers &amp; Mathematics</td>\n",
       "      <td>253782</td>\n",
       "      <td>218248</td>\n",
       "      <td>189950</td>\n",
       "      <td>11945</td>\n",
       "      <td>0.051891</td>\n",
       "      <td>65000</td>\n",
       "      <td>45000</td>\n",
       "      <td>90000.0</td>\n",
       "    </tr>\n",
       "  </tbody>\n",
       "</table>\n",
       "</div>"
      ],
      "text/plain": [
       "       Major_code                             Major           Major_category  \\\n",
       "index                                                                          \n",
       "18           2100  COMPUTER AND INFORMATION SYSTEMS  Computers & Mathematics   \n",
       "\n",
       "        Total  Employed  Employed_full_time_year_round  Unemployed  \\\n",
       "index                                                                \n",
       "18     253782    218248                         189950       11945   \n",
       "\n",
       "       Unemployment_rate  Median  P25th    P75th  \n",
       "index                                             \n",
       "18              0.051891   65000  45000  90000.0  "
      ]
     },
     "execution_count": 79,
     "metadata": {},
     "output_type": "execute_result"
    }
   ],
   "source": [
    "df_age.loc[(df_age['Employed']/df_age['Total'] * 100) == (df_age['Employed']/df_age['Total'] * 100).max() , :]"
   ]
  },
  {
   "cell_type": "code",
   "execution_count": 80,
   "id": "2051b2b1",
   "metadata": {},
   "outputs": [],
   "source": [
    "df = df_age.loc[df_age['Major_category']=='Computers & Mathematics'   , : ]"
   ]
  },
  {
   "cell_type": "code",
   "execution_count": 81,
   "id": "0d769bc1",
   "metadata": {
    "scrolled": true
   },
   "outputs": [
    {
     "data": {
      "text/plain": [
       "array(['COMPUTER SCIENCE'], dtype=object)"
      ]
     },
     "execution_count": 81,
     "metadata": {},
     "output_type": "execute_result"
    }
   ],
   "source": [
    "df.loc[df['Total'].max() == df['Total'] , 'Major'].values"
   ]
  },
  {
   "cell_type": "code",
   "execution_count": 82,
   "id": "38995427",
   "metadata": {},
   "outputs": [],
   "source": [
    "x= np.array(3)"
   ]
  },
  {
   "cell_type": "code",
   "execution_count": 83,
   "id": "f5321585",
   "metadata": {},
   "outputs": [],
   "source": [
    "y = df[['Median','P25th','P75th']].head(1).values"
   ]
  },
  {
   "cell_type": "code",
   "execution_count": 84,
   "id": "28a62e32",
   "metadata": {},
   "outputs": [],
   "source": [
    "y= y.reshape(3,1)"
   ]
  },
  {
   "cell_type": "code",
   "execution_count": 85,
   "id": "f79c8d79",
   "metadata": {},
   "outputs": [],
   "source": [
    "z = ['Median','P25th','P75th']"
   ]
  },
  {
   "cell_type": "code",
   "execution_count": 86,
   "id": "9a4e1e57",
   "metadata": {},
   "outputs": [],
   "source": [
    "df_fig = pd.DataFrame({0:[20190103, 20190222, 20190531,x],\n",
    "                             }, index = ['총 졸업자', '취업자 수', '실업자','실업자비율'])"
   ]
  },
  {
   "cell_type": "code",
   "execution_count": 87,
   "id": "94e44283",
   "metadata": {},
   "outputs": [
    {
     "ename": "NameError",
     "evalue": "name 'student_card' is not defined",
     "output_type": "error",
     "traceback": [
      "\u001b[1;31m---------------------------------------------------------------------------\u001b[0m",
      "\u001b[1;31mNameError\u001b[0m                                 Traceback (most recent call last)",
      "Cell \u001b[1;32mIn [87], line 1\u001b[0m\n\u001b[1;32m----> 1\u001b[0m \u001b[43mstudent_card\u001b[49m\n",
      "\u001b[1;31mNameError\u001b[0m: name 'student_card' is not defined"
     ]
    }
   ],
   "source": [
    "student_card"
   ]
  },
  {
   "cell_type": "code",
   "execution_count": null,
   "id": "28cbd271",
   "metadata": {},
   "outputs": [],
   "source": [
    "df_fig = pd.DataFrame({ '컬럼' :['총 졸업자', '취업자 수', '실업자','실업자비율'] ,'값':['x', 'y', 'z','a'],\n",
    "                             }, index = [1,2,3,4])"
   ]
  },
  {
   "cell_type": "code",
   "execution_count": null,
   "id": "5832a57b",
   "metadata": {},
   "outputs": [],
   "source": [
    "x = df.loc[df['Major']=='COMMUNICATION TECHNOLOGIES' , 'Employed'].values"
   ]
  },
  {
   "cell_type": "code",
   "execution_count": null,
   "id": "52a23b91",
   "metadata": {
    "scrolled": true
   },
   "outputs": [],
   "source": [
    "df_age[['Employed_full_time_year_round','Unemployed','Unemployment_rate' ] ].values"
   ]
  },
  {
   "cell_type": "code",
   "execution_count": null,
   "id": "6a586789",
   "metadata": {},
   "outputs": [],
   "source": [
    "fig6 = px.pie(df_fig,'columns' , 'sum' ,title= '각 언어별 파이차트')\n",
    "st.plotly_chart(fig6)"
   ]
  },
  {
   "cell_type": "code",
   "execution_count": null,
   "id": "ff9185ae",
   "metadata": {},
   "outputs": [],
   "source": [
    "df_fig = pd.DataFrame({ 'columns' :['총 졸업자', '취업자 수', '실업자'] ,'sum':[100, 200, 300],\n",
    "                             }, index = ['총 졸업자', '취업자 수', '실업자'])"
   ]
  },
  {
   "cell_type": "code",
   "execution_count": null,
   "id": "6deb8cb2",
   "metadata": {},
   "outputs": [],
   "source": [
    "df_fig"
   ]
  },
  {
   "cell_type": "code",
   "execution_count": null,
   "id": "683639e9",
   "metadata": {
    "scrolled": true
   },
   "outputs": [],
   "source": [
    "df_age.iloc[0,:]"
   ]
  },
  {
   "cell_type": "code",
   "execution_count": null,
   "id": "50b2fa42",
   "metadata": {},
   "outputs": [],
   "source": [
    "import platform\n",
    "from matplotlib import font_manager, rc\n",
    "plt.rcParams['axes.unicode_minus'] = False\n",
    "if platform.system() == 'Linux':\n",
    "    rc('font', family='NanumGothic')"
   ]
  },
  {
   "cell_type": "code",
   "execution_count": null,
   "id": "2e629630",
   "metadata": {
    "scrolled": true
   },
   "outputs": [],
   "source": [
    "plt.bar(np.arange(3),df_age.iloc[0,-3:])\n",
    "plt.xticks(np.arange(3),['가','pasd','p'])\n",
    "plt.show()"
   ]
  },
  {
   "cell_type": "code",
   "execution_count": 88,
   "id": "a9f509c5",
   "metadata": {},
   "outputs": [],
   "source": [
    "from matplotlib import pyplot as plt\n",
    "import streamlit as st \n",
    "import pandas as pd\n",
    "import plotly.express as px \n",
    "import seaborn as sb\n",
    "import plotly.graph_objects as go\n",
    "import numpy as np\n",
    "import platform"
   ]
  },
  {
   "cell_type": "code",
   "execution_count": 89,
   "id": "50f2ec6b",
   "metadata": {},
   "outputs": [
    {
     "data": {
      "text/html": [
       "<div>\n",
       "<style scoped>\n",
       "    .dataframe tbody tr th:only-of-type {\n",
       "        vertical-align: middle;\n",
       "    }\n",
       "\n",
       "    .dataframe tbody tr th {\n",
       "        vertical-align: top;\n",
       "    }\n",
       "\n",
       "    .dataframe thead th {\n",
       "        text-align: right;\n",
       "    }\n",
       "</style>\n",
       "<table border=\"1\" class=\"dataframe\">\n",
       "  <thead>\n",
       "    <tr style=\"text-align: right;\">\n",
       "      <th></th>\n",
       "      <th>Major_code</th>\n",
       "      <th>Major</th>\n",
       "      <th>Major_category</th>\n",
       "      <th>Grad_total</th>\n",
       "      <th>Grad_sample_size</th>\n",
       "      <th>Grad_employed</th>\n",
       "      <th>Grad_full_time_year_round</th>\n",
       "      <th>Grad_unemployed</th>\n",
       "      <th>Grad_unemployment_rate</th>\n",
       "      <th>Grad_median</th>\n",
       "      <th>...</th>\n",
       "      <th>Nongrad_total</th>\n",
       "      <th>Nongrad_employed</th>\n",
       "      <th>Nongrad_full_time_year_round</th>\n",
       "      <th>Nongrad_unemployed</th>\n",
       "      <th>Nongrad_unemployment_rate</th>\n",
       "      <th>Nongrad_median</th>\n",
       "      <th>Nongrad_P25</th>\n",
       "      <th>Nongrad_P75</th>\n",
       "      <th>Grad_share</th>\n",
       "      <th>Grad_premium</th>\n",
       "    </tr>\n",
       "    <tr>\n",
       "      <th>index</th>\n",
       "      <th></th>\n",
       "      <th></th>\n",
       "      <th></th>\n",
       "      <th></th>\n",
       "      <th></th>\n",
       "      <th></th>\n",
       "      <th></th>\n",
       "      <th></th>\n",
       "      <th></th>\n",
       "      <th></th>\n",
       "      <th></th>\n",
       "      <th></th>\n",
       "      <th></th>\n",
       "      <th></th>\n",
       "      <th></th>\n",
       "      <th></th>\n",
       "      <th></th>\n",
       "      <th></th>\n",
       "      <th></th>\n",
       "      <th></th>\n",
       "      <th></th>\n",
       "    </tr>\n",
       "  </thead>\n",
       "  <tbody>\n",
       "    <tr>\n",
       "      <th>0</th>\n",
       "      <td>5601</td>\n",
       "      <td>CONSTRUCTION SERVICES</td>\n",
       "      <td>Industrial Arts &amp; Consumer Services</td>\n",
       "      <td>9173</td>\n",
       "      <td>200</td>\n",
       "      <td>7098</td>\n",
       "      <td>6511</td>\n",
       "      <td>681</td>\n",
       "      <td>0.087543</td>\n",
       "      <td>75000.0</td>\n",
       "      <td>...</td>\n",
       "      <td>86062</td>\n",
       "      <td>73607</td>\n",
       "      <td>62435</td>\n",
       "      <td>3928</td>\n",
       "      <td>0.050661</td>\n",
       "      <td>65000.0</td>\n",
       "      <td>47000</td>\n",
       "      <td>98000.0</td>\n",
       "      <td>0.096320</td>\n",
       "      <td>0.153846</td>\n",
       "    </tr>\n",
       "    <tr>\n",
       "      <th>1</th>\n",
       "      <td>6004</td>\n",
       "      <td>COMMERCIAL ART AND GRAPHIC DESIGN</td>\n",
       "      <td>Arts</td>\n",
       "      <td>53864</td>\n",
       "      <td>882</td>\n",
       "      <td>40492</td>\n",
       "      <td>29553</td>\n",
       "      <td>2482</td>\n",
       "      <td>0.057756</td>\n",
       "      <td>60000.0</td>\n",
       "      <td>...</td>\n",
       "      <td>461977</td>\n",
       "      <td>347166</td>\n",
       "      <td>250596</td>\n",
       "      <td>25484</td>\n",
       "      <td>0.068386</td>\n",
       "      <td>48000.0</td>\n",
       "      <td>34000</td>\n",
       "      <td>71000.0</td>\n",
       "      <td>0.104420</td>\n",
       "      <td>0.250000</td>\n",
       "    </tr>\n",
       "    <tr>\n",
       "      <th>2</th>\n",
       "      <td>6211</td>\n",
       "      <td>HOSPITALITY MANAGEMENT</td>\n",
       "      <td>Business</td>\n",
       "      <td>24417</td>\n",
       "      <td>437</td>\n",
       "      <td>18368</td>\n",
       "      <td>14784</td>\n",
       "      <td>1465</td>\n",
       "      <td>0.073867</td>\n",
       "      <td>65000.0</td>\n",
       "      <td>...</td>\n",
       "      <td>179335</td>\n",
       "      <td>145597</td>\n",
       "      <td>113579</td>\n",
       "      <td>7409</td>\n",
       "      <td>0.048423</td>\n",
       "      <td>50000.0</td>\n",
       "      <td>35000</td>\n",
       "      <td>75000.0</td>\n",
       "      <td>0.119837</td>\n",
       "      <td>0.300000</td>\n",
       "    </tr>\n",
       "    <tr>\n",
       "      <th>3</th>\n",
       "      <td>2201</td>\n",
       "      <td>COSMETOLOGY SERVICES AND CULINARY ARTS</td>\n",
       "      <td>Industrial Arts &amp; Consumer Services</td>\n",
       "      <td>5411</td>\n",
       "      <td>72</td>\n",
       "      <td>3590</td>\n",
       "      <td>2701</td>\n",
       "      <td>316</td>\n",
       "      <td>0.080901</td>\n",
       "      <td>47000.0</td>\n",
       "      <td>...</td>\n",
       "      <td>37575</td>\n",
       "      <td>29738</td>\n",
       "      <td>23249</td>\n",
       "      <td>1661</td>\n",
       "      <td>0.052900</td>\n",
       "      <td>41600.0</td>\n",
       "      <td>29000</td>\n",
       "      <td>60000.0</td>\n",
       "      <td>0.125878</td>\n",
       "      <td>0.129808</td>\n",
       "    </tr>\n",
       "    <tr>\n",
       "      <th>4</th>\n",
       "      <td>2001</td>\n",
       "      <td>COMMUNICATION TECHNOLOGIES</td>\n",
       "      <td>Computers &amp; Mathematics</td>\n",
       "      <td>9109</td>\n",
       "      <td>171</td>\n",
       "      <td>7512</td>\n",
       "      <td>5622</td>\n",
       "      <td>466</td>\n",
       "      <td>0.058411</td>\n",
       "      <td>57000.0</td>\n",
       "      <td>...</td>\n",
       "      <td>53819</td>\n",
       "      <td>43163</td>\n",
       "      <td>34231</td>\n",
       "      <td>3389</td>\n",
       "      <td>0.072800</td>\n",
       "      <td>52000.0</td>\n",
       "      <td>36000</td>\n",
       "      <td>78000.0</td>\n",
       "      <td>0.144753</td>\n",
       "      <td>0.096154</td>\n",
       "    </tr>\n",
       "    <tr>\n",
       "      <th>...</th>\n",
       "      <td>...</td>\n",
       "      <td>...</td>\n",
       "      <td>...</td>\n",
       "      <td>...</td>\n",
       "      <td>...</td>\n",
       "      <td>...</td>\n",
       "      <td>...</td>\n",
       "      <td>...</td>\n",
       "      <td>...</td>\n",
       "      <td>...</td>\n",
       "      <td>...</td>\n",
       "      <td>...</td>\n",
       "      <td>...</td>\n",
       "      <td>...</td>\n",
       "      <td>...</td>\n",
       "      <td>...</td>\n",
       "      <td>...</td>\n",
       "      <td>...</td>\n",
       "      <td>...</td>\n",
       "      <td>...</td>\n",
       "      <td>...</td>\n",
       "    </tr>\n",
       "    <tr>\n",
       "      <th>168</th>\n",
       "      <td>5203</td>\n",
       "      <td>COUNSELING PSYCHOLOGY</td>\n",
       "      <td>Psychology &amp; Social Work</td>\n",
       "      <td>51812</td>\n",
       "      <td>724</td>\n",
       "      <td>38468</td>\n",
       "      <td>28808</td>\n",
       "      <td>1420</td>\n",
       "      <td>0.035600</td>\n",
       "      <td>50000.0</td>\n",
       "      <td>...</td>\n",
       "      <td>16781</td>\n",
       "      <td>12377</td>\n",
       "      <td>8502</td>\n",
       "      <td>835</td>\n",
       "      <td>0.063200</td>\n",
       "      <td>40000.0</td>\n",
       "      <td>25000</td>\n",
       "      <td>50000.0</td>\n",
       "      <td>0.755354</td>\n",
       "      <td>0.250000</td>\n",
       "    </tr>\n",
       "    <tr>\n",
       "      <th>169</th>\n",
       "      <td>5202</td>\n",
       "      <td>CLINICAL PSYCHOLOGY</td>\n",
       "      <td>Psychology &amp; Social Work</td>\n",
       "      <td>22716</td>\n",
       "      <td>355</td>\n",
       "      <td>16612</td>\n",
       "      <td>12022</td>\n",
       "      <td>782</td>\n",
       "      <td>0.044958</td>\n",
       "      <td>70000.0</td>\n",
       "      <td>...</td>\n",
       "      <td>6519</td>\n",
       "      <td>4368</td>\n",
       "      <td>3033</td>\n",
       "      <td>357</td>\n",
       "      <td>0.075556</td>\n",
       "      <td>46000.0</td>\n",
       "      <td>30000</td>\n",
       "      <td>70000.0</td>\n",
       "      <td>0.777014</td>\n",
       "      <td>0.521739</td>\n",
       "    </tr>\n",
       "    <tr>\n",
       "      <th>170</th>\n",
       "      <td>6106</td>\n",
       "      <td>HEALTH AND MEDICAL PREPARATORY PROGRAMS</td>\n",
       "      <td>Health</td>\n",
       "      <td>114971</td>\n",
       "      <td>1766</td>\n",
       "      <td>78132</td>\n",
       "      <td>58825</td>\n",
       "      <td>1732</td>\n",
       "      <td>0.021687</td>\n",
       "      <td>135000.0</td>\n",
       "      <td>...</td>\n",
       "      <td>26320</td>\n",
       "      <td>16221</td>\n",
       "      <td>12185</td>\n",
       "      <td>1012</td>\n",
       "      <td>0.058725</td>\n",
       "      <td>51000.0</td>\n",
       "      <td>35000</td>\n",
       "      <td>87000.0</td>\n",
       "      <td>0.813718</td>\n",
       "      <td>1.647059</td>\n",
       "    </tr>\n",
       "    <tr>\n",
       "      <th>171</th>\n",
       "      <td>2303</td>\n",
       "      <td>SCHOOL STUDENT COUNSELING</td>\n",
       "      <td>Education</td>\n",
       "      <td>19841</td>\n",
       "      <td>260</td>\n",
       "      <td>11313</td>\n",
       "      <td>8130</td>\n",
       "      <td>613</td>\n",
       "      <td>0.051400</td>\n",
       "      <td>56000.0</td>\n",
       "      <td>...</td>\n",
       "      <td>2232</td>\n",
       "      <td>1328</td>\n",
       "      <td>980</td>\n",
       "      <td>169</td>\n",
       "      <td>0.112892</td>\n",
       "      <td>42000.0</td>\n",
       "      <td>27000</td>\n",
       "      <td>51000.0</td>\n",
       "      <td>0.898881</td>\n",
       "      <td>0.333333</td>\n",
       "    </tr>\n",
       "    <tr>\n",
       "      <th>172</th>\n",
       "      <td>2301</td>\n",
       "      <td>EDUCATIONAL ADMINISTRATION AND SUPERVISION</td>\n",
       "      <td>Education</td>\n",
       "      <td>54159</td>\n",
       "      <td>841</td>\n",
       "      <td>34142</td>\n",
       "      <td>26850</td>\n",
       "      <td>582</td>\n",
       "      <td>0.016761</td>\n",
       "      <td>65000.0</td>\n",
       "      <td>...</td>\n",
       "      <td>4003</td>\n",
       "      <td>3079</td>\n",
       "      <td>2434</td>\n",
       "      <td>0</td>\n",
       "      <td>0.000000</td>\n",
       "      <td>58000.0</td>\n",
       "      <td>45000</td>\n",
       "      <td>79000.0</td>\n",
       "      <td>0.931175</td>\n",
       "      <td>0.120690</td>\n",
       "    </tr>\n",
       "  </tbody>\n",
       "</table>\n",
       "<p>173 rows × 22 columns</p>\n",
       "</div>"
      ],
      "text/plain": [
       "       Major_code                                       Major  \\\n",
       "index                                                           \n",
       "0            5601                       CONSTRUCTION SERVICES   \n",
       "1            6004           COMMERCIAL ART AND GRAPHIC DESIGN   \n",
       "2            6211                      HOSPITALITY MANAGEMENT   \n",
       "3            2201      COSMETOLOGY SERVICES AND CULINARY ARTS   \n",
       "4            2001                  COMMUNICATION TECHNOLOGIES   \n",
       "...           ...                                         ...   \n",
       "168          5203                       COUNSELING PSYCHOLOGY   \n",
       "169          5202                         CLINICAL PSYCHOLOGY   \n",
       "170          6106     HEALTH AND MEDICAL PREPARATORY PROGRAMS   \n",
       "171          2303                   SCHOOL STUDENT COUNSELING   \n",
       "172          2301  EDUCATIONAL ADMINISTRATION AND SUPERVISION   \n",
       "\n",
       "                            Major_category  Grad_total  Grad_sample_size  \\\n",
       "index                                                                      \n",
       "0      Industrial Arts & Consumer Services        9173               200   \n",
       "1                                     Arts       53864               882   \n",
       "2                                 Business       24417               437   \n",
       "3      Industrial Arts & Consumer Services        5411                72   \n",
       "4                  Computers & Mathematics        9109               171   \n",
       "...                                    ...         ...               ...   \n",
       "168               Psychology & Social Work       51812               724   \n",
       "169               Psychology & Social Work       22716               355   \n",
       "170                                 Health      114971              1766   \n",
       "171                              Education       19841               260   \n",
       "172                              Education       54159               841   \n",
       "\n",
       "       Grad_employed  Grad_full_time_year_round  Grad_unemployed  \\\n",
       "index                                                              \n",
       "0               7098                       6511              681   \n",
       "1              40492                      29553             2482   \n",
       "2              18368                      14784             1465   \n",
       "3               3590                       2701              316   \n",
       "4               7512                       5622              466   \n",
       "...              ...                        ...              ...   \n",
       "168            38468                      28808             1420   \n",
       "169            16612                      12022              782   \n",
       "170            78132                      58825             1732   \n",
       "171            11313                       8130              613   \n",
       "172            34142                      26850              582   \n",
       "\n",
       "       Grad_unemployment_rate  Grad_median  ...  Nongrad_total  \\\n",
       "index                                       ...                  \n",
       "0                    0.087543      75000.0  ...          86062   \n",
       "1                    0.057756      60000.0  ...         461977   \n",
       "2                    0.073867      65000.0  ...         179335   \n",
       "3                    0.080901      47000.0  ...          37575   \n",
       "4                    0.058411      57000.0  ...          53819   \n",
       "...                       ...          ...  ...            ...   \n",
       "168                  0.035600      50000.0  ...          16781   \n",
       "169                  0.044958      70000.0  ...           6519   \n",
       "170                  0.021687     135000.0  ...          26320   \n",
       "171                  0.051400      56000.0  ...           2232   \n",
       "172                  0.016761      65000.0  ...           4003   \n",
       "\n",
       "       Nongrad_employed  Nongrad_full_time_year_round  Nongrad_unemployed  \\\n",
       "index                                                                       \n",
       "0                 73607                         62435                3928   \n",
       "1                347166                        250596               25484   \n",
       "2                145597                        113579                7409   \n",
       "3                 29738                         23249                1661   \n",
       "4                 43163                         34231                3389   \n",
       "...                 ...                           ...                 ...   \n",
       "168               12377                          8502                 835   \n",
       "169                4368                          3033                 357   \n",
       "170               16221                         12185                1012   \n",
       "171                1328                           980                 169   \n",
       "172                3079                          2434                   0   \n",
       "\n",
       "       Nongrad_unemployment_rate  Nongrad_median  Nongrad_P25  Nongrad_P75  \\\n",
       "index                                                                        \n",
       "0                       0.050661         65000.0        47000      98000.0   \n",
       "1                       0.068386         48000.0        34000      71000.0   \n",
       "2                       0.048423         50000.0        35000      75000.0   \n",
       "3                       0.052900         41600.0        29000      60000.0   \n",
       "4                       0.072800         52000.0        36000      78000.0   \n",
       "...                          ...             ...          ...          ...   \n",
       "168                     0.063200         40000.0        25000      50000.0   \n",
       "169                     0.075556         46000.0        30000      70000.0   \n",
       "170                     0.058725         51000.0        35000      87000.0   \n",
       "171                     0.112892         42000.0        27000      51000.0   \n",
       "172                     0.000000         58000.0        45000      79000.0   \n",
       "\n",
       "       Grad_share  Grad_premium  \n",
       "index                            \n",
       "0        0.096320      0.153846  \n",
       "1        0.104420      0.250000  \n",
       "2        0.119837      0.300000  \n",
       "3        0.125878      0.129808  \n",
       "4        0.144753      0.096154  \n",
       "...           ...           ...  \n",
       "168      0.755354      0.250000  \n",
       "169      0.777014      0.521739  \n",
       "170      0.813718      1.647059  \n",
       "171      0.898881      0.333333  \n",
       "172      0.931175      0.120690  \n",
       "\n",
       "[173 rows x 22 columns]"
      ]
     },
     "execution_count": 89,
     "metadata": {},
     "output_type": "execute_result"
    }
   ],
   "source": [
    "df_grad"
   ]
  },
  {
   "cell_type": "code",
   "execution_count": 90,
   "id": "e7944b31",
   "metadata": {},
   "outputs": [
    {
     "data": {
      "application/vnd.plotly.v1+json": {
       "config": {
        "plotlyServerURL": "https://plot.ly"
       },
       "data": [
        {
         "alignmentgroup": "True",
         "hovertemplate": "Major_category=Industrial Arts & Consumer Services<br>Major=%{x}<br>Grad_employed=%{y}<extra></extra>",
         "legendgroup": "Industrial Arts & Consumer Services",
         "marker": {
          "color": "#000001",
          "pattern": {
           "shape": ""
          }
         },
         "name": "Industrial Arts & Consumer Services",
         "offsetgroup": "Industrial Arts & Consumer Services",
         "orientation": "v",
         "showlegend": true,
         "textposition": "auto",
         "type": "bar",
         "x": [
          "CONSTRUCTION SERVICES",
          "COSMETOLOGY SERVICES AND CULINARY ARTS",
          "ELECTRICAL, MECHANICAL, AND PRECISION TECHNOLOGIES AND PRODUCTION",
          "TRANSPORTATION SCIENCES AND TECHNOLOGIES",
          "FAMILY AND CONSUMER SCIENCES",
          "PHYSICAL FITNESS PARKS RECREATION AND LEISURE",
          "MILITARY TECHNOLOGIES"
         ],
         "xaxis": "x",
         "y": [
          7098,
          3590,
          1984,
          20035,
          101593,
          103790,
          1248
         ],
         "yaxis": "y"
        },
        {
         "alignmentgroup": "True",
         "hovertemplate": "Major_category=Arts<br>Major=%{x}<br>Grad_employed=%{y}<extra></extra>",
         "legendgroup": "Arts",
         "marker": {
          "color": "#000002",
          "pattern": {
           "shape": ""
          }
         },
         "name": "Arts",
         "offsetgroup": "Arts",
         "orientation": "v",
         "showlegend": true,
         "textposition": "auto",
         "type": "bar",
         "x": [
          "COMMERCIAL ART AND GRAPHIC DESIGN",
          "FILM VIDEO AND PHOTOGRAPHIC ARTS",
          "MISCELLANEOUS FINE ARTS",
          "FINE ARTS",
          "VISUAL AND PERFORMING ARTS",
          "STUDIO ARTS",
          "DRAMA AND THEATER ARTS",
          "MUSIC"
         ],
         "xaxis": "x",
         "y": [
          40492,
          19059,
          1100,
          124246,
          14841,
          21628,
          50690,
          150394
         ],
         "yaxis": "y"
        },
        {
         "alignmentgroup": "True",
         "hovertemplate": "Major_category=Business<br>Major=%{x}<br>Grad_employed=%{y}<extra></extra>",
         "legendgroup": "Business",
         "marker": {
          "color": "#000003",
          "pattern": {
           "shape": ""
          }
         },
         "name": "Business",
         "offsetgroup": "Business",
         "orientation": "v",
         "showlegend": true,
         "textposition": "auto",
         "type": "bar",
         "x": [
          "HOSPITALITY MANAGEMENT",
          "MARKETING AND MARKETING RESEARCH",
          "MISCELLANEOUS BUSINESS & MEDICAL ADMINISTRATION",
          "BUSINESS MANAGEMENT AND ADMINISTRATION",
          "MANAGEMENT INFORMATION SYSTEMS AND STATISTICS",
          "OPERATIONS LOGISTICS AND E-COMMERCE",
          "GENERAL BUSINESS",
          "ACTUARIAL SCIENCE",
          "ACCOUNTING",
          "FINANCE",
          "HUMAN RESOURCES AND PERSONNEL MANAGEMENT",
          "INTERNATIONAL BUSINESS",
          "BUSINESS ECONOMICS"
         ],
         "xaxis": "x",
         "y": [
          18368,
          151570,
          17691,
          622357,
          36227,
          12659,
          457191,
          2020,
          451610,
          252242,
          55106,
          24519,
          22935
         ],
         "yaxis": "y"
        },
        {
         "alignmentgroup": "True",
         "hovertemplate": "Major_category=Computers & Mathematics<br>Major=%{x}<br>Grad_employed=%{y}<extra></extra>",
         "legendgroup": "Computers & Mathematics",
         "marker": {
          "color": "#000004",
          "pattern": {
           "shape": ""
          }
         },
         "name": "Computers & Mathematics",
         "offsetgroup": "Computers & Mathematics",
         "orientation": "v",
         "showlegend": true,
         "textposition": "auto",
         "type": "bar",
         "x": [
          "COMMUNICATION TECHNOLOGIES",
          "COMPUTER PROGRAMMING AND DATA PROCESSING",
          "COMPUTER NETWORKING AND TELECOMMUNICATIONS",
          "COMPUTER ADMINISTRATION MANAGEMENT AND SECURITY",
          "COMPUTER AND INFORMATION SYSTEMS",
          "INFORMATION SCIENCES",
          "COMPUTER SCIENCE",
          "MATHEMATICS AND COMPUTER SCIENCE",
          "APPLIED MATHEMATICS",
          "STATISTICS AND DECISION SCIENCE",
          "MATHEMATICS"
         ],
         "xaxis": "x",
         "y": [
          7512,
          4716,
          9037,
          8554,
          60858,
          22403,
          281088,
          3880,
          14113,
          16979,
          287467
         ],
         "yaxis": "y"
        },
        {
         "alignmentgroup": "True",
         "hovertemplate": "Major_category=Law & Public Policy<br>Major=%{x}<br>Grad_employed=%{y}<extra></extra>",
         "legendgroup": "Law & Public Policy",
         "marker": {
          "color": "#000005",
          "pattern": {
           "shape": ""
          }
         },
         "name": "Law & Public Policy",
         "offsetgroup": "Law & Public Policy",
         "orientation": "v",
         "showlegend": true,
         "textposition": "auto",
         "type": "bar",
         "x": [
          "COURT REPORTING",
          "CRIMINAL JUSTICE AND FIRE PROTECTION",
          "PRE-LAW AND LEGAL STUDIES",
          "PUBLIC ADMINISTRATION",
          "PUBLIC POLICY"
         ],
         "xaxis": "x",
         "y": [
          1008,
          154146,
          24818,
          31985,
          12875
         ],
         "yaxis": "y"
        },
        {
         "alignmentgroup": "True",
         "hovertemplate": "Major_category=Agriculture & Natural Resources<br>Major=%{x}<br>Grad_employed=%{y}<extra></extra>",
         "legendgroup": "Agriculture & Natural Resources",
         "marker": {
          "color": "#000006",
          "pattern": {
           "shape": ""
          }
         },
         "name": "Agriculture & Natural Resources",
         "offsetgroup": "Agriculture & Natural Resources",
         "orientation": "v",
         "showlegend": true,
         "textposition": "auto",
         "type": "bar",
         "x": [
          "AGRICULTURE PRODUCTION AND MANAGEMENT",
          "GENERAL AGRICULTURE",
          "FORESTRY",
          "NATURAL RESOURCES MANAGEMENT",
          "PLANT SCIENCE AND AGRONOMY",
          "AGRICULTURAL ECONOMICS",
          "SOIL SCIENCE",
          "ANIMAL SCIENCES",
          "MISCELLANEOUS AGRICULTURE",
          "FOOD SCIENCE"
         ],
         "xaxis": "x",
         "y": [
          13104,
          28930,
          16831,
          23394,
          22782,
          10592,
          2284,
          47755,
          2758,
          10857
         ],
         "yaxis": "y"
        },
        {
         "alignmentgroup": "True",
         "hovertemplate": "Major_category=Communications & Journalism<br>Major=%{x}<br>Grad_employed=%{y}<extra></extra>",
         "legendgroup": "Communications & Journalism",
         "marker": {
          "color": "#000007",
          "pattern": {
           "shape": ""
          }
         },
         "name": "Communications & Journalism",
         "offsetgroup": "Communications & Journalism",
         "orientation": "v",
         "showlegend": true,
         "textposition": "auto",
         "type": "bar",
         "x": [
          "ADVERTISING AND PUBLIC RELATIONS",
          "MASS MEDIA",
          "COMMUNICATIONS",
          "JOURNALISM"
         ],
         "xaxis": "x",
         "y": [
          28517,
          35939,
          212156,
          91778
         ],
         "yaxis": "y"
        },
        {
         "alignmentgroup": "True",
         "hovertemplate": "Major_category=Engineering<br>Major=%{x}<br>Grad_employed=%{y}<extra></extra>",
         "legendgroup": "Engineering",
         "marker": {
          "color": "#000008",
          "pattern": {
           "shape": ""
          }
         },
         "name": "Engineering",
         "offsetgroup": "Engineering",
         "orientation": "v",
         "showlegend": true,
         "textposition": "auto",
         "type": "bar",
         "x": [
          "MECHANICAL ENGINEERING RELATED TECHNOLOGIES",
          "MISCELLANEOUS ENGINEERING TECHNOLOGIES",
          "INDUSTRIAL PRODUCTION TECHNOLOGIES",
          "ELECTRICAL ENGINEERING TECHNOLOGY",
          "ENGINEERING TECHNOLOGIES",
          "ARCHITECTURAL ENGINEERING",
          "PETROLEUM ENGINEERING",
          "ENGINEERING AND INDUSTRIAL MANAGEMENT",
          "MISCELLANEOUS ENGINEERING",
          "ARCHITECTURE",
          "GENERAL ENGINEERING",
          "CIVIL ENGINEERING",
          "COMPUTER ENGINEERING",
          "MINING AND MINERAL ENGINEERING",
          "MECHANICAL ENGINEERING",
          "INDUSTRIAL AND MANUFACTURING ENGINEERING",
          "GEOLOGICAL AND GEOPHYSICAL ENGINEERING",
          "NAVAL ARCHITECTURE AND MARINE ENGINEERING",
          "ELECTRICAL ENGINEERING",
          "BIOLOGICAL ENGINEERING",
          "MATERIALS ENGINEERING AND MATERIALS SCIENCE",
          "CHEMICAL ENGINEERING",
          "AEROSPACE ENGINEERING",
          "ENVIRONMENTAL ENGINEERING",
          "METALLURGICAL ENGINEERING",
          "ENGINEERING MECHANICS PHYSICS AND SCIENCE",
          "NUCLEAR ENGINEERING",
          "BIOMEDICAL ENGINEERING",
          "MATERIALS SCIENCE"
         ],
         "xaxis": "x",
         "y": [
          4442,
          12433,
          14752,
          22501,
          9471,
          4857,
          5640,
          12781,
          19112,
          114536,
          199771,
          150299,
          73147,
          4491,
          266923,
          66432,
          2673,
          6739,
          371723,
          16810,
          13042,
          124544,
          42632,
          9387,
          9299,
          15822,
          8567,
          19474,
          12263
         ],
         "yaxis": "y"
        },
        {
         "alignmentgroup": "True",
         "hovertemplate": "Major_category=Social Science<br>Major=%{x}<br>Grad_employed=%{y}<extra></extra>",
         "legendgroup": "Social Science",
         "marker": {
          "color": "#000009",
          "pattern": {
           "shape": ""
          }
         },
         "name": "Social Science",
         "offsetgroup": "Social Science",
         "orientation": "v",
         "showlegend": true,
         "textposition": "auto",
         "type": "bar",
         "x": [
          "CRIMINOLOGY",
          "GEOGRAPHY",
          "INTERDISCIPLINARY SOCIAL SCIENCES",
          "SOCIOLOGY",
          "GENERAL SOCIAL SCIENCES",
          "ECONOMICS",
          "MISCELLANEOUS SOCIAL SCIENCES",
          "POLITICAL SCIENCE AND GOVERNMENT",
          "INTERNATIONAL RELATIONS"
         ],
         "xaxis": "x",
         "y": [
          14584,
          38935,
          22755,
          259742,
          45744,
          386002,
          10916,
          548199,
          54693
         ],
         "yaxis": "y"
        },
        {
         "alignmentgroup": "True",
         "hovertemplate": "Major_category=Health<br>Major=%{x}<br>Grad_employed=%{y}<extra></extra>",
         "legendgroup": "Health",
         "marker": {
          "color": "#000010",
          "pattern": {
           "shape": ""
          }
         },
         "name": "Health",
         "offsetgroup": "Health",
         "orientation": "v",
         "showlegend": true,
         "textposition": "auto",
         "type": "bar",
         "x": [
          "MEDICAL TECHNOLOGIES TECHNICIANS",
          "MEDICAL ASSISTING SERVICES",
          "NURSING",
          "HEALTH AND MEDICAL ADMINISTRATIVE SERVICES",
          "TREATMENT THERAPY PROFESSIONS",
          "MISCELLANEOUS HEALTH MEDICAL PROFESSIONS",
          "GENERAL MEDICAL AND HEALTH SERVICES",
          "NUTRITION SCIENCES",
          "COMMUNITY AND PUBLIC HEALTH",
          "PHARMACY PHARMACEUTICAL SCIENCES AND ADMINISTRATION",
          "COMMUNICATION DISORDERS SCIENCES AND SERVICES",
          "HEALTH AND MEDICAL PREPARATORY PROGRAMS"
         ],
         "xaxis": "x",
         "y": [
          37639,
          14499,
          437115,
          35283,
          123279,
          39185,
          54355,
          31411,
          28112,
          124688,
          145102,
          78132
         ],
         "yaxis": "y"
        },
        {
         "alignmentgroup": "True",
         "hovertemplate": "Major_category=Interdisciplinary<br>Major=%{x}<br>Grad_employed=%{y}<extra></extra>",
         "legendgroup": "Interdisciplinary",
         "marker": {
          "color": "#000001",
          "pattern": {
           "shape": ""
          }
         },
         "name": "Interdisciplinary",
         "offsetgroup": "Interdisciplinary",
         "orientation": "v",
         "showlegend": true,
         "textposition": "auto",
         "type": "bar",
         "x": [
          "MULTI/INTERDISCIPLINARY STUDIES"
         ],
         "xaxis": "x",
         "y": [
          12708
         ],
         "yaxis": "y"
        },
        {
         "alignmentgroup": "True",
         "hovertemplate": "Major_category=Physical Sciences<br>Major=%{x}<br>Grad_employed=%{y}<extra></extra>",
         "legendgroup": "Physical Sciences",
         "marker": {
          "color": "#000002",
          "pattern": {
           "shape": ""
          }
         },
         "name": "Physical Sciences",
         "offsetgroup": "Physical Sciences",
         "orientation": "v",
         "showlegend": true,
         "textposition": "auto",
         "type": "bar",
         "x": [
          "NUCLEAR, INDUSTRIAL RADIOLOGY, AND BIOLOGICAL TECHNOLOGIES",
          "MULTI-DISCIPLINARY OR GENERAL SCIENCE",
          "OCEANOGRAPHY",
          "GEOLOGY AND EARTH SCIENCE",
          "PHYSICAL SCIENCES",
          "ATMOSPHERIC SCIENCES AND METEOROLOGY",
          "GEOSCIENCES",
          "ASTRONOMY AND ASTROPHYSICS",
          "CHEMISTRY",
          "PHYSICS"
         ],
         "xaxis": "x",
         "y": [
          3129,
          162694,
          5501,
          66748,
          5292,
          8657,
          7443,
          5480,
          336838,
          168583
         ],
         "yaxis": "y"
        },
        {
         "alignmentgroup": "True",
         "hovertemplate": "Major_category=Humanities & Liberal Arts<br>Major=%{x}<br>Grad_employed=%{y}<extra></extra>",
         "legendgroup": "Humanities & Liberal Arts",
         "marker": {
          "color": "#000003",
          "pattern": {
           "shape": ""
          }
         },
         "name": "Humanities & Liberal Arts",
         "offsetgroup": "Humanities & Liberal Arts",
         "orientation": "v",
         "showlegend": true,
         "textposition": "auto",
         "type": "bar",
         "x": [
          "LIBERAL ARTS",
          "COMPOSITION AND RHETORIC",
          "HUMANITIES",
          "ART HISTORY AND CRITICISM",
          "INTERCULTURAL AND INTERNATIONAL STUDIES",
          "THEOLOGY AND RELIGIOUS VOCATIONS",
          "LINGUISTICS AND COMPARATIVE LANGUAGE AND LITERATURE",
          "ANTHROPOLOGY AND ARCHEOLOGY",
          "ENGLISH LANGUAGE AND LITERATURE",
          "OTHER FOREIGN LANGUAGES",
          "AREA ETHNIC AND CIVILIZATION STUDIES",
          "HISTORY",
          "FRENCH GERMAN LATIN AND OTHER COMMON FOREIGN LANGUAGE STUDIES",
          "UNITED STATES HISTORY",
          "PHILOSOPHY AND RELIGIOUS STUDIES"
         ],
         "xaxis": "x",
         "y": [
          154404,
          16723,
          19264,
          40441,
          26153,
          115266,
          40277,
          83632,
          598806,
          31558,
          65878,
          454797,
          145043,
          12217,
          182113
         ],
         "yaxis": "y"
        },
        {
         "alignmentgroup": "True",
         "hovertemplate": "Major_category=Psychology & Social Work<br>Major=%{x}<br>Grad_employed=%{y}<extra></extra>",
         "legendgroup": "Psychology & Social Work",
         "marker": {
          "color": "#000004",
          "pattern": {
           "shape": ""
          }
         },
         "name": "Psychology & Social Work",
         "offsetgroup": "Psychology & Social Work",
         "orientation": "v",
         "showlegend": true,
         "textposition": "auto",
         "type": "bar",
         "x": [
          "HUMAN SERVICES AND COMMUNITY ORGANIZATION",
          "SOCIAL PSYCHOLOGY",
          "INDUSTRIAL AND ORGANIZATIONAL PSYCHOLOGY",
          "SOCIAL WORK",
          "PSYCHOLOGY",
          "MISCELLANEOUS PSYCHOLOGY",
          "EDUCATIONAL PSYCHOLOGY",
          "COUNSELING PSYCHOLOGY",
          "CLINICAL PSYCHOLOGY"
         ],
         "xaxis": "x",
         "y": [
          23537,
          4796,
          9546,
          203983,
          915341,
          24652,
          18993,
          38468,
          16612
         ],
         "yaxis": "y"
        },
        {
         "alignmentgroup": "True",
         "hovertemplate": "Major_category=Biology & Life Science<br>Major=%{x}<br>Grad_employed=%{y}<extra></extra>",
         "legendgroup": "Biology & Life Science",
         "marker": {
          "color": "#000005",
          "pattern": {
           "shape": ""
          }
         },
         "name": "Biology & Life Science",
         "offsetgroup": "Biology & Life Science",
         "orientation": "v",
         "showlegend": true,
         "textposition": "auto",
         "type": "bar",
         "x": [
          "ENVIRONMENTAL SCIENCE",
          "ECOLOGY",
          "MISCELLANEOUS BIOLOGY",
          "COGNITIVE SCIENCE AND BIOPSYCHOLOGY",
          "MICROBIOLOGY",
          "BOTANY",
          "BIOLOGY",
          "PHYSIOLOGY",
          "MOLECULAR BIOLOGY",
          "PHARMACOLOGY",
          "ZOOLOGY",
          "NEUROSCIENCE",
          "BIOCHEMICAL SCIENCES",
          "GENETICS"
         ],
         "xaxis": "x",
         "y": [
          38068,
          17793,
          22488,
          5032,
          66240,
          13071,
          898342,
          50450,
          32729,
          7571,
          80607,
          12551,
          109944,
          10450
         ],
         "yaxis": "y"
        },
        {
         "alignmentgroup": "True",
         "hovertemplate": "Major_category=Education<br>Major=%{x}<br>Grad_employed=%{y}<extra></extra>",
         "legendgroup": "Education",
         "marker": {
          "color": "#000006",
          "pattern": {
           "shape": ""
          }
         },
         "name": "Education",
         "offsetgroup": "Education",
         "orientation": "v",
         "showlegend": true,
         "textposition": "auto",
         "type": "bar",
         "x": [
          "EARLY CHILDHOOD EDUCATION",
          "PHYSICAL AND HEALTH EDUCATION TEACHING",
          "MISCELLANEOUS EDUCATION",
          "ELEMENTARY EDUCATION",
          "GENERAL EDUCATION",
          "ART AND MUSIC EDUCATION",
          "TEACHER EDUCATION: MULTIPLE LEVELS",
          "SOCIAL SCIENCE OR HISTORY TEACHER EDUCATION",
          "SECONDARY TEACHER EDUCATION",
          "LANGUAGE AND DRAMA EDUCATION",
          "MATHEMATICS TEACHER EDUCATION",
          "SCIENCE AND COMPUTER TEACHER EDUCATION",
          "SPECIAL NEEDS EDUCATION",
          "LIBRARY SCIENCE",
          "SCHOOL STUDENT COUNSELING",
          "EDUCATIONAL ADMINISTRATION AND SUPERVISION"
         ],
         "xaxis": "x",
         "y": [
          63027,
          131845,
          86566,
          668185,
          698049,
          123145,
          46866,
          68997,
          128469,
          122260,
          51750,
          42043,
          144858,
          15651,
          11313,
          34142
         ],
         "yaxis": "y"
        }
       ],
       "layout": {
        "barmode": "relative",
        "legend": {
         "title": {
          "text": "Major_category"
         },
         "tracegroupgap": 0
        },
        "template": {
         "data": {
          "candlestick": [
           {
            "decreasing": {
             "line": {
              "color": "#000033"
             }
            },
            "increasing": {
             "line": {
              "color": "#000032"
             }
            },
            "type": "candlestick"
           }
          ],
          "contour": [
           {
            "colorscale": [
             [
              0,
              "#000011"
             ],
             [
              0.1111111111111111,
              "#000012"
             ],
             [
              0.2222222222222222,
              "#000013"
             ],
             [
              0.3333333333333333,
              "#000014"
             ],
             [
              0.4444444444444444,
              "#000015"
             ],
             [
              0.5555555555555556,
              "#000016"
             ],
             [
              0.6666666666666666,
              "#000017"
             ],
             [
              0.7777777777777778,
              "#000018"
             ],
             [
              0.8888888888888888,
              "#000019"
             ],
             [
              1,
              "#000020"
             ]
            ],
            "type": "contour"
           }
          ],
          "contourcarpet": [
           {
            "colorscale": [
             [
              0,
              "#000011"
             ],
             [
              0.1111111111111111,
              "#000012"
             ],
             [
              0.2222222222222222,
              "#000013"
             ],
             [
              0.3333333333333333,
              "#000014"
             ],
             [
              0.4444444444444444,
              "#000015"
             ],
             [
              0.5555555555555556,
              "#000016"
             ],
             [
              0.6666666666666666,
              "#000017"
             ],
             [
              0.7777777777777778,
              "#000018"
             ],
             [
              0.8888888888888888,
              "#000019"
             ],
             [
              1,
              "#000020"
             ]
            ],
            "type": "contourcarpet"
           }
          ],
          "heatmap": [
           {
            "colorscale": [
             [
              0,
              "#000011"
             ],
             [
              0.1111111111111111,
              "#000012"
             ],
             [
              0.2222222222222222,
              "#000013"
             ],
             [
              0.3333333333333333,
              "#000014"
             ],
             [
              0.4444444444444444,
              "#000015"
             ],
             [
              0.5555555555555556,
              "#000016"
             ],
             [
              0.6666666666666666,
              "#000017"
             ],
             [
              0.7777777777777778,
              "#000018"
             ],
             [
              0.8888888888888888,
              "#000019"
             ],
             [
              1,
              "#000020"
             ]
            ],
            "type": "heatmap"
           }
          ],
          "histogram2d": [
           {
            "colorscale": [
             [
              0,
              "#000011"
             ],
             [
              0.1111111111111111,
              "#000012"
             ],
             [
              0.2222222222222222,
              "#000013"
             ],
             [
              0.3333333333333333,
              "#000014"
             ],
             [
              0.4444444444444444,
              "#000015"
             ],
             [
              0.5555555555555556,
              "#000016"
             ],
             [
              0.6666666666666666,
              "#000017"
             ],
             [
              0.7777777777777778,
              "#000018"
             ],
             [
              0.8888888888888888,
              "#000019"
             ],
             [
              1,
              "#000020"
             ]
            ],
            "type": "histogram2d"
           }
          ],
          "icicle": [
           {
            "textfont": {
             "color": "white"
            },
            "type": "icicle"
           }
          ],
          "sankey": [
           {
            "textfont": {
             "color": "#000036"
            },
            "type": "sankey"
           }
          ],
          "scatter": [
           {
            "marker": {
             "line": {
              "width": 0
             }
            },
            "type": "scatter"
           }
          ],
          "table": [
           {
            "cells": {
             "fill": {
              "color": "#000038"
             },
             "font": {
              "color": "#000037"
             },
             "line": {
              "color": "#000039"
             }
            },
            "header": {
             "fill": {
              "color": "#000040"
             },
             "font": {
              "color": "#000036"
             },
             "line": {
              "color": "#000039"
             }
            },
            "type": "table"
           }
          ],
          "waterfall": [
           {
            "connector": {
             "line": {
              "color": "#000036",
              "width": 2
             }
            },
            "decreasing": {
             "marker": {
              "color": "#000033"
             }
            },
            "increasing": {
             "marker": {
              "color": "#000032"
             }
            },
            "totals": {
             "marker": {
              "color": "#000034"
             }
            },
            "type": "waterfall"
           }
          ]
         },
         "layout": {
          "coloraxis": {
           "colorscale": [
            [
             0,
             "#000011"
            ],
            [
             0.1111111111111111,
             "#000012"
            ],
            [
             0.2222222222222222,
             "#000013"
            ],
            [
             0.3333333333333333,
             "#000014"
            ],
            [
             0.4444444444444444,
             "#000015"
            ],
            [
             0.5555555555555556,
             "#000016"
            ],
            [
             0.6666666666666666,
             "#000017"
            ],
            [
             0.7777777777777778,
             "#000018"
            ],
            [
             0.8888888888888888,
             "#000019"
            ],
            [
             1,
             "#000020"
            ]
           ]
          },
          "colorscale": {
           "diverging": [
            [
             0,
             "#000021"
            ],
            [
             0.1,
             "#000022"
            ],
            [
             0.2,
             "#000023"
            ],
            [
             0.3,
             "#000024"
            ],
            [
             0.4,
             "#000025"
            ],
            [
             0.5,
             "#000026"
            ],
            [
             0.6,
             "#000027"
            ],
            [
             0.7,
             "#000028"
            ],
            [
             0.8,
             "#000029"
            ],
            [
             0.9,
             "#000030"
            ],
            [
             1,
             "#000031"
            ]
           ],
           "sequential": [
            [
             0,
             "#000011"
            ],
            [
             0.1111111111111111,
             "#000012"
            ],
            [
             0.2222222222222222,
             "#000013"
            ],
            [
             0.3333333333333333,
             "#000014"
            ],
            [
             0.4444444444444444,
             "#000015"
            ],
            [
             0.5555555555555556,
             "#000016"
            ],
            [
             0.6666666666666666,
             "#000017"
            ],
            [
             0.7777777777777778,
             "#000018"
            ],
            [
             0.8888888888888888,
             "#000019"
            ],
            [
             1,
             "#000020"
            ]
           ],
           "sequentialminus": [
            [
             0,
             "#000011"
            ],
            [
             0.1111111111111111,
             "#000012"
            ],
            [
             0.2222222222222222,
             "#000013"
            ],
            [
             0.3333333333333333,
             "#000014"
            ],
            [
             0.4444444444444444,
             "#000015"
            ],
            [
             0.5555555555555556,
             "#000016"
            ],
            [
             0.6666666666666666,
             "#000017"
            ],
            [
             0.7777777777777778,
             "#000018"
            ],
            [
             0.8888888888888888,
             "#000019"
            ],
            [
             1,
             "#000020"
            ]
           ]
          },
          "colorway": [
           "#000001",
           "#000002",
           "#000003",
           "#000004",
           "#000005",
           "#000006",
           "#000007",
           "#000008",
           "#000009",
           "#000010"
          ]
         }
        },
        "title": {
         "text": "Long-Form Input"
        },
        "xaxis": {
         "anchor": "y",
         "domain": [
          0,
          1
         ],
         "title": {
          "text": "Major"
         }
        },
        "yaxis": {
         "anchor": "x",
         "domain": [
          0,
          1
         ],
         "title": {
          "text": "Grad_employed"
         }
        }
       }
      },
      "text/html": [
       "<div>                            <div id=\"b98cb42b-1a03-4d21-96ba-c37c92c93ecb\" class=\"plotly-graph-div\" style=\"height:525px; width:100%;\"></div>            <script type=\"text/javascript\">                require([\"plotly\"], function(Plotly) {                    window.PLOTLYENV=window.PLOTLYENV || {};                                    if (document.getElementById(\"b98cb42b-1a03-4d21-96ba-c37c92c93ecb\")) {                    Plotly.newPlot(                        \"b98cb42b-1a03-4d21-96ba-c37c92c93ecb\",                        [{\"alignmentgroup\":\"True\",\"hovertemplate\":\"Major_category=Industrial Arts & Consumer Services<br>Major=%{x}<br>Grad_employed=%{y}<extra></extra>\",\"legendgroup\":\"Industrial Arts & Consumer Services\",\"marker\":{\"color\":\"#000001\",\"pattern\":{\"shape\":\"\"}},\"name\":\"Industrial Arts & Consumer Services\",\"offsetgroup\":\"Industrial Arts & Consumer Services\",\"orientation\":\"v\",\"showlegend\":true,\"textposition\":\"auto\",\"x\":[\"CONSTRUCTION SERVICES\",\"COSMETOLOGY SERVICES AND CULINARY ARTS\",\"ELECTRICAL, MECHANICAL, AND PRECISION TECHNOLOGIES AND PRODUCTION\",\"TRANSPORTATION SCIENCES AND TECHNOLOGIES\",\"FAMILY AND CONSUMER SCIENCES\",\"PHYSICAL FITNESS PARKS RECREATION AND LEISURE\",\"MILITARY TECHNOLOGIES\"],\"xaxis\":\"x\",\"y\":[7098,3590,1984,20035,101593,103790,1248],\"yaxis\":\"y\",\"type\":\"bar\"},{\"alignmentgroup\":\"True\",\"hovertemplate\":\"Major_category=Arts<br>Major=%{x}<br>Grad_employed=%{y}<extra></extra>\",\"legendgroup\":\"Arts\",\"marker\":{\"color\":\"#000002\",\"pattern\":{\"shape\":\"\"}},\"name\":\"Arts\",\"offsetgroup\":\"Arts\",\"orientation\":\"v\",\"showlegend\":true,\"textposition\":\"auto\",\"x\":[\"COMMERCIAL ART AND GRAPHIC DESIGN\",\"FILM VIDEO AND PHOTOGRAPHIC ARTS\",\"MISCELLANEOUS FINE ARTS\",\"FINE ARTS\",\"VISUAL AND PERFORMING ARTS\",\"STUDIO ARTS\",\"DRAMA AND THEATER ARTS\",\"MUSIC\"],\"xaxis\":\"x\",\"y\":[40492,19059,1100,124246,14841,21628,50690,150394],\"yaxis\":\"y\",\"type\":\"bar\"},{\"alignmentgroup\":\"True\",\"hovertemplate\":\"Major_category=Business<br>Major=%{x}<br>Grad_employed=%{y}<extra></extra>\",\"legendgroup\":\"Business\",\"marker\":{\"color\":\"#000003\",\"pattern\":{\"shape\":\"\"}},\"name\":\"Business\",\"offsetgroup\":\"Business\",\"orientation\":\"v\",\"showlegend\":true,\"textposition\":\"auto\",\"x\":[\"HOSPITALITY MANAGEMENT\",\"MARKETING AND MARKETING RESEARCH\",\"MISCELLANEOUS BUSINESS & MEDICAL ADMINISTRATION\",\"BUSINESS MANAGEMENT AND ADMINISTRATION\",\"MANAGEMENT INFORMATION SYSTEMS AND STATISTICS\",\"OPERATIONS LOGISTICS AND E-COMMERCE\",\"GENERAL BUSINESS\",\"ACTUARIAL SCIENCE\",\"ACCOUNTING\",\"FINANCE\",\"HUMAN RESOURCES AND PERSONNEL MANAGEMENT\",\"INTERNATIONAL BUSINESS\",\"BUSINESS ECONOMICS\"],\"xaxis\":\"x\",\"y\":[18368,151570,17691,622357,36227,12659,457191,2020,451610,252242,55106,24519,22935],\"yaxis\":\"y\",\"type\":\"bar\"},{\"alignmentgroup\":\"True\",\"hovertemplate\":\"Major_category=Computers & Mathematics<br>Major=%{x}<br>Grad_employed=%{y}<extra></extra>\",\"legendgroup\":\"Computers & Mathematics\",\"marker\":{\"color\":\"#000004\",\"pattern\":{\"shape\":\"\"}},\"name\":\"Computers & Mathematics\",\"offsetgroup\":\"Computers & Mathematics\",\"orientation\":\"v\",\"showlegend\":true,\"textposition\":\"auto\",\"x\":[\"COMMUNICATION TECHNOLOGIES\",\"COMPUTER PROGRAMMING AND DATA PROCESSING\",\"COMPUTER NETWORKING AND TELECOMMUNICATIONS\",\"COMPUTER ADMINISTRATION MANAGEMENT AND SECURITY\",\"COMPUTER AND INFORMATION SYSTEMS\",\"INFORMATION SCIENCES\",\"COMPUTER SCIENCE\",\"MATHEMATICS AND COMPUTER SCIENCE\",\"APPLIED MATHEMATICS\",\"STATISTICS AND DECISION SCIENCE\",\"MATHEMATICS\"],\"xaxis\":\"x\",\"y\":[7512,4716,9037,8554,60858,22403,281088,3880,14113,16979,287467],\"yaxis\":\"y\",\"type\":\"bar\"},{\"alignmentgroup\":\"True\",\"hovertemplate\":\"Major_category=Law & Public Policy<br>Major=%{x}<br>Grad_employed=%{y}<extra></extra>\",\"legendgroup\":\"Law & Public Policy\",\"marker\":{\"color\":\"#000005\",\"pattern\":{\"shape\":\"\"}},\"name\":\"Law & Public Policy\",\"offsetgroup\":\"Law & Public Policy\",\"orientation\":\"v\",\"showlegend\":true,\"textposition\":\"auto\",\"x\":[\"COURT REPORTING\",\"CRIMINAL JUSTICE AND FIRE PROTECTION\",\"PRE-LAW AND LEGAL STUDIES\",\"PUBLIC ADMINISTRATION\",\"PUBLIC POLICY\"],\"xaxis\":\"x\",\"y\":[1008,154146,24818,31985,12875],\"yaxis\":\"y\",\"type\":\"bar\"},{\"alignmentgroup\":\"True\",\"hovertemplate\":\"Major_category=Agriculture & Natural Resources<br>Major=%{x}<br>Grad_employed=%{y}<extra></extra>\",\"legendgroup\":\"Agriculture & Natural Resources\",\"marker\":{\"color\":\"#000006\",\"pattern\":{\"shape\":\"\"}},\"name\":\"Agriculture & Natural Resources\",\"offsetgroup\":\"Agriculture & Natural Resources\",\"orientation\":\"v\",\"showlegend\":true,\"textposition\":\"auto\",\"x\":[\"AGRICULTURE PRODUCTION AND MANAGEMENT\",\"GENERAL AGRICULTURE\",\"FORESTRY\",\"NATURAL RESOURCES MANAGEMENT\",\"PLANT SCIENCE AND AGRONOMY\",\"AGRICULTURAL ECONOMICS\",\"SOIL SCIENCE\",\"ANIMAL SCIENCES\",\"MISCELLANEOUS AGRICULTURE\",\"FOOD SCIENCE\"],\"xaxis\":\"x\",\"y\":[13104,28930,16831,23394,22782,10592,2284,47755,2758,10857],\"yaxis\":\"y\",\"type\":\"bar\"},{\"alignmentgroup\":\"True\",\"hovertemplate\":\"Major_category=Communications & Journalism<br>Major=%{x}<br>Grad_employed=%{y}<extra></extra>\",\"legendgroup\":\"Communications & Journalism\",\"marker\":{\"color\":\"#000007\",\"pattern\":{\"shape\":\"\"}},\"name\":\"Communications & Journalism\",\"offsetgroup\":\"Communications & Journalism\",\"orientation\":\"v\",\"showlegend\":true,\"textposition\":\"auto\",\"x\":[\"ADVERTISING AND PUBLIC RELATIONS\",\"MASS MEDIA\",\"COMMUNICATIONS\",\"JOURNALISM\"],\"xaxis\":\"x\",\"y\":[28517,35939,212156,91778],\"yaxis\":\"y\",\"type\":\"bar\"},{\"alignmentgroup\":\"True\",\"hovertemplate\":\"Major_category=Engineering<br>Major=%{x}<br>Grad_employed=%{y}<extra></extra>\",\"legendgroup\":\"Engineering\",\"marker\":{\"color\":\"#000008\",\"pattern\":{\"shape\":\"\"}},\"name\":\"Engineering\",\"offsetgroup\":\"Engineering\",\"orientation\":\"v\",\"showlegend\":true,\"textposition\":\"auto\",\"x\":[\"MECHANICAL ENGINEERING RELATED TECHNOLOGIES\",\"MISCELLANEOUS ENGINEERING TECHNOLOGIES\",\"INDUSTRIAL PRODUCTION TECHNOLOGIES\",\"ELECTRICAL ENGINEERING TECHNOLOGY\",\"ENGINEERING TECHNOLOGIES\",\"ARCHITECTURAL ENGINEERING\",\"PETROLEUM ENGINEERING\",\"ENGINEERING AND INDUSTRIAL MANAGEMENT\",\"MISCELLANEOUS ENGINEERING\",\"ARCHITECTURE\",\"GENERAL ENGINEERING\",\"CIVIL ENGINEERING\",\"COMPUTER ENGINEERING\",\"MINING AND MINERAL ENGINEERING\",\"MECHANICAL ENGINEERING\",\"INDUSTRIAL AND MANUFACTURING ENGINEERING\",\"GEOLOGICAL AND GEOPHYSICAL ENGINEERING\",\"NAVAL ARCHITECTURE AND MARINE ENGINEERING\",\"ELECTRICAL ENGINEERING\",\"BIOLOGICAL ENGINEERING\",\"MATERIALS ENGINEERING AND MATERIALS SCIENCE\",\"CHEMICAL ENGINEERING\",\"AEROSPACE ENGINEERING\",\"ENVIRONMENTAL ENGINEERING\",\"METALLURGICAL ENGINEERING\",\"ENGINEERING MECHANICS PHYSICS AND SCIENCE\",\"NUCLEAR ENGINEERING\",\"BIOMEDICAL ENGINEERING\",\"MATERIALS SCIENCE\"],\"xaxis\":\"x\",\"y\":[4442,12433,14752,22501,9471,4857,5640,12781,19112,114536,199771,150299,73147,4491,266923,66432,2673,6739,371723,16810,13042,124544,42632,9387,9299,15822,8567,19474,12263],\"yaxis\":\"y\",\"type\":\"bar\"},{\"alignmentgroup\":\"True\",\"hovertemplate\":\"Major_category=Social Science<br>Major=%{x}<br>Grad_employed=%{y}<extra></extra>\",\"legendgroup\":\"Social Science\",\"marker\":{\"color\":\"#000009\",\"pattern\":{\"shape\":\"\"}},\"name\":\"Social Science\",\"offsetgroup\":\"Social Science\",\"orientation\":\"v\",\"showlegend\":true,\"textposition\":\"auto\",\"x\":[\"CRIMINOLOGY\",\"GEOGRAPHY\",\"INTERDISCIPLINARY SOCIAL SCIENCES\",\"SOCIOLOGY\",\"GENERAL SOCIAL SCIENCES\",\"ECONOMICS\",\"MISCELLANEOUS SOCIAL SCIENCES\",\"POLITICAL SCIENCE AND GOVERNMENT\",\"INTERNATIONAL RELATIONS\"],\"xaxis\":\"x\",\"y\":[14584,38935,22755,259742,45744,386002,10916,548199,54693],\"yaxis\":\"y\",\"type\":\"bar\"},{\"alignmentgroup\":\"True\",\"hovertemplate\":\"Major_category=Health<br>Major=%{x}<br>Grad_employed=%{y}<extra></extra>\",\"legendgroup\":\"Health\",\"marker\":{\"color\":\"#000010\",\"pattern\":{\"shape\":\"\"}},\"name\":\"Health\",\"offsetgroup\":\"Health\",\"orientation\":\"v\",\"showlegend\":true,\"textposition\":\"auto\",\"x\":[\"MEDICAL TECHNOLOGIES TECHNICIANS\",\"MEDICAL ASSISTING SERVICES\",\"NURSING\",\"HEALTH AND MEDICAL ADMINISTRATIVE SERVICES\",\"TREATMENT THERAPY PROFESSIONS\",\"MISCELLANEOUS HEALTH MEDICAL PROFESSIONS\",\"GENERAL MEDICAL AND HEALTH SERVICES\",\"NUTRITION SCIENCES\",\"COMMUNITY AND PUBLIC HEALTH\",\"PHARMACY PHARMACEUTICAL SCIENCES AND ADMINISTRATION\",\"COMMUNICATION DISORDERS SCIENCES AND SERVICES\",\"HEALTH AND MEDICAL PREPARATORY PROGRAMS\"],\"xaxis\":\"x\",\"y\":[37639,14499,437115,35283,123279,39185,54355,31411,28112,124688,145102,78132],\"yaxis\":\"y\",\"type\":\"bar\"},{\"alignmentgroup\":\"True\",\"hovertemplate\":\"Major_category=Interdisciplinary<br>Major=%{x}<br>Grad_employed=%{y}<extra></extra>\",\"legendgroup\":\"Interdisciplinary\",\"marker\":{\"color\":\"#000001\",\"pattern\":{\"shape\":\"\"}},\"name\":\"Interdisciplinary\",\"offsetgroup\":\"Interdisciplinary\",\"orientation\":\"v\",\"showlegend\":true,\"textposition\":\"auto\",\"x\":[\"MULTI/INTERDISCIPLINARY STUDIES\"],\"xaxis\":\"x\",\"y\":[12708],\"yaxis\":\"y\",\"type\":\"bar\"},{\"alignmentgroup\":\"True\",\"hovertemplate\":\"Major_category=Physical Sciences<br>Major=%{x}<br>Grad_employed=%{y}<extra></extra>\",\"legendgroup\":\"Physical Sciences\",\"marker\":{\"color\":\"#000002\",\"pattern\":{\"shape\":\"\"}},\"name\":\"Physical Sciences\",\"offsetgroup\":\"Physical Sciences\",\"orientation\":\"v\",\"showlegend\":true,\"textposition\":\"auto\",\"x\":[\"NUCLEAR, INDUSTRIAL RADIOLOGY, AND BIOLOGICAL TECHNOLOGIES\",\"MULTI-DISCIPLINARY OR GENERAL SCIENCE\",\"OCEANOGRAPHY\",\"GEOLOGY AND EARTH SCIENCE\",\"PHYSICAL SCIENCES\",\"ATMOSPHERIC SCIENCES AND METEOROLOGY\",\"GEOSCIENCES\",\"ASTRONOMY AND ASTROPHYSICS\",\"CHEMISTRY\",\"PHYSICS\"],\"xaxis\":\"x\",\"y\":[3129,162694,5501,66748,5292,8657,7443,5480,336838,168583],\"yaxis\":\"y\",\"type\":\"bar\"},{\"alignmentgroup\":\"True\",\"hovertemplate\":\"Major_category=Humanities & Liberal Arts<br>Major=%{x}<br>Grad_employed=%{y}<extra></extra>\",\"legendgroup\":\"Humanities & Liberal Arts\",\"marker\":{\"color\":\"#000003\",\"pattern\":{\"shape\":\"\"}},\"name\":\"Humanities & Liberal Arts\",\"offsetgroup\":\"Humanities & Liberal Arts\",\"orientation\":\"v\",\"showlegend\":true,\"textposition\":\"auto\",\"x\":[\"LIBERAL ARTS\",\"COMPOSITION AND RHETORIC\",\"HUMANITIES\",\"ART HISTORY AND CRITICISM\",\"INTERCULTURAL AND INTERNATIONAL STUDIES\",\"THEOLOGY AND RELIGIOUS VOCATIONS\",\"LINGUISTICS AND COMPARATIVE LANGUAGE AND LITERATURE\",\"ANTHROPOLOGY AND ARCHEOLOGY\",\"ENGLISH LANGUAGE AND LITERATURE\",\"OTHER FOREIGN LANGUAGES\",\"AREA ETHNIC AND CIVILIZATION STUDIES\",\"HISTORY\",\"FRENCH GERMAN LATIN AND OTHER COMMON FOREIGN LANGUAGE STUDIES\",\"UNITED STATES HISTORY\",\"PHILOSOPHY AND RELIGIOUS STUDIES\"],\"xaxis\":\"x\",\"y\":[154404,16723,19264,40441,26153,115266,40277,83632,598806,31558,65878,454797,145043,12217,182113],\"yaxis\":\"y\",\"type\":\"bar\"},{\"alignmentgroup\":\"True\",\"hovertemplate\":\"Major_category=Psychology & Social Work<br>Major=%{x}<br>Grad_employed=%{y}<extra></extra>\",\"legendgroup\":\"Psychology & Social Work\",\"marker\":{\"color\":\"#000004\",\"pattern\":{\"shape\":\"\"}},\"name\":\"Psychology & Social Work\",\"offsetgroup\":\"Psychology & Social Work\",\"orientation\":\"v\",\"showlegend\":true,\"textposition\":\"auto\",\"x\":[\"HUMAN SERVICES AND COMMUNITY ORGANIZATION\",\"SOCIAL PSYCHOLOGY\",\"INDUSTRIAL AND ORGANIZATIONAL PSYCHOLOGY\",\"SOCIAL WORK\",\"PSYCHOLOGY\",\"MISCELLANEOUS PSYCHOLOGY\",\"EDUCATIONAL PSYCHOLOGY\",\"COUNSELING PSYCHOLOGY\",\"CLINICAL PSYCHOLOGY\"],\"xaxis\":\"x\",\"y\":[23537,4796,9546,203983,915341,24652,18993,38468,16612],\"yaxis\":\"y\",\"type\":\"bar\"},{\"alignmentgroup\":\"True\",\"hovertemplate\":\"Major_category=Biology & Life Science<br>Major=%{x}<br>Grad_employed=%{y}<extra></extra>\",\"legendgroup\":\"Biology & Life Science\",\"marker\":{\"color\":\"#000005\",\"pattern\":{\"shape\":\"\"}},\"name\":\"Biology & Life Science\",\"offsetgroup\":\"Biology & Life Science\",\"orientation\":\"v\",\"showlegend\":true,\"textposition\":\"auto\",\"x\":[\"ENVIRONMENTAL SCIENCE\",\"ECOLOGY\",\"MISCELLANEOUS BIOLOGY\",\"COGNITIVE SCIENCE AND BIOPSYCHOLOGY\",\"MICROBIOLOGY\",\"BOTANY\",\"BIOLOGY\",\"PHYSIOLOGY\",\"MOLECULAR BIOLOGY\",\"PHARMACOLOGY\",\"ZOOLOGY\",\"NEUROSCIENCE\",\"BIOCHEMICAL SCIENCES\",\"GENETICS\"],\"xaxis\":\"x\",\"y\":[38068,17793,22488,5032,66240,13071,898342,50450,32729,7571,80607,12551,109944,10450],\"yaxis\":\"y\",\"type\":\"bar\"},{\"alignmentgroup\":\"True\",\"hovertemplate\":\"Major_category=Education<br>Major=%{x}<br>Grad_employed=%{y}<extra></extra>\",\"legendgroup\":\"Education\",\"marker\":{\"color\":\"#000006\",\"pattern\":{\"shape\":\"\"}},\"name\":\"Education\",\"offsetgroup\":\"Education\",\"orientation\":\"v\",\"showlegend\":true,\"textposition\":\"auto\",\"x\":[\"EARLY CHILDHOOD EDUCATION\",\"PHYSICAL AND HEALTH EDUCATION TEACHING\",\"MISCELLANEOUS EDUCATION\",\"ELEMENTARY EDUCATION\",\"GENERAL EDUCATION\",\"ART AND MUSIC EDUCATION\",\"TEACHER EDUCATION: MULTIPLE LEVELS\",\"SOCIAL SCIENCE OR HISTORY TEACHER EDUCATION\",\"SECONDARY TEACHER EDUCATION\",\"LANGUAGE AND DRAMA EDUCATION\",\"MATHEMATICS TEACHER EDUCATION\",\"SCIENCE AND COMPUTER TEACHER EDUCATION\",\"SPECIAL NEEDS EDUCATION\",\"LIBRARY SCIENCE\",\"SCHOOL STUDENT COUNSELING\",\"EDUCATIONAL ADMINISTRATION AND SUPERVISION\"],\"xaxis\":\"x\",\"y\":[63027,131845,86566,668185,698049,123145,46866,68997,128469,122260,51750,42043,144858,15651,11313,34142],\"yaxis\":\"y\",\"type\":\"bar\"}],                        {\"template\":{\"data\":{\"candlestick\":[{\"decreasing\":{\"line\":{\"color\":\"#000033\"}},\"increasing\":{\"line\":{\"color\":\"#000032\"}},\"type\":\"candlestick\"}],\"contourcarpet\":[{\"colorscale\":[[0.0,\"#000011\"],[0.1111111111111111,\"#000012\"],[0.2222222222222222,\"#000013\"],[0.3333333333333333,\"#000014\"],[0.4444444444444444,\"#000015\"],[0.5555555555555556,\"#000016\"],[0.6666666666666666,\"#000017\"],[0.7777777777777778,\"#000018\"],[0.8888888888888888,\"#000019\"],[1.0,\"#000020\"]],\"type\":\"contourcarpet\"}],\"contour\":[{\"colorscale\":[[0.0,\"#000011\"],[0.1111111111111111,\"#000012\"],[0.2222222222222222,\"#000013\"],[0.3333333333333333,\"#000014\"],[0.4444444444444444,\"#000015\"],[0.5555555555555556,\"#000016\"],[0.6666666666666666,\"#000017\"],[0.7777777777777778,\"#000018\"],[0.8888888888888888,\"#000019\"],[1.0,\"#000020\"]],\"type\":\"contour\"}],\"heatmap\":[{\"colorscale\":[[0.0,\"#000011\"],[0.1111111111111111,\"#000012\"],[0.2222222222222222,\"#000013\"],[0.3333333333333333,\"#000014\"],[0.4444444444444444,\"#000015\"],[0.5555555555555556,\"#000016\"],[0.6666666666666666,\"#000017\"],[0.7777777777777778,\"#000018\"],[0.8888888888888888,\"#000019\"],[1.0,\"#000020\"]],\"type\":\"heatmap\"}],\"histogram2d\":[{\"colorscale\":[[0.0,\"#000011\"],[0.1111111111111111,\"#000012\"],[0.2222222222222222,\"#000013\"],[0.3333333333333333,\"#000014\"],[0.4444444444444444,\"#000015\"],[0.5555555555555556,\"#000016\"],[0.6666666666666666,\"#000017\"],[0.7777777777777778,\"#000018\"],[0.8888888888888888,\"#000019\"],[1.0,\"#000020\"]],\"type\":\"histogram2d\"}],\"icicle\":[{\"textfont\":{\"color\":\"white\"},\"type\":\"icicle\"}],\"sankey\":[{\"textfont\":{\"color\":\"#000036\"},\"type\":\"sankey\"}],\"scatter\":[{\"marker\":{\"line\":{\"width\":0}},\"type\":\"scatter\"}],\"table\":[{\"cells\":{\"fill\":{\"color\":\"#000038\"},\"font\":{\"color\":\"#000037\"},\"line\":{\"color\":\"#000039\"}},\"header\":{\"fill\":{\"color\":\"#000040\"},\"font\":{\"color\":\"#000036\"},\"line\":{\"color\":\"#000039\"}},\"type\":\"table\"}],\"waterfall\":[{\"connector\":{\"line\":{\"color\":\"#000036\",\"width\":2}},\"decreasing\":{\"marker\":{\"color\":\"#000033\"}},\"increasing\":{\"marker\":{\"color\":\"#000032\"}},\"totals\":{\"marker\":{\"color\":\"#000034\"}},\"type\":\"waterfall\"}]},\"layout\":{\"coloraxis\":{\"colorscale\":[[0.0,\"#000011\"],[0.1111111111111111,\"#000012\"],[0.2222222222222222,\"#000013\"],[0.3333333333333333,\"#000014\"],[0.4444444444444444,\"#000015\"],[0.5555555555555556,\"#000016\"],[0.6666666666666666,\"#000017\"],[0.7777777777777778,\"#000018\"],[0.8888888888888888,\"#000019\"],[1.0,\"#000020\"]]},\"colorscale\":{\"diverging\":[[0.0,\"#000021\"],[0.1,\"#000022\"],[0.2,\"#000023\"],[0.3,\"#000024\"],[0.4,\"#000025\"],[0.5,\"#000026\"],[0.6,\"#000027\"],[0.7,\"#000028\"],[0.8,\"#000029\"],[0.9,\"#000030\"],[1.0,\"#000031\"]],\"sequential\":[[0.0,\"#000011\"],[0.1111111111111111,\"#000012\"],[0.2222222222222222,\"#000013\"],[0.3333333333333333,\"#000014\"],[0.4444444444444444,\"#000015\"],[0.5555555555555556,\"#000016\"],[0.6666666666666666,\"#000017\"],[0.7777777777777778,\"#000018\"],[0.8888888888888888,\"#000019\"],[1.0,\"#000020\"]],\"sequentialminus\":[[0.0,\"#000011\"],[0.1111111111111111,\"#000012\"],[0.2222222222222222,\"#000013\"],[0.3333333333333333,\"#000014\"],[0.4444444444444444,\"#000015\"],[0.5555555555555556,\"#000016\"],[0.6666666666666666,\"#000017\"],[0.7777777777777778,\"#000018\"],[0.8888888888888888,\"#000019\"],[1.0,\"#000020\"]]},\"colorway\":[\"#000001\",\"#000002\",\"#000003\",\"#000004\",\"#000005\",\"#000006\",\"#000007\",\"#000008\",\"#000009\",\"#000010\"]}},\"xaxis\":{\"anchor\":\"y\",\"domain\":[0.0,1.0],\"title\":{\"text\":\"Major\"}},\"yaxis\":{\"anchor\":\"x\",\"domain\":[0.0,1.0],\"title\":{\"text\":\"Grad_employed\"}},\"legend\":{\"title\":{\"text\":\"Major_category\"},\"tracegroupgap\":0},\"title\":{\"text\":\"Long-Form Input\"},\"barmode\":\"relative\"},                        {\"responsive\": true}                    ).then(function(){\n",
       "                            \n",
       "var gd = document.getElementById('b98cb42b-1a03-4d21-96ba-c37c92c93ecb');\n",
       "var x = new MutationObserver(function (mutations, observer) {{\n",
       "        var display = window.getComputedStyle(gd).display;\n",
       "        if (!display || display === 'none') {{\n",
       "            console.log([gd, 'removed!']);\n",
       "            Plotly.purge(gd);\n",
       "            observer.disconnect();\n",
       "        }}\n",
       "}});\n",
       "\n",
       "// Listen for the removal of the full notebook cells\n",
       "var notebookContainer = gd.closest('#notebook-container');\n",
       "if (notebookContainer) {{\n",
       "    x.observe(notebookContainer, {childList: true});\n",
       "}}\n",
       "\n",
       "// Listen for the clearing of the current output cell\n",
       "var outputEl = gd.closest('.output');\n",
       "if (outputEl) {{\n",
       "    x.observe(outputEl, {childList: true});\n",
       "}}\n",
       "\n",
       "                        })                };                });            </script>        </div>"
      ]
     },
     "metadata": {},
     "output_type": "display_data"
    }
   ],
   "source": [
    "import plotly.express as px\n",
    "\n",
    "long_df = px.data.medals_long()\n",
    "\n",
    "fig = px.bar(df_grad, x=\"Major\", y=\"Grad_employed\", color=\"Major_category\", title=\"Long-Form Input\")\n",
    "fig.show()"
   ]
  },
  {
   "cell_type": "code",
   "execution_count": 132,
   "id": "08ab05dd",
   "metadata": {},
   "outputs": [],
   "source": [
    "df_grad = df_grad.drop(['Grad_sample_size','Grad_median','Grad_P25','Grad_P75','Nongrad_unemployment_rate','Nongrad_median','Nongrad_P25','Nongrad_P75','Nongrad_full_time_year_round','Grad_unemployment_rate','Grad_full_time_year_round','Major_code'],axis= 1)"
   ]
  },
  {
   "cell_type": "code",
   "execution_count": 92,
   "id": "cfbc66a4",
   "metadata": {},
   "outputs": [],
   "source": [
    "df1 = df.iloc[[1,2] , :]"
   ]
  },
  {
   "cell_type": "code",
   "execution_count": 93,
   "id": "5bb4f6c9",
   "metadata": {},
   "outputs": [
    {
     "data": {
      "text/html": [
       "<div>\n",
       "<style scoped>\n",
       "    .dataframe tbody tr th:only-of-type {\n",
       "        vertical-align: middle;\n",
       "    }\n",
       "\n",
       "    .dataframe tbody tr th {\n",
       "        vertical-align: top;\n",
       "    }\n",
       "\n",
       "    .dataframe thead th {\n",
       "        text-align: right;\n",
       "    }\n",
       "</style>\n",
       "<table border=\"1\" class=\"dataframe\">\n",
       "  <thead>\n",
       "    <tr style=\"text-align: right;\">\n",
       "      <th></th>\n",
       "      <th>Major_code</th>\n",
       "      <th>Major</th>\n",
       "      <th>Major_category</th>\n",
       "      <th>Total</th>\n",
       "      <th>Employed</th>\n",
       "      <th>Employed_full_time_year_round</th>\n",
       "      <th>Unemployed</th>\n",
       "      <th>Unemployment_rate</th>\n",
       "      <th>Median</th>\n",
       "      <th>P25th</th>\n",
       "      <th>P75th</th>\n",
       "    </tr>\n",
       "    <tr>\n",
       "      <th>index</th>\n",
       "      <th></th>\n",
       "      <th></th>\n",
       "      <th></th>\n",
       "      <th></th>\n",
       "      <th></th>\n",
       "      <th></th>\n",
       "      <th></th>\n",
       "      <th></th>\n",
       "      <th></th>\n",
       "      <th></th>\n",
       "      <th></th>\n",
       "    </tr>\n",
       "  </thead>\n",
       "  <tbody>\n",
       "    <tr>\n",
       "      <th>18</th>\n",
       "      <td>2100</td>\n",
       "      <td>COMPUTER AND INFORMATION SYSTEMS</td>\n",
       "      <td>Computers &amp; Mathematics</td>\n",
       "      <td>253782</td>\n",
       "      <td>218248</td>\n",
       "      <td>189950</td>\n",
       "      <td>11945</td>\n",
       "      <td>0.051891</td>\n",
       "      <td>65000</td>\n",
       "      <td>45000</td>\n",
       "      <td>90000.0</td>\n",
       "    </tr>\n",
       "    <tr>\n",
       "      <th>19</th>\n",
       "      <td>2101</td>\n",
       "      <td>COMPUTER PROGRAMMING AND DATA PROCESSING</td>\n",
       "      <td>Computers &amp; Mathematics</td>\n",
       "      <td>29317</td>\n",
       "      <td>22828</td>\n",
       "      <td>18747</td>\n",
       "      <td>2265</td>\n",
       "      <td>0.090264</td>\n",
       "      <td>60000</td>\n",
       "      <td>40000</td>\n",
       "      <td>85000.0</td>\n",
       "    </tr>\n",
       "  </tbody>\n",
       "</table>\n",
       "</div>"
      ],
      "text/plain": [
       "       Major_code                                     Major  \\\n",
       "index                                                         \n",
       "18           2100          COMPUTER AND INFORMATION SYSTEMS   \n",
       "19           2101  COMPUTER PROGRAMMING AND DATA PROCESSING   \n",
       "\n",
       "                Major_category   Total  Employed  \\\n",
       "index                                              \n",
       "18     Computers & Mathematics  253782    218248   \n",
       "19     Computers & Mathematics   29317     22828   \n",
       "\n",
       "       Employed_full_time_year_round  Unemployed  Unemployment_rate  Median  \\\n",
       "index                                                                         \n",
       "18                            189950       11945           0.051891   65000   \n",
       "19                             18747        2265           0.090264   60000   \n",
       "\n",
       "       P25th    P75th  \n",
       "index                  \n",
       "18     45000  90000.0  \n",
       "19     40000  85000.0  "
      ]
     },
     "execution_count": 93,
     "metadata": {},
     "output_type": "execute_result"
    }
   ],
   "source": [
    "df1"
   ]
  },
  {
   "cell_type": "code",
   "execution_count": 104,
   "id": "4af1ac75",
   "metadata": {},
   "outputs": [
    {
     "data": {
      "application/vnd.plotly.v1+json": {
       "config": {
        "plotlyServerURL": "https://plot.ly"
       },
       "data": [
        {
         "alignmentgroup": "True",
         "hovertemplate": "Major=%{x}<br>Unemployed=%{y}<extra></extra>",
         "legendgroup": "COMPUTER AND INFORMATION SYSTEMS",
         "marker": {
          "color": "#000001",
          "pattern": {
           "shape": ""
          }
         },
         "name": "COMPUTER AND INFORMATION SYSTEMS",
         "offsetgroup": "COMPUTER AND INFORMATION SYSTEMS",
         "orientation": "v",
         "showlegend": true,
         "textposition": "auto",
         "type": "bar",
         "x": [
          "COMPUTER AND INFORMATION SYSTEMS"
         ],
         "xaxis": "x",
         "y": [
          11945
         ],
         "yaxis": "y"
        },
        {
         "alignmentgroup": "True",
         "hovertemplate": "Major=%{x}<br>Unemployed=%{y}<extra></extra>",
         "legendgroup": "COMPUTER PROGRAMMING AND DATA PROCESSING",
         "marker": {
          "color": "#000002",
          "pattern": {
           "shape": ""
          }
         },
         "name": "COMPUTER PROGRAMMING AND DATA PROCESSING",
         "offsetgroup": "COMPUTER PROGRAMMING AND DATA PROCESSING",
         "orientation": "v",
         "showlegend": true,
         "textposition": "auto",
         "type": "bar",
         "x": [
          "COMPUTER PROGRAMMING AND DATA PROCESSING"
         ],
         "xaxis": "x",
         "y": [
          2265
         ],
         "yaxis": "y"
        }
       ],
       "layout": {
        "barmode": "group",
        "legend": {
         "title": {
          "text": "Major"
         },
         "tracegroupgap": 0
        },
        "margin": {
         "t": 60
        },
        "template": {
         "data": {
          "candlestick": [
           {
            "decreasing": {
             "line": {
              "color": "#000033"
             }
            },
            "increasing": {
             "line": {
              "color": "#000032"
             }
            },
            "type": "candlestick"
           }
          ],
          "contour": [
           {
            "colorscale": [
             [
              0,
              "#000011"
             ],
             [
              0.1111111111111111,
              "#000012"
             ],
             [
              0.2222222222222222,
              "#000013"
             ],
             [
              0.3333333333333333,
              "#000014"
             ],
             [
              0.4444444444444444,
              "#000015"
             ],
             [
              0.5555555555555556,
              "#000016"
             ],
             [
              0.6666666666666666,
              "#000017"
             ],
             [
              0.7777777777777778,
              "#000018"
             ],
             [
              0.8888888888888888,
              "#000019"
             ],
             [
              1,
              "#000020"
             ]
            ],
            "type": "contour"
           }
          ],
          "contourcarpet": [
           {
            "colorscale": [
             [
              0,
              "#000011"
             ],
             [
              0.1111111111111111,
              "#000012"
             ],
             [
              0.2222222222222222,
              "#000013"
             ],
             [
              0.3333333333333333,
              "#000014"
             ],
             [
              0.4444444444444444,
              "#000015"
             ],
             [
              0.5555555555555556,
              "#000016"
             ],
             [
              0.6666666666666666,
              "#000017"
             ],
             [
              0.7777777777777778,
              "#000018"
             ],
             [
              0.8888888888888888,
              "#000019"
             ],
             [
              1,
              "#000020"
             ]
            ],
            "type": "contourcarpet"
           }
          ],
          "heatmap": [
           {
            "colorscale": [
             [
              0,
              "#000011"
             ],
             [
              0.1111111111111111,
              "#000012"
             ],
             [
              0.2222222222222222,
              "#000013"
             ],
             [
              0.3333333333333333,
              "#000014"
             ],
             [
              0.4444444444444444,
              "#000015"
             ],
             [
              0.5555555555555556,
              "#000016"
             ],
             [
              0.6666666666666666,
              "#000017"
             ],
             [
              0.7777777777777778,
              "#000018"
             ],
             [
              0.8888888888888888,
              "#000019"
             ],
             [
              1,
              "#000020"
             ]
            ],
            "type": "heatmap"
           }
          ],
          "histogram2d": [
           {
            "colorscale": [
             [
              0,
              "#000011"
             ],
             [
              0.1111111111111111,
              "#000012"
             ],
             [
              0.2222222222222222,
              "#000013"
             ],
             [
              0.3333333333333333,
              "#000014"
             ],
             [
              0.4444444444444444,
              "#000015"
             ],
             [
              0.5555555555555556,
              "#000016"
             ],
             [
              0.6666666666666666,
              "#000017"
             ],
             [
              0.7777777777777778,
              "#000018"
             ],
             [
              0.8888888888888888,
              "#000019"
             ],
             [
              1,
              "#000020"
             ]
            ],
            "type": "histogram2d"
           }
          ],
          "icicle": [
           {
            "textfont": {
             "color": "white"
            },
            "type": "icicle"
           }
          ],
          "sankey": [
           {
            "textfont": {
             "color": "#000036"
            },
            "type": "sankey"
           }
          ],
          "scatter": [
           {
            "marker": {
             "line": {
              "width": 0
             }
            },
            "type": "scatter"
           }
          ],
          "table": [
           {
            "cells": {
             "fill": {
              "color": "#000038"
             },
             "font": {
              "color": "#000037"
             },
             "line": {
              "color": "#000039"
             }
            },
            "header": {
             "fill": {
              "color": "#000040"
             },
             "font": {
              "color": "#000036"
             },
             "line": {
              "color": "#000039"
             }
            },
            "type": "table"
           }
          ],
          "waterfall": [
           {
            "connector": {
             "line": {
              "color": "#000036",
              "width": 2
             }
            },
            "decreasing": {
             "marker": {
              "color": "#000033"
             }
            },
            "increasing": {
             "marker": {
              "color": "#000032"
             }
            },
            "totals": {
             "marker": {
              "color": "#000034"
             }
            },
            "type": "waterfall"
           }
          ]
         },
         "layout": {
          "coloraxis": {
           "colorscale": [
            [
             0,
             "#000011"
            ],
            [
             0.1111111111111111,
             "#000012"
            ],
            [
             0.2222222222222222,
             "#000013"
            ],
            [
             0.3333333333333333,
             "#000014"
            ],
            [
             0.4444444444444444,
             "#000015"
            ],
            [
             0.5555555555555556,
             "#000016"
            ],
            [
             0.6666666666666666,
             "#000017"
            ],
            [
             0.7777777777777778,
             "#000018"
            ],
            [
             0.8888888888888888,
             "#000019"
            ],
            [
             1,
             "#000020"
            ]
           ]
          },
          "colorscale": {
           "diverging": [
            [
             0,
             "#000021"
            ],
            [
             0.1,
             "#000022"
            ],
            [
             0.2,
             "#000023"
            ],
            [
             0.3,
             "#000024"
            ],
            [
             0.4,
             "#000025"
            ],
            [
             0.5,
             "#000026"
            ],
            [
             0.6,
             "#000027"
            ],
            [
             0.7,
             "#000028"
            ],
            [
             0.8,
             "#000029"
            ],
            [
             0.9,
             "#000030"
            ],
            [
             1,
             "#000031"
            ]
           ],
           "sequential": [
            [
             0,
             "#000011"
            ],
            [
             0.1111111111111111,
             "#000012"
            ],
            [
             0.2222222222222222,
             "#000013"
            ],
            [
             0.3333333333333333,
             "#000014"
            ],
            [
             0.4444444444444444,
             "#000015"
            ],
            [
             0.5555555555555556,
             "#000016"
            ],
            [
             0.6666666666666666,
             "#000017"
            ],
            [
             0.7777777777777778,
             "#000018"
            ],
            [
             0.8888888888888888,
             "#000019"
            ],
            [
             1,
             "#000020"
            ]
           ],
           "sequentialminus": [
            [
             0,
             "#000011"
            ],
            [
             0.1111111111111111,
             "#000012"
            ],
            [
             0.2222222222222222,
             "#000013"
            ],
            [
             0.3333333333333333,
             "#000014"
            ],
            [
             0.4444444444444444,
             "#000015"
            ],
            [
             0.5555555555555556,
             "#000016"
            ],
            [
             0.6666666666666666,
             "#000017"
            ],
            [
             0.7777777777777778,
             "#000018"
            ],
            [
             0.8888888888888888,
             "#000019"
            ],
            [
             1,
             "#000020"
            ]
           ]
          },
          "colorway": [
           "#000001",
           "#000002",
           "#000003",
           "#000004",
           "#000005",
           "#000006",
           "#000007",
           "#000008",
           "#000009",
           "#000010"
          ]
         }
        },
        "xaxis": {
         "anchor": "y",
         "categoryarray": [
          "COMPUTER AND INFORMATION SYSTEMS",
          "COMPUTER PROGRAMMING AND DATA PROCESSING"
         ],
         "categoryorder": "array",
         "domain": [
          0,
          1
         ],
         "title": {
          "text": "Major"
         }
        },
        "yaxis": {
         "anchor": "x",
         "domain": [
          0,
          1
         ],
         "title": {
          "text": "Unemployed"
         }
        }
       }
      },
      "text/html": [
       "<div>                            <div id=\"e2d3f899-6d6b-4fad-a129-8fc8cd4d6446\" class=\"plotly-graph-div\" style=\"height:525px; width:100%;\"></div>            <script type=\"text/javascript\">                require([\"plotly\"], function(Plotly) {                    window.PLOTLYENV=window.PLOTLYENV || {};                                    if (document.getElementById(\"e2d3f899-6d6b-4fad-a129-8fc8cd4d6446\")) {                    Plotly.newPlot(                        \"e2d3f899-6d6b-4fad-a129-8fc8cd4d6446\",                        [{\"alignmentgroup\":\"True\",\"hovertemplate\":\"Major=%{x}<br>Unemployed=%{y}<extra></extra>\",\"legendgroup\":\"COMPUTER AND INFORMATION SYSTEMS\",\"marker\":{\"color\":\"#000001\",\"pattern\":{\"shape\":\"\"}},\"name\":\"COMPUTER AND INFORMATION SYSTEMS\",\"offsetgroup\":\"COMPUTER AND INFORMATION SYSTEMS\",\"orientation\":\"v\",\"showlegend\":true,\"textposition\":\"auto\",\"x\":[\"COMPUTER AND INFORMATION SYSTEMS\"],\"xaxis\":\"x\",\"y\":[11945],\"yaxis\":\"y\",\"type\":\"bar\"},{\"alignmentgroup\":\"True\",\"hovertemplate\":\"Major=%{x}<br>Unemployed=%{y}<extra></extra>\",\"legendgroup\":\"COMPUTER PROGRAMMING AND DATA PROCESSING\",\"marker\":{\"color\":\"#000002\",\"pattern\":{\"shape\":\"\"}},\"name\":\"COMPUTER PROGRAMMING AND DATA PROCESSING\",\"offsetgroup\":\"COMPUTER PROGRAMMING AND DATA PROCESSING\",\"orientation\":\"v\",\"showlegend\":true,\"textposition\":\"auto\",\"x\":[\"COMPUTER PROGRAMMING AND DATA PROCESSING\"],\"xaxis\":\"x\",\"y\":[2265],\"yaxis\":\"y\",\"type\":\"bar\"}],                        {\"template\":{\"data\":{\"candlestick\":[{\"decreasing\":{\"line\":{\"color\":\"#000033\"}},\"increasing\":{\"line\":{\"color\":\"#000032\"}},\"type\":\"candlestick\"}],\"contourcarpet\":[{\"colorscale\":[[0.0,\"#000011\"],[0.1111111111111111,\"#000012\"],[0.2222222222222222,\"#000013\"],[0.3333333333333333,\"#000014\"],[0.4444444444444444,\"#000015\"],[0.5555555555555556,\"#000016\"],[0.6666666666666666,\"#000017\"],[0.7777777777777778,\"#000018\"],[0.8888888888888888,\"#000019\"],[1.0,\"#000020\"]],\"type\":\"contourcarpet\"}],\"contour\":[{\"colorscale\":[[0.0,\"#000011\"],[0.1111111111111111,\"#000012\"],[0.2222222222222222,\"#000013\"],[0.3333333333333333,\"#000014\"],[0.4444444444444444,\"#000015\"],[0.5555555555555556,\"#000016\"],[0.6666666666666666,\"#000017\"],[0.7777777777777778,\"#000018\"],[0.8888888888888888,\"#000019\"],[1.0,\"#000020\"]],\"type\":\"contour\"}],\"heatmap\":[{\"colorscale\":[[0.0,\"#000011\"],[0.1111111111111111,\"#000012\"],[0.2222222222222222,\"#000013\"],[0.3333333333333333,\"#000014\"],[0.4444444444444444,\"#000015\"],[0.5555555555555556,\"#000016\"],[0.6666666666666666,\"#000017\"],[0.7777777777777778,\"#000018\"],[0.8888888888888888,\"#000019\"],[1.0,\"#000020\"]],\"type\":\"heatmap\"}],\"histogram2d\":[{\"colorscale\":[[0.0,\"#000011\"],[0.1111111111111111,\"#000012\"],[0.2222222222222222,\"#000013\"],[0.3333333333333333,\"#000014\"],[0.4444444444444444,\"#000015\"],[0.5555555555555556,\"#000016\"],[0.6666666666666666,\"#000017\"],[0.7777777777777778,\"#000018\"],[0.8888888888888888,\"#000019\"],[1.0,\"#000020\"]],\"type\":\"histogram2d\"}],\"icicle\":[{\"textfont\":{\"color\":\"white\"},\"type\":\"icicle\"}],\"sankey\":[{\"textfont\":{\"color\":\"#000036\"},\"type\":\"sankey\"}],\"scatter\":[{\"marker\":{\"line\":{\"width\":0}},\"type\":\"scatter\"}],\"table\":[{\"cells\":{\"fill\":{\"color\":\"#000038\"},\"font\":{\"color\":\"#000037\"},\"line\":{\"color\":\"#000039\"}},\"header\":{\"fill\":{\"color\":\"#000040\"},\"font\":{\"color\":\"#000036\"},\"line\":{\"color\":\"#000039\"}},\"type\":\"table\"}],\"waterfall\":[{\"connector\":{\"line\":{\"color\":\"#000036\",\"width\":2}},\"decreasing\":{\"marker\":{\"color\":\"#000033\"}},\"increasing\":{\"marker\":{\"color\":\"#000032\"}},\"totals\":{\"marker\":{\"color\":\"#000034\"}},\"type\":\"waterfall\"}]},\"layout\":{\"coloraxis\":{\"colorscale\":[[0.0,\"#000011\"],[0.1111111111111111,\"#000012\"],[0.2222222222222222,\"#000013\"],[0.3333333333333333,\"#000014\"],[0.4444444444444444,\"#000015\"],[0.5555555555555556,\"#000016\"],[0.6666666666666666,\"#000017\"],[0.7777777777777778,\"#000018\"],[0.8888888888888888,\"#000019\"],[1.0,\"#000020\"]]},\"colorscale\":{\"diverging\":[[0.0,\"#000021\"],[0.1,\"#000022\"],[0.2,\"#000023\"],[0.3,\"#000024\"],[0.4,\"#000025\"],[0.5,\"#000026\"],[0.6,\"#000027\"],[0.7,\"#000028\"],[0.8,\"#000029\"],[0.9,\"#000030\"],[1.0,\"#000031\"]],\"sequential\":[[0.0,\"#000011\"],[0.1111111111111111,\"#000012\"],[0.2222222222222222,\"#000013\"],[0.3333333333333333,\"#000014\"],[0.4444444444444444,\"#000015\"],[0.5555555555555556,\"#000016\"],[0.6666666666666666,\"#000017\"],[0.7777777777777778,\"#000018\"],[0.8888888888888888,\"#000019\"],[1.0,\"#000020\"]],\"sequentialminus\":[[0.0,\"#000011\"],[0.1111111111111111,\"#000012\"],[0.2222222222222222,\"#000013\"],[0.3333333333333333,\"#000014\"],[0.4444444444444444,\"#000015\"],[0.5555555555555556,\"#000016\"],[0.6666666666666666,\"#000017\"],[0.7777777777777778,\"#000018\"],[0.8888888888888888,\"#000019\"],[1.0,\"#000020\"]]},\"colorway\":[\"#000001\",\"#000002\",\"#000003\",\"#000004\",\"#000005\",\"#000006\",\"#000007\",\"#000008\",\"#000009\",\"#000010\"]}},\"xaxis\":{\"anchor\":\"y\",\"domain\":[0.0,1.0],\"title\":{\"text\":\"Major\"},\"categoryorder\":\"array\",\"categoryarray\":[\"COMPUTER AND INFORMATION SYSTEMS\",\"COMPUTER PROGRAMMING AND DATA PROCESSING\"]},\"yaxis\":{\"anchor\":\"x\",\"domain\":[0.0,1.0],\"title\":{\"text\":\"Unemployed\"}},\"legend\":{\"title\":{\"text\":\"Major\"},\"tracegroupgap\":0},\"margin\":{\"t\":60},\"barmode\":\"group\"},                        {\"responsive\": true}                    ).then(function(){\n",
       "                            \n",
       "var gd = document.getElementById('e2d3f899-6d6b-4fad-a129-8fc8cd4d6446');\n",
       "var x = new MutationObserver(function (mutations, observer) {{\n",
       "        var display = window.getComputedStyle(gd).display;\n",
       "        if (!display || display === 'none') {{\n",
       "            console.log([gd, 'removed!']);\n",
       "            Plotly.purge(gd);\n",
       "            observer.disconnect();\n",
       "        }}\n",
       "}});\n",
       "\n",
       "// Listen for the removal of the full notebook cells\n",
       "var notebookContainer = gd.closest('#notebook-container');\n",
       "if (notebookContainer) {{\n",
       "    x.observe(notebookContainer, {childList: true});\n",
       "}}\n",
       "\n",
       "// Listen for the clearing of the current output cell\n",
       "var outputEl = gd.closest('.output');\n",
       "if (outputEl) {{\n",
       "    x.observe(outputEl, {childList: true});\n",
       "}}\n",
       "\n",
       "                        })                };                });            </script>        </div>"
      ]
     },
     "metadata": {},
     "output_type": "display_data"
    }
   ],
   "source": [
    "\n",
    "fig = px.bar(df1, x=\"Major\", y=\"Unemployed\", color=\"Major\", barmode=\"group\",\n",
    "             \n",
    "             )\n",
    "fig.show()"
   ]
  },
  {
   "cell_type": "code",
   "execution_count": null,
   "id": "c7abd9be",
   "metadata": {},
   "outputs": [],
   "source": [
    "df.loc[[''] ,: ]"
   ]
  },
  {
   "cell_type": "code",
   "execution_count": null,
   "id": "d2ba79fb",
   "metadata": {},
   "outputs": [],
   "source": [
    "fig = px.bar(df2, x=\"Major\", y=column, color=\"Major\", barmode=\"group\")\n",
    "    st.plotly_chart(fig)"
   ]
  },
  {
   "cell_type": "code",
   "execution_count": 105,
   "id": "8e27818b",
   "metadata": {},
   "outputs": [],
   "source": [
    "major = df['Major'][ 1 : 5]\n",
    "X = []\n",
    "for data in major :\n",
    "    index_data = df.loc[df['Major'] == data , : ].index\n",
    "    X.append(index_data)"
   ]
  },
  {
   "cell_type": "code",
   "execution_count": 106,
   "id": "e03528dd",
   "metadata": {},
   "outputs": [
    {
     "data": {
      "text/plain": [
       "index\n",
       "18            COMPUTER AND INFORMATION SYSTEMS\n",
       "19    COMPUTER PROGRAMMING AND DATA PROCESSING\n",
       "20                            COMPUTER SCIENCE\n",
       "21                        INFORMATION SCIENCES\n",
       "Name: Major, dtype: object"
      ]
     },
     "execution_count": 106,
     "metadata": {},
     "output_type": "execute_result"
    }
   ],
   "source": [
    "major"
   ]
  },
  {
   "cell_type": "code",
   "execution_count": 107,
   "id": "2dbfd619",
   "metadata": {},
   "outputs": [
    {
     "data": {
      "text/plain": [
       "Int64Index([18], dtype='int64', name='index')"
      ]
     },
     "execution_count": 107,
     "metadata": {},
     "output_type": "execute_result"
    }
   ],
   "source": [
    "df.loc[df['Major'] == 'COMPUTER AND INFORMATION SYSTEMS' , : ].index"
   ]
  },
  {
   "cell_type": "code",
   "execution_count": 108,
   "id": "f03783fb",
   "metadata": {
    "scrolled": true
   },
   "outputs": [
    {
     "data": {
      "text/plain": [
       "[Int64Index([18], dtype='int64', name='index'),\n",
       " Int64Index([19], dtype='int64', name='index'),\n",
       " Int64Index([20], dtype='int64', name='index'),\n",
       " Int64Index([21], dtype='int64', name='index')]"
      ]
     },
     "execution_count": 108,
     "metadata": {},
     "output_type": "execute_result"
    }
   ],
   "source": [
    "X"
   ]
  },
  {
   "cell_type": "code",
   "execution_count": 117,
   "id": "9d8eb573",
   "metadata": {
    "scrolled": true
   },
   "outputs": [
    {
     "data": {
      "text/html": [
       "<div>\n",
       "<style scoped>\n",
       "    .dataframe tbody tr th:only-of-type {\n",
       "        vertical-align: middle;\n",
       "    }\n",
       "\n",
       "    .dataframe tbody tr th {\n",
       "        vertical-align: top;\n",
       "    }\n",
       "\n",
       "    .dataframe thead th {\n",
       "        text-align: right;\n",
       "    }\n",
       "</style>\n",
       "<table border=\"1\" class=\"dataframe\">\n",
       "  <thead>\n",
       "    <tr style=\"text-align: right;\">\n",
       "      <th></th>\n",
       "      <th>country</th>\n",
       "      <th>continent</th>\n",
       "      <th>year</th>\n",
       "      <th>lifeExp</th>\n",
       "      <th>pop</th>\n",
       "      <th>gdpPercap</th>\n",
       "      <th>iso_alpha</th>\n",
       "      <th>iso_num</th>\n",
       "    </tr>\n",
       "  </thead>\n",
       "  <tbody>\n",
       "    <tr>\n",
       "      <th>23</th>\n",
       "      <td>Albania</td>\n",
       "      <td>Europe</td>\n",
       "      <td>2007</td>\n",
       "      <td>76.423</td>\n",
       "      <td>3600523</td>\n",
       "      <td>5937.029526</td>\n",
       "      <td>ALB</td>\n",
       "      <td>8</td>\n",
       "    </tr>\n",
       "    <tr>\n",
       "      <th>83</th>\n",
       "      <td>Austria</td>\n",
       "      <td>Europe</td>\n",
       "      <td>2007</td>\n",
       "      <td>79.829</td>\n",
       "      <td>8199783</td>\n",
       "      <td>36126.492700</td>\n",
       "      <td>AUT</td>\n",
       "      <td>40</td>\n",
       "    </tr>\n",
       "    <tr>\n",
       "      <th>119</th>\n",
       "      <td>Belgium</td>\n",
       "      <td>Europe</td>\n",
       "      <td>2007</td>\n",
       "      <td>79.441</td>\n",
       "      <td>10392226</td>\n",
       "      <td>33692.605080</td>\n",
       "      <td>BEL</td>\n",
       "      <td>56</td>\n",
       "    </tr>\n",
       "    <tr>\n",
       "      <th>155</th>\n",
       "      <td>Bosnia and Herzegovina</td>\n",
       "      <td>Europe</td>\n",
       "      <td>2007</td>\n",
       "      <td>74.852</td>\n",
       "      <td>4552198</td>\n",
       "      <td>7446.298803</td>\n",
       "      <td>BIH</td>\n",
       "      <td>70</td>\n",
       "    </tr>\n",
       "    <tr>\n",
       "      <th>191</th>\n",
       "      <td>Bulgaria</td>\n",
       "      <td>Europe</td>\n",
       "      <td>2007</td>\n",
       "      <td>73.005</td>\n",
       "      <td>7322858</td>\n",
       "      <td>10680.792820</td>\n",
       "      <td>BGR</td>\n",
       "      <td>100</td>\n",
       "    </tr>\n",
       "    <tr>\n",
       "      <th>383</th>\n",
       "      <td>Croatia</td>\n",
       "      <td>Europe</td>\n",
       "      <td>2007</td>\n",
       "      <td>75.748</td>\n",
       "      <td>4493312</td>\n",
       "      <td>14619.222720</td>\n",
       "      <td>HRV</td>\n",
       "      <td>191</td>\n",
       "    </tr>\n",
       "    <tr>\n",
       "      <th>407</th>\n",
       "      <td>Czech Republic</td>\n",
       "      <td>Europe</td>\n",
       "      <td>2007</td>\n",
       "      <td>76.486</td>\n",
       "      <td>10228744</td>\n",
       "      <td>22833.308510</td>\n",
       "      <td>CZE</td>\n",
       "      <td>203</td>\n",
       "    </tr>\n",
       "    <tr>\n",
       "      <th>419</th>\n",
       "      <td>Denmark</td>\n",
       "      <td>Europe</td>\n",
       "      <td>2007</td>\n",
       "      <td>78.332</td>\n",
       "      <td>5468120</td>\n",
       "      <td>35278.418740</td>\n",
       "      <td>DNK</td>\n",
       "      <td>208</td>\n",
       "    </tr>\n",
       "    <tr>\n",
       "      <th>527</th>\n",
       "      <td>Finland</td>\n",
       "      <td>Europe</td>\n",
       "      <td>2007</td>\n",
       "      <td>79.313</td>\n",
       "      <td>5238460</td>\n",
       "      <td>33207.084400</td>\n",
       "      <td>FIN</td>\n",
       "      <td>246</td>\n",
       "    </tr>\n",
       "    <tr>\n",
       "      <th>539</th>\n",
       "      <td>France</td>\n",
       "      <td>Europe</td>\n",
       "      <td>2007</td>\n",
       "      <td>80.657</td>\n",
       "      <td>61083916</td>\n",
       "      <td>30470.016700</td>\n",
       "      <td>FRA</td>\n",
       "      <td>250</td>\n",
       "    </tr>\n",
       "    <tr>\n",
       "      <th>575</th>\n",
       "      <td>Germany</td>\n",
       "      <td>Europe</td>\n",
       "      <td>2007</td>\n",
       "      <td>79.406</td>\n",
       "      <td>82400996</td>\n",
       "      <td>32170.374420</td>\n",
       "      <td>DEU</td>\n",
       "      <td>276</td>\n",
       "    </tr>\n",
       "    <tr>\n",
       "      <th>599</th>\n",
       "      <td>Greece</td>\n",
       "      <td>Europe</td>\n",
       "      <td>2007</td>\n",
       "      <td>79.483</td>\n",
       "      <td>10706290</td>\n",
       "      <td>27538.411880</td>\n",
       "      <td>GRC</td>\n",
       "      <td>300</td>\n",
       "    </tr>\n",
       "    <tr>\n",
       "      <th>683</th>\n",
       "      <td>Hungary</td>\n",
       "      <td>Europe</td>\n",
       "      <td>2007</td>\n",
       "      <td>73.338</td>\n",
       "      <td>9956108</td>\n",
       "      <td>18008.944440</td>\n",
       "      <td>HUN</td>\n",
       "      <td>348</td>\n",
       "    </tr>\n",
       "    <tr>\n",
       "      <th>755</th>\n",
       "      <td>Ireland</td>\n",
       "      <td>Europe</td>\n",
       "      <td>2007</td>\n",
       "      <td>78.885</td>\n",
       "      <td>4109086</td>\n",
       "      <td>40675.996350</td>\n",
       "      <td>IRL</td>\n",
       "      <td>372</td>\n",
       "    </tr>\n",
       "    <tr>\n",
       "      <th>779</th>\n",
       "      <td>Italy</td>\n",
       "      <td>Europe</td>\n",
       "      <td>2007</td>\n",
       "      <td>80.546</td>\n",
       "      <td>58147733</td>\n",
       "      <td>28569.719700</td>\n",
       "      <td>ITA</td>\n",
       "      <td>380</td>\n",
       "    </tr>\n",
       "    <tr>\n",
       "      <th>1091</th>\n",
       "      <td>Netherlands</td>\n",
       "      <td>Europe</td>\n",
       "      <td>2007</td>\n",
       "      <td>79.762</td>\n",
       "      <td>16570613</td>\n",
       "      <td>36797.933320</td>\n",
       "      <td>NLD</td>\n",
       "      <td>528</td>\n",
       "    </tr>\n",
       "    <tr>\n",
       "      <th>1151</th>\n",
       "      <td>Norway</td>\n",
       "      <td>Europe</td>\n",
       "      <td>2007</td>\n",
       "      <td>80.196</td>\n",
       "      <td>4627926</td>\n",
       "      <td>49357.190170</td>\n",
       "      <td>NOR</td>\n",
       "      <td>578</td>\n",
       "    </tr>\n",
       "    <tr>\n",
       "      <th>1235</th>\n",
       "      <td>Poland</td>\n",
       "      <td>Europe</td>\n",
       "      <td>2007</td>\n",
       "      <td>75.563</td>\n",
       "      <td>38518241</td>\n",
       "      <td>15389.924680</td>\n",
       "      <td>POL</td>\n",
       "      <td>616</td>\n",
       "    </tr>\n",
       "    <tr>\n",
       "      <th>1247</th>\n",
       "      <td>Portugal</td>\n",
       "      <td>Europe</td>\n",
       "      <td>2007</td>\n",
       "      <td>78.098</td>\n",
       "      <td>10642836</td>\n",
       "      <td>20509.647770</td>\n",
       "      <td>PRT</td>\n",
       "      <td>620</td>\n",
       "    </tr>\n",
       "    <tr>\n",
       "      <th>1283</th>\n",
       "      <td>Romania</td>\n",
       "      <td>Europe</td>\n",
       "      <td>2007</td>\n",
       "      <td>72.476</td>\n",
       "      <td>22276056</td>\n",
       "      <td>10808.475610</td>\n",
       "      <td>ROU</td>\n",
       "      <td>642</td>\n",
       "    </tr>\n",
       "    <tr>\n",
       "      <th>1343</th>\n",
       "      <td>Serbia</td>\n",
       "      <td>Europe</td>\n",
       "      <td>2007</td>\n",
       "      <td>74.002</td>\n",
       "      <td>10150265</td>\n",
       "      <td>9786.534714</td>\n",
       "      <td>SRB</td>\n",
       "      <td>688</td>\n",
       "    </tr>\n",
       "    <tr>\n",
       "      <th>1379</th>\n",
       "      <td>Slovak Republic</td>\n",
       "      <td>Europe</td>\n",
       "      <td>2007</td>\n",
       "      <td>74.663</td>\n",
       "      <td>5447502</td>\n",
       "      <td>18678.314350</td>\n",
       "      <td>SVK</td>\n",
       "      <td>703</td>\n",
       "    </tr>\n",
       "    <tr>\n",
       "      <th>1391</th>\n",
       "      <td>Slovenia</td>\n",
       "      <td>Europe</td>\n",
       "      <td>2007</td>\n",
       "      <td>77.926</td>\n",
       "      <td>2009245</td>\n",
       "      <td>25768.257590</td>\n",
       "      <td>SVN</td>\n",
       "      <td>705</td>\n",
       "    </tr>\n",
       "    <tr>\n",
       "      <th>1427</th>\n",
       "      <td>Spain</td>\n",
       "      <td>Europe</td>\n",
       "      <td>2007</td>\n",
       "      <td>80.941</td>\n",
       "      <td>40448191</td>\n",
       "      <td>28821.063700</td>\n",
       "      <td>ESP</td>\n",
       "      <td>724</td>\n",
       "    </tr>\n",
       "    <tr>\n",
       "      <th>1475</th>\n",
       "      <td>Sweden</td>\n",
       "      <td>Europe</td>\n",
       "      <td>2007</td>\n",
       "      <td>80.884</td>\n",
       "      <td>9031088</td>\n",
       "      <td>33859.748350</td>\n",
       "      <td>SWE</td>\n",
       "      <td>752</td>\n",
       "    </tr>\n",
       "    <tr>\n",
       "      <th>1487</th>\n",
       "      <td>Switzerland</td>\n",
       "      <td>Europe</td>\n",
       "      <td>2007</td>\n",
       "      <td>81.701</td>\n",
       "      <td>7554661</td>\n",
       "      <td>37506.419070</td>\n",
       "      <td>CHE</td>\n",
       "      <td>756</td>\n",
       "    </tr>\n",
       "    <tr>\n",
       "      <th>1583</th>\n",
       "      <td>Turkey</td>\n",
       "      <td>Europe</td>\n",
       "      <td>2007</td>\n",
       "      <td>71.777</td>\n",
       "      <td>71158647</td>\n",
       "      <td>8458.276384</td>\n",
       "      <td>TUR</td>\n",
       "      <td>792</td>\n",
       "    </tr>\n",
       "    <tr>\n",
       "      <th>1607</th>\n",
       "      <td>United Kingdom</td>\n",
       "      <td>Europe</td>\n",
       "      <td>2007</td>\n",
       "      <td>79.425</td>\n",
       "      <td>60776238</td>\n",
       "      <td>33203.261280</td>\n",
       "      <td>GBR</td>\n",
       "      <td>826</td>\n",
       "    </tr>\n",
       "  </tbody>\n",
       "</table>\n",
       "</div>"
      ],
      "text/plain": [
       "                     country continent  year  lifeExp       pop     gdpPercap  \\\n",
       "23                   Albania    Europe  2007   76.423   3600523   5937.029526   \n",
       "83                   Austria    Europe  2007   79.829   8199783  36126.492700   \n",
       "119                  Belgium    Europe  2007   79.441  10392226  33692.605080   \n",
       "155   Bosnia and Herzegovina    Europe  2007   74.852   4552198   7446.298803   \n",
       "191                 Bulgaria    Europe  2007   73.005   7322858  10680.792820   \n",
       "383                  Croatia    Europe  2007   75.748   4493312  14619.222720   \n",
       "407           Czech Republic    Europe  2007   76.486  10228744  22833.308510   \n",
       "419                  Denmark    Europe  2007   78.332   5468120  35278.418740   \n",
       "527                  Finland    Europe  2007   79.313   5238460  33207.084400   \n",
       "539                   France    Europe  2007   80.657  61083916  30470.016700   \n",
       "575                  Germany    Europe  2007   79.406  82400996  32170.374420   \n",
       "599                   Greece    Europe  2007   79.483  10706290  27538.411880   \n",
       "683                  Hungary    Europe  2007   73.338   9956108  18008.944440   \n",
       "755                  Ireland    Europe  2007   78.885   4109086  40675.996350   \n",
       "779                    Italy    Europe  2007   80.546  58147733  28569.719700   \n",
       "1091             Netherlands    Europe  2007   79.762  16570613  36797.933320   \n",
       "1151                  Norway    Europe  2007   80.196   4627926  49357.190170   \n",
       "1235                  Poland    Europe  2007   75.563  38518241  15389.924680   \n",
       "1247                Portugal    Europe  2007   78.098  10642836  20509.647770   \n",
       "1283                 Romania    Europe  2007   72.476  22276056  10808.475610   \n",
       "1343                  Serbia    Europe  2007   74.002  10150265   9786.534714   \n",
       "1379         Slovak Republic    Europe  2007   74.663   5447502  18678.314350   \n",
       "1391                Slovenia    Europe  2007   77.926   2009245  25768.257590   \n",
       "1427                   Spain    Europe  2007   80.941  40448191  28821.063700   \n",
       "1475                  Sweden    Europe  2007   80.884   9031088  33859.748350   \n",
       "1487             Switzerland    Europe  2007   81.701   7554661  37506.419070   \n",
       "1583                  Turkey    Europe  2007   71.777  71158647   8458.276384   \n",
       "1607          United Kingdom    Europe  2007   79.425  60776238  33203.261280   \n",
       "\n",
       "     iso_alpha  iso_num  \n",
       "23         ALB        8  \n",
       "83         AUT       40  \n",
       "119        BEL       56  \n",
       "155        BIH       70  \n",
       "191        BGR      100  \n",
       "383        HRV      191  \n",
       "407        CZE      203  \n",
       "419        DNK      208  \n",
       "527        FIN      246  \n",
       "539        FRA      250  \n",
       "575        DEU      276  \n",
       "599        GRC      300  \n",
       "683        HUN      348  \n",
       "755        IRL      372  \n",
       "779        ITA      380  \n",
       "1091       NLD      528  \n",
       "1151       NOR      578  \n",
       "1235       POL      616  \n",
       "1247       PRT      620  \n",
       "1283       ROU      642  \n",
       "1343       SRB      688  \n",
       "1379       SVK      703  \n",
       "1391       SVN      705  \n",
       "1427       ESP      724  \n",
       "1475       SWE      752  \n",
       "1487       CHE      756  \n",
       "1583       TUR      792  \n",
       "1607       GBR      826  "
      ]
     },
     "execution_count": 117,
     "metadata": {},
     "output_type": "execute_result"
    }
   ],
   "source": [
    "df"
   ]
  },
  {
   "cell_type": "code",
   "execution_count": 119,
   "id": "58ab5e8c",
   "metadata": {},
   "outputs": [
    {
     "data": {
      "text/html": [
       "<div>\n",
       "<style scoped>\n",
       "    .dataframe tbody tr th:only-of-type {\n",
       "        vertical-align: middle;\n",
       "    }\n",
       "\n",
       "    .dataframe tbody tr th {\n",
       "        vertical-align: top;\n",
       "    }\n",
       "\n",
       "    .dataframe thead th {\n",
       "        text-align: right;\n",
       "    }\n",
       "</style>\n",
       "<table border=\"1\" class=\"dataframe\">\n",
       "  <thead>\n",
       "    <tr style=\"text-align: right;\">\n",
       "      <th></th>\n",
       "      <th>Major</th>\n",
       "      <th>Major_category</th>\n",
       "      <th>Grad_total</th>\n",
       "      <th>Grad_employed</th>\n",
       "      <th>Grad_unemployed</th>\n",
       "      <th>Nongrad_total</th>\n",
       "      <th>Nongrad_employed</th>\n",
       "      <th>Nongrad_unemployed</th>\n",
       "      <th>Grad_share</th>\n",
       "      <th>Grad_premium</th>\n",
       "    </tr>\n",
       "    <tr>\n",
       "      <th>index</th>\n",
       "      <th></th>\n",
       "      <th></th>\n",
       "      <th></th>\n",
       "      <th></th>\n",
       "      <th></th>\n",
       "      <th></th>\n",
       "      <th></th>\n",
       "      <th></th>\n",
       "      <th></th>\n",
       "      <th></th>\n",
       "    </tr>\n",
       "  </thead>\n",
       "  <tbody>\n",
       "    <tr>\n",
       "      <th>0</th>\n",
       "      <td>CONSTRUCTION SERVICES</td>\n",
       "      <td>Industrial Arts &amp; Consumer Services</td>\n",
       "      <td>9173</td>\n",
       "      <td>7098</td>\n",
       "      <td>681</td>\n",
       "      <td>86062</td>\n",
       "      <td>73607</td>\n",
       "      <td>3928</td>\n",
       "      <td>0.096320</td>\n",
       "      <td>0.153846</td>\n",
       "    </tr>\n",
       "    <tr>\n",
       "      <th>1</th>\n",
       "      <td>COMMERCIAL ART AND GRAPHIC DESIGN</td>\n",
       "      <td>Arts</td>\n",
       "      <td>53864</td>\n",
       "      <td>40492</td>\n",
       "      <td>2482</td>\n",
       "      <td>461977</td>\n",
       "      <td>347166</td>\n",
       "      <td>25484</td>\n",
       "      <td>0.104420</td>\n",
       "      <td>0.250000</td>\n",
       "    </tr>\n",
       "    <tr>\n",
       "      <th>2</th>\n",
       "      <td>HOSPITALITY MANAGEMENT</td>\n",
       "      <td>Business</td>\n",
       "      <td>24417</td>\n",
       "      <td>18368</td>\n",
       "      <td>1465</td>\n",
       "      <td>179335</td>\n",
       "      <td>145597</td>\n",
       "      <td>7409</td>\n",
       "      <td>0.119837</td>\n",
       "      <td>0.300000</td>\n",
       "    </tr>\n",
       "    <tr>\n",
       "      <th>3</th>\n",
       "      <td>COSMETOLOGY SERVICES AND CULINARY ARTS</td>\n",
       "      <td>Industrial Arts &amp; Consumer Services</td>\n",
       "      <td>5411</td>\n",
       "      <td>3590</td>\n",
       "      <td>316</td>\n",
       "      <td>37575</td>\n",
       "      <td>29738</td>\n",
       "      <td>1661</td>\n",
       "      <td>0.125878</td>\n",
       "      <td>0.129808</td>\n",
       "    </tr>\n",
       "    <tr>\n",
       "      <th>4</th>\n",
       "      <td>COMMUNICATION TECHNOLOGIES</td>\n",
       "      <td>Computers &amp; Mathematics</td>\n",
       "      <td>9109</td>\n",
       "      <td>7512</td>\n",
       "      <td>466</td>\n",
       "      <td>53819</td>\n",
       "      <td>43163</td>\n",
       "      <td>3389</td>\n",
       "      <td>0.144753</td>\n",
       "      <td>0.096154</td>\n",
       "    </tr>\n",
       "    <tr>\n",
       "      <th>...</th>\n",
       "      <td>...</td>\n",
       "      <td>...</td>\n",
       "      <td>...</td>\n",
       "      <td>...</td>\n",
       "      <td>...</td>\n",
       "      <td>...</td>\n",
       "      <td>...</td>\n",
       "      <td>...</td>\n",
       "      <td>...</td>\n",
       "      <td>...</td>\n",
       "    </tr>\n",
       "    <tr>\n",
       "      <th>168</th>\n",
       "      <td>COUNSELING PSYCHOLOGY</td>\n",
       "      <td>Psychology &amp; Social Work</td>\n",
       "      <td>51812</td>\n",
       "      <td>38468</td>\n",
       "      <td>1420</td>\n",
       "      <td>16781</td>\n",
       "      <td>12377</td>\n",
       "      <td>835</td>\n",
       "      <td>0.755354</td>\n",
       "      <td>0.250000</td>\n",
       "    </tr>\n",
       "    <tr>\n",
       "      <th>169</th>\n",
       "      <td>CLINICAL PSYCHOLOGY</td>\n",
       "      <td>Psychology &amp; Social Work</td>\n",
       "      <td>22716</td>\n",
       "      <td>16612</td>\n",
       "      <td>782</td>\n",
       "      <td>6519</td>\n",
       "      <td>4368</td>\n",
       "      <td>357</td>\n",
       "      <td>0.777014</td>\n",
       "      <td>0.521739</td>\n",
       "    </tr>\n",
       "    <tr>\n",
       "      <th>170</th>\n",
       "      <td>HEALTH AND MEDICAL PREPARATORY PROGRAMS</td>\n",
       "      <td>Health</td>\n",
       "      <td>114971</td>\n",
       "      <td>78132</td>\n",
       "      <td>1732</td>\n",
       "      <td>26320</td>\n",
       "      <td>16221</td>\n",
       "      <td>1012</td>\n",
       "      <td>0.813718</td>\n",
       "      <td>1.647059</td>\n",
       "    </tr>\n",
       "    <tr>\n",
       "      <th>171</th>\n",
       "      <td>SCHOOL STUDENT COUNSELING</td>\n",
       "      <td>Education</td>\n",
       "      <td>19841</td>\n",
       "      <td>11313</td>\n",
       "      <td>613</td>\n",
       "      <td>2232</td>\n",
       "      <td>1328</td>\n",
       "      <td>169</td>\n",
       "      <td>0.898881</td>\n",
       "      <td>0.333333</td>\n",
       "    </tr>\n",
       "    <tr>\n",
       "      <th>172</th>\n",
       "      <td>EDUCATIONAL ADMINISTRATION AND SUPERVISION</td>\n",
       "      <td>Education</td>\n",
       "      <td>54159</td>\n",
       "      <td>34142</td>\n",
       "      <td>582</td>\n",
       "      <td>4003</td>\n",
       "      <td>3079</td>\n",
       "      <td>0</td>\n",
       "      <td>0.931175</td>\n",
       "      <td>0.120690</td>\n",
       "    </tr>\n",
       "  </tbody>\n",
       "</table>\n",
       "<p>173 rows × 10 columns</p>\n",
       "</div>"
      ],
      "text/plain": [
       "                                            Major  \\\n",
       "index                                               \n",
       "0                           CONSTRUCTION SERVICES   \n",
       "1               COMMERCIAL ART AND GRAPHIC DESIGN   \n",
       "2                          HOSPITALITY MANAGEMENT   \n",
       "3          COSMETOLOGY SERVICES AND CULINARY ARTS   \n",
       "4                      COMMUNICATION TECHNOLOGIES   \n",
       "...                                           ...   \n",
       "168                         COUNSELING PSYCHOLOGY   \n",
       "169                           CLINICAL PSYCHOLOGY   \n",
       "170       HEALTH AND MEDICAL PREPARATORY PROGRAMS   \n",
       "171                     SCHOOL STUDENT COUNSELING   \n",
       "172    EDUCATIONAL ADMINISTRATION AND SUPERVISION   \n",
       "\n",
       "                            Major_category  Grad_total  Grad_employed  \\\n",
       "index                                                                   \n",
       "0      Industrial Arts & Consumer Services        9173           7098   \n",
       "1                                     Arts       53864          40492   \n",
       "2                                 Business       24417          18368   \n",
       "3      Industrial Arts & Consumer Services        5411           3590   \n",
       "4                  Computers & Mathematics        9109           7512   \n",
       "...                                    ...         ...            ...   \n",
       "168               Psychology & Social Work       51812          38468   \n",
       "169               Psychology & Social Work       22716          16612   \n",
       "170                                 Health      114971          78132   \n",
       "171                              Education       19841          11313   \n",
       "172                              Education       54159          34142   \n",
       "\n",
       "       Grad_unemployed  Nongrad_total  Nongrad_employed  Nongrad_unemployed  \\\n",
       "index                                                                         \n",
       "0                  681          86062             73607                3928   \n",
       "1                 2482         461977            347166               25484   \n",
       "2                 1465         179335            145597                7409   \n",
       "3                  316          37575             29738                1661   \n",
       "4                  466          53819             43163                3389   \n",
       "...                ...            ...               ...                 ...   \n",
       "168               1420          16781             12377                 835   \n",
       "169                782           6519              4368                 357   \n",
       "170               1732          26320             16221                1012   \n",
       "171                613           2232              1328                 169   \n",
       "172                582           4003              3079                   0   \n",
       "\n",
       "       Grad_share  Grad_premium  \n",
       "index                            \n",
       "0        0.096320      0.153846  \n",
       "1        0.104420      0.250000  \n",
       "2        0.119837      0.300000  \n",
       "3        0.125878      0.129808  \n",
       "4        0.144753      0.096154  \n",
       "...           ...           ...  \n",
       "168      0.755354      0.250000  \n",
       "169      0.777014      0.521739  \n",
       "170      0.813718      1.647059  \n",
       "171      0.898881      0.333333  \n",
       "172      0.931175      0.120690  \n",
       "\n",
       "[173 rows x 10 columns]"
      ]
     },
     "execution_count": 119,
     "metadata": {},
     "output_type": "execute_result"
    }
   ],
   "source": [
    "df_grad"
   ]
  },
  {
   "cell_type": "code",
   "execution_count": 136,
   "id": "65c35e9f",
   "metadata": {},
   "outputs": [
    {
     "data": {
      "application/vnd.plotly.v1+json": {
       "config": {
        "plotlyServerURL": "https://plot.ly"
       },
       "data": [
        {
         "alignmentgroup": "True",
         "hovertemplate": "Major=%{x}<br>Grad_employed=%{text}<extra></extra>",
         "legendgroup": "",
         "marker": {
          "color": "#000001",
          "pattern": {
           "shape": ""
          }
         },
         "name": "",
         "offsetgroup": "",
         "orientation": "v",
         "showlegend": false,
         "text": [
          0.07098,
          0.40492,
          0.18368,
          0.0359,
          0.07511999999999999,
          0.01008,
          1.5157,
          0.13104,
          0.04716,
          0.28517000000000003,
          0.19058999999999998,
          0.01984,
          0.04442,
          0.35939,
          0.20034999999999997,
          0.09036999999999999,
          0.17690999999999998,
          0.12433000000000001,
          0.14752,
          0.011,
          1.54146,
          6.2235700000000005,
          0.14584,
          0.36227,
          0.08554,
          0.12659,
          4.57191,
          0.37639,
          0.60858,
          2.1215599999999997,
          0.020200000000000003,
          0.22501000000000002,
          0.9177799999999999,
          0.14499,
          0.09471,
          4.5161,
          1.24246,
          4.37115,
          0.22403,
          0.04857,
          0.12708,
          0.03129,
          0.2893,
          0.16831000000000002,
          1.54404,
          0.23537,
          0.14841,
          0.23393999999999998,
          0.21627999999999997,
          1.01593,
          1.0379,
          2.52242,
          0.05639999999999999,
          0.22782,
          0.55106,
          0.24519000000000002,
          0.16723,
          0.5069,
          0.22935,
          0.12781,
          2.81088,
          0.35283000000000003,
          0.10591999999999999,
          0.38068,
          0.38935,
          0.19112,
          0.17793,
          0.22755,
          1.14536,
          0.02284,
          0.24817999999999998,
          1.99771,
          1.62694,
          1.50299,
          0.7314700000000001,
          0.04491,
          0.63027,
          2.59742,
          0.45743999999999996,
          0.47755000000000003,
          1.23279,
          0.02758,
          2.6692299999999998,
          0.19263999999999998,
          0.10857000000000001,
          0.66432,
          0.026729999999999997,
          0.04796,
          0.06739,
          0.0388,
          0.40441000000000005,
          0.39185,
          0.54355,
          0.26153,
          0.31411,
          3.86002,
          1.31845,
          0.28112,
          3.71723,
          1.15266,
          0.05501,
          0.8656599999999999,
          0.1681,
          0.31985,
          6.68185,
          0.09546,
          0.01248,
          6.9804900000000005,
          1.50394,
          1.2314500000000002,
          0.40277,
          0.13042,
          0.8363200000000001,
          2.03983,
          5.98806,
          0.46866,
          0.6674800000000001,
          1.24688,
          0.31558,
          9.15341,
          0.6587799999999999,
          0.05292,
          0.08657000000000001,
          1.2454399999999999,
          0.42632000000000003,
          4.54797,
          0.10916,
          0.14113,
          0.16979,
          1.45043,
          0.68997,
          2.87467,
          5.48199,
          0.5469299999999999,
          0.09387,
          0.22488000000000002,
          0.24652,
          0.09298999999999999,
          1.2846899999999999,
          0.07443,
          0.12217,
          0.15822,
          0.05032,
          1.2226000000000001,
          0.08567,
          0.12875,
          0.5175,
          0.42042999999999997,
          0.6624,
          1.8211300000000001,
          1.44858,
          0.13071,
          8.983419999999999,
          0.0548,
          3.3683799999999997,
          0.5045,
          0.19474,
          0.15650999999999998,
          0.32728999999999997,
          0.07571,
          0.8060700000000001,
          1.68583,
          0.12551,
          0.18993,
          1.09944,
          0.1045,
          0.12262999999999999,
          1.45102,
          0.38468,
          0.16612,
          0.78132,
          0.11313,
          0.34142
         ],
         "textposition": "outside",
         "texttemplate": "%{text:.2s}",
         "type": "bar",
         "x": [
          "CONSTRUCTION SERVICES",
          "COMMERCIAL ART AND GRAPHIC DESIGN",
          "HOSPITALITY MANAGEMENT",
          "COSMETOLOGY SERVICES AND CULINARY ARTS",
          "COMMUNICATION TECHNOLOGIES",
          "COURT REPORTING",
          "MARKETING AND MARKETING RESEARCH",
          "AGRICULTURE PRODUCTION AND MANAGEMENT",
          "COMPUTER PROGRAMMING AND DATA PROCESSING",
          "ADVERTISING AND PUBLIC RELATIONS",
          "FILM VIDEO AND PHOTOGRAPHIC ARTS",
          "ELECTRICAL, MECHANICAL, AND PRECISION TECHNOLOGIES AND PRODUCTION",
          "MECHANICAL ENGINEERING RELATED TECHNOLOGIES",
          "MASS MEDIA",
          "TRANSPORTATION SCIENCES AND TECHNOLOGIES",
          "COMPUTER NETWORKING AND TELECOMMUNICATIONS",
          "MISCELLANEOUS BUSINESS & MEDICAL ADMINISTRATION",
          "MISCELLANEOUS ENGINEERING TECHNOLOGIES",
          "INDUSTRIAL PRODUCTION TECHNOLOGIES",
          "MISCELLANEOUS FINE ARTS",
          "CRIMINAL JUSTICE AND FIRE PROTECTION",
          "BUSINESS MANAGEMENT AND ADMINISTRATION",
          "CRIMINOLOGY",
          "MANAGEMENT INFORMATION SYSTEMS AND STATISTICS",
          "COMPUTER ADMINISTRATION MANAGEMENT AND SECURITY",
          "OPERATIONS LOGISTICS AND E-COMMERCE",
          "GENERAL BUSINESS",
          "MEDICAL TECHNOLOGIES TECHNICIANS",
          "COMPUTER AND INFORMATION SYSTEMS",
          "COMMUNICATIONS",
          "ACTUARIAL SCIENCE",
          "ELECTRICAL ENGINEERING TECHNOLOGY",
          "JOURNALISM",
          "MEDICAL ASSISTING SERVICES",
          "ENGINEERING TECHNOLOGIES",
          "ACCOUNTING",
          "FINE ARTS",
          "NURSING",
          "INFORMATION SCIENCES",
          "ARCHITECTURAL ENGINEERING",
          "MULTI/INTERDISCIPLINARY STUDIES",
          "NUCLEAR, INDUSTRIAL RADIOLOGY, AND BIOLOGICAL TECHNOLOGIES",
          "GENERAL AGRICULTURE",
          "FORESTRY",
          "LIBERAL ARTS",
          "HUMAN SERVICES AND COMMUNITY ORGANIZATION",
          "VISUAL AND PERFORMING ARTS",
          "NATURAL RESOURCES MANAGEMENT",
          "STUDIO ARTS",
          "FAMILY AND CONSUMER SCIENCES",
          "PHYSICAL FITNESS PARKS RECREATION AND LEISURE",
          "FINANCE",
          "PETROLEUM ENGINEERING",
          "PLANT SCIENCE AND AGRONOMY",
          "HUMAN RESOURCES AND PERSONNEL MANAGEMENT",
          "INTERNATIONAL BUSINESS",
          "COMPOSITION AND RHETORIC",
          "DRAMA AND THEATER ARTS",
          "BUSINESS ECONOMICS",
          "ENGINEERING AND INDUSTRIAL MANAGEMENT",
          "COMPUTER SCIENCE",
          "HEALTH AND MEDICAL ADMINISTRATIVE SERVICES",
          "AGRICULTURAL ECONOMICS",
          "ENVIRONMENTAL SCIENCE",
          "GEOGRAPHY",
          "MISCELLANEOUS ENGINEERING",
          "ECOLOGY",
          "INTERDISCIPLINARY SOCIAL SCIENCES",
          "ARCHITECTURE",
          "SOIL SCIENCE",
          "PRE-LAW AND LEGAL STUDIES",
          "GENERAL ENGINEERING",
          "MULTI-DISCIPLINARY OR GENERAL SCIENCE",
          "CIVIL ENGINEERING",
          "COMPUTER ENGINEERING",
          "MINING AND MINERAL ENGINEERING",
          "EARLY CHILDHOOD EDUCATION",
          "SOCIOLOGY",
          "GENERAL SOCIAL SCIENCES",
          "ANIMAL SCIENCES",
          "TREATMENT THERAPY PROFESSIONS",
          "MISCELLANEOUS AGRICULTURE",
          "MECHANICAL ENGINEERING",
          "HUMANITIES",
          "FOOD SCIENCE",
          "INDUSTRIAL AND MANUFACTURING ENGINEERING",
          "GEOLOGICAL AND GEOPHYSICAL ENGINEERING",
          "SOCIAL PSYCHOLOGY",
          "NAVAL ARCHITECTURE AND MARINE ENGINEERING",
          "MATHEMATICS AND COMPUTER SCIENCE",
          "ART HISTORY AND CRITICISM",
          "MISCELLANEOUS HEALTH MEDICAL PROFESSIONS",
          "GENERAL MEDICAL AND HEALTH SERVICES",
          "INTERCULTURAL AND INTERNATIONAL STUDIES",
          "NUTRITION SCIENCES",
          "ECONOMICS",
          "PHYSICAL AND HEALTH EDUCATION TEACHING",
          "COMMUNITY AND PUBLIC HEALTH",
          "ELECTRICAL ENGINEERING",
          "THEOLOGY AND RELIGIOUS VOCATIONS",
          "OCEANOGRAPHY",
          "MISCELLANEOUS EDUCATION",
          "BIOLOGICAL ENGINEERING",
          "PUBLIC ADMINISTRATION",
          "ELEMENTARY EDUCATION",
          "INDUSTRIAL AND ORGANIZATIONAL PSYCHOLOGY",
          "MILITARY TECHNOLOGIES",
          "GENERAL EDUCATION",
          "MUSIC",
          "ART AND MUSIC EDUCATION",
          "LINGUISTICS AND COMPARATIVE LANGUAGE AND LITERATURE",
          "MATERIALS ENGINEERING AND MATERIALS SCIENCE",
          "ANTHROPOLOGY AND ARCHEOLOGY",
          "SOCIAL WORK",
          "ENGLISH LANGUAGE AND LITERATURE",
          "TEACHER EDUCATION: MULTIPLE LEVELS",
          "GEOLOGY AND EARTH SCIENCE",
          "PHARMACY PHARMACEUTICAL SCIENCES AND ADMINISTRATION",
          "OTHER FOREIGN LANGUAGES",
          "PSYCHOLOGY",
          "AREA ETHNIC AND CIVILIZATION STUDIES",
          "PHYSICAL SCIENCES",
          "ATMOSPHERIC SCIENCES AND METEOROLOGY",
          "CHEMICAL ENGINEERING",
          "AEROSPACE ENGINEERING",
          "HISTORY",
          "MISCELLANEOUS SOCIAL SCIENCES",
          "APPLIED MATHEMATICS",
          "STATISTICS AND DECISION SCIENCE",
          "FRENCH GERMAN LATIN AND OTHER COMMON FOREIGN LANGUAGE STUDIES",
          "SOCIAL SCIENCE OR HISTORY TEACHER EDUCATION",
          "MATHEMATICS",
          "POLITICAL SCIENCE AND GOVERNMENT",
          "INTERNATIONAL RELATIONS",
          "ENVIRONMENTAL ENGINEERING",
          "MISCELLANEOUS BIOLOGY",
          "MISCELLANEOUS PSYCHOLOGY",
          "METALLURGICAL ENGINEERING",
          "SECONDARY TEACHER EDUCATION",
          "GEOSCIENCES",
          "UNITED STATES HISTORY",
          "ENGINEERING MECHANICS PHYSICS AND SCIENCE",
          "COGNITIVE SCIENCE AND BIOPSYCHOLOGY",
          "LANGUAGE AND DRAMA EDUCATION",
          "NUCLEAR ENGINEERING",
          "PUBLIC POLICY",
          "MATHEMATICS TEACHER EDUCATION",
          "SCIENCE AND COMPUTER TEACHER EDUCATION",
          "MICROBIOLOGY",
          "PHILOSOPHY AND RELIGIOUS STUDIES",
          "SPECIAL NEEDS EDUCATION",
          "BOTANY",
          "BIOLOGY",
          "ASTRONOMY AND ASTROPHYSICS",
          "CHEMISTRY",
          "PHYSIOLOGY",
          "BIOMEDICAL ENGINEERING",
          "LIBRARY SCIENCE",
          "MOLECULAR BIOLOGY",
          "PHARMACOLOGY",
          "ZOOLOGY",
          "PHYSICS",
          "NEUROSCIENCE",
          "EDUCATIONAL PSYCHOLOGY",
          "BIOCHEMICAL SCIENCES",
          "GENETICS",
          "MATERIALS SCIENCE",
          "COMMUNICATION DISORDERS SCIENCES AND SERVICES",
          "COUNSELING PSYCHOLOGY",
          "CLINICAL PSYCHOLOGY",
          "HEALTH AND MEDICAL PREPARATORY PROGRAMS",
          "SCHOOL STUDENT COUNSELING",
          "EDUCATIONAL ADMINISTRATION AND SUPERVISION"
         ],
         "xaxis": "x",
         "y": [
          0.07098,
          0.40492,
          0.18368,
          0.0359,
          0.07511999999999999,
          0.01008,
          1.5157,
          0.13104,
          0.04716,
          0.28517000000000003,
          0.19058999999999998,
          0.01984,
          0.04442,
          0.35939,
          0.20034999999999997,
          0.09036999999999999,
          0.17690999999999998,
          0.12433000000000001,
          0.14752,
          0.011,
          1.54146,
          6.2235700000000005,
          0.14584,
          0.36227,
          0.08554,
          0.12659,
          4.57191,
          0.37639,
          0.60858,
          2.1215599999999997,
          0.020200000000000003,
          0.22501000000000002,
          0.9177799999999999,
          0.14499,
          0.09471,
          4.5161,
          1.24246,
          4.37115,
          0.22403,
          0.04857,
          0.12708,
          0.03129,
          0.2893,
          0.16831000000000002,
          1.54404,
          0.23537,
          0.14841,
          0.23393999999999998,
          0.21627999999999997,
          1.01593,
          1.0379,
          2.52242,
          0.05639999999999999,
          0.22782,
          0.55106,
          0.24519000000000002,
          0.16723,
          0.5069,
          0.22935,
          0.12781,
          2.81088,
          0.35283000000000003,
          0.10591999999999999,
          0.38068,
          0.38935,
          0.19112,
          0.17793,
          0.22755,
          1.14536,
          0.02284,
          0.24817999999999998,
          1.99771,
          1.62694,
          1.50299,
          0.7314700000000001,
          0.04491,
          0.63027,
          2.59742,
          0.45743999999999996,
          0.47755000000000003,
          1.23279,
          0.02758,
          2.6692299999999998,
          0.19263999999999998,
          0.10857000000000001,
          0.66432,
          0.026729999999999997,
          0.04796,
          0.06739,
          0.0388,
          0.40441000000000005,
          0.39185,
          0.54355,
          0.26153,
          0.31411,
          3.86002,
          1.31845,
          0.28112,
          3.71723,
          1.15266,
          0.05501,
          0.8656599999999999,
          0.1681,
          0.31985,
          6.68185,
          0.09546,
          0.01248,
          6.9804900000000005,
          1.50394,
          1.2314500000000002,
          0.40277,
          0.13042,
          0.8363200000000001,
          2.03983,
          5.98806,
          0.46866,
          0.6674800000000001,
          1.24688,
          0.31558,
          9.15341,
          0.6587799999999999,
          0.05292,
          0.08657000000000001,
          1.2454399999999999,
          0.42632000000000003,
          4.54797,
          0.10916,
          0.14113,
          0.16979,
          1.45043,
          0.68997,
          2.87467,
          5.48199,
          0.5469299999999999,
          0.09387,
          0.22488000000000002,
          0.24652,
          0.09298999999999999,
          1.2846899999999999,
          0.07443,
          0.12217,
          0.15822,
          0.05032,
          1.2226000000000001,
          0.08567,
          0.12875,
          0.5175,
          0.42042999999999997,
          0.6624,
          1.8211300000000001,
          1.44858,
          0.13071,
          8.983419999999999,
          0.0548,
          3.3683799999999997,
          0.5045,
          0.19474,
          0.15650999999999998,
          0.32728999999999997,
          0.07571,
          0.8060700000000001,
          1.68583,
          0.12551,
          0.18993,
          1.09944,
          0.1045,
          0.12262999999999999,
          1.45102,
          0.38468,
          0.16612,
          0.78132,
          0.11313,
          0.34142
         ],
         "yaxis": "y"
        }
       ],
       "layout": {
        "barmode": "relative",
        "legend": {
         "tracegroupgap": 0
        },
        "margin": {
         "t": 60
        },
        "template": {
         "data": {
          "candlestick": [
           {
            "decreasing": {
             "line": {
              "color": "#000033"
             }
            },
            "increasing": {
             "line": {
              "color": "#000032"
             }
            },
            "type": "candlestick"
           }
          ],
          "contour": [
           {
            "colorscale": [
             [
              0,
              "#000011"
             ],
             [
              0.1111111111111111,
              "#000012"
             ],
             [
              0.2222222222222222,
              "#000013"
             ],
             [
              0.3333333333333333,
              "#000014"
             ],
             [
              0.4444444444444444,
              "#000015"
             ],
             [
              0.5555555555555556,
              "#000016"
             ],
             [
              0.6666666666666666,
              "#000017"
             ],
             [
              0.7777777777777778,
              "#000018"
             ],
             [
              0.8888888888888888,
              "#000019"
             ],
             [
              1,
              "#000020"
             ]
            ],
            "type": "contour"
           }
          ],
          "contourcarpet": [
           {
            "colorscale": [
             [
              0,
              "#000011"
             ],
             [
              0.1111111111111111,
              "#000012"
             ],
             [
              0.2222222222222222,
              "#000013"
             ],
             [
              0.3333333333333333,
              "#000014"
             ],
             [
              0.4444444444444444,
              "#000015"
             ],
             [
              0.5555555555555556,
              "#000016"
             ],
             [
              0.6666666666666666,
              "#000017"
             ],
             [
              0.7777777777777778,
              "#000018"
             ],
             [
              0.8888888888888888,
              "#000019"
             ],
             [
              1,
              "#000020"
             ]
            ],
            "type": "contourcarpet"
           }
          ],
          "heatmap": [
           {
            "colorscale": [
             [
              0,
              "#000011"
             ],
             [
              0.1111111111111111,
              "#000012"
             ],
             [
              0.2222222222222222,
              "#000013"
             ],
             [
              0.3333333333333333,
              "#000014"
             ],
             [
              0.4444444444444444,
              "#000015"
             ],
             [
              0.5555555555555556,
              "#000016"
             ],
             [
              0.6666666666666666,
              "#000017"
             ],
             [
              0.7777777777777778,
              "#000018"
             ],
             [
              0.8888888888888888,
              "#000019"
             ],
             [
              1,
              "#000020"
             ]
            ],
            "type": "heatmap"
           }
          ],
          "histogram2d": [
           {
            "colorscale": [
             [
              0,
              "#000011"
             ],
             [
              0.1111111111111111,
              "#000012"
             ],
             [
              0.2222222222222222,
              "#000013"
             ],
             [
              0.3333333333333333,
              "#000014"
             ],
             [
              0.4444444444444444,
              "#000015"
             ],
             [
              0.5555555555555556,
              "#000016"
             ],
             [
              0.6666666666666666,
              "#000017"
             ],
             [
              0.7777777777777778,
              "#000018"
             ],
             [
              0.8888888888888888,
              "#000019"
             ],
             [
              1,
              "#000020"
             ]
            ],
            "type": "histogram2d"
           }
          ],
          "icicle": [
           {
            "textfont": {
             "color": "white"
            },
            "type": "icicle"
           }
          ],
          "sankey": [
           {
            "textfont": {
             "color": "#000036"
            },
            "type": "sankey"
           }
          ],
          "scatter": [
           {
            "marker": {
             "line": {
              "width": 0
             }
            },
            "type": "scatter"
           }
          ],
          "table": [
           {
            "cells": {
             "fill": {
              "color": "#000038"
             },
             "font": {
              "color": "#000037"
             },
             "line": {
              "color": "#000039"
             }
            },
            "header": {
             "fill": {
              "color": "#000040"
             },
             "font": {
              "color": "#000036"
             },
             "line": {
              "color": "#000039"
             }
            },
            "type": "table"
           }
          ],
          "waterfall": [
           {
            "connector": {
             "line": {
              "color": "#000036",
              "width": 2
             }
            },
            "decreasing": {
             "marker": {
              "color": "#000033"
             }
            },
            "increasing": {
             "marker": {
              "color": "#000032"
             }
            },
            "totals": {
             "marker": {
              "color": "#000034"
             }
            },
            "type": "waterfall"
           }
          ]
         },
         "layout": {
          "coloraxis": {
           "colorscale": [
            [
             0,
             "#000011"
            ],
            [
             0.1111111111111111,
             "#000012"
            ],
            [
             0.2222222222222222,
             "#000013"
            ],
            [
             0.3333333333333333,
             "#000014"
            ],
            [
             0.4444444444444444,
             "#000015"
            ],
            [
             0.5555555555555556,
             "#000016"
            ],
            [
             0.6666666666666666,
             "#000017"
            ],
            [
             0.7777777777777778,
             "#000018"
            ],
            [
             0.8888888888888888,
             "#000019"
            ],
            [
             1,
             "#000020"
            ]
           ]
          },
          "colorscale": {
           "diverging": [
            [
             0,
             "#000021"
            ],
            [
             0.1,
             "#000022"
            ],
            [
             0.2,
             "#000023"
            ],
            [
             0.3,
             "#000024"
            ],
            [
             0.4,
             "#000025"
            ],
            [
             0.5,
             "#000026"
            ],
            [
             0.6,
             "#000027"
            ],
            [
             0.7,
             "#000028"
            ],
            [
             0.8,
             "#000029"
            ],
            [
             0.9,
             "#000030"
            ],
            [
             1,
             "#000031"
            ]
           ],
           "sequential": [
            [
             0,
             "#000011"
            ],
            [
             0.1111111111111111,
             "#000012"
            ],
            [
             0.2222222222222222,
             "#000013"
            ],
            [
             0.3333333333333333,
             "#000014"
            ],
            [
             0.4444444444444444,
             "#000015"
            ],
            [
             0.5555555555555556,
             "#000016"
            ],
            [
             0.6666666666666666,
             "#000017"
            ],
            [
             0.7777777777777778,
             "#000018"
            ],
            [
             0.8888888888888888,
             "#000019"
            ],
            [
             1,
             "#000020"
            ]
           ],
           "sequentialminus": [
            [
             0,
             "#000011"
            ],
            [
             0.1111111111111111,
             "#000012"
            ],
            [
             0.2222222222222222,
             "#000013"
            ],
            [
             0.3333333333333333,
             "#000014"
            ],
            [
             0.4444444444444444,
             "#000015"
            ],
            [
             0.5555555555555556,
             "#000016"
            ],
            [
             0.6666666666666666,
             "#000017"
            ],
            [
             0.7777777777777778,
             "#000018"
            ],
            [
             0.8888888888888888,
             "#000019"
            ],
            [
             1,
             "#000020"
            ]
           ]
          },
          "colorway": [
           "#000001",
           "#000002",
           "#000003",
           "#000004",
           "#000005",
           "#000006",
           "#000007",
           "#000008",
           "#000009",
           "#000010"
          ]
         }
        },
        "uniformtext": {
         "minsize": 8,
         "mode": "hide"
        },
        "xaxis": {
         "anchor": "y",
         "domain": [
          0,
          1
         ],
         "title": {
          "text": "Major"
         }
        },
        "yaxis": {
         "anchor": "x",
         "domain": [
          0,
          1
         ],
         "title": {
          "text": "Grad_employed"
         }
        }
       }
      },
      "text/html": [
       "<div>                            <div id=\"670b3284-3673-4093-b0d9-246817a0164c\" class=\"plotly-graph-div\" style=\"height:525px; width:100%;\"></div>            <script type=\"text/javascript\">                require([\"plotly\"], function(Plotly) {                    window.PLOTLYENV=window.PLOTLYENV || {};                                    if (document.getElementById(\"670b3284-3673-4093-b0d9-246817a0164c\")) {                    Plotly.newPlot(                        \"670b3284-3673-4093-b0d9-246817a0164c\",                        [{\"alignmentgroup\":\"True\",\"hovertemplate\":\"Major=%{x}<br>Grad_employed=%{text}<extra></extra>\",\"legendgroup\":\"\",\"marker\":{\"color\":\"#000001\",\"pattern\":{\"shape\":\"\"}},\"name\":\"\",\"offsetgroup\":\"\",\"orientation\":\"v\",\"showlegend\":false,\"text\":[0.07098,0.40492,0.18368,0.0359,0.07511999999999999,0.01008,1.5157,0.13104,0.04716,0.28517000000000003,0.19058999999999998,0.01984,0.04442,0.35939,0.20034999999999997,0.09036999999999999,0.17690999999999998,0.12433000000000001,0.14752,0.011,1.54146,6.2235700000000005,0.14584,0.36227,0.08554,0.12659,4.57191,0.37639,0.60858,2.1215599999999997,0.020200000000000003,0.22501000000000002,0.9177799999999999,0.14499,0.09471,4.5161,1.24246,4.37115,0.22403,0.04857,0.12708,0.03129,0.2893,0.16831000000000002,1.54404,0.23537,0.14841,0.23393999999999998,0.21627999999999997,1.01593,1.0379,2.52242,0.05639999999999999,0.22782,0.55106,0.24519000000000002,0.16723,0.5069,0.22935,0.12781,2.81088,0.35283000000000003,0.10591999999999999,0.38068,0.38935,0.19112,0.17793,0.22755,1.14536,0.02284,0.24817999999999998,1.99771,1.62694,1.50299,0.7314700000000001,0.04491,0.63027,2.59742,0.45743999999999996,0.47755000000000003,1.23279,0.02758,2.6692299999999998,0.19263999999999998,0.10857000000000001,0.66432,0.026729999999999997,0.04796,0.06739,0.0388,0.40441000000000005,0.39185,0.54355,0.26153,0.31411,3.86002,1.31845,0.28112,3.71723,1.15266,0.05501,0.8656599999999999,0.1681,0.31985,6.68185,0.09546,0.01248,6.9804900000000005,1.50394,1.2314500000000002,0.40277,0.13042,0.8363200000000001,2.03983,5.98806,0.46866,0.6674800000000001,1.24688,0.31558,9.15341,0.6587799999999999,0.05292,0.08657000000000001,1.2454399999999999,0.42632000000000003,4.54797,0.10916,0.14113,0.16979,1.45043,0.68997,2.87467,5.48199,0.5469299999999999,0.09387,0.22488000000000002,0.24652,0.09298999999999999,1.2846899999999999,0.07443,0.12217,0.15822,0.05032,1.2226000000000001,0.08567,0.12875,0.5175,0.42042999999999997,0.6624,1.8211300000000001,1.44858,0.13071,8.983419999999999,0.0548,3.3683799999999997,0.5045,0.19474,0.15650999999999998,0.32728999999999997,0.07571,0.8060700000000001,1.68583,0.12551,0.18993,1.09944,0.1045,0.12262999999999999,1.45102,0.38468,0.16612,0.78132,0.11313,0.34142],\"textposition\":\"outside\",\"x\":[\"CONSTRUCTION SERVICES\",\"COMMERCIAL ART AND GRAPHIC DESIGN\",\"HOSPITALITY MANAGEMENT\",\"COSMETOLOGY SERVICES AND CULINARY ARTS\",\"COMMUNICATION TECHNOLOGIES\",\"COURT REPORTING\",\"MARKETING AND MARKETING RESEARCH\",\"AGRICULTURE PRODUCTION AND MANAGEMENT\",\"COMPUTER PROGRAMMING AND DATA PROCESSING\",\"ADVERTISING AND PUBLIC RELATIONS\",\"FILM VIDEO AND PHOTOGRAPHIC ARTS\",\"ELECTRICAL, MECHANICAL, AND PRECISION TECHNOLOGIES AND PRODUCTION\",\"MECHANICAL ENGINEERING RELATED TECHNOLOGIES\",\"MASS MEDIA\",\"TRANSPORTATION SCIENCES AND TECHNOLOGIES\",\"COMPUTER NETWORKING AND TELECOMMUNICATIONS\",\"MISCELLANEOUS BUSINESS & MEDICAL ADMINISTRATION\",\"MISCELLANEOUS ENGINEERING TECHNOLOGIES\",\"INDUSTRIAL PRODUCTION TECHNOLOGIES\",\"MISCELLANEOUS FINE ARTS\",\"CRIMINAL JUSTICE AND FIRE PROTECTION\",\"BUSINESS MANAGEMENT AND ADMINISTRATION\",\"CRIMINOLOGY\",\"MANAGEMENT INFORMATION SYSTEMS AND STATISTICS\",\"COMPUTER ADMINISTRATION MANAGEMENT AND SECURITY\",\"OPERATIONS LOGISTICS AND E-COMMERCE\",\"GENERAL BUSINESS\",\"MEDICAL TECHNOLOGIES TECHNICIANS\",\"COMPUTER AND INFORMATION SYSTEMS\",\"COMMUNICATIONS\",\"ACTUARIAL SCIENCE\",\"ELECTRICAL ENGINEERING TECHNOLOGY\",\"JOURNALISM\",\"MEDICAL ASSISTING SERVICES\",\"ENGINEERING TECHNOLOGIES\",\"ACCOUNTING\",\"FINE ARTS\",\"NURSING\",\"INFORMATION SCIENCES\",\"ARCHITECTURAL ENGINEERING\",\"MULTI/INTERDISCIPLINARY STUDIES\",\"NUCLEAR, INDUSTRIAL RADIOLOGY, AND BIOLOGICAL TECHNOLOGIES\",\"GENERAL AGRICULTURE\",\"FORESTRY\",\"LIBERAL ARTS\",\"HUMAN SERVICES AND COMMUNITY ORGANIZATION\",\"VISUAL AND PERFORMING ARTS\",\"NATURAL RESOURCES MANAGEMENT\",\"STUDIO ARTS\",\"FAMILY AND CONSUMER SCIENCES\",\"PHYSICAL FITNESS PARKS RECREATION AND LEISURE\",\"FINANCE\",\"PETROLEUM ENGINEERING\",\"PLANT SCIENCE AND AGRONOMY\",\"HUMAN RESOURCES AND PERSONNEL MANAGEMENT\",\"INTERNATIONAL BUSINESS\",\"COMPOSITION AND RHETORIC\",\"DRAMA AND THEATER ARTS\",\"BUSINESS ECONOMICS\",\"ENGINEERING AND INDUSTRIAL MANAGEMENT\",\"COMPUTER SCIENCE\",\"HEALTH AND MEDICAL ADMINISTRATIVE SERVICES\",\"AGRICULTURAL ECONOMICS\",\"ENVIRONMENTAL SCIENCE\",\"GEOGRAPHY\",\"MISCELLANEOUS ENGINEERING\",\"ECOLOGY\",\"INTERDISCIPLINARY SOCIAL SCIENCES\",\"ARCHITECTURE\",\"SOIL SCIENCE\",\"PRE-LAW AND LEGAL STUDIES\",\"GENERAL ENGINEERING\",\"MULTI-DISCIPLINARY OR GENERAL SCIENCE\",\"CIVIL ENGINEERING\",\"COMPUTER ENGINEERING\",\"MINING AND MINERAL ENGINEERING\",\"EARLY CHILDHOOD EDUCATION\",\"SOCIOLOGY\",\"GENERAL SOCIAL SCIENCES\",\"ANIMAL SCIENCES\",\"TREATMENT THERAPY PROFESSIONS\",\"MISCELLANEOUS AGRICULTURE\",\"MECHANICAL ENGINEERING\",\"HUMANITIES\",\"FOOD SCIENCE\",\"INDUSTRIAL AND MANUFACTURING ENGINEERING\",\"GEOLOGICAL AND GEOPHYSICAL ENGINEERING\",\"SOCIAL PSYCHOLOGY\",\"NAVAL ARCHITECTURE AND MARINE ENGINEERING\",\"MATHEMATICS AND COMPUTER SCIENCE\",\"ART HISTORY AND CRITICISM\",\"MISCELLANEOUS HEALTH MEDICAL PROFESSIONS\",\"GENERAL MEDICAL AND HEALTH SERVICES\",\"INTERCULTURAL AND INTERNATIONAL STUDIES\",\"NUTRITION SCIENCES\",\"ECONOMICS\",\"PHYSICAL AND HEALTH EDUCATION TEACHING\",\"COMMUNITY AND PUBLIC HEALTH\",\"ELECTRICAL ENGINEERING\",\"THEOLOGY AND RELIGIOUS VOCATIONS\",\"OCEANOGRAPHY\",\"MISCELLANEOUS EDUCATION\",\"BIOLOGICAL ENGINEERING\",\"PUBLIC ADMINISTRATION\",\"ELEMENTARY EDUCATION\",\"INDUSTRIAL AND ORGANIZATIONAL PSYCHOLOGY\",\"MILITARY TECHNOLOGIES\",\"GENERAL EDUCATION\",\"MUSIC\",\"ART AND MUSIC EDUCATION\",\"LINGUISTICS AND COMPARATIVE LANGUAGE AND LITERATURE\",\"MATERIALS ENGINEERING AND MATERIALS SCIENCE\",\"ANTHROPOLOGY AND ARCHEOLOGY\",\"SOCIAL WORK\",\"ENGLISH LANGUAGE AND LITERATURE\",\"TEACHER EDUCATION: MULTIPLE LEVELS\",\"GEOLOGY AND EARTH SCIENCE\",\"PHARMACY PHARMACEUTICAL SCIENCES AND ADMINISTRATION\",\"OTHER FOREIGN LANGUAGES\",\"PSYCHOLOGY\",\"AREA ETHNIC AND CIVILIZATION STUDIES\",\"PHYSICAL SCIENCES\",\"ATMOSPHERIC SCIENCES AND METEOROLOGY\",\"CHEMICAL ENGINEERING\",\"AEROSPACE ENGINEERING\",\"HISTORY\",\"MISCELLANEOUS SOCIAL SCIENCES\",\"APPLIED MATHEMATICS\",\"STATISTICS AND DECISION SCIENCE\",\"FRENCH GERMAN LATIN AND OTHER COMMON FOREIGN LANGUAGE STUDIES\",\"SOCIAL SCIENCE OR HISTORY TEACHER EDUCATION\",\"MATHEMATICS\",\"POLITICAL SCIENCE AND GOVERNMENT\",\"INTERNATIONAL RELATIONS\",\"ENVIRONMENTAL ENGINEERING\",\"MISCELLANEOUS BIOLOGY\",\"MISCELLANEOUS PSYCHOLOGY\",\"METALLURGICAL ENGINEERING\",\"SECONDARY TEACHER EDUCATION\",\"GEOSCIENCES\",\"UNITED STATES HISTORY\",\"ENGINEERING MECHANICS PHYSICS AND SCIENCE\",\"COGNITIVE SCIENCE AND BIOPSYCHOLOGY\",\"LANGUAGE AND DRAMA EDUCATION\",\"NUCLEAR ENGINEERING\",\"PUBLIC POLICY\",\"MATHEMATICS TEACHER EDUCATION\",\"SCIENCE AND COMPUTER TEACHER EDUCATION\",\"MICROBIOLOGY\",\"PHILOSOPHY AND RELIGIOUS STUDIES\",\"SPECIAL NEEDS EDUCATION\",\"BOTANY\",\"BIOLOGY\",\"ASTRONOMY AND ASTROPHYSICS\",\"CHEMISTRY\",\"PHYSIOLOGY\",\"BIOMEDICAL ENGINEERING\",\"LIBRARY SCIENCE\",\"MOLECULAR BIOLOGY\",\"PHARMACOLOGY\",\"ZOOLOGY\",\"PHYSICS\",\"NEUROSCIENCE\",\"EDUCATIONAL PSYCHOLOGY\",\"BIOCHEMICAL SCIENCES\",\"GENETICS\",\"MATERIALS SCIENCE\",\"COMMUNICATION DISORDERS SCIENCES AND SERVICES\",\"COUNSELING PSYCHOLOGY\",\"CLINICAL PSYCHOLOGY\",\"HEALTH AND MEDICAL PREPARATORY PROGRAMS\",\"SCHOOL STUDENT COUNSELING\",\"EDUCATIONAL ADMINISTRATION AND SUPERVISION\"],\"xaxis\":\"x\",\"y\":[0.07098,0.40492,0.18368,0.0359,0.07511999999999999,0.01008,1.5157,0.13104,0.04716,0.28517000000000003,0.19058999999999998,0.01984,0.04442,0.35939,0.20034999999999997,0.09036999999999999,0.17690999999999998,0.12433000000000001,0.14752,0.011,1.54146,6.2235700000000005,0.14584,0.36227,0.08554,0.12659,4.57191,0.37639,0.60858,2.1215599999999997,0.020200000000000003,0.22501000000000002,0.9177799999999999,0.14499,0.09471,4.5161,1.24246,4.37115,0.22403,0.04857,0.12708,0.03129,0.2893,0.16831000000000002,1.54404,0.23537,0.14841,0.23393999999999998,0.21627999999999997,1.01593,1.0379,2.52242,0.05639999999999999,0.22782,0.55106,0.24519000000000002,0.16723,0.5069,0.22935,0.12781,2.81088,0.35283000000000003,0.10591999999999999,0.38068,0.38935,0.19112,0.17793,0.22755,1.14536,0.02284,0.24817999999999998,1.99771,1.62694,1.50299,0.7314700000000001,0.04491,0.63027,2.59742,0.45743999999999996,0.47755000000000003,1.23279,0.02758,2.6692299999999998,0.19263999999999998,0.10857000000000001,0.66432,0.026729999999999997,0.04796,0.06739,0.0388,0.40441000000000005,0.39185,0.54355,0.26153,0.31411,3.86002,1.31845,0.28112,3.71723,1.15266,0.05501,0.8656599999999999,0.1681,0.31985,6.68185,0.09546,0.01248,6.9804900000000005,1.50394,1.2314500000000002,0.40277,0.13042,0.8363200000000001,2.03983,5.98806,0.46866,0.6674800000000001,1.24688,0.31558,9.15341,0.6587799999999999,0.05292,0.08657000000000001,1.2454399999999999,0.42632000000000003,4.54797,0.10916,0.14113,0.16979,1.45043,0.68997,2.87467,5.48199,0.5469299999999999,0.09387,0.22488000000000002,0.24652,0.09298999999999999,1.2846899999999999,0.07443,0.12217,0.15822,0.05032,1.2226000000000001,0.08567,0.12875,0.5175,0.42042999999999997,0.6624,1.8211300000000001,1.44858,0.13071,8.983419999999999,0.0548,3.3683799999999997,0.5045,0.19474,0.15650999999999998,0.32728999999999997,0.07571,0.8060700000000001,1.68583,0.12551,0.18993,1.09944,0.1045,0.12262999999999999,1.45102,0.38468,0.16612,0.78132,0.11313,0.34142],\"yaxis\":\"y\",\"type\":\"bar\",\"texttemplate\":\"%{text:.2s}\"}],                        {\"template\":{\"data\":{\"candlestick\":[{\"decreasing\":{\"line\":{\"color\":\"#000033\"}},\"increasing\":{\"line\":{\"color\":\"#000032\"}},\"type\":\"candlestick\"}],\"contourcarpet\":[{\"colorscale\":[[0.0,\"#000011\"],[0.1111111111111111,\"#000012\"],[0.2222222222222222,\"#000013\"],[0.3333333333333333,\"#000014\"],[0.4444444444444444,\"#000015\"],[0.5555555555555556,\"#000016\"],[0.6666666666666666,\"#000017\"],[0.7777777777777778,\"#000018\"],[0.8888888888888888,\"#000019\"],[1.0,\"#000020\"]],\"type\":\"contourcarpet\"}],\"contour\":[{\"colorscale\":[[0.0,\"#000011\"],[0.1111111111111111,\"#000012\"],[0.2222222222222222,\"#000013\"],[0.3333333333333333,\"#000014\"],[0.4444444444444444,\"#000015\"],[0.5555555555555556,\"#000016\"],[0.6666666666666666,\"#000017\"],[0.7777777777777778,\"#000018\"],[0.8888888888888888,\"#000019\"],[1.0,\"#000020\"]],\"type\":\"contour\"}],\"heatmap\":[{\"colorscale\":[[0.0,\"#000011\"],[0.1111111111111111,\"#000012\"],[0.2222222222222222,\"#000013\"],[0.3333333333333333,\"#000014\"],[0.4444444444444444,\"#000015\"],[0.5555555555555556,\"#000016\"],[0.6666666666666666,\"#000017\"],[0.7777777777777778,\"#000018\"],[0.8888888888888888,\"#000019\"],[1.0,\"#000020\"]],\"type\":\"heatmap\"}],\"histogram2d\":[{\"colorscale\":[[0.0,\"#000011\"],[0.1111111111111111,\"#000012\"],[0.2222222222222222,\"#000013\"],[0.3333333333333333,\"#000014\"],[0.4444444444444444,\"#000015\"],[0.5555555555555556,\"#000016\"],[0.6666666666666666,\"#000017\"],[0.7777777777777778,\"#000018\"],[0.8888888888888888,\"#000019\"],[1.0,\"#000020\"]],\"type\":\"histogram2d\"}],\"icicle\":[{\"textfont\":{\"color\":\"white\"},\"type\":\"icicle\"}],\"sankey\":[{\"textfont\":{\"color\":\"#000036\"},\"type\":\"sankey\"}],\"scatter\":[{\"marker\":{\"line\":{\"width\":0}},\"type\":\"scatter\"}],\"table\":[{\"cells\":{\"fill\":{\"color\":\"#000038\"},\"font\":{\"color\":\"#000037\"},\"line\":{\"color\":\"#000039\"}},\"header\":{\"fill\":{\"color\":\"#000040\"},\"font\":{\"color\":\"#000036\"},\"line\":{\"color\":\"#000039\"}},\"type\":\"table\"}],\"waterfall\":[{\"connector\":{\"line\":{\"color\":\"#000036\",\"width\":2}},\"decreasing\":{\"marker\":{\"color\":\"#000033\"}},\"increasing\":{\"marker\":{\"color\":\"#000032\"}},\"totals\":{\"marker\":{\"color\":\"#000034\"}},\"type\":\"waterfall\"}]},\"layout\":{\"coloraxis\":{\"colorscale\":[[0.0,\"#000011\"],[0.1111111111111111,\"#000012\"],[0.2222222222222222,\"#000013\"],[0.3333333333333333,\"#000014\"],[0.4444444444444444,\"#000015\"],[0.5555555555555556,\"#000016\"],[0.6666666666666666,\"#000017\"],[0.7777777777777778,\"#000018\"],[0.8888888888888888,\"#000019\"],[1.0,\"#000020\"]]},\"colorscale\":{\"diverging\":[[0.0,\"#000021\"],[0.1,\"#000022\"],[0.2,\"#000023\"],[0.3,\"#000024\"],[0.4,\"#000025\"],[0.5,\"#000026\"],[0.6,\"#000027\"],[0.7,\"#000028\"],[0.8,\"#000029\"],[0.9,\"#000030\"],[1.0,\"#000031\"]],\"sequential\":[[0.0,\"#000011\"],[0.1111111111111111,\"#000012\"],[0.2222222222222222,\"#000013\"],[0.3333333333333333,\"#000014\"],[0.4444444444444444,\"#000015\"],[0.5555555555555556,\"#000016\"],[0.6666666666666666,\"#000017\"],[0.7777777777777778,\"#000018\"],[0.8888888888888888,\"#000019\"],[1.0,\"#000020\"]],\"sequentialminus\":[[0.0,\"#000011\"],[0.1111111111111111,\"#000012\"],[0.2222222222222222,\"#000013\"],[0.3333333333333333,\"#000014\"],[0.4444444444444444,\"#000015\"],[0.5555555555555556,\"#000016\"],[0.6666666666666666,\"#000017\"],[0.7777777777777778,\"#000018\"],[0.8888888888888888,\"#000019\"],[1.0,\"#000020\"]]},\"colorway\":[\"#000001\",\"#000002\",\"#000003\",\"#000004\",\"#000005\",\"#000006\",\"#000007\",\"#000008\",\"#000009\",\"#000010\"]}},\"xaxis\":{\"anchor\":\"y\",\"domain\":[0.0,1.0],\"title\":{\"text\":\"Major\"}},\"yaxis\":{\"anchor\":\"x\",\"domain\":[0.0,1.0],\"title\":{\"text\":\"Grad_employed\"}},\"legend\":{\"tracegroupgap\":0},\"margin\":{\"t\":60},\"barmode\":\"relative\",\"uniformtext\":{\"minsize\":8,\"mode\":\"hide\"}},                        {\"responsive\": true}                    ).then(function(){\n",
       "                            \n",
       "var gd = document.getElementById('670b3284-3673-4093-b0d9-246817a0164c');\n",
       "var x = new MutationObserver(function (mutations, observer) {{\n",
       "        var display = window.getComputedStyle(gd).display;\n",
       "        if (!display || display === 'none') {{\n",
       "            console.log([gd, 'removed!']);\n",
       "            Plotly.purge(gd);\n",
       "            observer.disconnect();\n",
       "        }}\n",
       "}});\n",
       "\n",
       "// Listen for the removal of the full notebook cells\n",
       "var notebookContainer = gd.closest('#notebook-container');\n",
       "if (notebookContainer) {{\n",
       "    x.observe(notebookContainer, {childList: true});\n",
       "}}\n",
       "\n",
       "// Listen for the clearing of the current output cell\n",
       "var outputEl = gd.closest('.output');\n",
       "if (outputEl) {{\n",
       "    x.observe(outputEl, {childList: true});\n",
       "}}\n",
       "\n",
       "                        })                };                });            </script>        </div>"
      ]
     },
     "metadata": {},
     "output_type": "display_data"
    }
   ],
   "source": [
    "df_grad['Grad_employed'] = df_grad['Grad_employed'] / 10\n",
    "fig = px.bar(df_grad, y='Grad_employed', x='Major', text='Grad_employed')\n",
    "fig.update_traces(texttemplate='%{text:.2s}', textposition='outside')\n",
    "fig.update_layout(uniformtext_minsize=8, uniformtext_mode='hide')\n",
    "fig.show()"
   ]
  },
  {
   "cell_type": "code",
   "execution_count": 128,
   "id": "6f4640a7",
   "metadata": {},
   "outputs": [
    {
     "data": {
      "application/vnd.plotly.v1+json": {
       "config": {
        "plotlyServerURL": "https://plot.ly"
       },
       "data": [
        {
         "hovertemplate": "<b>%{hovertext}</b><br><br>Major_category=Industrial Arts & Consumer Services<br>Grad_employed=%{marker.size}<br>Nongrad_employed=%{y}<extra></extra>",
         "hovertext": [
          "CONSTRUCTION SERVICES",
          "COSMETOLOGY SERVICES AND CULINARY ARTS",
          "ELECTRICAL, MECHANICAL, AND PRECISION TECHNOLOGIES AND PRODUCTION",
          "TRANSPORTATION SCIENCES AND TECHNOLOGIES",
          "FAMILY AND CONSUMER SCIENCES",
          "PHYSICAL FITNESS PARKS RECREATION AND LEISURE",
          "MILITARY TECHNOLOGIES"
         ],
         "legendgroup": "Industrial Arts & Consumer Services",
         "marker": {
          "color": "#000001",
          "size": [
           7098,
           3590,
           1984,
           20035,
           101593,
           103790,
           1248
          ],
          "sizemode": "area",
          "sizeref": 254.2613888888889,
          "symbol": "circle"
         },
         "mode": "markers",
         "name": "Industrial Arts & Consumer Services",
         "orientation": "v",
         "showlegend": true,
         "type": "scatter",
         "x": [
          7098,
          3590,
          1984,
          20035,
          101593,
          103790,
          1248
         ],
         "xaxis": "x",
         "y": [
          73607,
          29738,
          11921,
          94538,
          223314,
          245267,
          1650
         ],
         "yaxis": "y"
        },
        {
         "hovertemplate": "<b>%{hovertext}</b><br><br>Major_category=Arts<br>Grad_employed=%{marker.size}<br>Nongrad_employed=%{y}<extra></extra>",
         "hovertext": [
          "COMMERCIAL ART AND GRAPHIC DESIGN",
          "FILM VIDEO AND PHOTOGRAPHIC ARTS",
          "MISCELLANEOUS FINE ARTS",
          "FINE ARTS",
          "VISUAL AND PERFORMING ARTS",
          "STUDIO ARTS",
          "DRAMA AND THEATER ARTS",
          "MUSIC"
         ],
         "legendgroup": "Arts",
         "marker": {
          "color": "#000002",
          "size": [
           40492,
           19059,
           1100,
           124246,
           14841,
           21628,
           50690,
           150394
          ],
          "sizemode": "area",
          "sizeref": 254.2613888888889,
          "symbol": "circle"
         },
         "mode": "markers",
         "name": "Arts",
         "orientation": "v",
         "showlegend": true,
         "type": "scatter",
         "x": [
          40492,
          19059,
          1100,
          124246,
          14841,
          21628,
          50690,
          150394
         ],
         "xaxis": "x",
         "y": [
          347166,
          93915,
          5220,
          363977,
          36008,
          53276,
          120476,
          174414
         ],
         "yaxis": "y"
        },
        {
         "hovertemplate": "<b>%{hovertext}</b><br><br>Major_category=Business<br>Grad_employed=%{marker.size}<br>Nongrad_employed=%{y}<extra></extra>",
         "hovertext": [
          "HOSPITALITY MANAGEMENT",
          "MARKETING AND MARKETING RESEARCH",
          "MISCELLANEOUS BUSINESS & MEDICAL ADMINISTRATION",
          "BUSINESS MANAGEMENT AND ADMINISTRATION",
          "MANAGEMENT INFORMATION SYSTEMS AND STATISTICS",
          "OPERATIONS LOGISTICS AND E-COMMERCE",
          "GENERAL BUSINESS",
          "ACTUARIAL SCIENCE",
          "ACCOUNTING",
          "FINANCE",
          "HUMAN RESOURCES AND PERSONNEL MANAGEMENT",
          "INTERNATIONAL BUSINESS",
          "BUSINESS ECONOMICS"
         ],
         "legendgroup": "Business",
         "marker": {
          "color": "#000003",
          "size": [
           18368,
           151570,
           17691,
           622357,
           36227,
           12659,
           457191,
           2020,
           451610,
           252242,
           55106,
           24519,
           22935
          ],
          "sizemode": "area",
          "sizeref": 254.2613888888889,
          "symbol": "circle"
         },
         "mode": "markers",
         "name": "Business",
         "orientation": "v",
         "showlegend": true,
         "type": "scatter",
         "x": [
          18368,
          151570,
          17691,
          622357,
          36227,
          12659,
          457191,
          2020,
          451610,
          252242,
          55106,
          24519,
          22935
         ],
         "xaxis": "x",
         "y": [
          145597,
          817906,
          72005,
          2253649,
          129179,
          43074,
          1510380,
          6666,
          1282267,
          615192,
          135403,
          58763,
          53771
         ],
         "yaxis": "y"
        },
        {
         "hovertemplate": "<b>%{hovertext}</b><br><br>Major_category=Computers & Mathematics<br>Grad_employed=%{marker.size}<br>Nongrad_employed=%{y}<extra></extra>",
         "hovertext": [
          "COMMUNICATION TECHNOLOGIES",
          "COMPUTER PROGRAMMING AND DATA PROCESSING",
          "COMPUTER NETWORKING AND TELECOMMUNICATIONS",
          "COMPUTER ADMINISTRATION MANAGEMENT AND SECURITY",
          "COMPUTER AND INFORMATION SYSTEMS",
          "INFORMATION SCIENCES",
          "COMPUTER SCIENCE",
          "MATHEMATICS AND COMPUTER SCIENCE",
          "APPLIED MATHEMATICS",
          "STATISTICS AND DECISION SCIENCE",
          "MATHEMATICS"
         ],
         "legendgroup": "Computers & Mathematics",
         "marker": {
          "color": "#000004",
          "size": [
           7512,
           4716,
           9037,
           8554,
           60858,
           22403,
           281088,
           3880,
           14113,
           16979,
           287467
          ],
          "sizemode": "area",
          "sizeref": 254.2613888888889,
          "symbol": "circle"
         },
         "mode": "markers",
         "name": "Computers & Mathematics",
         "orientation": "v",
         "showlegend": true,
         "type": "scatter",
         "x": [
          7512,
          4716,
          9037,
          8554,
          60858,
          22403,
          281088,
          3880,
          14113,
          16979,
          287467
         ],
         "xaxis": "x",
         "y": [
          43163,
          22024,
          41552,
          29740,
          209994,
          63354,
          623930,
          5711,
          13704,
          17024,
          262174
         ],
         "yaxis": "y"
        },
        {
         "hovertemplate": "<b>%{hovertext}</b><br><br>Major_category=Law & Public Policy<br>Grad_employed=%{marker.size}<br>Nongrad_employed=%{y}<extra></extra>",
         "hovertext": [
          "COURT REPORTING",
          "CRIMINAL JUSTICE AND FIRE PROTECTION",
          "PRE-LAW AND LEGAL STUDIES",
          "PUBLIC ADMINISTRATION",
          "PUBLIC POLICY"
         ],
         "legendgroup": "Law & Public Policy",
         "marker": {
          "color": "#000005",
          "size": [
           1008,
           154146,
           24818,
           31985,
           12875
          ],
          "sizemode": "area",
          "sizeref": 254.2613888888889,
          "symbol": "circle"
         },
         "mode": "markers",
         "name": "Law & Public Policy",
         "orientation": "v",
         "showlegend": true,
         "type": "scatter",
         "x": [
          1008,
          154146,
          24818,
          31985,
          12875
         ],
         "xaxis": "x",
         "y": [
          6967,
          565748,
          45218,
          37006,
          9478
         ],
         "yaxis": "y"
        },
        {
         "hovertemplate": "<b>%{hovertext}</b><br><br>Major_category=Agriculture & Natural Resources<br>Grad_employed=%{marker.size}<br>Nongrad_employed=%{y}<extra></extra>",
         "hovertext": [
          "AGRICULTURE PRODUCTION AND MANAGEMENT",
          "GENERAL AGRICULTURE",
          "FORESTRY",
          "NATURAL RESOURCES MANAGEMENT",
          "PLANT SCIENCE AND AGRONOMY",
          "AGRICULTURAL ECONOMICS",
          "SOIL SCIENCE",
          "ANIMAL SCIENCES",
          "MISCELLANEOUS AGRICULTURE",
          "FOOD SCIENCE"
         ],
         "legendgroup": "Agriculture & Natural Resources",
         "marker": {
          "color": "#000006",
          "size": [
           13104,
           28930,
           16831,
           23394,
           22782,
           10592,
           2284,
           47755,
           2758,
           10857
          ],
          "sizemode": "area",
          "sizeref": 254.2613888888889,
          "symbol": "circle"
         },
         "mode": "markers",
         "name": "Agriculture & Natural Resources",
         "orientation": "v",
         "showlegend": true,
         "type": "scatter",
         "x": [
          13104,
          28930,
          16831,
          23394,
          22782,
          10592,
          2284,
          47755,
          2758,
          10857
         ],
         "xaxis": "x",
         "y": [
          71781,
          86631,
          46815,
          60690,
          60241,
          25557,
          4654,
          74896,
          5978,
          16298
         ],
         "yaxis": "y"
        },
        {
         "hovertemplate": "<b>%{hovertext}</b><br><br>Major_category=Communications & Journalism<br>Grad_employed=%{marker.size}<br>Nongrad_employed=%{y}<extra></extra>",
         "hovertext": [
          "ADVERTISING AND PUBLIC RELATIONS",
          "MASS MEDIA",
          "COMMUNICATIONS",
          "JOURNALISM"
         ],
         "legendgroup": "Communications & Journalism",
         "marker": {
          "color": "#000007",
          "size": [
           28517,
           35939,
           212156,
           91778
          ],
          "sizemode": "area",
          "sizeref": 254.2613888888889,
          "symbol": "circle"
         },
         "mode": "markers",
         "name": "Communications & Journalism",
         "orientation": "v",
         "showlegend": true,
         "type": "scatter",
         "x": [
          28517,
          35939,
          212156,
          91778
         ],
         "xaxis": "x",
         "y": [
          127832,
          153722,
          716886,
          287521
         ],
         "yaxis": "y"
        },
        {
         "hovertemplate": "<b>%{hovertext}</b><br><br>Major_category=Engineering<br>Grad_employed=%{marker.size}<br>Nongrad_employed=%{y}<extra></extra>",
         "hovertext": [
          "MECHANICAL ENGINEERING RELATED TECHNOLOGIES",
          "MISCELLANEOUS ENGINEERING TECHNOLOGIES",
          "INDUSTRIAL PRODUCTION TECHNOLOGIES",
          "ELECTRICAL ENGINEERING TECHNOLOGY",
          "ENGINEERING TECHNOLOGIES",
          "ARCHITECTURAL ENGINEERING",
          "PETROLEUM ENGINEERING",
          "ENGINEERING AND INDUSTRIAL MANAGEMENT",
          "MISCELLANEOUS ENGINEERING",
          "ARCHITECTURE",
          "GENERAL ENGINEERING",
          "CIVIL ENGINEERING",
          "COMPUTER ENGINEERING",
          "MINING AND MINERAL ENGINEERING",
          "MECHANICAL ENGINEERING",
          "INDUSTRIAL AND MANUFACTURING ENGINEERING",
          "GEOLOGICAL AND GEOPHYSICAL ENGINEERING",
          "NAVAL ARCHITECTURE AND MARINE ENGINEERING",
          "ELECTRICAL ENGINEERING",
          "BIOLOGICAL ENGINEERING",
          "MATERIALS ENGINEERING AND MATERIALS SCIENCE",
          "CHEMICAL ENGINEERING",
          "AEROSPACE ENGINEERING",
          "ENVIRONMENTAL ENGINEERING",
          "METALLURGICAL ENGINEERING",
          "ENGINEERING MECHANICS PHYSICS AND SCIENCE",
          "NUCLEAR ENGINEERING",
          "BIOMEDICAL ENGINEERING",
          "MATERIALS SCIENCE"
         ],
         "legendgroup": "Engineering",
         "marker": {
          "color": "#000008",
          "size": [
           4442,
           12433,
           14752,
           22501,
           9471,
           4857,
           5640,
           12781,
           19112,
           114536,
           199771,
           150299,
           73147,
           4491,
           266923,
           66432,
           2673,
           6739,
           371723,
           16810,
           13042,
           124544,
           42632,
           9387,
           9299,
           15822,
           8567,
           19474,
           12263
          ],
          "sizemode": "area",
          "sizeref": 254.2613888888889,
          "symbol": "circle"
         },
         "mode": "markers",
         "name": "Engineering",
         "orientation": "v",
         "showlegend": true,
         "type": "scatter",
         "x": [
          4442,
          12433,
          14752,
          22501,
          9471,
          4857,
          5640,
          12781,
          19112,
          114536,
          199771,
          150299,
          73147,
          4491,
          266923,
          66432,
          2673,
          6739,
          371723,
          16810,
          13042,
          124544,
          42632,
          9387,
          9299,
          15822,
          8567,
          19474,
          12263
         ],
         "xaxis": "x",
         "y": [
          23069,
          50092,
          64389,
          71204,
          29092,
          12772,
          13108,
          26479,
          41524,
          207090,
          346258,
          247251,
          119738,
          7161,
          395914,
          96312,
          3797,
          10596,
          471850,
          21509,
          13729,
          120146,
          41023,
          8641,
          6692,
          13391,
          6730,
          9626,
          4619
         ],
         "yaxis": "y"
        },
        {
         "hovertemplate": "<b>%{hovertext}</b><br><br>Major_category=Social Science<br>Grad_employed=%{marker.size}<br>Nongrad_employed=%{y}<extra></extra>",
         "hovertext": [
          "CRIMINOLOGY",
          "GEOGRAPHY",
          "INTERDISCIPLINARY SOCIAL SCIENCES",
          "SOCIOLOGY",
          "GENERAL SOCIAL SCIENCES",
          "ECONOMICS",
          "MISCELLANEOUS SOCIAL SCIENCES",
          "POLITICAL SCIENCE AND GOVERNMENT",
          "INTERNATIONAL RELATIONS"
         ],
         "legendgroup": "Social Science",
         "marker": {
          "color": "#000009",
          "size": [
           14584,
           38935,
           22755,
           259742,
           45744,
           386002,
           10916,
           548199,
           54693
          ],
          "sizemode": "area",
          "sizeref": 254.2613888888889,
          "symbol": "circle"
         },
         "mode": "markers",
         "name": "Social Science",
         "orientation": "v",
         "showlegend": true,
         "type": "scatter",
         "x": [
          14584,
          38935,
          22755,
          259742,
          45744,
          386002,
          10916,
          548199,
          54693
         ],
         "xaxis": "x",
         "y": [
          53419,
          78756,
          40252,
          422359,
          77095,
          496450,
          10935,
          492011,
          49168
         ],
         "yaxis": "y"
        },
        {
         "hovertemplate": "<b>%{hovertext}</b><br><br>Major_category=Health<br>Grad_employed=%{marker.size}<br>Nongrad_employed=%{y}<extra></extra>",
         "hovertext": [
          "MEDICAL TECHNOLOGIES TECHNICIANS",
          "MEDICAL ASSISTING SERVICES",
          "NURSING",
          "HEALTH AND MEDICAL ADMINISTRATIVE SERVICES",
          "TREATMENT THERAPY PROFESSIONS",
          "MISCELLANEOUS HEALTH MEDICAL PROFESSIONS",
          "GENERAL MEDICAL AND HEALTH SERVICES",
          "NUTRITION SCIENCES",
          "COMMUNITY AND PUBLIC HEALTH",
          "PHARMACY PHARMACEUTICAL SCIENCES AND ADMINISTRATION",
          "COMMUNICATION DISORDERS SCIENCES AND SERVICES",
          "HEALTH AND MEDICAL PREPARATORY PROGRAMS"
         ],
         "legendgroup": "Health",
         "marker": {
          "color": "#000010",
          "size": [
           37639,
           14499,
           437115,
           35283,
           123279,
           39185,
           54355,
           31411,
           28112,
           124688,
           145102,
           78132
          ],
          "sizemode": "area",
          "sizeref": 254.2613888888889,
          "symbol": "circle"
         },
         "mode": "markers",
         "name": "Health",
         "orientation": "v",
         "showlegend": true,
         "type": "scatter",
         "x": [
          37639,
          14499,
          437115,
          35283,
          123279,
          39185,
          54355,
          31411,
          28112,
          124688,
          145102,
          78132
         ],
         "xaxis": "x",
         "y": [
          117087,
          47608,
          1256606,
          79713,
          187311,
          49431,
          69217,
          38530,
          36104,
          120500,
          39683,
          16221
         ],
         "yaxis": "y"
        },
        {
         "hovertemplate": "<b>%{hovertext}</b><br><br>Major_category=Interdisciplinary<br>Grad_employed=%{marker.size}<br>Nongrad_employed=%{y}<extra></extra>",
         "hovertext": [
          "MULTI/INTERDISCIPLINARY STUDIES"
         ],
         "legendgroup": "Interdisciplinary",
         "marker": {
          "color": "#000001",
          "size": [
           12708
          ],
          "sizemode": "area",
          "sizeref": 254.2613888888889,
          "symbol": "circle"
         },
         "mode": "markers",
         "name": "Interdisciplinary",
         "orientation": "v",
         "showlegend": true,
         "type": "scatter",
         "x": [
          12708
         ],
         "xaxis": "x",
         "y": [
          32600
         ],
         "yaxis": "y"
        },
        {
         "hovertemplate": "<b>%{hovertext}</b><br><br>Major_category=Physical Sciences<br>Grad_employed=%{marker.size}<br>Nongrad_employed=%{y}<extra></extra>",
         "hovertext": [
          "NUCLEAR, INDUSTRIAL RADIOLOGY, AND BIOLOGICAL TECHNOLOGIES",
          "MULTI-DISCIPLINARY OR GENERAL SCIENCE",
          "OCEANOGRAPHY",
          "GEOLOGY AND EARTH SCIENCE",
          "PHYSICAL SCIENCES",
          "ATMOSPHERIC SCIENCES AND METEOROLOGY",
          "GEOSCIENCES",
          "ASTRONOMY AND ASTROPHYSICS",
          "CHEMISTRY",
          "PHYSICS"
         ],
         "legendgroup": "Physical Sciences",
         "marker": {
          "color": "#000002",
          "size": [
           3129,
           162694,
           5501,
           66748,
           5292,
           8657,
           7443,
           5480,
           336838,
           168583
          ],
          "sizemode": "area",
          "sizeref": 254.2613888888889,
          "symbol": "circle"
         },
         "mode": "markers",
         "name": "Physical Sciences",
         "orientation": "v",
         "showlegend": true,
         "type": "scatter",
         "x": [
          3129,
          162694,
          5501,
          66748,
          5292,
          8657,
          7443,
          5480,
          336838,
          168583
         ],
         "xaxis": "x",
         "y": [
          8699,
          290699,
          7311,
          72682,
          5676,
          9847,
          5920,
          2720,
          180034,
          72752
         ],
         "yaxis": "y"
        },
        {
         "hovertemplate": "<b>%{hovertext}</b><br><br>Major_category=Humanities & Liberal Arts<br>Grad_employed=%{marker.size}<br>Nongrad_employed=%{y}<extra></extra>",
         "hovertext": [
          "LIBERAL ARTS",
          "COMPOSITION AND RHETORIC",
          "HUMANITIES",
          "ART HISTORY AND CRITICISM",
          "INTERCULTURAL AND INTERNATIONAL STUDIES",
          "THEOLOGY AND RELIGIOUS VOCATIONS",
          "LINGUISTICS AND COMPARATIVE LANGUAGE AND LITERATURE",
          "ANTHROPOLOGY AND ARCHEOLOGY",
          "ENGLISH LANGUAGE AND LITERATURE",
          "OTHER FOREIGN LANGUAGES",
          "AREA ETHNIC AND CIVILIZATION STUDIES",
          "HISTORY",
          "FRENCH GERMAN LATIN AND OTHER COMMON FOREIGN LANGUAGE STUDIES",
          "UNITED STATES HISTORY",
          "PHILOSOPHY AND RELIGIOUS STUDIES"
         ],
         "legendgroup": "Humanities & Liberal Arts",
         "marker": {
          "color": "#000003",
          "size": [
           154404,
           16723,
           19264,
           40441,
           26153,
           115266,
           40277,
           83632,
           598806,
           31558,
           65878,
           454797,
           145043,
           12217,
           182113
          ],
          "sizemode": "area",
          "sizeref": 254.2613888888889,
          "symbol": "circle"
         },
         "mode": "markers",
         "name": "Humanities & Liberal Arts",
         "orientation": "v",
         "showlegend": true,
         "type": "scatter",
         "x": [
          154404,
          16723,
          19264,
          40441,
          26153,
          115266,
          40277,
          83632,
          598806,
          31558,
          65878,
          454797,
          145043,
          12217,
          182113
         ],
         "xaxis": "x",
         "y": [
          387303,
          38047,
          27799,
          54192,
          34373,
          154911,
          41522,
          90622,
          650188,
          31878,
          65609,
          439435,
          137925,
          10913,
          124979
         ],
         "yaxis": "y"
        },
        {
         "hovertemplate": "<b>%{hovertext}</b><br><br>Major_category=Psychology & Social Work<br>Grad_employed=%{marker.size}<br>Nongrad_employed=%{y}<extra></extra>",
         "hovertext": [
          "HUMAN SERVICES AND COMMUNITY ORGANIZATION",
          "SOCIAL PSYCHOLOGY",
          "INDUSTRIAL AND ORGANIZATIONAL PSYCHOLOGY",
          "SOCIAL WORK",
          "PSYCHOLOGY",
          "MISCELLANEOUS PSYCHOLOGY",
          "EDUCATIONAL PSYCHOLOGY",
          "COUNSELING PSYCHOLOGY",
          "CLINICAL PSYCHOLOGY"
         ],
         "legendgroup": "Psychology & Social Work",
         "marker": {
          "color": "#000004",
          "size": [
           23537,
           4796,
           9546,
           203983,
           915341,
           24652,
           18993,
           38468,
           16612
          ],
          "sizemode": "area",
          "sizeref": 254.2613888888889,
          "symbol": "circle"
         },
         "mode": "markers",
         "name": "Psychology & Social Work",
         "orientation": "v",
         "showlegend": true,
         "type": "scatter",
         "x": [
          23537,
          4796,
          9546,
          203983,
          915341,
          24652,
          18993,
          38468,
          16612
         ],
         "xaxis": "x",
         "y": [
          58298,
          6486,
          11009,
          211272,
          938016,
          20627,
          8561,
          12377,
          4368
         ],
         "yaxis": "y"
        },
        {
         "hovertemplate": "<b>%{hovertext}</b><br><br>Major_category=Biology & Life Science<br>Grad_employed=%{marker.size}<br>Nongrad_employed=%{y}<extra></extra>",
         "hovertext": [
          "ENVIRONMENTAL SCIENCE",
          "ECOLOGY",
          "MISCELLANEOUS BIOLOGY",
          "COGNITIVE SCIENCE AND BIOPSYCHOLOGY",
          "MICROBIOLOGY",
          "BOTANY",
          "BIOLOGY",
          "PHYSIOLOGY",
          "MOLECULAR BIOLOGY",
          "PHARMACOLOGY",
          "ZOOLOGY",
          "NEUROSCIENCE",
          "BIOCHEMICAL SCIENCES",
          "GENETICS"
         ],
         "legendgroup": "Biology & Life Science",
         "marker": {
          "color": "#000005",
          "size": [
           38068,
           17793,
           22488,
           5032,
           66240,
           13071,
           898342,
           50450,
           32729,
           7571,
           80607,
           12551,
           109944,
           10450
          ],
          "sizemode": "area",
          "sizeref": 254.2613888888889,
          "symbol": "circle"
         },
         "mode": "markers",
         "name": "Biology & Life Science",
         "orientation": "v",
         "showlegend": true,
         "type": "scatter",
         "x": [
          38068,
          17793,
          22488,
          5032,
          66240,
          13071,
          898342,
          50450,
          32729,
          7571,
          80607,
          12551,
          109944,
          10450
         ],
         "xaxis": "x",
         "y": [
          78828,
          33531,
          19978,
          4206,
          42544,
          9100,
          512669,
          25501,
          15914,
          3126,
          34015,
          4802,
          43165,
          4020
         ],
         "yaxis": "y"
        },
        {
         "hovertemplate": "<b>%{hovertext}</b><br><br>Major_category=Education<br>Grad_employed=%{marker.size}<br>Nongrad_employed=%{y}<extra></extra>",
         "hovertext": [
          "EARLY CHILDHOOD EDUCATION",
          "PHYSICAL AND HEALTH EDUCATION TEACHING",
          "MISCELLANEOUS EDUCATION",
          "ELEMENTARY EDUCATION",
          "GENERAL EDUCATION",
          "ART AND MUSIC EDUCATION",
          "TEACHER EDUCATION: MULTIPLE LEVELS",
          "SOCIAL SCIENCE OR HISTORY TEACHER EDUCATION",
          "SECONDARY TEACHER EDUCATION",
          "LANGUAGE AND DRAMA EDUCATION",
          "MATHEMATICS TEACHER EDUCATION",
          "SCIENCE AND COMPUTER TEACHER EDUCATION",
          "SPECIAL NEEDS EDUCATION",
          "LIBRARY SCIENCE",
          "SCHOOL STUDENT COUNSELING",
          "EDUCATIONAL ADMINISTRATION AND SUPERVISION"
         ],
         "legendgroup": "Education",
         "marker": {
          "color": "#000006",
          "size": [
           63027,
           131845,
           86566,
           668185,
           698049,
           123145,
           46866,
           68997,
           128469,
           122260,
           51750,
           42043,
           144858,
           15651,
           11313,
           34142
          ],
          "sizemode": "area",
          "sizeref": 254.2613888888889,
          "symbol": "circle"
         },
         "mode": "markers",
         "name": "Education",
         "orientation": "v",
         "showlegend": true,
         "type": "scatter",
         "x": [
          63027,
          131845,
          86566,
          668185,
          698049,
          123145,
          46866,
          68997,
          128469,
          122260,
          51750,
          42043,
          144858,
          15651,
          11313,
          34142
         ],
         "xaxis": "x",
         "y": [
          100158,
          185279,
          122937,
          762114,
          805371,
          143673,
          54460,
          71644,
          123329,
          102263,
          42354,
          34223,
          100814,
          6798,
          1328,
          3079
         ],
         "yaxis": "y"
        }
       ],
       "layout": {
        "legend": {
         "itemsizing": "constant",
         "title": {
          "text": "Major_category"
         },
         "tracegroupgap": 0
        },
        "margin": {
         "t": 60
        },
        "template": {
         "data": {
          "candlestick": [
           {
            "decreasing": {
             "line": {
              "color": "#000033"
             }
            },
            "increasing": {
             "line": {
              "color": "#000032"
             }
            },
            "type": "candlestick"
           }
          ],
          "contour": [
           {
            "colorscale": [
             [
              0,
              "#000011"
             ],
             [
              0.1111111111111111,
              "#000012"
             ],
             [
              0.2222222222222222,
              "#000013"
             ],
             [
              0.3333333333333333,
              "#000014"
             ],
             [
              0.4444444444444444,
              "#000015"
             ],
             [
              0.5555555555555556,
              "#000016"
             ],
             [
              0.6666666666666666,
              "#000017"
             ],
             [
              0.7777777777777778,
              "#000018"
             ],
             [
              0.8888888888888888,
              "#000019"
             ],
             [
              1,
              "#000020"
             ]
            ],
            "type": "contour"
           }
          ],
          "contourcarpet": [
           {
            "colorscale": [
             [
              0,
              "#000011"
             ],
             [
              0.1111111111111111,
              "#000012"
             ],
             [
              0.2222222222222222,
              "#000013"
             ],
             [
              0.3333333333333333,
              "#000014"
             ],
             [
              0.4444444444444444,
              "#000015"
             ],
             [
              0.5555555555555556,
              "#000016"
             ],
             [
              0.6666666666666666,
              "#000017"
             ],
             [
              0.7777777777777778,
              "#000018"
             ],
             [
              0.8888888888888888,
              "#000019"
             ],
             [
              1,
              "#000020"
             ]
            ],
            "type": "contourcarpet"
           }
          ],
          "heatmap": [
           {
            "colorscale": [
             [
              0,
              "#000011"
             ],
             [
              0.1111111111111111,
              "#000012"
             ],
             [
              0.2222222222222222,
              "#000013"
             ],
             [
              0.3333333333333333,
              "#000014"
             ],
             [
              0.4444444444444444,
              "#000015"
             ],
             [
              0.5555555555555556,
              "#000016"
             ],
             [
              0.6666666666666666,
              "#000017"
             ],
             [
              0.7777777777777778,
              "#000018"
             ],
             [
              0.8888888888888888,
              "#000019"
             ],
             [
              1,
              "#000020"
             ]
            ],
            "type": "heatmap"
           }
          ],
          "histogram2d": [
           {
            "colorscale": [
             [
              0,
              "#000011"
             ],
             [
              0.1111111111111111,
              "#000012"
             ],
             [
              0.2222222222222222,
              "#000013"
             ],
             [
              0.3333333333333333,
              "#000014"
             ],
             [
              0.4444444444444444,
              "#000015"
             ],
             [
              0.5555555555555556,
              "#000016"
             ],
             [
              0.6666666666666666,
              "#000017"
             ],
             [
              0.7777777777777778,
              "#000018"
             ],
             [
              0.8888888888888888,
              "#000019"
             ],
             [
              1,
              "#000020"
             ]
            ],
            "type": "histogram2d"
           }
          ],
          "icicle": [
           {
            "textfont": {
             "color": "white"
            },
            "type": "icicle"
           }
          ],
          "sankey": [
           {
            "textfont": {
             "color": "#000036"
            },
            "type": "sankey"
           }
          ],
          "scatter": [
           {
            "marker": {
             "line": {
              "width": 0
             }
            },
            "type": "scatter"
           }
          ],
          "table": [
           {
            "cells": {
             "fill": {
              "color": "#000038"
             },
             "font": {
              "color": "#000037"
             },
             "line": {
              "color": "#000039"
             }
            },
            "header": {
             "fill": {
              "color": "#000040"
             },
             "font": {
              "color": "#000036"
             },
             "line": {
              "color": "#000039"
             }
            },
            "type": "table"
           }
          ],
          "waterfall": [
           {
            "connector": {
             "line": {
              "color": "#000036",
              "width": 2
             }
            },
            "decreasing": {
             "marker": {
              "color": "#000033"
             }
            },
            "increasing": {
             "marker": {
              "color": "#000032"
             }
            },
            "totals": {
             "marker": {
              "color": "#000034"
             }
            },
            "type": "waterfall"
           }
          ]
         },
         "layout": {
          "coloraxis": {
           "colorscale": [
            [
             0,
             "#000011"
            ],
            [
             0.1111111111111111,
             "#000012"
            ],
            [
             0.2222222222222222,
             "#000013"
            ],
            [
             0.3333333333333333,
             "#000014"
            ],
            [
             0.4444444444444444,
             "#000015"
            ],
            [
             0.5555555555555556,
             "#000016"
            ],
            [
             0.6666666666666666,
             "#000017"
            ],
            [
             0.7777777777777778,
             "#000018"
            ],
            [
             0.8888888888888888,
             "#000019"
            ],
            [
             1,
             "#000020"
            ]
           ]
          },
          "colorscale": {
           "diverging": [
            [
             0,
             "#000021"
            ],
            [
             0.1,
             "#000022"
            ],
            [
             0.2,
             "#000023"
            ],
            [
             0.3,
             "#000024"
            ],
            [
             0.4,
             "#000025"
            ],
            [
             0.5,
             "#000026"
            ],
            [
             0.6,
             "#000027"
            ],
            [
             0.7,
             "#000028"
            ],
            [
             0.8,
             "#000029"
            ],
            [
             0.9,
             "#000030"
            ],
            [
             1,
             "#000031"
            ]
           ],
           "sequential": [
            [
             0,
             "#000011"
            ],
            [
             0.1111111111111111,
             "#000012"
            ],
            [
             0.2222222222222222,
             "#000013"
            ],
            [
             0.3333333333333333,
             "#000014"
            ],
            [
             0.4444444444444444,
             "#000015"
            ],
            [
             0.5555555555555556,
             "#000016"
            ],
            [
             0.6666666666666666,
             "#000017"
            ],
            [
             0.7777777777777778,
             "#000018"
            ],
            [
             0.8888888888888888,
             "#000019"
            ],
            [
             1,
             "#000020"
            ]
           ],
           "sequentialminus": [
            [
             0,
             "#000011"
            ],
            [
             0.1111111111111111,
             "#000012"
            ],
            [
             0.2222222222222222,
             "#000013"
            ],
            [
             0.3333333333333333,
             "#000014"
            ],
            [
             0.4444444444444444,
             "#000015"
            ],
            [
             0.5555555555555556,
             "#000016"
            ],
            [
             0.6666666666666666,
             "#000017"
            ],
            [
             0.7777777777777778,
             "#000018"
            ],
            [
             0.8888888888888888,
             "#000019"
            ],
            [
             1,
             "#000020"
            ]
           ]
          },
          "colorway": [
           "#000001",
           "#000002",
           "#000003",
           "#000004",
           "#000005",
           "#000006",
           "#000007",
           "#000008",
           "#000009",
           "#000010"
          ]
         }
        },
        "xaxis": {
         "anchor": "y",
         "domain": [
          0,
          1
         ],
         "title": {
          "text": "Grad_employed"
         },
         "type": "log"
        },
        "yaxis": {
         "anchor": "x",
         "domain": [
          0,
          1
         ],
         "title": {
          "text": "Nongrad_employed"
         }
        }
       }
      },
      "text/html": [
       "<div>                            <div id=\"1c5307d2-cff4-4fe2-8b2f-19e674007075\" class=\"plotly-graph-div\" style=\"height:525px; width:100%;\"></div>            <script type=\"text/javascript\">                require([\"plotly\"], function(Plotly) {                    window.PLOTLYENV=window.PLOTLYENV || {};                                    if (document.getElementById(\"1c5307d2-cff4-4fe2-8b2f-19e674007075\")) {                    Plotly.newPlot(                        \"1c5307d2-cff4-4fe2-8b2f-19e674007075\",                        [{\"hovertemplate\":\"<b>%{hovertext}</b><br><br>Major_category=Industrial Arts & Consumer Services<br>Grad_employed=%{marker.size}<br>Nongrad_employed=%{y}<extra></extra>\",\"hovertext\":[\"CONSTRUCTION SERVICES\",\"COSMETOLOGY SERVICES AND CULINARY ARTS\",\"ELECTRICAL, MECHANICAL, AND PRECISION TECHNOLOGIES AND PRODUCTION\",\"TRANSPORTATION SCIENCES AND TECHNOLOGIES\",\"FAMILY AND CONSUMER SCIENCES\",\"PHYSICAL FITNESS PARKS RECREATION AND LEISURE\",\"MILITARY TECHNOLOGIES\"],\"legendgroup\":\"Industrial Arts & Consumer Services\",\"marker\":{\"color\":\"#000001\",\"size\":[7098,3590,1984,20035,101593,103790,1248],\"sizemode\":\"area\",\"sizeref\":254.2613888888889,\"symbol\":\"circle\"},\"mode\":\"markers\",\"name\":\"Industrial Arts & Consumer Services\",\"orientation\":\"v\",\"showlegend\":true,\"x\":[7098,3590,1984,20035,101593,103790,1248],\"xaxis\":\"x\",\"y\":[73607,29738,11921,94538,223314,245267,1650],\"yaxis\":\"y\",\"type\":\"scatter\"},{\"hovertemplate\":\"<b>%{hovertext}</b><br><br>Major_category=Arts<br>Grad_employed=%{marker.size}<br>Nongrad_employed=%{y}<extra></extra>\",\"hovertext\":[\"COMMERCIAL ART AND GRAPHIC DESIGN\",\"FILM VIDEO AND PHOTOGRAPHIC ARTS\",\"MISCELLANEOUS FINE ARTS\",\"FINE ARTS\",\"VISUAL AND PERFORMING ARTS\",\"STUDIO ARTS\",\"DRAMA AND THEATER ARTS\",\"MUSIC\"],\"legendgroup\":\"Arts\",\"marker\":{\"color\":\"#000002\",\"size\":[40492,19059,1100,124246,14841,21628,50690,150394],\"sizemode\":\"area\",\"sizeref\":254.2613888888889,\"symbol\":\"circle\"},\"mode\":\"markers\",\"name\":\"Arts\",\"orientation\":\"v\",\"showlegend\":true,\"x\":[40492,19059,1100,124246,14841,21628,50690,150394],\"xaxis\":\"x\",\"y\":[347166,93915,5220,363977,36008,53276,120476,174414],\"yaxis\":\"y\",\"type\":\"scatter\"},{\"hovertemplate\":\"<b>%{hovertext}</b><br><br>Major_category=Business<br>Grad_employed=%{marker.size}<br>Nongrad_employed=%{y}<extra></extra>\",\"hovertext\":[\"HOSPITALITY MANAGEMENT\",\"MARKETING AND MARKETING RESEARCH\",\"MISCELLANEOUS BUSINESS & MEDICAL ADMINISTRATION\",\"BUSINESS MANAGEMENT AND ADMINISTRATION\",\"MANAGEMENT INFORMATION SYSTEMS AND STATISTICS\",\"OPERATIONS LOGISTICS AND E-COMMERCE\",\"GENERAL BUSINESS\",\"ACTUARIAL SCIENCE\",\"ACCOUNTING\",\"FINANCE\",\"HUMAN RESOURCES AND PERSONNEL MANAGEMENT\",\"INTERNATIONAL BUSINESS\",\"BUSINESS ECONOMICS\"],\"legendgroup\":\"Business\",\"marker\":{\"color\":\"#000003\",\"size\":[18368,151570,17691,622357,36227,12659,457191,2020,451610,252242,55106,24519,22935],\"sizemode\":\"area\",\"sizeref\":254.2613888888889,\"symbol\":\"circle\"},\"mode\":\"markers\",\"name\":\"Business\",\"orientation\":\"v\",\"showlegend\":true,\"x\":[18368,151570,17691,622357,36227,12659,457191,2020,451610,252242,55106,24519,22935],\"xaxis\":\"x\",\"y\":[145597,817906,72005,2253649,129179,43074,1510380,6666,1282267,615192,135403,58763,53771],\"yaxis\":\"y\",\"type\":\"scatter\"},{\"hovertemplate\":\"<b>%{hovertext}</b><br><br>Major_category=Computers & Mathematics<br>Grad_employed=%{marker.size}<br>Nongrad_employed=%{y}<extra></extra>\",\"hovertext\":[\"COMMUNICATION TECHNOLOGIES\",\"COMPUTER PROGRAMMING AND DATA PROCESSING\",\"COMPUTER NETWORKING AND TELECOMMUNICATIONS\",\"COMPUTER ADMINISTRATION MANAGEMENT AND SECURITY\",\"COMPUTER AND INFORMATION SYSTEMS\",\"INFORMATION SCIENCES\",\"COMPUTER SCIENCE\",\"MATHEMATICS AND COMPUTER SCIENCE\",\"APPLIED MATHEMATICS\",\"STATISTICS AND DECISION SCIENCE\",\"MATHEMATICS\"],\"legendgroup\":\"Computers & Mathematics\",\"marker\":{\"color\":\"#000004\",\"size\":[7512,4716,9037,8554,60858,22403,281088,3880,14113,16979,287467],\"sizemode\":\"area\",\"sizeref\":254.2613888888889,\"symbol\":\"circle\"},\"mode\":\"markers\",\"name\":\"Computers & Mathematics\",\"orientation\":\"v\",\"showlegend\":true,\"x\":[7512,4716,9037,8554,60858,22403,281088,3880,14113,16979,287467],\"xaxis\":\"x\",\"y\":[43163,22024,41552,29740,209994,63354,623930,5711,13704,17024,262174],\"yaxis\":\"y\",\"type\":\"scatter\"},{\"hovertemplate\":\"<b>%{hovertext}</b><br><br>Major_category=Law & Public Policy<br>Grad_employed=%{marker.size}<br>Nongrad_employed=%{y}<extra></extra>\",\"hovertext\":[\"COURT REPORTING\",\"CRIMINAL JUSTICE AND FIRE PROTECTION\",\"PRE-LAW AND LEGAL STUDIES\",\"PUBLIC ADMINISTRATION\",\"PUBLIC POLICY\"],\"legendgroup\":\"Law & Public Policy\",\"marker\":{\"color\":\"#000005\",\"size\":[1008,154146,24818,31985,12875],\"sizemode\":\"area\",\"sizeref\":254.2613888888889,\"symbol\":\"circle\"},\"mode\":\"markers\",\"name\":\"Law & Public Policy\",\"orientation\":\"v\",\"showlegend\":true,\"x\":[1008,154146,24818,31985,12875],\"xaxis\":\"x\",\"y\":[6967,565748,45218,37006,9478],\"yaxis\":\"y\",\"type\":\"scatter\"},{\"hovertemplate\":\"<b>%{hovertext}</b><br><br>Major_category=Agriculture & Natural Resources<br>Grad_employed=%{marker.size}<br>Nongrad_employed=%{y}<extra></extra>\",\"hovertext\":[\"AGRICULTURE PRODUCTION AND MANAGEMENT\",\"GENERAL AGRICULTURE\",\"FORESTRY\",\"NATURAL RESOURCES MANAGEMENT\",\"PLANT SCIENCE AND AGRONOMY\",\"AGRICULTURAL ECONOMICS\",\"SOIL SCIENCE\",\"ANIMAL SCIENCES\",\"MISCELLANEOUS AGRICULTURE\",\"FOOD SCIENCE\"],\"legendgroup\":\"Agriculture & Natural Resources\",\"marker\":{\"color\":\"#000006\",\"size\":[13104,28930,16831,23394,22782,10592,2284,47755,2758,10857],\"sizemode\":\"area\",\"sizeref\":254.2613888888889,\"symbol\":\"circle\"},\"mode\":\"markers\",\"name\":\"Agriculture & Natural Resources\",\"orientation\":\"v\",\"showlegend\":true,\"x\":[13104,28930,16831,23394,22782,10592,2284,47755,2758,10857],\"xaxis\":\"x\",\"y\":[71781,86631,46815,60690,60241,25557,4654,74896,5978,16298],\"yaxis\":\"y\",\"type\":\"scatter\"},{\"hovertemplate\":\"<b>%{hovertext}</b><br><br>Major_category=Communications & Journalism<br>Grad_employed=%{marker.size}<br>Nongrad_employed=%{y}<extra></extra>\",\"hovertext\":[\"ADVERTISING AND PUBLIC RELATIONS\",\"MASS MEDIA\",\"COMMUNICATIONS\",\"JOURNALISM\"],\"legendgroup\":\"Communications & Journalism\",\"marker\":{\"color\":\"#000007\",\"size\":[28517,35939,212156,91778],\"sizemode\":\"area\",\"sizeref\":254.2613888888889,\"symbol\":\"circle\"},\"mode\":\"markers\",\"name\":\"Communications & Journalism\",\"orientation\":\"v\",\"showlegend\":true,\"x\":[28517,35939,212156,91778],\"xaxis\":\"x\",\"y\":[127832,153722,716886,287521],\"yaxis\":\"y\",\"type\":\"scatter\"},{\"hovertemplate\":\"<b>%{hovertext}</b><br><br>Major_category=Engineering<br>Grad_employed=%{marker.size}<br>Nongrad_employed=%{y}<extra></extra>\",\"hovertext\":[\"MECHANICAL ENGINEERING RELATED TECHNOLOGIES\",\"MISCELLANEOUS ENGINEERING TECHNOLOGIES\",\"INDUSTRIAL PRODUCTION TECHNOLOGIES\",\"ELECTRICAL ENGINEERING TECHNOLOGY\",\"ENGINEERING TECHNOLOGIES\",\"ARCHITECTURAL ENGINEERING\",\"PETROLEUM ENGINEERING\",\"ENGINEERING AND INDUSTRIAL MANAGEMENT\",\"MISCELLANEOUS ENGINEERING\",\"ARCHITECTURE\",\"GENERAL ENGINEERING\",\"CIVIL ENGINEERING\",\"COMPUTER ENGINEERING\",\"MINING AND MINERAL ENGINEERING\",\"MECHANICAL ENGINEERING\",\"INDUSTRIAL AND MANUFACTURING ENGINEERING\",\"GEOLOGICAL AND GEOPHYSICAL ENGINEERING\",\"NAVAL ARCHITECTURE AND MARINE ENGINEERING\",\"ELECTRICAL ENGINEERING\",\"BIOLOGICAL ENGINEERING\",\"MATERIALS ENGINEERING AND MATERIALS SCIENCE\",\"CHEMICAL ENGINEERING\",\"AEROSPACE ENGINEERING\",\"ENVIRONMENTAL ENGINEERING\",\"METALLURGICAL ENGINEERING\",\"ENGINEERING MECHANICS PHYSICS AND SCIENCE\",\"NUCLEAR ENGINEERING\",\"BIOMEDICAL ENGINEERING\",\"MATERIALS SCIENCE\"],\"legendgroup\":\"Engineering\",\"marker\":{\"color\":\"#000008\",\"size\":[4442,12433,14752,22501,9471,4857,5640,12781,19112,114536,199771,150299,73147,4491,266923,66432,2673,6739,371723,16810,13042,124544,42632,9387,9299,15822,8567,19474,12263],\"sizemode\":\"area\",\"sizeref\":254.2613888888889,\"symbol\":\"circle\"},\"mode\":\"markers\",\"name\":\"Engineering\",\"orientation\":\"v\",\"showlegend\":true,\"x\":[4442,12433,14752,22501,9471,4857,5640,12781,19112,114536,199771,150299,73147,4491,266923,66432,2673,6739,371723,16810,13042,124544,42632,9387,9299,15822,8567,19474,12263],\"xaxis\":\"x\",\"y\":[23069,50092,64389,71204,29092,12772,13108,26479,41524,207090,346258,247251,119738,7161,395914,96312,3797,10596,471850,21509,13729,120146,41023,8641,6692,13391,6730,9626,4619],\"yaxis\":\"y\",\"type\":\"scatter\"},{\"hovertemplate\":\"<b>%{hovertext}</b><br><br>Major_category=Social Science<br>Grad_employed=%{marker.size}<br>Nongrad_employed=%{y}<extra></extra>\",\"hovertext\":[\"CRIMINOLOGY\",\"GEOGRAPHY\",\"INTERDISCIPLINARY SOCIAL SCIENCES\",\"SOCIOLOGY\",\"GENERAL SOCIAL SCIENCES\",\"ECONOMICS\",\"MISCELLANEOUS SOCIAL SCIENCES\",\"POLITICAL SCIENCE AND GOVERNMENT\",\"INTERNATIONAL RELATIONS\"],\"legendgroup\":\"Social Science\",\"marker\":{\"color\":\"#000009\",\"size\":[14584,38935,22755,259742,45744,386002,10916,548199,54693],\"sizemode\":\"area\",\"sizeref\":254.2613888888889,\"symbol\":\"circle\"},\"mode\":\"markers\",\"name\":\"Social Science\",\"orientation\":\"v\",\"showlegend\":true,\"x\":[14584,38935,22755,259742,45744,386002,10916,548199,54693],\"xaxis\":\"x\",\"y\":[53419,78756,40252,422359,77095,496450,10935,492011,49168],\"yaxis\":\"y\",\"type\":\"scatter\"},{\"hovertemplate\":\"<b>%{hovertext}</b><br><br>Major_category=Health<br>Grad_employed=%{marker.size}<br>Nongrad_employed=%{y}<extra></extra>\",\"hovertext\":[\"MEDICAL TECHNOLOGIES TECHNICIANS\",\"MEDICAL ASSISTING SERVICES\",\"NURSING\",\"HEALTH AND MEDICAL ADMINISTRATIVE SERVICES\",\"TREATMENT THERAPY PROFESSIONS\",\"MISCELLANEOUS HEALTH MEDICAL PROFESSIONS\",\"GENERAL MEDICAL AND HEALTH SERVICES\",\"NUTRITION SCIENCES\",\"COMMUNITY AND PUBLIC HEALTH\",\"PHARMACY PHARMACEUTICAL SCIENCES AND ADMINISTRATION\",\"COMMUNICATION DISORDERS SCIENCES AND SERVICES\",\"HEALTH AND MEDICAL PREPARATORY PROGRAMS\"],\"legendgroup\":\"Health\",\"marker\":{\"color\":\"#000010\",\"size\":[37639,14499,437115,35283,123279,39185,54355,31411,28112,124688,145102,78132],\"sizemode\":\"area\",\"sizeref\":254.2613888888889,\"symbol\":\"circle\"},\"mode\":\"markers\",\"name\":\"Health\",\"orientation\":\"v\",\"showlegend\":true,\"x\":[37639,14499,437115,35283,123279,39185,54355,31411,28112,124688,145102,78132],\"xaxis\":\"x\",\"y\":[117087,47608,1256606,79713,187311,49431,69217,38530,36104,120500,39683,16221],\"yaxis\":\"y\",\"type\":\"scatter\"},{\"hovertemplate\":\"<b>%{hovertext}</b><br><br>Major_category=Interdisciplinary<br>Grad_employed=%{marker.size}<br>Nongrad_employed=%{y}<extra></extra>\",\"hovertext\":[\"MULTI/INTERDISCIPLINARY STUDIES\"],\"legendgroup\":\"Interdisciplinary\",\"marker\":{\"color\":\"#000001\",\"size\":[12708],\"sizemode\":\"area\",\"sizeref\":254.2613888888889,\"symbol\":\"circle\"},\"mode\":\"markers\",\"name\":\"Interdisciplinary\",\"orientation\":\"v\",\"showlegend\":true,\"x\":[12708],\"xaxis\":\"x\",\"y\":[32600],\"yaxis\":\"y\",\"type\":\"scatter\"},{\"hovertemplate\":\"<b>%{hovertext}</b><br><br>Major_category=Physical Sciences<br>Grad_employed=%{marker.size}<br>Nongrad_employed=%{y}<extra></extra>\",\"hovertext\":[\"NUCLEAR, INDUSTRIAL RADIOLOGY, AND BIOLOGICAL TECHNOLOGIES\",\"MULTI-DISCIPLINARY OR GENERAL SCIENCE\",\"OCEANOGRAPHY\",\"GEOLOGY AND EARTH SCIENCE\",\"PHYSICAL SCIENCES\",\"ATMOSPHERIC SCIENCES AND METEOROLOGY\",\"GEOSCIENCES\",\"ASTRONOMY AND ASTROPHYSICS\",\"CHEMISTRY\",\"PHYSICS\"],\"legendgroup\":\"Physical Sciences\",\"marker\":{\"color\":\"#000002\",\"size\":[3129,162694,5501,66748,5292,8657,7443,5480,336838,168583],\"sizemode\":\"area\",\"sizeref\":254.2613888888889,\"symbol\":\"circle\"},\"mode\":\"markers\",\"name\":\"Physical Sciences\",\"orientation\":\"v\",\"showlegend\":true,\"x\":[3129,162694,5501,66748,5292,8657,7443,5480,336838,168583],\"xaxis\":\"x\",\"y\":[8699,290699,7311,72682,5676,9847,5920,2720,180034,72752],\"yaxis\":\"y\",\"type\":\"scatter\"},{\"hovertemplate\":\"<b>%{hovertext}</b><br><br>Major_category=Humanities & Liberal Arts<br>Grad_employed=%{marker.size}<br>Nongrad_employed=%{y}<extra></extra>\",\"hovertext\":[\"LIBERAL ARTS\",\"COMPOSITION AND RHETORIC\",\"HUMANITIES\",\"ART HISTORY AND CRITICISM\",\"INTERCULTURAL AND INTERNATIONAL STUDIES\",\"THEOLOGY AND RELIGIOUS VOCATIONS\",\"LINGUISTICS AND COMPARATIVE LANGUAGE AND LITERATURE\",\"ANTHROPOLOGY AND ARCHEOLOGY\",\"ENGLISH LANGUAGE AND LITERATURE\",\"OTHER FOREIGN LANGUAGES\",\"AREA ETHNIC AND CIVILIZATION STUDIES\",\"HISTORY\",\"FRENCH GERMAN LATIN AND OTHER COMMON FOREIGN LANGUAGE STUDIES\",\"UNITED STATES HISTORY\",\"PHILOSOPHY AND RELIGIOUS STUDIES\"],\"legendgroup\":\"Humanities & Liberal Arts\",\"marker\":{\"color\":\"#000003\",\"size\":[154404,16723,19264,40441,26153,115266,40277,83632,598806,31558,65878,454797,145043,12217,182113],\"sizemode\":\"area\",\"sizeref\":254.2613888888889,\"symbol\":\"circle\"},\"mode\":\"markers\",\"name\":\"Humanities & Liberal Arts\",\"orientation\":\"v\",\"showlegend\":true,\"x\":[154404,16723,19264,40441,26153,115266,40277,83632,598806,31558,65878,454797,145043,12217,182113],\"xaxis\":\"x\",\"y\":[387303,38047,27799,54192,34373,154911,41522,90622,650188,31878,65609,439435,137925,10913,124979],\"yaxis\":\"y\",\"type\":\"scatter\"},{\"hovertemplate\":\"<b>%{hovertext}</b><br><br>Major_category=Psychology & Social Work<br>Grad_employed=%{marker.size}<br>Nongrad_employed=%{y}<extra></extra>\",\"hovertext\":[\"HUMAN SERVICES AND COMMUNITY ORGANIZATION\",\"SOCIAL PSYCHOLOGY\",\"INDUSTRIAL AND ORGANIZATIONAL PSYCHOLOGY\",\"SOCIAL WORK\",\"PSYCHOLOGY\",\"MISCELLANEOUS PSYCHOLOGY\",\"EDUCATIONAL PSYCHOLOGY\",\"COUNSELING PSYCHOLOGY\",\"CLINICAL PSYCHOLOGY\"],\"legendgroup\":\"Psychology & Social Work\",\"marker\":{\"color\":\"#000004\",\"size\":[23537,4796,9546,203983,915341,24652,18993,38468,16612],\"sizemode\":\"area\",\"sizeref\":254.2613888888889,\"symbol\":\"circle\"},\"mode\":\"markers\",\"name\":\"Psychology & Social Work\",\"orientation\":\"v\",\"showlegend\":true,\"x\":[23537,4796,9546,203983,915341,24652,18993,38468,16612],\"xaxis\":\"x\",\"y\":[58298,6486,11009,211272,938016,20627,8561,12377,4368],\"yaxis\":\"y\",\"type\":\"scatter\"},{\"hovertemplate\":\"<b>%{hovertext}</b><br><br>Major_category=Biology & Life Science<br>Grad_employed=%{marker.size}<br>Nongrad_employed=%{y}<extra></extra>\",\"hovertext\":[\"ENVIRONMENTAL SCIENCE\",\"ECOLOGY\",\"MISCELLANEOUS BIOLOGY\",\"COGNITIVE SCIENCE AND BIOPSYCHOLOGY\",\"MICROBIOLOGY\",\"BOTANY\",\"BIOLOGY\",\"PHYSIOLOGY\",\"MOLECULAR BIOLOGY\",\"PHARMACOLOGY\",\"ZOOLOGY\",\"NEUROSCIENCE\",\"BIOCHEMICAL SCIENCES\",\"GENETICS\"],\"legendgroup\":\"Biology & Life Science\",\"marker\":{\"color\":\"#000005\",\"size\":[38068,17793,22488,5032,66240,13071,898342,50450,32729,7571,80607,12551,109944,10450],\"sizemode\":\"area\",\"sizeref\":254.2613888888889,\"symbol\":\"circle\"},\"mode\":\"markers\",\"name\":\"Biology & Life Science\",\"orientation\":\"v\",\"showlegend\":true,\"x\":[38068,17793,22488,5032,66240,13071,898342,50450,32729,7571,80607,12551,109944,10450],\"xaxis\":\"x\",\"y\":[78828,33531,19978,4206,42544,9100,512669,25501,15914,3126,34015,4802,43165,4020],\"yaxis\":\"y\",\"type\":\"scatter\"},{\"hovertemplate\":\"<b>%{hovertext}</b><br><br>Major_category=Education<br>Grad_employed=%{marker.size}<br>Nongrad_employed=%{y}<extra></extra>\",\"hovertext\":[\"EARLY CHILDHOOD EDUCATION\",\"PHYSICAL AND HEALTH EDUCATION TEACHING\",\"MISCELLANEOUS EDUCATION\",\"ELEMENTARY EDUCATION\",\"GENERAL EDUCATION\",\"ART AND MUSIC EDUCATION\",\"TEACHER EDUCATION: MULTIPLE LEVELS\",\"SOCIAL SCIENCE OR HISTORY TEACHER EDUCATION\",\"SECONDARY TEACHER EDUCATION\",\"LANGUAGE AND DRAMA EDUCATION\",\"MATHEMATICS TEACHER EDUCATION\",\"SCIENCE AND COMPUTER TEACHER EDUCATION\",\"SPECIAL NEEDS EDUCATION\",\"LIBRARY SCIENCE\",\"SCHOOL STUDENT COUNSELING\",\"EDUCATIONAL ADMINISTRATION AND SUPERVISION\"],\"legendgroup\":\"Education\",\"marker\":{\"color\":\"#000006\",\"size\":[63027,131845,86566,668185,698049,123145,46866,68997,128469,122260,51750,42043,144858,15651,11313,34142],\"sizemode\":\"area\",\"sizeref\":254.2613888888889,\"symbol\":\"circle\"},\"mode\":\"markers\",\"name\":\"Education\",\"orientation\":\"v\",\"showlegend\":true,\"x\":[63027,131845,86566,668185,698049,123145,46866,68997,128469,122260,51750,42043,144858,15651,11313,34142],\"xaxis\":\"x\",\"y\":[100158,185279,122937,762114,805371,143673,54460,71644,123329,102263,42354,34223,100814,6798,1328,3079],\"yaxis\":\"y\",\"type\":\"scatter\"}],                        {\"template\":{\"data\":{\"candlestick\":[{\"decreasing\":{\"line\":{\"color\":\"#000033\"}},\"increasing\":{\"line\":{\"color\":\"#000032\"}},\"type\":\"candlestick\"}],\"contourcarpet\":[{\"colorscale\":[[0.0,\"#000011\"],[0.1111111111111111,\"#000012\"],[0.2222222222222222,\"#000013\"],[0.3333333333333333,\"#000014\"],[0.4444444444444444,\"#000015\"],[0.5555555555555556,\"#000016\"],[0.6666666666666666,\"#000017\"],[0.7777777777777778,\"#000018\"],[0.8888888888888888,\"#000019\"],[1.0,\"#000020\"]],\"type\":\"contourcarpet\"}],\"contour\":[{\"colorscale\":[[0.0,\"#000011\"],[0.1111111111111111,\"#000012\"],[0.2222222222222222,\"#000013\"],[0.3333333333333333,\"#000014\"],[0.4444444444444444,\"#000015\"],[0.5555555555555556,\"#000016\"],[0.6666666666666666,\"#000017\"],[0.7777777777777778,\"#000018\"],[0.8888888888888888,\"#000019\"],[1.0,\"#000020\"]],\"type\":\"contour\"}],\"heatmap\":[{\"colorscale\":[[0.0,\"#000011\"],[0.1111111111111111,\"#000012\"],[0.2222222222222222,\"#000013\"],[0.3333333333333333,\"#000014\"],[0.4444444444444444,\"#000015\"],[0.5555555555555556,\"#000016\"],[0.6666666666666666,\"#000017\"],[0.7777777777777778,\"#000018\"],[0.8888888888888888,\"#000019\"],[1.0,\"#000020\"]],\"type\":\"heatmap\"}],\"histogram2d\":[{\"colorscale\":[[0.0,\"#000011\"],[0.1111111111111111,\"#000012\"],[0.2222222222222222,\"#000013\"],[0.3333333333333333,\"#000014\"],[0.4444444444444444,\"#000015\"],[0.5555555555555556,\"#000016\"],[0.6666666666666666,\"#000017\"],[0.7777777777777778,\"#000018\"],[0.8888888888888888,\"#000019\"],[1.0,\"#000020\"]],\"type\":\"histogram2d\"}],\"icicle\":[{\"textfont\":{\"color\":\"white\"},\"type\":\"icicle\"}],\"sankey\":[{\"textfont\":{\"color\":\"#000036\"},\"type\":\"sankey\"}],\"scatter\":[{\"marker\":{\"line\":{\"width\":0}},\"type\":\"scatter\"}],\"table\":[{\"cells\":{\"fill\":{\"color\":\"#000038\"},\"font\":{\"color\":\"#000037\"},\"line\":{\"color\":\"#000039\"}},\"header\":{\"fill\":{\"color\":\"#000040\"},\"font\":{\"color\":\"#000036\"},\"line\":{\"color\":\"#000039\"}},\"type\":\"table\"}],\"waterfall\":[{\"connector\":{\"line\":{\"color\":\"#000036\",\"width\":2}},\"decreasing\":{\"marker\":{\"color\":\"#000033\"}},\"increasing\":{\"marker\":{\"color\":\"#000032\"}},\"totals\":{\"marker\":{\"color\":\"#000034\"}},\"type\":\"waterfall\"}]},\"layout\":{\"coloraxis\":{\"colorscale\":[[0.0,\"#000011\"],[0.1111111111111111,\"#000012\"],[0.2222222222222222,\"#000013\"],[0.3333333333333333,\"#000014\"],[0.4444444444444444,\"#000015\"],[0.5555555555555556,\"#000016\"],[0.6666666666666666,\"#000017\"],[0.7777777777777778,\"#000018\"],[0.8888888888888888,\"#000019\"],[1.0,\"#000020\"]]},\"colorscale\":{\"diverging\":[[0.0,\"#000021\"],[0.1,\"#000022\"],[0.2,\"#000023\"],[0.3,\"#000024\"],[0.4,\"#000025\"],[0.5,\"#000026\"],[0.6,\"#000027\"],[0.7,\"#000028\"],[0.8,\"#000029\"],[0.9,\"#000030\"],[1.0,\"#000031\"]],\"sequential\":[[0.0,\"#000011\"],[0.1111111111111111,\"#000012\"],[0.2222222222222222,\"#000013\"],[0.3333333333333333,\"#000014\"],[0.4444444444444444,\"#000015\"],[0.5555555555555556,\"#000016\"],[0.6666666666666666,\"#000017\"],[0.7777777777777778,\"#000018\"],[0.8888888888888888,\"#000019\"],[1.0,\"#000020\"]],\"sequentialminus\":[[0.0,\"#000011\"],[0.1111111111111111,\"#000012\"],[0.2222222222222222,\"#000013\"],[0.3333333333333333,\"#000014\"],[0.4444444444444444,\"#000015\"],[0.5555555555555556,\"#000016\"],[0.6666666666666666,\"#000017\"],[0.7777777777777778,\"#000018\"],[0.8888888888888888,\"#000019\"],[1.0,\"#000020\"]]},\"colorway\":[\"#000001\",\"#000002\",\"#000003\",\"#000004\",\"#000005\",\"#000006\",\"#000007\",\"#000008\",\"#000009\",\"#000010\"]}},\"xaxis\":{\"anchor\":\"y\",\"domain\":[0.0,1.0],\"title\":{\"text\":\"Grad_employed\"},\"type\":\"log\"},\"yaxis\":{\"anchor\":\"x\",\"domain\":[0.0,1.0],\"title\":{\"text\":\"Nongrad_employed\"}},\"legend\":{\"title\":{\"text\":\"Major_category\"},\"tracegroupgap\":0,\"itemsizing\":\"constant\"},\"margin\":{\"t\":60}},                        {\"responsive\": true}                    ).then(function(){\n",
       "                            \n",
       "var gd = document.getElementById('1c5307d2-cff4-4fe2-8b2f-19e674007075');\n",
       "var x = new MutationObserver(function (mutations, observer) {{\n",
       "        var display = window.getComputedStyle(gd).display;\n",
       "        if (!display || display === 'none') {{\n",
       "            console.log([gd, 'removed!']);\n",
       "            Plotly.purge(gd);\n",
       "            observer.disconnect();\n",
       "        }}\n",
       "}});\n",
       "\n",
       "// Listen for the removal of the full notebook cells\n",
       "var notebookContainer = gd.closest('#notebook-container');\n",
       "if (notebookContainer) {{\n",
       "    x.observe(notebookContainer, {childList: true});\n",
       "}}\n",
       "\n",
       "// Listen for the clearing of the current output cell\n",
       "var outputEl = gd.closest('.output');\n",
       "if (outputEl) {{\n",
       "    x.observe(outputEl, {childList: true});\n",
       "}}\n",
       "\n",
       "                        })                };                });            </script>        </div>"
      ]
     },
     "metadata": {},
     "output_type": "display_data"
    }
   ],
   "source": [
    "fig = px.scatter(df_grad, x=\"Grad_employed\", y=\"Nongrad_employed\",\n",
    "size=\"Grad_employed\", color=\"Major_category\",\n",
    "hover_name=\"Major\", log_x=True, size_max=60)\n",
    "fig.show()"
   ]
  },
  {
   "cell_type": "code",
   "execution_count": 137,
   "id": "6f34b266",
   "metadata": {},
   "outputs": [
    {
     "data": {
      "application/vnd.plotly.v1+json": {
       "config": {
        "plotlyServerURL": "https://plot.ly"
       },
       "data": [
        {
         "a": [
          0.07098,
          0.0359,
          0.01984,
          0.20034999999999997,
          1.01593,
          1.0379,
          0.01248
         ],
         "b": [
          0.09631963,
          0.125878193,
          0.176770758,
          0.184368063,
          0.282429878,
          0.286964144,
          0.447500969
         ],
         "c": [
          0.153846154,
          0.129807692,
          0.24,
          0.304347826,
          0.380952381,
          0.333333333,
          0.15625
         ],
         "hovertemplate": "<b>%{hovertext}</b><br><br>Major_category=Industrial Arts & Consumer Services<br>Grad_employed=%{a}<br>Grad_share=%{marker.size}<br>Grad_premium=%{c}<extra></extra>",
         "hovertext": [
          "CONSTRUCTION SERVICES",
          "COSMETOLOGY SERVICES AND CULINARY ARTS",
          "ELECTRICAL, MECHANICAL, AND PRECISION TECHNOLOGIES AND PRODUCTION",
          "TRANSPORTATION SCIENCES AND TECHNOLOGIES",
          "FAMILY AND CONSUMER SCIENCES",
          "PHYSICAL FITNESS PARKS RECREATION AND LEISURE",
          "MILITARY TECHNOLOGIES"
         ],
         "legendgroup": "Industrial Arts & Consumer Services",
         "marker": {
          "color": "#000004",
          "size": [
           0.09631963,
           0.125878193,
           0.176770758,
           0.184368063,
           0.282429878,
           0.286964144,
           0.447500969
          ],
          "sizemode": "area",
          "sizeref": 0.004138555528888889,
          "symbol": "circle"
         },
         "mode": "markers",
         "name": "Industrial Arts & Consumer Services",
         "showlegend": true,
         "subplot": "ternary",
         "type": "scatterternary"
        },
        {
         "a": [
          0.40492,
          0.19058999999999998,
          0.011,
          1.24246,
          0.14841,
          0.21627999999999997,
          0.5069,
          1.50394
         ],
         "b": [
          0.104419773,
          0.174328099,
          0.197447875,
          0.251075113,
          0.274016031,
          0.280237906,
          0.29793958,
          0.449243128
         ],
         "c": [
          0.25,
          0.14,
          0.195652174,
          0.260869565,
          0.325,
          0.335526316,
          0.302222222,
          0.293103448
         ],
         "hovertemplate": "<b>%{hovertext}</b><br><br>Major_category=Arts<br>Grad_employed=%{a}<br>Grad_share=%{marker.size}<br>Grad_premium=%{c}<extra></extra>",
         "hovertext": [
          "COMMERCIAL ART AND GRAPHIC DESIGN",
          "FILM VIDEO AND PHOTOGRAPHIC ARTS",
          "MISCELLANEOUS FINE ARTS",
          "FINE ARTS",
          "VISUAL AND PERFORMING ARTS",
          "STUDIO ARTS",
          "DRAMA AND THEATER ARTS",
          "MUSIC"
         ],
         "legendgroup": "Arts",
         "marker": {
          "color": "#000005",
          "size": [
           0.104419773,
           0.174328099,
           0.197447875,
           0.251075113,
           0.274016031,
           0.280237906,
           0.29793958,
           0.449243128
          ],
          "sizemode": "area",
          "sizeref": 0.004138555528888889,
          "symbol": "circle"
         },
         "mode": "markers",
         "name": "Arts",
         "showlegend": true,
         "subplot": "ternary",
         "type": "scatterternary"
        },
        {
         "a": [
          0.18368,
          1.5157,
          0.17690999999999998,
          6.2235700000000005,
          0.36227,
          0.12659,
          4.57191,
          0.020200000000000003,
          4.5161,
          2.52242,
          0.55106,
          0.24519000000000002,
          0.22935
         ],
         "b": [
          0.11983686,
          0.156531388,
          0.190460507,
          0.213474246,
          0.218502707,
          0.224384864,
          0.226692598,
          0.236103152,
          0.250067271,
          0.287956791,
          0.289268654,
          0.292487917,
          0.301991283
         ],
         "c": [
          0.3,
          0.333333333,
          0.363636364,
          0.283333333,
          0.236111111,
          0.424242424,
          0.416666667,
          0.447368421,
          0.353846154,
          0.357142857,
          0.272727273,
          0.263157895,
          0.342857143
         ],
         "hovertemplate": "<b>%{hovertext}</b><br><br>Major_category=Business<br>Grad_employed=%{a}<br>Grad_share=%{marker.size}<br>Grad_premium=%{c}<extra></extra>",
         "hovertext": [
          "HOSPITALITY MANAGEMENT",
          "MARKETING AND MARKETING RESEARCH",
          "MISCELLANEOUS BUSINESS & MEDICAL ADMINISTRATION",
          "BUSINESS MANAGEMENT AND ADMINISTRATION",
          "MANAGEMENT INFORMATION SYSTEMS AND STATISTICS",
          "OPERATIONS LOGISTICS AND E-COMMERCE",
          "GENERAL BUSINESS",
          "ACTUARIAL SCIENCE",
          "ACCOUNTING",
          "FINANCE",
          "HUMAN RESOURCES AND PERSONNEL MANAGEMENT",
          "INTERNATIONAL BUSINESS",
          "BUSINESS ECONOMICS"
         ],
         "legendgroup": "Business",
         "marker": {
          "color": "#000006",
          "size": [
           0.11983686,
           0.156531388,
           0.190460507,
           0.213474246,
           0.218502707,
           0.224384864,
           0.226692598,
           0.236103152,
           0.250067271,
           0.287956791,
           0.289268654,
           0.292487917,
           0.301991283
          ],
          "sizemode": "area",
          "sizeref": 0.004138555528888889,
          "symbol": "circle"
         },
         "mode": "markers",
         "name": "Business",
         "showlegend": true,
         "subplot": "ternary",
         "type": "scatterternary"
        },
        {
         "a": [
          0.07511999999999999,
          0.04716,
          0.09036999999999999,
          0.08554,
          0.60858,
          0.22403,
          2.81088,
          0.0388,
          0.14113,
          0.16979,
          2.87467
         ],
         "b": [
          0.144752733,
          0.165394252,
          0.186266495,
          0.222857514,
          0.227995576,
          0.258323237,
          0.304893396,
          0.407419956,
          0.497074321,
          0.497317973,
          0.506671902
         ],
         "c": [
          0.096153846,
          0.416666667,
          0.379310345,
          0.35,
          0.230769231,
          0.2,
          0.1875,
          0.065217391,
          0.315789474,
          0.226666667,
          0.308823529
         ],
         "hovertemplate": "<b>%{hovertext}</b><br><br>Major_category=Computers & Mathematics<br>Grad_employed=%{a}<br>Grad_share=%{marker.size}<br>Grad_premium=%{c}<extra></extra>",
         "hovertext": [
          "COMMUNICATION TECHNOLOGIES",
          "COMPUTER PROGRAMMING AND DATA PROCESSING",
          "COMPUTER NETWORKING AND TELECOMMUNICATIONS",
          "COMPUTER ADMINISTRATION MANAGEMENT AND SECURITY",
          "COMPUTER AND INFORMATION SYSTEMS",
          "INFORMATION SCIENCES",
          "COMPUTER SCIENCE",
          "MATHEMATICS AND COMPUTER SCIENCE",
          "APPLIED MATHEMATICS",
          "STATISTICS AND DECISION SCIENCE",
          "MATHEMATICS"
         ],
         "legendgroup": "Computers & Mathematics",
         "marker": {
          "color": "#000007",
          "size": [
           0.144752733,
           0.165394252,
           0.186266495,
           0.222857514,
           0.227995576,
           0.258323237,
           0.304893396,
           0.407419956,
           0.497074321,
           0.497317973,
           0.506671902
          ],
          "sizemode": "area",
          "sizeref": 0.004138555528888889,
          "symbol": "circle"
         },
         "mode": "markers",
         "name": "Computers & Mathematics",
         "showlegend": true,
         "subplot": "ternary",
         "type": "scatterternary"
        },
        {
         "a": [
          0.01008,
          1.54146,
          0.24817999999999998,
          0.31985,
          0.12875
         ],
         "b": [
          0.147376469,
          0.213026645,
          0.350637532,
          0.444834885,
          0.55695649
         ],
         "c": [
          0.5,
          0.307692308,
          0.52,
          0.293103448,
          0.412698413
         ],
         "hovertemplate": "<b>%{hovertext}</b><br><br>Major_category=Law & Public Policy<br>Grad_employed=%{a}<br>Grad_share=%{marker.size}<br>Grad_premium=%{c}<extra></extra>",
         "hovertext": [
          "COURT REPORTING",
          "CRIMINAL JUSTICE AND FIRE PROTECTION",
          "PRE-LAW AND LEGAL STUDIES",
          "PUBLIC ADMINISTRATION",
          "PUBLIC POLICY"
         ],
         "legendgroup": "Law & Public Policy",
         "marker": {
          "color": "#000008",
          "size": [
           0.147376469,
           0.213026645,
           0.350637532,
           0.444834885,
           0.55695649
          ],
          "sizemode": "area",
          "sizeref": 0.004138555528888889,
          "symbol": "circle"
         },
         "mode": "markers",
         "name": "Law & Public Policy",
         "showlegend": true,
         "subplot": "ternary",
         "type": "scatterternary"
        },
        {
         "a": [
          0.13104,
          0.2893,
          0.16831000000000002,
          0.23393999999999998,
          0.22782,
          0.10591999999999999,
          0.02284,
          0.47755000000000003,
          0.02758,
          0.10857000000000001
         ],
         "b": [
          0.163964859,
          0.263271733,
          0.267566748,
          0.275761333,
          0.289093335,
          0.30930636,
          0.348230135,
          0.374427388,
          0.383419689,
          0.388532135
         ],
         "c": [
          0.218181818,
          0.36,
          0.322033898,
          0.320754717,
          0.34,
          0.26984127,
          0,
          0.464583333,
          -0.018181818,
          0.142857143
         ],
         "hovertemplate": "<b>%{hovertext}</b><br><br>Major_category=Agriculture & Natural Resources<br>Grad_employed=%{a}<br>Grad_share=%{marker.size}<br>Grad_premium=%{c}<extra></extra>",
         "hovertext": [
          "AGRICULTURE PRODUCTION AND MANAGEMENT",
          "GENERAL AGRICULTURE",
          "FORESTRY",
          "NATURAL RESOURCES MANAGEMENT",
          "PLANT SCIENCE AND AGRONOMY",
          "AGRICULTURAL ECONOMICS",
          "SOIL SCIENCE",
          "ANIMAL SCIENCES",
          "MISCELLANEOUS AGRICULTURE",
          "FOOD SCIENCE"
         ],
         "legendgroup": "Agriculture & Natural Resources",
         "marker": {
          "color": "#000009",
          "size": [
           0.163964859,
           0.263271733,
           0.267566748,
           0.275761333,
           0.289093335,
           0.30930636,
           0.348230135,
           0.374427388,
           0.383419689,
           0.388532135
          ],
          "sizemode": "area",
          "sizeref": 0.004138555528888889,
          "symbol": "circle"
         },
         "mode": "markers",
         "name": "Agriculture & Natural Resources",
         "showlegend": true,
         "subplot": "ternary",
         "type": "scatterternary"
        },
        {
         "a": [
          0.28517000000000003,
          0.35939,
          2.1215599999999997,
          0.9177799999999999
         ],
         "b": [
          0.171906588,
          0.184235946,
          0.228949531,
          0.237030348
         ],
         "c": [
          0.176470588,
          0.14,
          0.25,
          0.320754717
         ],
         "hovertemplate": "<b>%{hovertext}</b><br><br>Major_category=Communications & Journalism<br>Grad_employed=%{a}<br>Grad_share=%{marker.size}<br>Grad_premium=%{c}<extra></extra>",
         "hovertext": [
          "ADVERTISING AND PUBLIC RELATIONS",
          "MASS MEDIA",
          "COMMUNICATIONS",
          "JOURNALISM"
         ],
         "legendgroup": "Communications & Journalism",
         "marker": {
          "color": "#000010",
          "size": [
           0.171906588,
           0.184235946,
           0.228949531,
           0.237030348
          ],
          "sizemode": "area",
          "sizeref": 0.004138555528888889,
          "symbol": "circle"
         },
         "mode": "markers",
         "name": "Communications & Journalism",
         "showlegend": true,
         "subplot": "ternary",
         "type": "scatterternary"
        },
        {
         "a": [
          0.04442,
          0.12433000000000001,
          0.14752,
          0.22501000000000002,
          0.09471,
          0.04857,
          0.05639999999999999,
          0.12781,
          0.19112,
          1.14536,
          1.99771,
          1.50299,
          0.7314700000000001,
          0.04491,
          2.6692299999999998,
          0.66432,
          0.026729999999999997,
          0.06739,
          3.71723,
          0.1681,
          0.13042,
          1.2454399999999999,
          0.42632000000000003,
          0.09387,
          0.09298999999999999,
          0.15822,
          0.08567,
          0.19474,
          0.12262999999999999
         ],
         "b": [
          0.178047205,
          0.196532559,
          0.196957241,
          0.23651515,
          0.245703747,
          0.258992229,
          0.288074879,
          0.304834567,
          0.327183148,
          0.346526207,
          0.357320347,
          0.367441121,
          0.367557259,
          0.367708396,
          0.388143662,
          0.397771698,
          0.398745066,
          0.406664157,
          0.428013008,
          0.429638357,
          0.458323254,
          0.492391674,
          0.493397308,
          0.516228476,
          0.521002632,
          0.533637884,
          0.547688463,
          0.641857635,
          0.715388107
         ],
         "c": [
          0.278688525,
          0.230769231,
          0.207142857,
          0.25,
          0.138461538,
          -0.025,
          -0.015873016,
          0.426666667,
          0.285714286,
          0.125,
          0.333333333,
          0.225,
          0.197530864,
          0.052631579,
          0.219512195,
          0.289473684,
          0.206896552,
          0.02,
          0.177777778,
          0.230769231,
          0.179487179,
          0.133333333,
          0.258823529,
          0.126564673,
          0.020408163,
          0.428571429,
          0.1,
          0.285714286,
          0.1875
         ],
         "hovertemplate": "<b>%{hovertext}</b><br><br>Major_category=Engineering<br>Grad_employed=%{a}<br>Grad_share=%{marker.size}<br>Grad_premium=%{c}<extra></extra>",
         "hovertext": [
          "MECHANICAL ENGINEERING RELATED TECHNOLOGIES",
          "MISCELLANEOUS ENGINEERING TECHNOLOGIES",
          "INDUSTRIAL PRODUCTION TECHNOLOGIES",
          "ELECTRICAL ENGINEERING TECHNOLOGY",
          "ENGINEERING TECHNOLOGIES",
          "ARCHITECTURAL ENGINEERING",
          "PETROLEUM ENGINEERING",
          "ENGINEERING AND INDUSTRIAL MANAGEMENT",
          "MISCELLANEOUS ENGINEERING",
          "ARCHITECTURE",
          "GENERAL ENGINEERING",
          "CIVIL ENGINEERING",
          "COMPUTER ENGINEERING",
          "MINING AND MINERAL ENGINEERING",
          "MECHANICAL ENGINEERING",
          "INDUSTRIAL AND MANUFACTURING ENGINEERING",
          "GEOLOGICAL AND GEOPHYSICAL ENGINEERING",
          "NAVAL ARCHITECTURE AND MARINE ENGINEERING",
          "ELECTRICAL ENGINEERING",
          "BIOLOGICAL ENGINEERING",
          "MATERIALS ENGINEERING AND MATERIALS SCIENCE",
          "CHEMICAL ENGINEERING",
          "AEROSPACE ENGINEERING",
          "ENVIRONMENTAL ENGINEERING",
          "METALLURGICAL ENGINEERING",
          "ENGINEERING MECHANICS PHYSICS AND SCIENCE",
          "NUCLEAR ENGINEERING",
          "BIOMEDICAL ENGINEERING",
          "MATERIALS SCIENCE"
         ],
         "legendgroup": "Engineering",
         "marker": {
          "color": "#000001",
          "size": [
           0.178047205,
           0.196532559,
           0.196957241,
           0.23651515,
           0.245703747,
           0.258992229,
           0.288074879,
           0.304834567,
           0.327183148,
           0.346526207,
           0.357320347,
           0.367441121,
           0.367557259,
           0.367708396,
           0.388143662,
           0.397771698,
           0.398745066,
           0.406664157,
           0.428013008,
           0.429638357,
           0.458323254,
           0.492391674,
           0.493397308,
           0.516228476,
           0.521002632,
           0.533637884,
           0.547688463,
           0.641857635,
           0.715388107
          ],
          "sizemode": "area",
          "sizeref": 0.004138555528888889,
          "symbol": "circle"
         },
         "mode": "markers",
         "name": "Engineering",
         "showlegend": true,
         "subplot": "ternary",
         "type": "scatterternary"
        },
        {
         "a": [
          0.14584,
          0.38935,
          0.22755,
          2.59742,
          0.45743999999999996,
          3.86002,
          0.10916,
          5.48199,
          0.5469299999999999
         ],
         "b": [
          0.216157792,
          0.324085641,
          0.344072928,
          0.37028854,
          0.373895136,
          0.424882885,
          0.495861073,
          0.507741743,
          0.509005108
         ],
         "c": [
          0.3,
          0.327272727,
          0.434782609,
          0.306122449,
          0.38,
          0.428571429,
          0.351851852,
          0.533333333,
          0.433333333
         ],
         "hovertemplate": "<b>%{hovertext}</b><br><br>Major_category=Social Science<br>Grad_employed=%{a}<br>Grad_share=%{marker.size}<br>Grad_premium=%{c}<extra></extra>",
         "hovertext": [
          "CRIMINOLOGY",
          "GEOGRAPHY",
          "INTERDISCIPLINARY SOCIAL SCIENCES",
          "SOCIOLOGY",
          "GENERAL SOCIAL SCIENCES",
          "ECONOMICS",
          "MISCELLANEOUS SOCIAL SCIENCES",
          "POLITICAL SCIENCE AND GOVERNMENT",
          "INTERNATIONAL RELATIONS"
         ],
         "legendgroup": "Social Science",
         "marker": {
          "color": "#000002",
          "size": [
           0.216157792,
           0.324085641,
           0.344072928,
           0.37028854,
           0.373895136,
           0.424882885,
           0.495861073,
           0.507741743,
           0.509005108
          ],
          "sizemode": "area",
          "sizeref": 0.004138555528888889,
          "symbol": "circle"
         },
         "mode": "markers",
         "name": "Social Science",
         "showlegend": true,
         "subplot": "ternary",
         "type": "scatterternary"
        },
        {
         "a": [
          0.37639,
          0.14499,
          4.37115,
          0.35283000000000003,
          1.23279,
          0.39185,
          0.54355,
          0.31411,
          0.28112,
          1.24688,
          1.45102,
          0.78132
         ],
         "b": [
          0.227779742,
          0.237951884,
          0.253705373,
          0.309043808,
          0.377376756,
          0.415332324,
          0.416198893,
          0.419394688,
          0.427656989,
          0.46751117,
          0.753961124,
          0.813717788
         ],
         "c": [
          0.266666667,
          0.428571429,
          0.3125,
          0.519230769,
          0.111111111,
          0.333333333,
          0.346153846,
          0.3,
          0.37,
          0.037383178,
          0.477272727,
          1.647058824
         ],
         "hovertemplate": "<b>%{hovertext}</b><br><br>Major_category=Health<br>Grad_employed=%{a}<br>Grad_share=%{marker.size}<br>Grad_premium=%{c}<extra></extra>",
         "hovertext": [
          "MEDICAL TECHNOLOGIES TECHNICIANS",
          "MEDICAL ASSISTING SERVICES",
          "NURSING",
          "HEALTH AND MEDICAL ADMINISTRATIVE SERVICES",
          "TREATMENT THERAPY PROFESSIONS",
          "MISCELLANEOUS HEALTH MEDICAL PROFESSIONS",
          "GENERAL MEDICAL AND HEALTH SERVICES",
          "NUTRITION SCIENCES",
          "COMMUNITY AND PUBLIC HEALTH",
          "PHARMACY PHARMACEUTICAL SCIENCES AND ADMINISTRATION",
          "COMMUNICATION DISORDERS SCIENCES AND SERVICES",
          "HEALTH AND MEDICAL PREPARATORY PROGRAMS"
         ],
         "legendgroup": "Health",
         "marker": {
          "color": "#000003",
          "size": [
           0.227779742,
           0.237951884,
           0.253705373,
           0.309043808,
           0.377376756,
           0.415332324,
           0.416198893,
           0.419394688,
           0.427656989,
           0.46751117,
           0.753961124,
           0.813717788
          ],
          "sizemode": "area",
          "sizeref": 0.004138555528888889,
          "symbol": "circle"
         },
         "mode": "markers",
         "name": "Health",
         "showlegend": true,
         "subplot": "ternary",
         "type": "scatterternary"
        },
        {
         "a": [
          0.12708
         ],
         "b": [
          0.259910146
         ],
         "c": [
          0.25
         ],
         "hovertemplate": "<b>%{hovertext}</b><br><br>Major_category=Interdisciplinary<br>Grad_employed=%{a}<br>Grad_share=%{marker.size}<br>Grad_premium=%{c}<extra></extra>",
         "hovertext": [
          "MULTI/INTERDISCIPLINARY STUDIES"
         ],
         "legendgroup": "Interdisciplinary",
         "marker": {
          "color": "#000004",
          "size": [
           0.259910146
          ],
          "sizemode": "area",
          "sizeref": 0.004138555528888889,
          "symbol": "circle"
         },
         "mode": "markers",
         "name": "Interdisciplinary",
         "showlegend": true,
         "subplot": "ternary",
         "type": "scatterternary"
        },
        {
         "a": [
          0.03129,
          1.62694,
          0.05501,
          0.6674800000000001,
          0.05292,
          0.08657000000000001,
          0.07443,
          0.0548,
          3.3683799999999997,
          1.68583
         ],
         "b": [
          0.261032112,
          0.357429391,
          0.428931629,
          0.466026237,
          0.484338958,
          0.485162837,
          0.530295001,
          0.61886608,
          0.622349934,
          0.671706684
         ],
         "c": [
          0.25,
          0.457627119,
          0.5,
          0.272727273,
          0.333333333,
          0.366666667,
          0.551724138,
          0.129411765,
          0.666666667,
          0.351351351
         ],
         "hovertemplate": "<b>%{hovertext}</b><br><br>Major_category=Physical Sciences<br>Grad_employed=%{a}<br>Grad_share=%{marker.size}<br>Grad_premium=%{c}<extra></extra>",
         "hovertext": [
          "NUCLEAR, INDUSTRIAL RADIOLOGY, AND BIOLOGICAL TECHNOLOGIES",
          "MULTI-DISCIPLINARY OR GENERAL SCIENCE",
          "OCEANOGRAPHY",
          "GEOLOGY AND EARTH SCIENCE",
          "PHYSICAL SCIENCES",
          "ATMOSPHERIC SCIENCES AND METEOROLOGY",
          "GEOSCIENCES",
          "ASTRONOMY AND ASTROPHYSICS",
          "CHEMISTRY",
          "PHYSICS"
         ],
         "legendgroup": "Physical Sciences",
         "marker": {
          "color": "#000005",
          "size": [
           0.261032112,
           0.357429391,
           0.428931629,
           0.466026237,
           0.484338958,
           0.485162837,
           0.530295001,
           0.61886608,
           0.622349934,
           0.671706684
          ],
          "sizemode": "area",
          "sizeref": 0.004138555528888889,
          "symbol": "circle"
         },
         "mode": "markers",
         "name": "Physical Sciences",
         "showlegend": true,
         "subplot": "ternary",
         "type": "scatterternary"
        },
        {
         "a": [
          1.54404,
          0.16723,
          0.19263999999999998,
          0.40441000000000005,
          0.26153,
          1.15266,
          0.40277,
          0.8363200000000001,
          5.98806,
          0.31558,
          0.6587799999999999,
          4.54797,
          1.45043,
          0.12217,
          1.8211300000000001
         ],
         "b": [
          0.270969523,
          0.297514876,
          0.388230307,
          0.408097714,
          0.41911102,
          0.428781706,
          0.456546911,
          0.461051948,
          0.463985366,
          0.469386528,
          0.481668312,
          0.495517864,
          0.499117062,
          0.53053596,
          0.575161177
         ],
         "c": [
          0.4,
          0.380952381,
          0.382978723,
          0.428571429,
          0.4,
          0.2,
          0.326530612,
          0.444444444,
          0.34,
          0.446808511,
          0.5,
          0.538461538,
          0.34,
          0.576923077,
          0.413043478
         ],
         "hovertemplate": "<b>%{hovertext}</b><br><br>Major_category=Humanities & Liberal Arts<br>Grad_employed=%{a}<br>Grad_share=%{marker.size}<br>Grad_premium=%{c}<extra></extra>",
         "hovertext": [
          "LIBERAL ARTS",
          "COMPOSITION AND RHETORIC",
          "HUMANITIES",
          "ART HISTORY AND CRITICISM",
          "INTERCULTURAL AND INTERNATIONAL STUDIES",
          "THEOLOGY AND RELIGIOUS VOCATIONS",
          "LINGUISTICS AND COMPARATIVE LANGUAGE AND LITERATURE",
          "ANTHROPOLOGY AND ARCHEOLOGY",
          "ENGLISH LANGUAGE AND LITERATURE",
          "OTHER FOREIGN LANGUAGES",
          "AREA ETHNIC AND CIVILIZATION STUDIES",
          "HISTORY",
          "FRENCH GERMAN LATIN AND OTHER COMMON FOREIGN LANGUAGE STUDIES",
          "UNITED STATES HISTORY",
          "PHILOSOPHY AND RELIGIOUS STUDIES"
         ],
         "legendgroup": "Humanities & Liberal Arts",
         "marker": {
          "color": "#000006",
          "size": [
           0.270969523,
           0.297514876,
           0.388230307,
           0.408097714,
           0.41911102,
           0.428781706,
           0.456546911,
           0.461051948,
           0.463985366,
           0.469386528,
           0.481668312,
           0.495517864,
           0.499117062,
           0.53053596,
           0.575161177
          ],
          "sizemode": "area",
          "sizeref": 0.004138555528888889,
          "symbol": "circle"
         },
         "mode": "markers",
         "name": "Humanities & Liberal Arts",
         "showlegend": true,
         "subplot": "ternary",
         "type": "scatterternary"
        },
        {
         "a": [
          0.23537,
          0.04796,
          0.09546,
          2.03983,
          9.15341,
          0.24652,
          0.18993,
          0.38468,
          0.16612
         ],
         "b": [
          0.272541842,
          0.404701398,
          0.446665798,
          0.463740699,
          0.472468987,
          0.520237864,
          0.681670435,
          0.755354045,
          0.777013853
         ],
         "c": [
          0.294573643,
          0.448979592,
          0.19047619,
          0.325,
          0.391304348,
          0.446808511,
          0.525,
          0.25,
          0.52173913
         ],
         "hovertemplate": "<b>%{hovertext}</b><br><br>Major_category=Psychology & Social Work<br>Grad_employed=%{a}<br>Grad_share=%{marker.size}<br>Grad_premium=%{c}<extra></extra>",
         "hovertext": [
          "HUMAN SERVICES AND COMMUNITY ORGANIZATION",
          "SOCIAL PSYCHOLOGY",
          "INDUSTRIAL AND ORGANIZATIONAL PSYCHOLOGY",
          "SOCIAL WORK",
          "PSYCHOLOGY",
          "MISCELLANEOUS PSYCHOLOGY",
          "EDUCATIONAL PSYCHOLOGY",
          "COUNSELING PSYCHOLOGY",
          "CLINICAL PSYCHOLOGY"
         ],
         "legendgroup": "Psychology & Social Work",
         "marker": {
          "color": "#000007",
          "size": [
           0.272541842,
           0.404701398,
           0.446665798,
           0.463740699,
           0.472468987,
           0.520237864,
           0.681670435,
           0.755354045,
           0.777013853
          ],
          "sizemode": "area",
          "sizeref": 0.004138555528888889,
          "symbol": "circle"
         },
         "mode": "markers",
         "name": "Psychology & Social Work",
         "showlegend": true,
         "subplot": "ternary",
         "type": "scatterternary"
        },
        {
         "a": [
          0.38068,
          0.17793,
          0.22488000000000002,
          0.05032,
          0.6624,
          0.13071,
          8.983419999999999,
          0.5045,
          0.32728999999999997,
          0.07571,
          0.8060700000000001,
          0.12551,
          1.09944,
          0.1045
         ],
         "b": [
          0.315763561,
          0.341473083,
          0.520086231,
          0.537080266,
          0.570390282,
          0.590130976,
          0.601913416,
          0.630300907,
          0.648093641,
          0.662699304,
          0.667970197,
          0.673559892,
          0.687636709,
          0.697310063
         ],
         "c": [
          0.236363636,
          0.273100616,
          0.181818182,
          0.727272727,
          0.416666667,
          0.4,
          0.759259259,
          0.8,
          0.7,
          0.590909091,
          1,
          0.45,
          0.745454545,
          0.392857143
         ],
         "hovertemplate": "<b>%{hovertext}</b><br><br>Major_category=Biology & Life Science<br>Grad_employed=%{a}<br>Grad_share=%{marker.size}<br>Grad_premium=%{c}<extra></extra>",
         "hovertext": [
          "ENVIRONMENTAL SCIENCE",
          "ECOLOGY",
          "MISCELLANEOUS BIOLOGY",
          "COGNITIVE SCIENCE AND BIOPSYCHOLOGY",
          "MICROBIOLOGY",
          "BOTANY",
          "BIOLOGY",
          "PHYSIOLOGY",
          "MOLECULAR BIOLOGY",
          "PHARMACOLOGY",
          "ZOOLOGY",
          "NEUROSCIENCE",
          "BIOCHEMICAL SCIENCES",
          "GENETICS"
         ],
         "legendgroup": "Biology & Life Science",
         "marker": {
          "color": "#000008",
          "size": [
           0.315763561,
           0.341473083,
           0.520086231,
           0.537080266,
           0.570390282,
           0.590130976,
           0.601913416,
           0.630300907,
           0.648093641,
           0.662699304,
           0.667970197,
           0.673559892,
           0.687636709,
           0.697310063
          ],
          "sizemode": "area",
          "sizeref": 0.004138555528888889,
          "symbol": "circle"
         },
         "mode": "markers",
         "name": "Biology & Life Science",
         "showlegend": true,
         "subplot": "ternary",
         "type": "scatterternary"
        },
        {
         "a": [
          0.63027,
          1.31845,
          0.8656599999999999,
          6.68185,
          6.9804900000000005,
          1.2314500000000002,
          0.46866,
          0.68997,
          1.2846899999999999,
          1.2226000000000001,
          0.5175,
          0.42042999999999997,
          1.44858,
          0.15650999999999998,
          0.11313,
          0.34142
         ],
         "b": [
          0.36811268,
          0.427243555,
          0.42903269,
          0.444859821,
          0.448432312,
          0.456378096,
          0.464965811,
          0.501144772,
          0.524898599,
          0.540736252,
          0.560622035,
          0.562727361,
          0.578718249,
          0.646307991,
          0.898880986,
          0.931174994
         ],
         "c": [
          0.351351351,
          0.3,
          0.22,
          0.375,
          0.318181818,
          0.340909091,
          0.375,
          0.276595745,
          0.355555556,
          0.342592593,
          0.333333333,
          0.291666667,
          0.348837209,
          0.3,
          0.333333333,
          0.120689655
         ],
         "hovertemplate": "<b>%{hovertext}</b><br><br>Major_category=Education<br>Grad_employed=%{a}<br>Grad_share=%{marker.size}<br>Grad_premium=%{c}<extra></extra>",
         "hovertext": [
          "EARLY CHILDHOOD EDUCATION",
          "PHYSICAL AND HEALTH EDUCATION TEACHING",
          "MISCELLANEOUS EDUCATION",
          "ELEMENTARY EDUCATION",
          "GENERAL EDUCATION",
          "ART AND MUSIC EDUCATION",
          "TEACHER EDUCATION: MULTIPLE LEVELS",
          "SOCIAL SCIENCE OR HISTORY TEACHER EDUCATION",
          "SECONDARY TEACHER EDUCATION",
          "LANGUAGE AND DRAMA EDUCATION",
          "MATHEMATICS TEACHER EDUCATION",
          "SCIENCE AND COMPUTER TEACHER EDUCATION",
          "SPECIAL NEEDS EDUCATION",
          "LIBRARY SCIENCE",
          "SCHOOL STUDENT COUNSELING",
          "EDUCATIONAL ADMINISTRATION AND SUPERVISION"
         ],
         "legendgroup": "Education",
         "marker": {
          "color": "#000009",
          "size": [
           0.36811268,
           0.427243555,
           0.42903269,
           0.444859821,
           0.448432312,
           0.456378096,
           0.464965811,
           0.501144772,
           0.524898599,
           0.540736252,
           0.560622035,
           0.562727361,
           0.578718249,
           0.646307991,
           0.898880986,
           0.931174994
          ],
          "sizemode": "area",
          "sizeref": 0.004138555528888889,
          "symbol": "circle"
         },
         "mode": "markers",
         "name": "Education",
         "showlegend": true,
         "subplot": "ternary",
         "type": "scatterternary"
        }
       ],
       "layout": {
        "legend": {
         "itemsizing": "constant",
         "title": {
          "text": "Major_category"
         },
         "tracegroupgap": 0
        },
        "margin": {
         "t": 60
        },
        "template": {
         "data": {
          "candlestick": [
           {
            "decreasing": {
             "line": {
              "color": "#000033"
             }
            },
            "increasing": {
             "line": {
              "color": "#000032"
             }
            },
            "type": "candlestick"
           }
          ],
          "contour": [
           {
            "colorscale": [
             [
              0,
              "#000011"
             ],
             [
              0.1111111111111111,
              "#000012"
             ],
             [
              0.2222222222222222,
              "#000013"
             ],
             [
              0.3333333333333333,
              "#000014"
             ],
             [
              0.4444444444444444,
              "#000015"
             ],
             [
              0.5555555555555556,
              "#000016"
             ],
             [
              0.6666666666666666,
              "#000017"
             ],
             [
              0.7777777777777778,
              "#000018"
             ],
             [
              0.8888888888888888,
              "#000019"
             ],
             [
              1,
              "#000020"
             ]
            ],
            "type": "contour"
           }
          ],
          "contourcarpet": [
           {
            "colorscale": [
             [
              0,
              "#000011"
             ],
             [
              0.1111111111111111,
              "#000012"
             ],
             [
              0.2222222222222222,
              "#000013"
             ],
             [
              0.3333333333333333,
              "#000014"
             ],
             [
              0.4444444444444444,
              "#000015"
             ],
             [
              0.5555555555555556,
              "#000016"
             ],
             [
              0.6666666666666666,
              "#000017"
             ],
             [
              0.7777777777777778,
              "#000018"
             ],
             [
              0.8888888888888888,
              "#000019"
             ],
             [
              1,
              "#000020"
             ]
            ],
            "type": "contourcarpet"
           }
          ],
          "heatmap": [
           {
            "colorscale": [
             [
              0,
              "#000011"
             ],
             [
              0.1111111111111111,
              "#000012"
             ],
             [
              0.2222222222222222,
              "#000013"
             ],
             [
              0.3333333333333333,
              "#000014"
             ],
             [
              0.4444444444444444,
              "#000015"
             ],
             [
              0.5555555555555556,
              "#000016"
             ],
             [
              0.6666666666666666,
              "#000017"
             ],
             [
              0.7777777777777778,
              "#000018"
             ],
             [
              0.8888888888888888,
              "#000019"
             ],
             [
              1,
              "#000020"
             ]
            ],
            "type": "heatmap"
           }
          ],
          "histogram2d": [
           {
            "colorscale": [
             [
              0,
              "#000011"
             ],
             [
              0.1111111111111111,
              "#000012"
             ],
             [
              0.2222222222222222,
              "#000013"
             ],
             [
              0.3333333333333333,
              "#000014"
             ],
             [
              0.4444444444444444,
              "#000015"
             ],
             [
              0.5555555555555556,
              "#000016"
             ],
             [
              0.6666666666666666,
              "#000017"
             ],
             [
              0.7777777777777778,
              "#000018"
             ],
             [
              0.8888888888888888,
              "#000019"
             ],
             [
              1,
              "#000020"
             ]
            ],
            "type": "histogram2d"
           }
          ],
          "icicle": [
           {
            "textfont": {
             "color": "white"
            },
            "type": "icicle"
           }
          ],
          "sankey": [
           {
            "textfont": {
             "color": "#000036"
            },
            "type": "sankey"
           }
          ],
          "scatter": [
           {
            "marker": {
             "line": {
              "width": 0
             }
            },
            "type": "scatter"
           }
          ],
          "table": [
           {
            "cells": {
             "fill": {
              "color": "#000038"
             },
             "font": {
              "color": "#000037"
             },
             "line": {
              "color": "#000039"
             }
            },
            "header": {
             "fill": {
              "color": "#000040"
             },
             "font": {
              "color": "#000036"
             },
             "line": {
              "color": "#000039"
             }
            },
            "type": "table"
           }
          ],
          "waterfall": [
           {
            "connector": {
             "line": {
              "color": "#000036",
              "width": 2
             }
            },
            "decreasing": {
             "marker": {
              "color": "#000033"
             }
            },
            "increasing": {
             "marker": {
              "color": "#000032"
             }
            },
            "totals": {
             "marker": {
              "color": "#000034"
             }
            },
            "type": "waterfall"
           }
          ]
         },
         "layout": {
          "coloraxis": {
           "colorscale": [
            [
             0,
             "#000011"
            ],
            [
             0.1111111111111111,
             "#000012"
            ],
            [
             0.2222222222222222,
             "#000013"
            ],
            [
             0.3333333333333333,
             "#000014"
            ],
            [
             0.4444444444444444,
             "#000015"
            ],
            [
             0.5555555555555556,
             "#000016"
            ],
            [
             0.6666666666666666,
             "#000017"
            ],
            [
             0.7777777777777778,
             "#000018"
            ],
            [
             0.8888888888888888,
             "#000019"
            ],
            [
             1,
             "#000020"
            ]
           ]
          },
          "colorscale": {
           "diverging": [
            [
             0,
             "#000021"
            ],
            [
             0.1,
             "#000022"
            ],
            [
             0.2,
             "#000023"
            ],
            [
             0.3,
             "#000024"
            ],
            [
             0.4,
             "#000025"
            ],
            [
             0.5,
             "#000026"
            ],
            [
             0.6,
             "#000027"
            ],
            [
             0.7,
             "#000028"
            ],
            [
             0.8,
             "#000029"
            ],
            [
             0.9,
             "#000030"
            ],
            [
             1,
             "#000031"
            ]
           ],
           "sequential": [
            [
             0,
             "#000011"
            ],
            [
             0.1111111111111111,
             "#000012"
            ],
            [
             0.2222222222222222,
             "#000013"
            ],
            [
             0.3333333333333333,
             "#000014"
            ],
            [
             0.4444444444444444,
             "#000015"
            ],
            [
             0.5555555555555556,
             "#000016"
            ],
            [
             0.6666666666666666,
             "#000017"
            ],
            [
             0.7777777777777778,
             "#000018"
            ],
            [
             0.8888888888888888,
             "#000019"
            ],
            [
             1,
             "#000020"
            ]
           ],
           "sequentialminus": [
            [
             0,
             "#000011"
            ],
            [
             0.1111111111111111,
             "#000012"
            ],
            [
             0.2222222222222222,
             "#000013"
            ],
            [
             0.3333333333333333,
             "#000014"
            ],
            [
             0.4444444444444444,
             "#000015"
            ],
            [
             0.5555555555555556,
             "#000016"
            ],
            [
             0.6666666666666666,
             "#000017"
            ],
            [
             0.7777777777777778,
             "#000018"
            ],
            [
             0.8888888888888888,
             "#000019"
            ],
            [
             1,
             "#000020"
            ]
           ]
          },
          "colorway": [
           "#000001",
           "#000002",
           "#000003",
           "#000004",
           "#000005",
           "#000006",
           "#000007",
           "#000008",
           "#000009",
           "#000010"
          ]
         }
        },
        "ternary": {
         "aaxis": {
          "title": {
           "text": "Grad_employed"
          }
         },
         "baxis": {
          "title": {
           "text": "Grad_share"
          }
         },
         "caxis": {
          "title": {
           "text": "Grad_premium"
          }
         },
         "domain": {
          "x": [
           0,
           1
          ],
          "y": [
           0,
           1
          ]
         }
        }
       }
      },
      "text/html": [
       "<div>                            <div id=\"c3b6113a-946a-40f7-8398-2d9714b4048d\" class=\"plotly-graph-div\" style=\"height:525px; width:100%;\"></div>            <script type=\"text/javascript\">                require([\"plotly\"], function(Plotly) {                    window.PLOTLYENV=window.PLOTLYENV || {};                                    if (document.getElementById(\"c3b6113a-946a-40f7-8398-2d9714b4048d\")) {                    Plotly.newPlot(                        \"c3b6113a-946a-40f7-8398-2d9714b4048d\",                        [{\"a\":[0.07098,0.0359,0.01984,0.20034999999999997,1.01593,1.0379,0.01248],\"b\":[0.09631963,0.125878193,0.176770758,0.184368063,0.282429878,0.286964144,0.447500969],\"c\":[0.153846154,0.129807692,0.24,0.304347826,0.380952381,0.333333333,0.15625],\"hovertemplate\":\"<b>%{hovertext}</b><br><br>Major_category=Industrial Arts & Consumer Services<br>Grad_employed=%{a}<br>Grad_share=%{marker.size}<br>Grad_premium=%{c}<extra></extra>\",\"hovertext\":[\"CONSTRUCTION SERVICES\",\"COSMETOLOGY SERVICES AND CULINARY ARTS\",\"ELECTRICAL, MECHANICAL, AND PRECISION TECHNOLOGIES AND PRODUCTION\",\"TRANSPORTATION SCIENCES AND TECHNOLOGIES\",\"FAMILY AND CONSUMER SCIENCES\",\"PHYSICAL FITNESS PARKS RECREATION AND LEISURE\",\"MILITARY TECHNOLOGIES\"],\"legendgroup\":\"Industrial Arts & Consumer Services\",\"marker\":{\"color\":\"#000004\",\"size\":[0.09631963,0.125878193,0.176770758,0.184368063,0.282429878,0.286964144,0.447500969],\"sizemode\":\"area\",\"sizeref\":0.004138555528888889,\"symbol\":\"circle\"},\"mode\":\"markers\",\"name\":\"Industrial Arts & Consumer Services\",\"showlegend\":true,\"subplot\":\"ternary\",\"type\":\"scatterternary\"},{\"a\":[0.40492,0.19058999999999998,0.011,1.24246,0.14841,0.21627999999999997,0.5069,1.50394],\"b\":[0.104419773,0.174328099,0.197447875,0.251075113,0.274016031,0.280237906,0.29793958,0.449243128],\"c\":[0.25,0.14,0.195652174,0.260869565,0.325,0.335526316,0.302222222,0.293103448],\"hovertemplate\":\"<b>%{hovertext}</b><br><br>Major_category=Arts<br>Grad_employed=%{a}<br>Grad_share=%{marker.size}<br>Grad_premium=%{c}<extra></extra>\",\"hovertext\":[\"COMMERCIAL ART AND GRAPHIC DESIGN\",\"FILM VIDEO AND PHOTOGRAPHIC ARTS\",\"MISCELLANEOUS FINE ARTS\",\"FINE ARTS\",\"VISUAL AND PERFORMING ARTS\",\"STUDIO ARTS\",\"DRAMA AND THEATER ARTS\",\"MUSIC\"],\"legendgroup\":\"Arts\",\"marker\":{\"color\":\"#000005\",\"size\":[0.104419773,0.174328099,0.197447875,0.251075113,0.274016031,0.280237906,0.29793958,0.449243128],\"sizemode\":\"area\",\"sizeref\":0.004138555528888889,\"symbol\":\"circle\"},\"mode\":\"markers\",\"name\":\"Arts\",\"showlegend\":true,\"subplot\":\"ternary\",\"type\":\"scatterternary\"},{\"a\":[0.18368,1.5157,0.17690999999999998,6.2235700000000005,0.36227,0.12659,4.57191,0.020200000000000003,4.5161,2.52242,0.55106,0.24519000000000002,0.22935],\"b\":[0.11983686,0.156531388,0.190460507,0.213474246,0.218502707,0.224384864,0.226692598,0.236103152,0.250067271,0.287956791,0.289268654,0.292487917,0.301991283],\"c\":[0.3,0.333333333,0.363636364,0.283333333,0.236111111,0.424242424,0.416666667,0.447368421,0.353846154,0.357142857,0.272727273,0.263157895,0.342857143],\"hovertemplate\":\"<b>%{hovertext}</b><br><br>Major_category=Business<br>Grad_employed=%{a}<br>Grad_share=%{marker.size}<br>Grad_premium=%{c}<extra></extra>\",\"hovertext\":[\"HOSPITALITY MANAGEMENT\",\"MARKETING AND MARKETING RESEARCH\",\"MISCELLANEOUS BUSINESS & MEDICAL ADMINISTRATION\",\"BUSINESS MANAGEMENT AND ADMINISTRATION\",\"MANAGEMENT INFORMATION SYSTEMS AND STATISTICS\",\"OPERATIONS LOGISTICS AND E-COMMERCE\",\"GENERAL BUSINESS\",\"ACTUARIAL SCIENCE\",\"ACCOUNTING\",\"FINANCE\",\"HUMAN RESOURCES AND PERSONNEL MANAGEMENT\",\"INTERNATIONAL BUSINESS\",\"BUSINESS ECONOMICS\"],\"legendgroup\":\"Business\",\"marker\":{\"color\":\"#000006\",\"size\":[0.11983686,0.156531388,0.190460507,0.213474246,0.218502707,0.224384864,0.226692598,0.236103152,0.250067271,0.287956791,0.289268654,0.292487917,0.301991283],\"sizemode\":\"area\",\"sizeref\":0.004138555528888889,\"symbol\":\"circle\"},\"mode\":\"markers\",\"name\":\"Business\",\"showlegend\":true,\"subplot\":\"ternary\",\"type\":\"scatterternary\"},{\"a\":[0.07511999999999999,0.04716,0.09036999999999999,0.08554,0.60858,0.22403,2.81088,0.0388,0.14113,0.16979,2.87467],\"b\":[0.144752733,0.165394252,0.186266495,0.222857514,0.227995576,0.258323237,0.304893396,0.407419956,0.497074321,0.497317973,0.506671902],\"c\":[0.096153846,0.416666667,0.379310345,0.35,0.230769231,0.2,0.1875,0.065217391,0.315789474,0.226666667,0.308823529],\"hovertemplate\":\"<b>%{hovertext}</b><br><br>Major_category=Computers & Mathematics<br>Grad_employed=%{a}<br>Grad_share=%{marker.size}<br>Grad_premium=%{c}<extra></extra>\",\"hovertext\":[\"COMMUNICATION TECHNOLOGIES\",\"COMPUTER PROGRAMMING AND DATA PROCESSING\",\"COMPUTER NETWORKING AND TELECOMMUNICATIONS\",\"COMPUTER ADMINISTRATION MANAGEMENT AND SECURITY\",\"COMPUTER AND INFORMATION SYSTEMS\",\"INFORMATION SCIENCES\",\"COMPUTER SCIENCE\",\"MATHEMATICS AND COMPUTER SCIENCE\",\"APPLIED MATHEMATICS\",\"STATISTICS AND DECISION SCIENCE\",\"MATHEMATICS\"],\"legendgroup\":\"Computers & Mathematics\",\"marker\":{\"color\":\"#000007\",\"size\":[0.144752733,0.165394252,0.186266495,0.222857514,0.227995576,0.258323237,0.304893396,0.407419956,0.497074321,0.497317973,0.506671902],\"sizemode\":\"area\",\"sizeref\":0.004138555528888889,\"symbol\":\"circle\"},\"mode\":\"markers\",\"name\":\"Computers & Mathematics\",\"showlegend\":true,\"subplot\":\"ternary\",\"type\":\"scatterternary\"},{\"a\":[0.01008,1.54146,0.24817999999999998,0.31985,0.12875],\"b\":[0.147376469,0.213026645,0.350637532,0.444834885,0.55695649],\"c\":[0.5,0.307692308,0.52,0.293103448,0.412698413],\"hovertemplate\":\"<b>%{hovertext}</b><br><br>Major_category=Law & Public Policy<br>Grad_employed=%{a}<br>Grad_share=%{marker.size}<br>Grad_premium=%{c}<extra></extra>\",\"hovertext\":[\"COURT REPORTING\",\"CRIMINAL JUSTICE AND FIRE PROTECTION\",\"PRE-LAW AND LEGAL STUDIES\",\"PUBLIC ADMINISTRATION\",\"PUBLIC POLICY\"],\"legendgroup\":\"Law & Public Policy\",\"marker\":{\"color\":\"#000008\",\"size\":[0.147376469,0.213026645,0.350637532,0.444834885,0.55695649],\"sizemode\":\"area\",\"sizeref\":0.004138555528888889,\"symbol\":\"circle\"},\"mode\":\"markers\",\"name\":\"Law & Public Policy\",\"showlegend\":true,\"subplot\":\"ternary\",\"type\":\"scatterternary\"},{\"a\":[0.13104,0.2893,0.16831000000000002,0.23393999999999998,0.22782,0.10591999999999999,0.02284,0.47755000000000003,0.02758,0.10857000000000001],\"b\":[0.163964859,0.263271733,0.267566748,0.275761333,0.289093335,0.30930636,0.348230135,0.374427388,0.383419689,0.388532135],\"c\":[0.218181818,0.36,0.322033898,0.320754717,0.34,0.26984127,0.0,0.464583333,-0.018181818,0.142857143],\"hovertemplate\":\"<b>%{hovertext}</b><br><br>Major_category=Agriculture & Natural Resources<br>Grad_employed=%{a}<br>Grad_share=%{marker.size}<br>Grad_premium=%{c}<extra></extra>\",\"hovertext\":[\"AGRICULTURE PRODUCTION AND MANAGEMENT\",\"GENERAL AGRICULTURE\",\"FORESTRY\",\"NATURAL RESOURCES MANAGEMENT\",\"PLANT SCIENCE AND AGRONOMY\",\"AGRICULTURAL ECONOMICS\",\"SOIL SCIENCE\",\"ANIMAL SCIENCES\",\"MISCELLANEOUS AGRICULTURE\",\"FOOD SCIENCE\"],\"legendgroup\":\"Agriculture & Natural Resources\",\"marker\":{\"color\":\"#000009\",\"size\":[0.163964859,0.263271733,0.267566748,0.275761333,0.289093335,0.30930636,0.348230135,0.374427388,0.383419689,0.388532135],\"sizemode\":\"area\",\"sizeref\":0.004138555528888889,\"symbol\":\"circle\"},\"mode\":\"markers\",\"name\":\"Agriculture & Natural Resources\",\"showlegend\":true,\"subplot\":\"ternary\",\"type\":\"scatterternary\"},{\"a\":[0.28517000000000003,0.35939,2.1215599999999997,0.9177799999999999],\"b\":[0.171906588,0.184235946,0.228949531,0.237030348],\"c\":[0.176470588,0.14,0.25,0.320754717],\"hovertemplate\":\"<b>%{hovertext}</b><br><br>Major_category=Communications & Journalism<br>Grad_employed=%{a}<br>Grad_share=%{marker.size}<br>Grad_premium=%{c}<extra></extra>\",\"hovertext\":[\"ADVERTISING AND PUBLIC RELATIONS\",\"MASS MEDIA\",\"COMMUNICATIONS\",\"JOURNALISM\"],\"legendgroup\":\"Communications & Journalism\",\"marker\":{\"color\":\"#000010\",\"size\":[0.171906588,0.184235946,0.228949531,0.237030348],\"sizemode\":\"area\",\"sizeref\":0.004138555528888889,\"symbol\":\"circle\"},\"mode\":\"markers\",\"name\":\"Communications & Journalism\",\"showlegend\":true,\"subplot\":\"ternary\",\"type\":\"scatterternary\"},{\"a\":[0.04442,0.12433000000000001,0.14752,0.22501000000000002,0.09471,0.04857,0.05639999999999999,0.12781,0.19112,1.14536,1.99771,1.50299,0.7314700000000001,0.04491,2.6692299999999998,0.66432,0.026729999999999997,0.06739,3.71723,0.1681,0.13042,1.2454399999999999,0.42632000000000003,0.09387,0.09298999999999999,0.15822,0.08567,0.19474,0.12262999999999999],\"b\":[0.178047205,0.196532559,0.196957241,0.23651515,0.245703747,0.258992229,0.288074879,0.304834567,0.327183148,0.346526207,0.357320347,0.367441121,0.367557259,0.367708396,0.388143662,0.397771698,0.398745066,0.406664157,0.428013008,0.429638357,0.458323254,0.492391674,0.493397308,0.516228476,0.521002632,0.533637884,0.547688463,0.641857635,0.715388107],\"c\":[0.278688525,0.230769231,0.207142857,0.25,0.138461538,-0.025,-0.015873016,0.426666667,0.285714286,0.125,0.333333333,0.225,0.197530864,0.052631579,0.219512195,0.289473684,0.206896552,0.02,0.177777778,0.230769231,0.179487179,0.133333333,0.258823529,0.126564673,0.020408163,0.428571429,0.1,0.285714286,0.1875],\"hovertemplate\":\"<b>%{hovertext}</b><br><br>Major_category=Engineering<br>Grad_employed=%{a}<br>Grad_share=%{marker.size}<br>Grad_premium=%{c}<extra></extra>\",\"hovertext\":[\"MECHANICAL ENGINEERING RELATED TECHNOLOGIES\",\"MISCELLANEOUS ENGINEERING TECHNOLOGIES\",\"INDUSTRIAL PRODUCTION TECHNOLOGIES\",\"ELECTRICAL ENGINEERING TECHNOLOGY\",\"ENGINEERING TECHNOLOGIES\",\"ARCHITECTURAL ENGINEERING\",\"PETROLEUM ENGINEERING\",\"ENGINEERING AND INDUSTRIAL MANAGEMENT\",\"MISCELLANEOUS ENGINEERING\",\"ARCHITECTURE\",\"GENERAL ENGINEERING\",\"CIVIL ENGINEERING\",\"COMPUTER ENGINEERING\",\"MINING AND MINERAL ENGINEERING\",\"MECHANICAL ENGINEERING\",\"INDUSTRIAL AND MANUFACTURING ENGINEERING\",\"GEOLOGICAL AND GEOPHYSICAL ENGINEERING\",\"NAVAL ARCHITECTURE AND MARINE ENGINEERING\",\"ELECTRICAL ENGINEERING\",\"BIOLOGICAL ENGINEERING\",\"MATERIALS ENGINEERING AND MATERIALS SCIENCE\",\"CHEMICAL ENGINEERING\",\"AEROSPACE ENGINEERING\",\"ENVIRONMENTAL ENGINEERING\",\"METALLURGICAL ENGINEERING\",\"ENGINEERING MECHANICS PHYSICS AND SCIENCE\",\"NUCLEAR ENGINEERING\",\"BIOMEDICAL ENGINEERING\",\"MATERIALS SCIENCE\"],\"legendgroup\":\"Engineering\",\"marker\":{\"color\":\"#000001\",\"size\":[0.178047205,0.196532559,0.196957241,0.23651515,0.245703747,0.258992229,0.288074879,0.304834567,0.327183148,0.346526207,0.357320347,0.367441121,0.367557259,0.367708396,0.388143662,0.397771698,0.398745066,0.406664157,0.428013008,0.429638357,0.458323254,0.492391674,0.493397308,0.516228476,0.521002632,0.533637884,0.547688463,0.641857635,0.715388107],\"sizemode\":\"area\",\"sizeref\":0.004138555528888889,\"symbol\":\"circle\"},\"mode\":\"markers\",\"name\":\"Engineering\",\"showlegend\":true,\"subplot\":\"ternary\",\"type\":\"scatterternary\"},{\"a\":[0.14584,0.38935,0.22755,2.59742,0.45743999999999996,3.86002,0.10916,5.48199,0.5469299999999999],\"b\":[0.216157792,0.324085641,0.344072928,0.37028854,0.373895136,0.424882885,0.495861073,0.507741743,0.509005108],\"c\":[0.3,0.327272727,0.434782609,0.306122449,0.38,0.428571429,0.351851852,0.533333333,0.433333333],\"hovertemplate\":\"<b>%{hovertext}</b><br><br>Major_category=Social Science<br>Grad_employed=%{a}<br>Grad_share=%{marker.size}<br>Grad_premium=%{c}<extra></extra>\",\"hovertext\":[\"CRIMINOLOGY\",\"GEOGRAPHY\",\"INTERDISCIPLINARY SOCIAL SCIENCES\",\"SOCIOLOGY\",\"GENERAL SOCIAL SCIENCES\",\"ECONOMICS\",\"MISCELLANEOUS SOCIAL SCIENCES\",\"POLITICAL SCIENCE AND GOVERNMENT\",\"INTERNATIONAL RELATIONS\"],\"legendgroup\":\"Social Science\",\"marker\":{\"color\":\"#000002\",\"size\":[0.216157792,0.324085641,0.344072928,0.37028854,0.373895136,0.424882885,0.495861073,0.507741743,0.509005108],\"sizemode\":\"area\",\"sizeref\":0.004138555528888889,\"symbol\":\"circle\"},\"mode\":\"markers\",\"name\":\"Social Science\",\"showlegend\":true,\"subplot\":\"ternary\",\"type\":\"scatterternary\"},{\"a\":[0.37639,0.14499,4.37115,0.35283000000000003,1.23279,0.39185,0.54355,0.31411,0.28112,1.24688,1.45102,0.78132],\"b\":[0.227779742,0.237951884,0.253705373,0.309043808,0.377376756,0.415332324,0.416198893,0.419394688,0.427656989,0.46751117,0.753961124,0.813717788],\"c\":[0.266666667,0.428571429,0.3125,0.519230769,0.111111111,0.333333333,0.346153846,0.3,0.37,0.037383178,0.477272727,1.647058824],\"hovertemplate\":\"<b>%{hovertext}</b><br><br>Major_category=Health<br>Grad_employed=%{a}<br>Grad_share=%{marker.size}<br>Grad_premium=%{c}<extra></extra>\",\"hovertext\":[\"MEDICAL TECHNOLOGIES TECHNICIANS\",\"MEDICAL ASSISTING SERVICES\",\"NURSING\",\"HEALTH AND MEDICAL ADMINISTRATIVE SERVICES\",\"TREATMENT THERAPY PROFESSIONS\",\"MISCELLANEOUS HEALTH MEDICAL PROFESSIONS\",\"GENERAL MEDICAL AND HEALTH SERVICES\",\"NUTRITION SCIENCES\",\"COMMUNITY AND PUBLIC HEALTH\",\"PHARMACY PHARMACEUTICAL SCIENCES AND ADMINISTRATION\",\"COMMUNICATION DISORDERS SCIENCES AND SERVICES\",\"HEALTH AND MEDICAL PREPARATORY PROGRAMS\"],\"legendgroup\":\"Health\",\"marker\":{\"color\":\"#000003\",\"size\":[0.227779742,0.237951884,0.253705373,0.309043808,0.377376756,0.415332324,0.416198893,0.419394688,0.427656989,0.46751117,0.753961124,0.813717788],\"sizemode\":\"area\",\"sizeref\":0.004138555528888889,\"symbol\":\"circle\"},\"mode\":\"markers\",\"name\":\"Health\",\"showlegend\":true,\"subplot\":\"ternary\",\"type\":\"scatterternary\"},{\"a\":[0.12708],\"b\":[0.259910146],\"c\":[0.25],\"hovertemplate\":\"<b>%{hovertext}</b><br><br>Major_category=Interdisciplinary<br>Grad_employed=%{a}<br>Grad_share=%{marker.size}<br>Grad_premium=%{c}<extra></extra>\",\"hovertext\":[\"MULTI/INTERDISCIPLINARY STUDIES\"],\"legendgroup\":\"Interdisciplinary\",\"marker\":{\"color\":\"#000004\",\"size\":[0.259910146],\"sizemode\":\"area\",\"sizeref\":0.004138555528888889,\"symbol\":\"circle\"},\"mode\":\"markers\",\"name\":\"Interdisciplinary\",\"showlegend\":true,\"subplot\":\"ternary\",\"type\":\"scatterternary\"},{\"a\":[0.03129,1.62694,0.05501,0.6674800000000001,0.05292,0.08657000000000001,0.07443,0.0548,3.3683799999999997,1.68583],\"b\":[0.261032112,0.357429391,0.428931629,0.466026237,0.484338958,0.485162837,0.530295001,0.61886608,0.622349934,0.671706684],\"c\":[0.25,0.457627119,0.5,0.272727273,0.333333333,0.366666667,0.551724138,0.129411765,0.666666667,0.351351351],\"hovertemplate\":\"<b>%{hovertext}</b><br><br>Major_category=Physical Sciences<br>Grad_employed=%{a}<br>Grad_share=%{marker.size}<br>Grad_premium=%{c}<extra></extra>\",\"hovertext\":[\"NUCLEAR, INDUSTRIAL RADIOLOGY, AND BIOLOGICAL TECHNOLOGIES\",\"MULTI-DISCIPLINARY OR GENERAL SCIENCE\",\"OCEANOGRAPHY\",\"GEOLOGY AND EARTH SCIENCE\",\"PHYSICAL SCIENCES\",\"ATMOSPHERIC SCIENCES AND METEOROLOGY\",\"GEOSCIENCES\",\"ASTRONOMY AND ASTROPHYSICS\",\"CHEMISTRY\",\"PHYSICS\"],\"legendgroup\":\"Physical Sciences\",\"marker\":{\"color\":\"#000005\",\"size\":[0.261032112,0.357429391,0.428931629,0.466026237,0.484338958,0.485162837,0.530295001,0.61886608,0.622349934,0.671706684],\"sizemode\":\"area\",\"sizeref\":0.004138555528888889,\"symbol\":\"circle\"},\"mode\":\"markers\",\"name\":\"Physical Sciences\",\"showlegend\":true,\"subplot\":\"ternary\",\"type\":\"scatterternary\"},{\"a\":[1.54404,0.16723,0.19263999999999998,0.40441000000000005,0.26153,1.15266,0.40277,0.8363200000000001,5.98806,0.31558,0.6587799999999999,4.54797,1.45043,0.12217,1.8211300000000001],\"b\":[0.270969523,0.297514876,0.388230307,0.408097714,0.41911102,0.428781706,0.456546911,0.461051948,0.463985366,0.469386528,0.481668312,0.495517864,0.499117062,0.53053596,0.575161177],\"c\":[0.4,0.380952381,0.382978723,0.428571429,0.4,0.2,0.326530612,0.444444444,0.34,0.446808511,0.5,0.538461538,0.34,0.576923077,0.413043478],\"hovertemplate\":\"<b>%{hovertext}</b><br><br>Major_category=Humanities & Liberal Arts<br>Grad_employed=%{a}<br>Grad_share=%{marker.size}<br>Grad_premium=%{c}<extra></extra>\",\"hovertext\":[\"LIBERAL ARTS\",\"COMPOSITION AND RHETORIC\",\"HUMANITIES\",\"ART HISTORY AND CRITICISM\",\"INTERCULTURAL AND INTERNATIONAL STUDIES\",\"THEOLOGY AND RELIGIOUS VOCATIONS\",\"LINGUISTICS AND COMPARATIVE LANGUAGE AND LITERATURE\",\"ANTHROPOLOGY AND ARCHEOLOGY\",\"ENGLISH LANGUAGE AND LITERATURE\",\"OTHER FOREIGN LANGUAGES\",\"AREA ETHNIC AND CIVILIZATION STUDIES\",\"HISTORY\",\"FRENCH GERMAN LATIN AND OTHER COMMON FOREIGN LANGUAGE STUDIES\",\"UNITED STATES HISTORY\",\"PHILOSOPHY AND RELIGIOUS STUDIES\"],\"legendgroup\":\"Humanities & Liberal Arts\",\"marker\":{\"color\":\"#000006\",\"size\":[0.270969523,0.297514876,0.388230307,0.408097714,0.41911102,0.428781706,0.456546911,0.461051948,0.463985366,0.469386528,0.481668312,0.495517864,0.499117062,0.53053596,0.575161177],\"sizemode\":\"area\",\"sizeref\":0.004138555528888889,\"symbol\":\"circle\"},\"mode\":\"markers\",\"name\":\"Humanities & Liberal Arts\",\"showlegend\":true,\"subplot\":\"ternary\",\"type\":\"scatterternary\"},{\"a\":[0.23537,0.04796,0.09546,2.03983,9.15341,0.24652,0.18993,0.38468,0.16612],\"b\":[0.272541842,0.404701398,0.446665798,0.463740699,0.472468987,0.520237864,0.681670435,0.755354045,0.777013853],\"c\":[0.294573643,0.448979592,0.19047619,0.325,0.391304348,0.446808511,0.525,0.25,0.52173913],\"hovertemplate\":\"<b>%{hovertext}</b><br><br>Major_category=Psychology & Social Work<br>Grad_employed=%{a}<br>Grad_share=%{marker.size}<br>Grad_premium=%{c}<extra></extra>\",\"hovertext\":[\"HUMAN SERVICES AND COMMUNITY ORGANIZATION\",\"SOCIAL PSYCHOLOGY\",\"INDUSTRIAL AND ORGANIZATIONAL PSYCHOLOGY\",\"SOCIAL WORK\",\"PSYCHOLOGY\",\"MISCELLANEOUS PSYCHOLOGY\",\"EDUCATIONAL PSYCHOLOGY\",\"COUNSELING PSYCHOLOGY\",\"CLINICAL PSYCHOLOGY\"],\"legendgroup\":\"Psychology & Social Work\",\"marker\":{\"color\":\"#000007\",\"size\":[0.272541842,0.404701398,0.446665798,0.463740699,0.472468987,0.520237864,0.681670435,0.755354045,0.777013853],\"sizemode\":\"area\",\"sizeref\":0.004138555528888889,\"symbol\":\"circle\"},\"mode\":\"markers\",\"name\":\"Psychology & Social Work\",\"showlegend\":true,\"subplot\":\"ternary\",\"type\":\"scatterternary\"},{\"a\":[0.38068,0.17793,0.22488000000000002,0.05032,0.6624,0.13071,8.983419999999999,0.5045,0.32728999999999997,0.07571,0.8060700000000001,0.12551,1.09944,0.1045],\"b\":[0.315763561,0.341473083,0.520086231,0.537080266,0.570390282,0.590130976,0.601913416,0.630300907,0.648093641,0.662699304,0.667970197,0.673559892,0.687636709,0.697310063],\"c\":[0.236363636,0.273100616,0.181818182,0.727272727,0.416666667,0.4,0.759259259,0.8,0.7,0.590909091,1.0,0.45,0.745454545,0.392857143],\"hovertemplate\":\"<b>%{hovertext}</b><br><br>Major_category=Biology & Life Science<br>Grad_employed=%{a}<br>Grad_share=%{marker.size}<br>Grad_premium=%{c}<extra></extra>\",\"hovertext\":[\"ENVIRONMENTAL SCIENCE\",\"ECOLOGY\",\"MISCELLANEOUS BIOLOGY\",\"COGNITIVE SCIENCE AND BIOPSYCHOLOGY\",\"MICROBIOLOGY\",\"BOTANY\",\"BIOLOGY\",\"PHYSIOLOGY\",\"MOLECULAR BIOLOGY\",\"PHARMACOLOGY\",\"ZOOLOGY\",\"NEUROSCIENCE\",\"BIOCHEMICAL SCIENCES\",\"GENETICS\"],\"legendgroup\":\"Biology & Life Science\",\"marker\":{\"color\":\"#000008\",\"size\":[0.315763561,0.341473083,0.520086231,0.537080266,0.570390282,0.590130976,0.601913416,0.630300907,0.648093641,0.662699304,0.667970197,0.673559892,0.687636709,0.697310063],\"sizemode\":\"area\",\"sizeref\":0.004138555528888889,\"symbol\":\"circle\"},\"mode\":\"markers\",\"name\":\"Biology & Life Science\",\"showlegend\":true,\"subplot\":\"ternary\",\"type\":\"scatterternary\"},{\"a\":[0.63027,1.31845,0.8656599999999999,6.68185,6.9804900000000005,1.2314500000000002,0.46866,0.68997,1.2846899999999999,1.2226000000000001,0.5175,0.42042999999999997,1.44858,0.15650999999999998,0.11313,0.34142],\"b\":[0.36811268,0.427243555,0.42903269,0.444859821,0.448432312,0.456378096,0.464965811,0.501144772,0.524898599,0.540736252,0.560622035,0.562727361,0.578718249,0.646307991,0.898880986,0.931174994],\"c\":[0.351351351,0.3,0.22,0.375,0.318181818,0.340909091,0.375,0.276595745,0.355555556,0.342592593,0.333333333,0.291666667,0.348837209,0.3,0.333333333,0.120689655],\"hovertemplate\":\"<b>%{hovertext}</b><br><br>Major_category=Education<br>Grad_employed=%{a}<br>Grad_share=%{marker.size}<br>Grad_premium=%{c}<extra></extra>\",\"hovertext\":[\"EARLY CHILDHOOD EDUCATION\",\"PHYSICAL AND HEALTH EDUCATION TEACHING\",\"MISCELLANEOUS EDUCATION\",\"ELEMENTARY EDUCATION\",\"GENERAL EDUCATION\",\"ART AND MUSIC EDUCATION\",\"TEACHER EDUCATION: MULTIPLE LEVELS\",\"SOCIAL SCIENCE OR HISTORY TEACHER EDUCATION\",\"SECONDARY TEACHER EDUCATION\",\"LANGUAGE AND DRAMA EDUCATION\",\"MATHEMATICS TEACHER EDUCATION\",\"SCIENCE AND COMPUTER TEACHER EDUCATION\",\"SPECIAL NEEDS EDUCATION\",\"LIBRARY SCIENCE\",\"SCHOOL STUDENT COUNSELING\",\"EDUCATIONAL ADMINISTRATION AND SUPERVISION\"],\"legendgroup\":\"Education\",\"marker\":{\"color\":\"#000009\",\"size\":[0.36811268,0.427243555,0.42903269,0.444859821,0.448432312,0.456378096,0.464965811,0.501144772,0.524898599,0.540736252,0.560622035,0.562727361,0.578718249,0.646307991,0.898880986,0.931174994],\"sizemode\":\"area\",\"sizeref\":0.004138555528888889,\"symbol\":\"circle\"},\"mode\":\"markers\",\"name\":\"Education\",\"showlegend\":true,\"subplot\":\"ternary\",\"type\":\"scatterternary\"}],                        {\"template\":{\"data\":{\"candlestick\":[{\"decreasing\":{\"line\":{\"color\":\"#000033\"}},\"increasing\":{\"line\":{\"color\":\"#000032\"}},\"type\":\"candlestick\"}],\"contourcarpet\":[{\"colorscale\":[[0.0,\"#000011\"],[0.1111111111111111,\"#000012\"],[0.2222222222222222,\"#000013\"],[0.3333333333333333,\"#000014\"],[0.4444444444444444,\"#000015\"],[0.5555555555555556,\"#000016\"],[0.6666666666666666,\"#000017\"],[0.7777777777777778,\"#000018\"],[0.8888888888888888,\"#000019\"],[1.0,\"#000020\"]],\"type\":\"contourcarpet\"}],\"contour\":[{\"colorscale\":[[0.0,\"#000011\"],[0.1111111111111111,\"#000012\"],[0.2222222222222222,\"#000013\"],[0.3333333333333333,\"#000014\"],[0.4444444444444444,\"#000015\"],[0.5555555555555556,\"#000016\"],[0.6666666666666666,\"#000017\"],[0.7777777777777778,\"#000018\"],[0.8888888888888888,\"#000019\"],[1.0,\"#000020\"]],\"type\":\"contour\"}],\"heatmap\":[{\"colorscale\":[[0.0,\"#000011\"],[0.1111111111111111,\"#000012\"],[0.2222222222222222,\"#000013\"],[0.3333333333333333,\"#000014\"],[0.4444444444444444,\"#000015\"],[0.5555555555555556,\"#000016\"],[0.6666666666666666,\"#000017\"],[0.7777777777777778,\"#000018\"],[0.8888888888888888,\"#000019\"],[1.0,\"#000020\"]],\"type\":\"heatmap\"}],\"histogram2d\":[{\"colorscale\":[[0.0,\"#000011\"],[0.1111111111111111,\"#000012\"],[0.2222222222222222,\"#000013\"],[0.3333333333333333,\"#000014\"],[0.4444444444444444,\"#000015\"],[0.5555555555555556,\"#000016\"],[0.6666666666666666,\"#000017\"],[0.7777777777777778,\"#000018\"],[0.8888888888888888,\"#000019\"],[1.0,\"#000020\"]],\"type\":\"histogram2d\"}],\"icicle\":[{\"textfont\":{\"color\":\"white\"},\"type\":\"icicle\"}],\"sankey\":[{\"textfont\":{\"color\":\"#000036\"},\"type\":\"sankey\"}],\"scatter\":[{\"marker\":{\"line\":{\"width\":0}},\"type\":\"scatter\"}],\"table\":[{\"cells\":{\"fill\":{\"color\":\"#000038\"},\"font\":{\"color\":\"#000037\"},\"line\":{\"color\":\"#000039\"}},\"header\":{\"fill\":{\"color\":\"#000040\"},\"font\":{\"color\":\"#000036\"},\"line\":{\"color\":\"#000039\"}},\"type\":\"table\"}],\"waterfall\":[{\"connector\":{\"line\":{\"color\":\"#000036\",\"width\":2}},\"decreasing\":{\"marker\":{\"color\":\"#000033\"}},\"increasing\":{\"marker\":{\"color\":\"#000032\"}},\"totals\":{\"marker\":{\"color\":\"#000034\"}},\"type\":\"waterfall\"}]},\"layout\":{\"coloraxis\":{\"colorscale\":[[0.0,\"#000011\"],[0.1111111111111111,\"#000012\"],[0.2222222222222222,\"#000013\"],[0.3333333333333333,\"#000014\"],[0.4444444444444444,\"#000015\"],[0.5555555555555556,\"#000016\"],[0.6666666666666666,\"#000017\"],[0.7777777777777778,\"#000018\"],[0.8888888888888888,\"#000019\"],[1.0,\"#000020\"]]},\"colorscale\":{\"diverging\":[[0.0,\"#000021\"],[0.1,\"#000022\"],[0.2,\"#000023\"],[0.3,\"#000024\"],[0.4,\"#000025\"],[0.5,\"#000026\"],[0.6,\"#000027\"],[0.7,\"#000028\"],[0.8,\"#000029\"],[0.9,\"#000030\"],[1.0,\"#000031\"]],\"sequential\":[[0.0,\"#000011\"],[0.1111111111111111,\"#000012\"],[0.2222222222222222,\"#000013\"],[0.3333333333333333,\"#000014\"],[0.4444444444444444,\"#000015\"],[0.5555555555555556,\"#000016\"],[0.6666666666666666,\"#000017\"],[0.7777777777777778,\"#000018\"],[0.8888888888888888,\"#000019\"],[1.0,\"#000020\"]],\"sequentialminus\":[[0.0,\"#000011\"],[0.1111111111111111,\"#000012\"],[0.2222222222222222,\"#000013\"],[0.3333333333333333,\"#000014\"],[0.4444444444444444,\"#000015\"],[0.5555555555555556,\"#000016\"],[0.6666666666666666,\"#000017\"],[0.7777777777777778,\"#000018\"],[0.8888888888888888,\"#000019\"],[1.0,\"#000020\"]]},\"colorway\":[\"#000001\",\"#000002\",\"#000003\",\"#000004\",\"#000005\",\"#000006\",\"#000007\",\"#000008\",\"#000009\",\"#000010\"]}},\"ternary\":{\"domain\":{\"x\":[0.0,1.0],\"y\":[0.0,1.0]},\"aaxis\":{\"title\":{\"text\":\"Grad_employed\"}},\"baxis\":{\"title\":{\"text\":\"Grad_share\"}},\"caxis\":{\"title\":{\"text\":\"Grad_premium\"}}},\"legend\":{\"title\":{\"text\":\"Major_category\"},\"tracegroupgap\":0,\"itemsizing\":\"constant\"},\"margin\":{\"t\":60}},                        {\"responsive\": true}                    ).then(function(){\n",
       "                            \n",
       "var gd = document.getElementById('c3b6113a-946a-40f7-8398-2d9714b4048d');\n",
       "var x = new MutationObserver(function (mutations, observer) {{\n",
       "        var display = window.getComputedStyle(gd).display;\n",
       "        if (!display || display === 'none') {{\n",
       "            console.log([gd, 'removed!']);\n",
       "            Plotly.purge(gd);\n",
       "            observer.disconnect();\n",
       "        }}\n",
       "}});\n",
       "\n",
       "// Listen for the removal of the full notebook cells\n",
       "var notebookContainer = gd.closest('#notebook-container');\n",
       "if (notebookContainer) {{\n",
       "    x.observe(notebookContainer, {childList: true});\n",
       "}}\n",
       "\n",
       "// Listen for the clearing of the current output cell\n",
       "var outputEl = gd.closest('.output');\n",
       "if (outputEl) {{\n",
       "    x.observe(outputEl, {childList: true});\n",
       "}}\n",
       "\n",
       "                        })                };                });            </script>        </div>"
      ]
     },
     "metadata": {},
     "output_type": "display_data"
    }
   ],
   "source": [
    "fig = px.scatter_ternary(df_grad, a=\"Grad_employed\", b=\"Grad_share\", c=\"Grad_premium\", hover_name=\"Major\",\n",
    "    color=\"Major_category\", size=\"Grad_share\", size_max=15,\n",
    "    color_discrete_map = {\"Grad_employed\": \"blue\", \"Grad_share\": \"green\", \"Grad_premium\":\"red\"} )\n",
    "fig.show()"
   ]
  },
  {
   "cell_type": "code",
   "execution_count": 129,
   "id": "4a4b70a2",
   "metadata": {},
   "outputs": [
    {
     "data": {
      "application/vnd.plotly.v1+json": {
       "config": {
        "plotlyServerURL": "https://plot.ly"
       },
       "data": [
        {
         "a": [
          3024,
          2675,
          3578,
          2849,
          1894,
          2282,
          1636,
          3262,
          2648,
          1266,
          1908,
          998,
          1068,
          690
         ],
         "b": [
          2481,
          2525,
          2432,
          2476,
          1451,
          1906,
          1548,
          1773,
          2040,
          1165,
          1325,
          631,
          595,
          518
         ],
         "c": [
          1829,
          1163,
          3368,
          2631,
          754,
          2169,
          1503,
          2653,
          1437,
          832,
          1205,
          258,
          226,
          224
         ],
         "hovertemplate": "<b>%{hovertext}</b><br><br>winner=Joly<br>Joly=%{a}<br>Coderre=%{b}<br>Bergeron=%{c}<br>total=%{marker.size}<extra></extra>",
         "hovertext": [
          "101-Bois-de-Liesse",
          "102-Cap-Saint-Jacques",
          "161-Saint-HenriPetite-BourgognePointe-Saint-Charles",
          "172-Desmarchais-Crawford",
          "181-Peter-McGill",
          "182-Saint-Jacques",
          "33-Snowdon",
          "34-Notre-Dame-de-Grâce",
          "35-Loyola",
          "41-du Canal",
          "43-Fort-Rolland",
          "61-Pierre-Foretier",
          "62-Denis-Benjamin-Viger",
          "63-Jacques-Bizard"
         ],
         "legendgroup": "Joly",
         "marker": {
          "color": "blue",
          "size": [
           7334,
           6363,
           9378,
           7956,
           4099,
           6357,
           4687,
           7688,
           6125,
           3263,
           4438,
           1887,
           1889,
           1432
          ],
          "sizemode": "area",
          "sizeref": 49.111111111111114,
          "symbol": "circle"
         },
         "mode": "markers",
         "name": "Joly",
         "showlegend": true,
         "subplot": "ternary",
         "type": "scatterternary"
        },
        {
         "a": [
          2532,
          2543,
          3330,
          2852,
          1656,
          2431,
          2081,
          3959,
          2822,
          1641,
          1908,
          2438,
          3291,
          1220,
          2039,
          1402,
          1076,
          1172,
          1286,
          1232,
          1157,
          3717,
          2943,
          326,
          3454,
          2338,
          1435,
          1051,
          423
         ],
         "b": [
          3348,
          3252,
          5456,
          4734,
          5737,
          3673,
          3612,
          4308,
          4104,
          3931,
          5387,
          2566,
          3347,
          3668,
          2878,
          2420,
          2184,
          1589,
          2526,
          1873,
          1193,
          4201,
          3536,
          332,
          3694,
          3509,
          6591,
          6229,
          996
         ],
         "c": [
          2770,
          2521,
          1760,
          1879,
          958,
          3155,
          1554,
          1320,
          1459,
          882,
          1184,
          2092,
          2562,
          984,
          2666,
          1793,
          691,
          708,
          851,
          1182,
          653,
          1642,
          1330,
          131,
          2589,
          2178,
          1085,
          780,
          643
         ],
         "hovertemplate": "<b>%{hovertext}</b><br><br>winner=Coderre<br>Joly=%{a}<br>Coderre=%{b}<br>Bergeron=%{c}<br>total=%{marker.size}<extra></extra>",
         "hovertext": [
          "11-Sault-au-Récollet",
          "12-Saint-Sulpice",
          "121-La Pointe-aux-Prairies",
          "122-Pointe-aux-Trembles",
          "123-Rivière-des-Prairies",
          "134-Marie-Victorin",
          "14-Bordeaux-Cartierville",
          "141-Côte-de-Liesse",
          "142-Norman-McLaren",
          "151-Saint-Léonard-Est",
          "152-Saint-Léonard-Ouest",
          "162-Saint-PaulÉmard",
          "171-ChamplainL'Île-des-Soeurs",
          "191-Saint-Michel",
          "192-François-Perrault",
          "194-Parc-Extension",
          "21-Ouest",
          "22-Est",
          "23-Centre",
          "31-Darlington",
          "42-J.-Émery-Provost",
          "51-Sault-Saint-Louis",
          "52-Cecil-P.-Newman",
          "64-Sainte-Geneviève",
          "71-Tétreaultville",
          "74-Louis-Riel",
          "81-Marie-Clarac",
          "82-Ovide-Clermont",
          "91-Claude-Ryan"
         ],
         "legendgroup": "Coderre",
         "marker": {
          "color": "red",
          "size": [
           8650,
           8316,
           10546,
           9465,
           8351,
           9259,
           7247,
           9587,
           8385,
           6454,
           8479,
           7096,
           9200,
           5872,
           7583,
           5615,
           3951,
           3469,
           4663,
           4287,
           3003,
           9560,
           7809,
           789,
           9737,
           8025,
           9111,
           8060,
           2062
          ],
          "sizemode": "area",
          "sizeref": 49.111111111111114,
          "symbol": "circle"
         },
         "mode": "markers",
         "name": "Coderre",
         "showlegend": true,
         "subplot": "ternary",
         "type": "scatterternary"
        },
        {
         "a": [
          2514,
          3044,
          2316,
          2873,
          2815,
          2788,
          3234,
          2271,
          2782,
          1578,
          3139,
          2675,
          592,
          419,
          489
         ],
         "b": [
          1734,
          1770,
          1455,
          2979,
          1827,
          2331,
          2670,
          1347,
          2201,
          1644,
          2746,
          1546,
          540,
          446,
          491
         ],
         "c": [
          4782,
          5933,
          3599,
          3430,
          6408,
          5748,
          4962,
          2827,
          5819,
          1950,
          3250,
          3679,
          833,
          465,
          698
         ],
         "hovertemplate": "<b>%{hovertext}</b><br><br>winner=Bergeron<br>Joly=%{a}<br>Coderre=%{b}<br>Bergeron=%{c}<br>total=%{marker.size}<extra></extra>",
         "hovertext": [
          "111-Mile-End",
          "112-DeLorimier",
          "113-Jeanne-Mance",
          "13-Ahuntsic",
          "131-Saint-Édouard",
          "132-Étienne-Desmarteau",
          "133-Vieux-Rosemont",
          "183-Sainte-Marie",
          "193-Villeray",
          "32-Côte-des-Neiges",
          "72-MaisonneuveLongue-Pointe",
          "73-Hochelaga",
          "92-Joseph-Beaubien",
          "93-Robert-Bourassa",
          "94-Jeanne-Sauvé"
         ],
         "legendgroup": "Bergeron",
         "marker": {
          "color": "green",
          "size": [
           9030,
           10747,
           7370,
           9282,
           11050,
           10867,
           10866,
           6445,
           10802,
           5172,
           9135,
           7900,
           1965,
           1330,
           1678
          ],
          "sizemode": "area",
          "sizeref": 49.111111111111114,
          "symbol": "circle"
         },
         "mode": "markers",
         "name": "Bergeron",
         "showlegend": true,
         "subplot": "ternary",
         "type": "scatterternary"
        }
       ],
       "layout": {
        "legend": {
         "itemsizing": "constant",
         "title": {
          "text": "winner"
         },
         "tracegroupgap": 0
        },
        "margin": {
         "t": 60
        },
        "template": {
         "data": {
          "candlestick": [
           {
            "decreasing": {
             "line": {
              "color": "#000033"
             }
            },
            "increasing": {
             "line": {
              "color": "#000032"
             }
            },
            "type": "candlestick"
           }
          ],
          "contour": [
           {
            "colorscale": [
             [
              0,
              "#000011"
             ],
             [
              0.1111111111111111,
              "#000012"
             ],
             [
              0.2222222222222222,
              "#000013"
             ],
             [
              0.3333333333333333,
              "#000014"
             ],
             [
              0.4444444444444444,
              "#000015"
             ],
             [
              0.5555555555555556,
              "#000016"
             ],
             [
              0.6666666666666666,
              "#000017"
             ],
             [
              0.7777777777777778,
              "#000018"
             ],
             [
              0.8888888888888888,
              "#000019"
             ],
             [
              1,
              "#000020"
             ]
            ],
            "type": "contour"
           }
          ],
          "contourcarpet": [
           {
            "colorscale": [
             [
              0,
              "#000011"
             ],
             [
              0.1111111111111111,
              "#000012"
             ],
             [
              0.2222222222222222,
              "#000013"
             ],
             [
              0.3333333333333333,
              "#000014"
             ],
             [
              0.4444444444444444,
              "#000015"
             ],
             [
              0.5555555555555556,
              "#000016"
             ],
             [
              0.6666666666666666,
              "#000017"
             ],
             [
              0.7777777777777778,
              "#000018"
             ],
             [
              0.8888888888888888,
              "#000019"
             ],
             [
              1,
              "#000020"
             ]
            ],
            "type": "contourcarpet"
           }
          ],
          "heatmap": [
           {
            "colorscale": [
             [
              0,
              "#000011"
             ],
             [
              0.1111111111111111,
              "#000012"
             ],
             [
              0.2222222222222222,
              "#000013"
             ],
             [
              0.3333333333333333,
              "#000014"
             ],
             [
              0.4444444444444444,
              "#000015"
             ],
             [
              0.5555555555555556,
              "#000016"
             ],
             [
              0.6666666666666666,
              "#000017"
             ],
             [
              0.7777777777777778,
              "#000018"
             ],
             [
              0.8888888888888888,
              "#000019"
             ],
             [
              1,
              "#000020"
             ]
            ],
            "type": "heatmap"
           }
          ],
          "histogram2d": [
           {
            "colorscale": [
             [
              0,
              "#000011"
             ],
             [
              0.1111111111111111,
              "#000012"
             ],
             [
              0.2222222222222222,
              "#000013"
             ],
             [
              0.3333333333333333,
              "#000014"
             ],
             [
              0.4444444444444444,
              "#000015"
             ],
             [
              0.5555555555555556,
              "#000016"
             ],
             [
              0.6666666666666666,
              "#000017"
             ],
             [
              0.7777777777777778,
              "#000018"
             ],
             [
              0.8888888888888888,
              "#000019"
             ],
             [
              1,
              "#000020"
             ]
            ],
            "type": "histogram2d"
           }
          ],
          "icicle": [
           {
            "textfont": {
             "color": "white"
            },
            "type": "icicle"
           }
          ],
          "sankey": [
           {
            "textfont": {
             "color": "#000036"
            },
            "type": "sankey"
           }
          ],
          "scatter": [
           {
            "marker": {
             "line": {
              "width": 0
             }
            },
            "type": "scatter"
           }
          ],
          "table": [
           {
            "cells": {
             "fill": {
              "color": "#000038"
             },
             "font": {
              "color": "#000037"
             },
             "line": {
              "color": "#000039"
             }
            },
            "header": {
             "fill": {
              "color": "#000040"
             },
             "font": {
              "color": "#000036"
             },
             "line": {
              "color": "#000039"
             }
            },
            "type": "table"
           }
          ],
          "waterfall": [
           {
            "connector": {
             "line": {
              "color": "#000036",
              "width": 2
             }
            },
            "decreasing": {
             "marker": {
              "color": "#000033"
             }
            },
            "increasing": {
             "marker": {
              "color": "#000032"
             }
            },
            "totals": {
             "marker": {
              "color": "#000034"
             }
            },
            "type": "waterfall"
           }
          ]
         },
         "layout": {
          "coloraxis": {
           "colorscale": [
            [
             0,
             "#000011"
            ],
            [
             0.1111111111111111,
             "#000012"
            ],
            [
             0.2222222222222222,
             "#000013"
            ],
            [
             0.3333333333333333,
             "#000014"
            ],
            [
             0.4444444444444444,
             "#000015"
            ],
            [
             0.5555555555555556,
             "#000016"
            ],
            [
             0.6666666666666666,
             "#000017"
            ],
            [
             0.7777777777777778,
             "#000018"
            ],
            [
             0.8888888888888888,
             "#000019"
            ],
            [
             1,
             "#000020"
            ]
           ]
          },
          "colorscale": {
           "diverging": [
            [
             0,
             "#000021"
            ],
            [
             0.1,
             "#000022"
            ],
            [
             0.2,
             "#000023"
            ],
            [
             0.3,
             "#000024"
            ],
            [
             0.4,
             "#000025"
            ],
            [
             0.5,
             "#000026"
            ],
            [
             0.6,
             "#000027"
            ],
            [
             0.7,
             "#000028"
            ],
            [
             0.8,
             "#000029"
            ],
            [
             0.9,
             "#000030"
            ],
            [
             1,
             "#000031"
            ]
           ],
           "sequential": [
            [
             0,
             "#000011"
            ],
            [
             0.1111111111111111,
             "#000012"
            ],
            [
             0.2222222222222222,
             "#000013"
            ],
            [
             0.3333333333333333,
             "#000014"
            ],
            [
             0.4444444444444444,
             "#000015"
            ],
            [
             0.5555555555555556,
             "#000016"
            ],
            [
             0.6666666666666666,
             "#000017"
            ],
            [
             0.7777777777777778,
             "#000018"
            ],
            [
             0.8888888888888888,
             "#000019"
            ],
            [
             1,
             "#000020"
            ]
           ],
           "sequentialminus": [
            [
             0,
             "#000011"
            ],
            [
             0.1111111111111111,
             "#000012"
            ],
            [
             0.2222222222222222,
             "#000013"
            ],
            [
             0.3333333333333333,
             "#000014"
            ],
            [
             0.4444444444444444,
             "#000015"
            ],
            [
             0.5555555555555556,
             "#000016"
            ],
            [
             0.6666666666666666,
             "#000017"
            ],
            [
             0.7777777777777778,
             "#000018"
            ],
            [
             0.8888888888888888,
             "#000019"
            ],
            [
             1,
             "#000020"
            ]
           ]
          },
          "colorway": [
           "#000001",
           "#000002",
           "#000003",
           "#000004",
           "#000005",
           "#000006",
           "#000007",
           "#000008",
           "#000009",
           "#000010"
          ]
         }
        },
        "ternary": {
         "aaxis": {
          "title": {
           "text": "Joly"
          }
         },
         "baxis": {
          "title": {
           "text": "Coderre"
          }
         },
         "caxis": {
          "title": {
           "text": "Bergeron"
          }
         },
         "domain": {
          "x": [
           0,
           1
          ],
          "y": [
           0,
           1
          ]
         }
        }
       }
      },
      "text/html": [
       "<div>                            <div id=\"ed35ce01-0e40-4ec9-9425-866299465146\" class=\"plotly-graph-div\" style=\"height:525px; width:100%;\"></div>            <script type=\"text/javascript\">                require([\"plotly\"], function(Plotly) {                    window.PLOTLYENV=window.PLOTLYENV || {};                                    if (document.getElementById(\"ed35ce01-0e40-4ec9-9425-866299465146\")) {                    Plotly.newPlot(                        \"ed35ce01-0e40-4ec9-9425-866299465146\",                        [{\"a\":[3024,2675,3578,2849,1894,2282,1636,3262,2648,1266,1908,998,1068,690],\"b\":[2481,2525,2432,2476,1451,1906,1548,1773,2040,1165,1325,631,595,518],\"c\":[1829,1163,3368,2631,754,2169,1503,2653,1437,832,1205,258,226,224],\"hovertemplate\":\"<b>%{hovertext}</b><br><br>winner=Joly<br>Joly=%{a}<br>Coderre=%{b}<br>Bergeron=%{c}<br>total=%{marker.size}<extra></extra>\",\"hovertext\":[\"101-Bois-de-Liesse\",\"102-Cap-Saint-Jacques\",\"161-Saint-HenriPetite-BourgognePointe-Saint-Charles\",\"172-Desmarchais-Crawford\",\"181-Peter-McGill\",\"182-Saint-Jacques\",\"33-Snowdon\",\"34-Notre-Dame-de-Gr\\u00e2ce\",\"35-Loyola\",\"41-du Canal\",\"43-Fort-Rolland\",\"61-Pierre-Foretier\",\"62-Denis-Benjamin-Viger\",\"63-Jacques-Bizard\"],\"legendgroup\":\"Joly\",\"marker\":{\"color\":\"blue\",\"size\":[7334,6363,9378,7956,4099,6357,4687,7688,6125,3263,4438,1887,1889,1432],\"sizemode\":\"area\",\"sizeref\":49.111111111111114,\"symbol\":\"circle\"},\"mode\":\"markers\",\"name\":\"Joly\",\"showlegend\":true,\"subplot\":\"ternary\",\"type\":\"scatterternary\"},{\"a\":[2532,2543,3330,2852,1656,2431,2081,3959,2822,1641,1908,2438,3291,1220,2039,1402,1076,1172,1286,1232,1157,3717,2943,326,3454,2338,1435,1051,423],\"b\":[3348,3252,5456,4734,5737,3673,3612,4308,4104,3931,5387,2566,3347,3668,2878,2420,2184,1589,2526,1873,1193,4201,3536,332,3694,3509,6591,6229,996],\"c\":[2770,2521,1760,1879,958,3155,1554,1320,1459,882,1184,2092,2562,984,2666,1793,691,708,851,1182,653,1642,1330,131,2589,2178,1085,780,643],\"hovertemplate\":\"<b>%{hovertext}</b><br><br>winner=Coderre<br>Joly=%{a}<br>Coderre=%{b}<br>Bergeron=%{c}<br>total=%{marker.size}<extra></extra>\",\"hovertext\":[\"11-Sault-au-R\\u00e9collet\",\"12-Saint-Sulpice\",\"121-La Pointe-aux-Prairies\",\"122-Pointe-aux-Trembles\",\"123-Rivi\\u00e8re-des-Prairies\",\"134-Marie-Victorin\",\"14-Bordeaux-Cartierville\",\"141-C\\u00f4te-de-Liesse\",\"142-Norman-McLaren\",\"151-Saint-L\\u00e9onard-Est\",\"152-Saint-L\\u00e9onard-Ouest\",\"162-Saint-Paul\\u00c9mard\",\"171-ChamplainL'\\u00cele-des-Soeurs\",\"191-Saint-Michel\",\"192-Fran\\u00e7ois-Perrault\",\"194-Parc-Extension\",\"21-Ouest\",\"22-Est\",\"23-Centre\",\"31-Darlington\",\"42-J.-\\u00c9mery-Provost\",\"51-Sault-Saint-Louis\",\"52-Cecil-P.-Newman\",\"64-Sainte-Genevi\\u00e8ve\",\"71-T\\u00e9treaultville\",\"74-Louis-Riel\",\"81-Marie-Clarac\",\"82-Ovide-Clermont\",\"91-Claude-Ryan\"],\"legendgroup\":\"Coderre\",\"marker\":{\"color\":\"red\",\"size\":[8650,8316,10546,9465,8351,9259,7247,9587,8385,6454,8479,7096,9200,5872,7583,5615,3951,3469,4663,4287,3003,9560,7809,789,9737,8025,9111,8060,2062],\"sizemode\":\"area\",\"sizeref\":49.111111111111114,\"symbol\":\"circle\"},\"mode\":\"markers\",\"name\":\"Coderre\",\"showlegend\":true,\"subplot\":\"ternary\",\"type\":\"scatterternary\"},{\"a\":[2514,3044,2316,2873,2815,2788,3234,2271,2782,1578,3139,2675,592,419,489],\"b\":[1734,1770,1455,2979,1827,2331,2670,1347,2201,1644,2746,1546,540,446,491],\"c\":[4782,5933,3599,3430,6408,5748,4962,2827,5819,1950,3250,3679,833,465,698],\"hovertemplate\":\"<b>%{hovertext}</b><br><br>winner=Bergeron<br>Joly=%{a}<br>Coderre=%{b}<br>Bergeron=%{c}<br>total=%{marker.size}<extra></extra>\",\"hovertext\":[\"111-Mile-End\",\"112-DeLorimier\",\"113-Jeanne-Mance\",\"13-Ahuntsic\",\"131-Saint-\\u00c9douard\",\"132-\\u00c9tienne-Desmarteau\",\"133-Vieux-Rosemont\",\"183-Sainte-Marie\",\"193-Villeray\",\"32-C\\u00f4te-des-Neiges\",\"72-MaisonneuveLongue-Pointe\",\"73-Hochelaga\",\"92-Joseph-Beaubien\",\"93-Robert-Bourassa\",\"94-Jeanne-Sauv\\u00e9\"],\"legendgroup\":\"Bergeron\",\"marker\":{\"color\":\"green\",\"size\":[9030,10747,7370,9282,11050,10867,10866,6445,10802,5172,9135,7900,1965,1330,1678],\"sizemode\":\"area\",\"sizeref\":49.111111111111114,\"symbol\":\"circle\"},\"mode\":\"markers\",\"name\":\"Bergeron\",\"showlegend\":true,\"subplot\":\"ternary\",\"type\":\"scatterternary\"}],                        {\"template\":{\"data\":{\"candlestick\":[{\"decreasing\":{\"line\":{\"color\":\"#000033\"}},\"increasing\":{\"line\":{\"color\":\"#000032\"}},\"type\":\"candlestick\"}],\"contourcarpet\":[{\"colorscale\":[[0.0,\"#000011\"],[0.1111111111111111,\"#000012\"],[0.2222222222222222,\"#000013\"],[0.3333333333333333,\"#000014\"],[0.4444444444444444,\"#000015\"],[0.5555555555555556,\"#000016\"],[0.6666666666666666,\"#000017\"],[0.7777777777777778,\"#000018\"],[0.8888888888888888,\"#000019\"],[1.0,\"#000020\"]],\"type\":\"contourcarpet\"}],\"contour\":[{\"colorscale\":[[0.0,\"#000011\"],[0.1111111111111111,\"#000012\"],[0.2222222222222222,\"#000013\"],[0.3333333333333333,\"#000014\"],[0.4444444444444444,\"#000015\"],[0.5555555555555556,\"#000016\"],[0.6666666666666666,\"#000017\"],[0.7777777777777778,\"#000018\"],[0.8888888888888888,\"#000019\"],[1.0,\"#000020\"]],\"type\":\"contour\"}],\"heatmap\":[{\"colorscale\":[[0.0,\"#000011\"],[0.1111111111111111,\"#000012\"],[0.2222222222222222,\"#000013\"],[0.3333333333333333,\"#000014\"],[0.4444444444444444,\"#000015\"],[0.5555555555555556,\"#000016\"],[0.6666666666666666,\"#000017\"],[0.7777777777777778,\"#000018\"],[0.8888888888888888,\"#000019\"],[1.0,\"#000020\"]],\"type\":\"heatmap\"}],\"histogram2d\":[{\"colorscale\":[[0.0,\"#000011\"],[0.1111111111111111,\"#000012\"],[0.2222222222222222,\"#000013\"],[0.3333333333333333,\"#000014\"],[0.4444444444444444,\"#000015\"],[0.5555555555555556,\"#000016\"],[0.6666666666666666,\"#000017\"],[0.7777777777777778,\"#000018\"],[0.8888888888888888,\"#000019\"],[1.0,\"#000020\"]],\"type\":\"histogram2d\"}],\"icicle\":[{\"textfont\":{\"color\":\"white\"},\"type\":\"icicle\"}],\"sankey\":[{\"textfont\":{\"color\":\"#000036\"},\"type\":\"sankey\"}],\"scatter\":[{\"marker\":{\"line\":{\"width\":0}},\"type\":\"scatter\"}],\"table\":[{\"cells\":{\"fill\":{\"color\":\"#000038\"},\"font\":{\"color\":\"#000037\"},\"line\":{\"color\":\"#000039\"}},\"header\":{\"fill\":{\"color\":\"#000040\"},\"font\":{\"color\":\"#000036\"},\"line\":{\"color\":\"#000039\"}},\"type\":\"table\"}],\"waterfall\":[{\"connector\":{\"line\":{\"color\":\"#000036\",\"width\":2}},\"decreasing\":{\"marker\":{\"color\":\"#000033\"}},\"increasing\":{\"marker\":{\"color\":\"#000032\"}},\"totals\":{\"marker\":{\"color\":\"#000034\"}},\"type\":\"waterfall\"}]},\"layout\":{\"coloraxis\":{\"colorscale\":[[0.0,\"#000011\"],[0.1111111111111111,\"#000012\"],[0.2222222222222222,\"#000013\"],[0.3333333333333333,\"#000014\"],[0.4444444444444444,\"#000015\"],[0.5555555555555556,\"#000016\"],[0.6666666666666666,\"#000017\"],[0.7777777777777778,\"#000018\"],[0.8888888888888888,\"#000019\"],[1.0,\"#000020\"]]},\"colorscale\":{\"diverging\":[[0.0,\"#000021\"],[0.1,\"#000022\"],[0.2,\"#000023\"],[0.3,\"#000024\"],[0.4,\"#000025\"],[0.5,\"#000026\"],[0.6,\"#000027\"],[0.7,\"#000028\"],[0.8,\"#000029\"],[0.9,\"#000030\"],[1.0,\"#000031\"]],\"sequential\":[[0.0,\"#000011\"],[0.1111111111111111,\"#000012\"],[0.2222222222222222,\"#000013\"],[0.3333333333333333,\"#000014\"],[0.4444444444444444,\"#000015\"],[0.5555555555555556,\"#000016\"],[0.6666666666666666,\"#000017\"],[0.7777777777777778,\"#000018\"],[0.8888888888888888,\"#000019\"],[1.0,\"#000020\"]],\"sequentialminus\":[[0.0,\"#000011\"],[0.1111111111111111,\"#000012\"],[0.2222222222222222,\"#000013\"],[0.3333333333333333,\"#000014\"],[0.4444444444444444,\"#000015\"],[0.5555555555555556,\"#000016\"],[0.6666666666666666,\"#000017\"],[0.7777777777777778,\"#000018\"],[0.8888888888888888,\"#000019\"],[1.0,\"#000020\"]]},\"colorway\":[\"#000001\",\"#000002\",\"#000003\",\"#000004\",\"#000005\",\"#000006\",\"#000007\",\"#000008\",\"#000009\",\"#000010\"]}},\"ternary\":{\"domain\":{\"x\":[0.0,1.0],\"y\":[0.0,1.0]},\"aaxis\":{\"title\":{\"text\":\"Joly\"}},\"baxis\":{\"title\":{\"text\":\"Coderre\"}},\"caxis\":{\"title\":{\"text\":\"Bergeron\"}}},\"legend\":{\"title\":{\"text\":\"winner\"},\"tracegroupgap\":0,\"itemsizing\":\"constant\"},\"margin\":{\"t\":60}},                        {\"responsive\": true}                    ).then(function(){\n",
       "                            \n",
       "var gd = document.getElementById('ed35ce01-0e40-4ec9-9425-866299465146');\n",
       "var x = new MutationObserver(function (mutations, observer) {{\n",
       "        var display = window.getComputedStyle(gd).display;\n",
       "        if (!display || display === 'none') {{\n",
       "            console.log([gd, 'removed!']);\n",
       "            Plotly.purge(gd);\n",
       "            observer.disconnect();\n",
       "        }}\n",
       "}});\n",
       "\n",
       "// Listen for the removal of the full notebook cells\n",
       "var notebookContainer = gd.closest('#notebook-container');\n",
       "if (notebookContainer) {{\n",
       "    x.observe(notebookContainer, {childList: true});\n",
       "}}\n",
       "\n",
       "// Listen for the clearing of the current output cell\n",
       "var outputEl = gd.closest('.output');\n",
       "if (outputEl) {{\n",
       "    x.observe(outputEl, {childList: true});\n",
       "}}\n",
       "\n",
       "                        })                };                });            </script>        </div>"
      ]
     },
     "metadata": {},
     "output_type": "display_data"
    }
   ],
   "source": [
    "df = px.data.election()\n",
    "fig = px.scatter_ternary(df, a=\"Joly\", b=\"Coderre\", c=\"Bergeron\", hover_name=\"district\",\n",
    "    color=\"winner\", size=\"total\", size_max=15,\n",
    "    color_discrete_map = {\"Joly\": \"blue\", \"Bergeron\": \"green\", \"Coderre\":\"red\"} )\n",
    "fig.show()"
   ]
  },
  {
   "cell_type": "code",
   "execution_count": null,
   "id": "80912650",
   "metadata": {},
   "outputs": [],
   "source": [
    "# 대학원생\n",
    "df_grad = pd.read_csv('csv/grad-students.csv', index_col=0)\n",
    "df_grad = df_grad.drop(['Grad_sample_size','Grad_median','Grad_P25','Grad_P75','Nongrad_unemployment_rate','Nongrad_median','Nongrad_P25','Nongrad_P75','Nongrad_full_time_year_round','Grad_unemployment_rate','Grad_full_time_year_round','Major_code'],axis= 1)"
   ]
  },
  {
   "cell_type": "code",
   "execution_count": null,
   "id": "37584380",
   "metadata": {},
   "outputs": [],
   "source": []
  },
  {
   "cell_type": "code",
   "execution_count": null,
   "id": "670dcfd9",
   "metadata": {},
   "outputs": [],
   "source": []
  },
  {
   "cell_type": "code",
   "execution_count": 141,
   "id": "af0e0fb6",
   "metadata": {},
   "outputs": [],
   "source": [
    "df2 = df_grad.corr()"
   ]
  },
  {
   "cell_type": "code",
   "execution_count": 144,
   "id": "4bdeb854",
   "metadata": {
    "scrolled": true
   },
   "outputs": [
    {
     "data": {
      "image/png": "[encoded data removed]",
      "text/plain": [
       "<Figure size 1000x800 with 2 Axes>"
      ]
     },
     "metadata": {},
     "output_type": "display_data"
    }
   ],
   "source": [
    "plt.figure(figsize=(10,8))\n",
    "sb.heatmap(data= df2 ,cmap= 'RdPu' , annot = True , fmt='.2f' , linewidth=0.8)\n",
    "plt.show()"
   ]
  },
  {
   "cell_type": "code",
   "execution_count": 163,
   "id": "15197628",
   "metadata": {},
   "outputs": [
    {
     "data": {
      "application/vnd.plotly.v1+json": {
       "config": {
        "plotlyServerURL": "https://plot.ly"
       },
       "data": [
        {
         "hovertemplate": "Major_category=Industrial Arts & Consumer Services<br>Nongrad_employed=%{x}<br>Grad_share=%{y}<br>Grad_premium=%{marker.color}<extra></extra>",
         "legendgroup": "Industrial Arts & Consumer Services",
         "marker": {
          "color": [
           0.2,
           0.1,
           0.2,
           0.3,
           0.4,
           0.3,
           0.2
          ],
          "coloraxis": "coloraxis",
          "opacity": 0.7,
          "size": [
           0.2,
           0.1,
           0.2,
           0.3,
           0.4,
           0.3,
           0.2
          ],
          "sizemode": "area",
          "sizeref": 0.0049382716049382715,
          "symbol": "circle"
         },
         "mode": "markers",
         "name": "Industrial Arts & Consumer Services",
         "scene": "scene",
         "showlegend": true,
         "type": "scatter3d",
         "x": [
          0.7,
          0.3,
          0.1,
          0.9,
          2.2,
          2.5,
          0
         ],
         "y": [
          0.1,
          0.1,
          0.2,
          0.2,
          0.3,
          0.3,
          0.4
         ],
         "z": [
          0.2,
          0.1,
          0.2,
          0.3,
          0.4,
          0.3,
          0.2
         ]
        },
        {
         "hovertemplate": "Major_category=Arts<br>Nongrad_employed=%{x}<br>Grad_share=%{y}<br>Grad_premium=%{marker.color}<extra></extra>",
         "legendgroup": "Arts",
         "marker": {
          "color": [
           0.2,
           0.1,
           0.2,
           0.3,
           0.3,
           0.3,
           0.3,
           0.3
          ],
          "coloraxis": "coloraxis",
          "opacity": 0.7,
          "size": [
           0.2,
           0.1,
           0.2,
           0.3,
           0.3,
           0.3,
           0.3,
           0.3
          ],
          "sizemode": "area",
          "sizeref": 0.0049382716049382715,
          "symbol": "diamond"
         },
         "mode": "markers",
         "name": "Arts",
         "scene": "scene",
         "showlegend": true,
         "type": "scatter3d",
         "x": [
          3.5,
          0.9,
          0.1,
          3.6,
          0.4,
          0.5,
          1.2,
          1.7
         ],
         "y": [
          0.1,
          0.2,
          0.2,
          0.3,
          0.3,
          0.3,
          0.3,
          0.4
         ],
         "z": [
          0.2,
          0.1,
          0.2,
          0.3,
          0.3,
          0.3,
          0.3,
          0.3
         ]
        },
        {
         "hovertemplate": "Major_category=Business<br>Nongrad_employed=%{x}<br>Grad_share=%{y}<br>Grad_premium=%{marker.color}<extra></extra>",
         "legendgroup": "Business",
         "marker": {
          "color": [
           0.3,
           0.3,
           0.4,
           0.3,
           0.2,
           0.4,
           0.4,
           0.4,
           0.4,
           0.4,
           0.3,
           0.3,
           0.3
          ],
          "coloraxis": "coloraxis",
          "opacity": 0.7,
          "size": [
           0.3,
           0.3,
           0.4,
           0.3,
           0.2,
           0.4,
           0.4,
           0.4,
           0.4,
           0.4,
           0.3,
           0.3,
           0.3
          ],
          "sizemode": "area",
          "sizeref": 0.0049382716049382715,
          "symbol": "square"
         },
         "mode": "markers",
         "name": "Business",
         "scene": "scene",
         "showlegend": true,
         "type": "scatter3d",
         "x": [
          1.5,
          8.2,
          0.7,
          22.5,
          1.3,
          0.4,
          15.1,
          0.1,
          12.8,
          6.2,
          1.4,
          0.6,
          0.5
         ],
         "y": [
          0.1,
          0.2,
          0.2,
          0.2,
          0.2,
          0.2,
          0.2,
          0.2,
          0.3,
          0.3,
          0.3,
          0.3,
          0.3
         ],
         "z": [
          0.3,
          0.3,
          0.4,
          0.3,
          0.2,
          0.4,
          0.4,
          0.4,
          0.4,
          0.4,
          0.3,
          0.3,
          0.3
         ]
        },
        {
         "hovertemplate": "Major_category=Computers & Mathematics<br>Nongrad_employed=%{x}<br>Grad_share=%{y}<br>Grad_premium=%{marker.color}<extra></extra>",
         "legendgroup": "Computers & Mathematics",
         "marker": {
          "color": [
           0.1,
           0.4,
           0.4,
           0.4,
           0.2,
           0.2,
           0.2,
           0.1,
           0.3,
           0.2,
           0.3
          ],
          "coloraxis": "coloraxis",
          "opacity": 0.7,
          "size": [
           0.1,
           0.4,
           0.4,
           0.4,
           0.2,
           0.2,
           0.2,
           0.1,
           0.3,
           0.2,
           0.3
          ],
          "sizemode": "area",
          "sizeref": 0.0049382716049382715,
          "symbol": "x"
         },
         "mode": "markers",
         "name": "Computers & Mathematics",
         "scene": "scene",
         "showlegend": true,
         "type": "scatter3d",
         "x": [
          0.4,
          0.2,
          0.4,
          0.3,
          2.1,
          0.6,
          6.2,
          0.1,
          0.1,
          0.2,
          2.6
         ],
         "y": [
          0.1,
          0.2,
          0.2,
          0.2,
          0.2,
          0.3,
          0.3,
          0.4,
          0.5,
          0.5,
          0.5
         ],
         "z": [
          0.1,
          0.4,
          0.4,
          0.4,
          0.2,
          0.2,
          0.2,
          0.1,
          0.3,
          0.2,
          0.3
         ]
        },
        {
         "hovertemplate": "Major_category=Law & Public Policy<br>Nongrad_employed=%{x}<br>Grad_share=%{y}<br>Grad_premium=%{marker.color}<extra></extra>",
         "legendgroup": "Law & Public Policy",
         "marker": {
          "color": [
           0.5,
           0.3,
           0.5,
           0.3,
           0.4
          ],
          "coloraxis": "coloraxis",
          "opacity": 0.7,
          "size": [
           0.5,
           0.3,
           0.5,
           0.3,
           0.4
          ],
          "sizemode": "area",
          "sizeref": 0.0049382716049382715,
          "symbol": "cross"
         },
         "mode": "markers",
         "name": "Law & Public Policy",
         "scene": "scene",
         "showlegend": true,
         "type": "scatter3d",
         "x": [
          0.1,
          5.7,
          0.5,
          0.4,
          0.1
         ],
         "y": [
          0.1,
          0.2,
          0.4,
          0.4,
          0.6
         ],
         "z": [
          0.5,
          0.3,
          0.5,
          0.3,
          0.4
         ]
        },
        {
         "hovertemplate": "Major_category=Agriculture & Natural Resources<br>Nongrad_employed=%{x}<br>Grad_share=%{y}<br>Grad_premium=%{marker.color}<extra></extra>",
         "legendgroup": "Agriculture & Natural Resources",
         "marker": {
          "color": [
           0.2,
           0.4,
           0.3,
           0.3,
           0.3,
           0.3,
           0,
           0.5,
           0,
           0.1
          ],
          "coloraxis": "coloraxis",
          "opacity": 0.7,
          "size": [
           0.2,
           0.4,
           0.3,
           0.3,
           0.3,
           0.3,
           0,
           0.5,
           0,
           0.1
          ],
          "sizemode": "area",
          "sizeref": 0.0049382716049382715,
          "symbol": "circle"
         },
         "mode": "markers",
         "name": "Agriculture & Natural Resources",
         "scene": "scene",
         "showlegend": true,
         "type": "scatter3d",
         "x": [
          0.7,
          0.9,
          0.5,
          0.6,
          0.6,
          0.3,
          0,
          0.7,
          0.1,
          0.2
         ],
         "y": [
          0.2,
          0.3,
          0.3,
          0.3,
          0.3,
          0.3,
          0.3,
          0.4,
          0.4,
          0.4
         ],
         "z": [
          0.2,
          0.4,
          0.3,
          0.3,
          0.3,
          0.3,
          0,
          0.5,
          0,
          0.1
         ]
        },
        {
         "hovertemplate": "Major_category=Communications & Journalism<br>Nongrad_employed=%{x}<br>Grad_share=%{y}<br>Grad_premium=%{marker.color}<extra></extra>",
         "legendgroup": "Communications & Journalism",
         "marker": {
          "color": [
           0.2,
           0.1,
           0.2,
           0.3
          ],
          "coloraxis": "coloraxis",
          "opacity": 0.7,
          "size": [
           0.2,
           0.1,
           0.2,
           0.3
          ],
          "sizemode": "area",
          "sizeref": 0.0049382716049382715,
          "symbol": "diamond"
         },
         "mode": "markers",
         "name": "Communications & Journalism",
         "scene": "scene",
         "showlegend": true,
         "type": "scatter3d",
         "x": [
          1.3,
          1.5,
          7.2,
          2.9
         ],
         "y": [
          0.2,
          0.2,
          0.2,
          0.2
         ],
         "z": [
          0.2,
          0.1,
          0.2,
          0.3
         ]
        },
        {
         "hovertemplate": "Major_category=Engineering<br>Nongrad_employed=%{x}<br>Grad_share=%{y}<br>Grad_premium=%{marker.color}<extra></extra>",
         "legendgroup": "Engineering",
         "marker": {
          "color": [
           0.3,
           0.2,
           0.2,
           0.2,
           0.1,
           0,
           0,
           0.4,
           0.3,
           0.1,
           0.3,
           0.2,
           0.2,
           0.1,
           0.2,
           0.3,
           0.2,
           0,
           0.2,
           0.2,
           0.2,
           0.1,
           0.3,
           0.1,
           0,
           0.4,
           0.1,
           0.3,
           0.2
          ],
          "coloraxis": "coloraxis",
          "opacity": 0.7,
          "size": [
           0.3,
           0.2,
           0.2,
           0.2,
           0.1,
           0,
           0,
           0.4,
           0.3,
           0.1,
           0.3,
           0.2,
           0.2,
           0.1,
           0.2,
           0.3,
           0.2,
           0,
           0.2,
           0.2,
           0.2,
           0.1,
           0.3,
           0.1,
           0,
           0.4,
           0.1,
           0.3,
           0.2
          ],
          "sizemode": "area",
          "sizeref": 0.0049382716049382715,
          "symbol": "square"
         },
         "mode": "markers",
         "name": "Engineering",
         "scene": "scene",
         "showlegend": true,
         "type": "scatter3d",
         "x": [
          0.2,
          0.5,
          0.6,
          0.7,
          0.3,
          0.1,
          0.1,
          0.3,
          0.4,
          2.1,
          3.5,
          2.5,
          1.2,
          0.1,
          4,
          1,
          0,
          0.1,
          4.7,
          0.2,
          0.1,
          1.2,
          0.4,
          0.1,
          0.1,
          0.1,
          0.1,
          0.1,
          0
         ],
         "y": [
          0.2,
          0.2,
          0.2,
          0.2,
          0.2,
          0.3,
          0.3,
          0.3,
          0.3,
          0.3,
          0.4,
          0.4,
          0.4,
          0.4,
          0.4,
          0.4,
          0.4,
          0.4,
          0.4,
          0.4,
          0.5,
          0.5,
          0.5,
          0.5,
          0.5,
          0.5,
          0.5,
          0.6,
          0.7
         ],
         "z": [
          0.3,
          0.2,
          0.2,
          0.2,
          0.1,
          0,
          0,
          0.4,
          0.3,
          0.1,
          0.3,
          0.2,
          0.2,
          0.1,
          0.2,
          0.3,
          0.2,
          0,
          0.2,
          0.2,
          0.2,
          0.1,
          0.3,
          0.1,
          0,
          0.4,
          0.1,
          0.3,
          0.2
         ]
        },
        {
         "hovertemplate": "Major_category=Social Science<br>Nongrad_employed=%{x}<br>Grad_share=%{y}<br>Grad_premium=%{marker.color}<extra></extra>",
         "legendgroup": "Social Science",
         "marker": {
          "color": [
           0.3,
           0.3,
           0.4,
           0.3,
           0.4,
           0.4,
           0.4,
           0.5,
           0.4
          ],
          "coloraxis": "coloraxis",
          "opacity": 0.7,
          "size": [
           0.3,
           0.3,
           0.4,
           0.3,
           0.4,
           0.4,
           0.4,
           0.5,
           0.4
          ],
          "sizemode": "area",
          "sizeref": 0.0049382716049382715,
          "symbol": "x"
         },
         "mode": "markers",
         "name": "Social Science",
         "scene": "scene",
         "showlegend": true,
         "type": "scatter3d",
         "x": [
          0.5,
          0.8,
          0.4,
          4.2,
          0.8,
          5,
          0.1,
          4.9,
          0.5
         ],
         "y": [
          0.2,
          0.3,
          0.3,
          0.4,
          0.4,
          0.4,
          0.5,
          0.5,
          0.5
         ],
         "z": [
          0.3,
          0.3,
          0.4,
          0.3,
          0.4,
          0.4,
          0.4,
          0.5,
          0.4
         ]
        },
        {
         "hovertemplate": "Major_category=Health<br>Nongrad_employed=%{x}<br>Grad_share=%{y}<br>Grad_premium=%{marker.color}<extra></extra>",
         "legendgroup": "Health",
         "marker": {
          "color": [
           0.3,
           0.4,
           0.3,
           0.5,
           0.1,
           0.3,
           0.3,
           0.3,
           0.4,
           0,
           0.5,
           1.6
          ],
          "coloraxis": "coloraxis",
          "opacity": 0.7,
          "size": [
           0.3,
           0.4,
           0.3,
           0.5,
           0.1,
           0.3,
           0.3,
           0.3,
           0.4,
           0,
           0.5,
           1.6
          ],
          "sizemode": "area",
          "sizeref": 0.0049382716049382715,
          "symbol": "cross"
         },
         "mode": "markers",
         "name": "Health",
         "scene": "scene",
         "showlegend": true,
         "type": "scatter3d",
         "x": [
          1.2,
          0.5,
          12.6,
          0.8,
          1.9,
          0.5,
          0.7,
          0.4,
          0.4,
          1.2,
          0.4,
          0.2
         ],
         "y": [
          0.2,
          0.2,
          0.3,
          0.3,
          0.4,
          0.4,
          0.4,
          0.4,
          0.4,
          0.5,
          0.8,
          0.8
         ],
         "z": [
          0.3,
          0.4,
          0.3,
          0.5,
          0.1,
          0.3,
          0.3,
          0.3,
          0.4,
          0,
          0.5,
          1.6
         ]
        },
        {
         "hovertemplate": "Major_category=Interdisciplinary<br>Nongrad_employed=%{x}<br>Grad_share=%{y}<br>Grad_premium=%{marker.color}<extra></extra>",
         "legendgroup": "Interdisciplinary",
         "marker": {
          "color": [
           0.2
          ],
          "coloraxis": "coloraxis",
          "opacity": 0.7,
          "size": [
           0.2
          ],
          "sizemode": "area",
          "sizeref": 0.0049382716049382715,
          "symbol": "circle"
         },
         "mode": "markers",
         "name": "Interdisciplinary",
         "scene": "scene",
         "showlegend": true,
         "type": "scatter3d",
         "x": [
          0.3
         ],
         "y": [
          0.3
         ],
         "z": [
          0.2
         ]
        },
        {
         "hovertemplate": "Major_category=Physical Sciences<br>Nongrad_employed=%{x}<br>Grad_share=%{y}<br>Grad_premium=%{marker.color}<extra></extra>",
         "legendgroup": "Physical Sciences",
         "marker": {
          "color": [
           0.2,
           0.5,
           0.5,
           0.3,
           0.3,
           0.4,
           0.6,
           0.1,
           0.7,
           0.4
          ],
          "coloraxis": "coloraxis",
          "opacity": 0.7,
          "size": [
           0.2,
           0.5,
           0.5,
           0.3,
           0.3,
           0.4,
           0.6,
           0.1,
           0.7,
           0.4
          ],
          "sizemode": "area",
          "sizeref": 0.0049382716049382715,
          "symbol": "diamond"
         },
         "mode": "markers",
         "name": "Physical Sciences",
         "scene": "scene",
         "showlegend": true,
         "type": "scatter3d",
         "x": [
          0.1,
          2.9,
          0.1,
          0.7,
          0.1,
          0.1,
          0.1,
          0,
          1.8,
          0.7
         ],
         "y": [
          0.3,
          0.4,
          0.4,
          0.5,
          0.5,
          0.5,
          0.5,
          0.6,
          0.6,
          0.7
         ],
         "z": [
          0.2,
          0.5,
          0.5,
          0.3,
          0.3,
          0.4,
          0.6,
          0.1,
          0.7,
          0.4
         ]
        },
        {
         "hovertemplate": "Major_category=Humanities & Liberal Arts<br>Nongrad_employed=%{x}<br>Grad_share=%{y}<br>Grad_premium=%{marker.color}<extra></extra>",
         "legendgroup": "Humanities & Liberal Arts",
         "marker": {
          "color": [
           0.4,
           0.4,
           0.4,
           0.4,
           0.4,
           0.2,
           0.3,
           0.4,
           0.3,
           0.4,
           0.5,
           0.5,
           0.3,
           0.6,
           0.4
          ],
          "coloraxis": "coloraxis",
          "opacity": 0.7,
          "size": [
           0.4,
           0.4,
           0.4,
           0.4,
           0.4,
           0.2,
           0.3,
           0.4,
           0.3,
           0.4,
           0.5,
           0.5,
           0.3,
           0.6,
           0.4
          ],
          "sizemode": "area",
          "sizeref": 0.0049382716049382715,
          "symbol": "square"
         },
         "mode": "markers",
         "name": "Humanities & Liberal Arts",
         "scene": "scene",
         "showlegend": true,
         "type": "scatter3d",
         "x": [
          3.9,
          0.4,
          0.3,
          0.5,
          0.3,
          1.5,
          0.4,
          0.9,
          6.5,
          0.3,
          0.7,
          4.4,
          1.4,
          0.1,
          1.2
         ],
         "y": [
          0.3,
          0.3,
          0.4,
          0.4,
          0.4,
          0.4,
          0.5,
          0.5,
          0.5,
          0.5,
          0.5,
          0.5,
          0.5,
          0.5,
          0.6
         ],
         "z": [
          0.4,
          0.4,
          0.4,
          0.4,
          0.4,
          0.2,
          0.3,
          0.4,
          0.3,
          0.4,
          0.5,
          0.5,
          0.3,
          0.6,
          0.4
         ]
        },
        {
         "hovertemplate": "Major_category=Psychology & Social Work<br>Nongrad_employed=%{x}<br>Grad_share=%{y}<br>Grad_premium=%{marker.color}<extra></extra>",
         "legendgroup": "Psychology & Social Work",
         "marker": {
          "color": [
           0.3,
           0.4,
           0.2,
           0.3,
           0.4,
           0.4,
           0.5,
           0.2,
           0.5
          ],
          "coloraxis": "coloraxis",
          "opacity": 0.7,
          "size": [
           0.3,
           0.4,
           0.2,
           0.3,
           0.4,
           0.4,
           0.5,
           0.2,
           0.5
          ],
          "sizemode": "area",
          "sizeref": 0.0049382716049382715,
          "symbol": "x"
         },
         "mode": "markers",
         "name": "Psychology & Social Work",
         "scene": "scene",
         "showlegend": true,
         "type": "scatter3d",
         "x": [
          0.6,
          0.1,
          0.1,
          2.1,
          9.4,
          0.2,
          0.1,
          0.1,
          0
         ],
         "y": [
          0.3,
          0.4,
          0.4,
          0.5,
          0.5,
          0.5,
          0.7,
          0.8,
          0.8
         ],
         "z": [
          0.3,
          0.4,
          0.2,
          0.3,
          0.4,
          0.4,
          0.5,
          0.2,
          0.5
         ]
        },
        {
         "hovertemplate": "Major_category=Biology & Life Science<br>Nongrad_employed=%{x}<br>Grad_share=%{y}<br>Grad_premium=%{marker.color}<extra></extra>",
         "legendgroup": "Biology & Life Science",
         "marker": {
          "color": [
           0.2,
           0.3,
           0.2,
           0.7,
           0.4,
           0.4,
           0.8,
           0.8,
           0.7,
           0.6,
           1,
           0.4,
           0.7,
           0.4
          ],
          "coloraxis": "coloraxis",
          "opacity": 0.7,
          "size": [
           0.2,
           0.3,
           0.2,
           0.7,
           0.4,
           0.4,
           0.8,
           0.8,
           0.7,
           0.6,
           1,
           0.4,
           0.7,
           0.4
          ],
          "sizemode": "area",
          "sizeref": 0.0049382716049382715,
          "symbol": "cross"
         },
         "mode": "markers",
         "name": "Biology & Life Science",
         "scene": "scene",
         "showlegend": true,
         "type": "scatter3d",
         "x": [
          0.8,
          0.3,
          0.2,
          0,
          0.4,
          0.1,
          5.1,
          0.3,
          0.2,
          0,
          0.3,
          0,
          0.4,
          0
         ],
         "y": [
          0.3,
          0.3,
          0.5,
          0.5,
          0.6,
          0.6,
          0.6,
          0.6,
          0.6,
          0.7,
          0.7,
          0.7,
          0.7,
          0.7
         ],
         "z": [
          0.2,
          0.3,
          0.2,
          0.7,
          0.4,
          0.4,
          0.8,
          0.8,
          0.7,
          0.6,
          1,
          0.4,
          0.7,
          0.4
         ]
        },
        {
         "hovertemplate": "Major_category=Education<br>Nongrad_employed=%{x}<br>Grad_share=%{y}<br>Grad_premium=%{marker.color}<extra></extra>",
         "legendgroup": "Education",
         "marker": {
          "color": [
           0.4,
           0.3,
           0.2,
           0.4,
           0.3,
           0.3,
           0.4,
           0.3,
           0.4,
           0.3,
           0.3,
           0.3,
           0.3,
           0.3,
           0.3,
           0.1
          ],
          "coloraxis": "coloraxis",
          "opacity": 0.7,
          "size": [
           0.4,
           0.3,
           0.2,
           0.4,
           0.3,
           0.3,
           0.4,
           0.3,
           0.4,
           0.3,
           0.3,
           0.3,
           0.3,
           0.3,
           0.3,
           0.1
          ],
          "sizemode": "area",
          "sizeref": 0.0049382716049382715,
          "symbol": "circle"
         },
         "mode": "markers",
         "name": "Education",
         "scene": "scene",
         "showlegend": true,
         "type": "scatter3d",
         "x": [
          1,
          1.9,
          1.2,
          7.6,
          8.1,
          1.4,
          0.5,
          0.7,
          1.2,
          1,
          0.4,
          0.3,
          1,
          0.1,
          0,
          0
         ],
         "y": [
          0.4,
          0.4,
          0.4,
          0.4,
          0.4,
          0.5,
          0.5,
          0.5,
          0.5,
          0.5,
          0.6,
          0.6,
          0.6,
          0.6,
          0.9,
          0.9
         ],
         "z": [
          0.4,
          0.3,
          0.2,
          0.4,
          0.3,
          0.3,
          0.4,
          0.3,
          0.4,
          0.3,
          0.3,
          0.3,
          0.3,
          0.3,
          0.3,
          0.1
         ]
        }
       ],
       "layout": {
        "coloraxis": {
         "colorbar": {
          "title": {
           "text": "Grad_premium"
          }
         },
         "colorscale": [
          [
           0,
           "#000011"
          ],
          [
           0.1111111111111111,
           "#000012"
          ],
          [
           0.2222222222222222,
           "#000013"
          ],
          [
           0.3333333333333333,
           "#000014"
          ],
          [
           0.4444444444444444,
           "#000015"
          ],
          [
           0.5555555555555556,
           "#000016"
          ],
          [
           0.6666666666666666,
           "#000017"
          ],
          [
           0.7777777777777778,
           "#000018"
          ],
          [
           0.8888888888888888,
           "#000019"
          ],
          [
           1,
           "#000020"
          ]
         ]
        },
        "legend": {
         "itemsizing": "constant",
         "title": {
          "text": "Major_category"
         },
         "tracegroupgap": 0
        },
        "margin": {
         "b": 0,
         "l": 0,
         "r": 0,
         "t": 0
        },
        "scene": {
         "domain": {
          "x": [
           0,
           1
          ],
          "y": [
           0,
           1
          ]
         },
         "xaxis": {
          "title": {
           "text": "Nongrad_employed"
          }
         },
         "yaxis": {
          "title": {
           "text": "Grad_share"
          }
         },
         "zaxis": {
          "title": {
           "text": "Grad_premium"
          }
         }
        },
        "template": {
         "data": {
          "candlestick": [
           {
            "decreasing": {
             "line": {
              "color": "#000033"
             }
            },
            "increasing": {
             "line": {
              "color": "#000032"
             }
            },
            "type": "candlestick"
           }
          ],
          "contour": [
           {
            "colorscale": [
             [
              0,
              "#000011"
             ],
             [
              0.1111111111111111,
              "#000012"
             ],
             [
              0.2222222222222222,
              "#000013"
             ],
             [
              0.3333333333333333,
              "#000014"
             ],
             [
              0.4444444444444444,
              "#000015"
             ],
             [
              0.5555555555555556,
              "#000016"
             ],
             [
              0.6666666666666666,
              "#000017"
             ],
             [
              0.7777777777777778,
              "#000018"
             ],
             [
              0.8888888888888888,
              "#000019"
             ],
             [
              1,
              "#000020"
             ]
            ],
            "type": "contour"
           }
          ],
          "contourcarpet": [
           {
            "colorscale": [
             [
              0,
              "#000011"
             ],
             [
              0.1111111111111111,
              "#000012"
             ],
             [
              0.2222222222222222,
              "#000013"
             ],
             [
              0.3333333333333333,
              "#000014"
             ],
             [
              0.4444444444444444,
              "#000015"
             ],
             [
              0.5555555555555556,
              "#000016"
             ],
             [
              0.6666666666666666,
              "#000017"
             ],
             [
              0.7777777777777778,
              "#000018"
             ],
             [
              0.8888888888888888,
              "#000019"
             ],
             [
              1,
              "#000020"
             ]
            ],
            "type": "contourcarpet"
           }
          ],
          "heatmap": [
           {
            "colorscale": [
             [
              0,
              "#000011"
             ],
             [
              0.1111111111111111,
              "#000012"
             ],
             [
              0.2222222222222222,
              "#000013"
             ],
             [
              0.3333333333333333,
              "#000014"
             ],
             [
              0.4444444444444444,
              "#000015"
             ],
             [
              0.5555555555555556,
              "#000016"
             ],
             [
              0.6666666666666666,
              "#000017"
             ],
             [
              0.7777777777777778,
              "#000018"
             ],
             [
              0.8888888888888888,
              "#000019"
             ],
             [
              1,
              "#000020"
             ]
            ],
            "type": "heatmap"
           }
          ],
          "histogram2d": [
           {
            "colorscale": [
             [
              0,
              "#000011"
             ],
             [
              0.1111111111111111,
              "#000012"
             ],
             [
              0.2222222222222222,
              "#000013"
             ],
             [
              0.3333333333333333,
              "#000014"
             ],
             [
              0.4444444444444444,
              "#000015"
             ],
             [
              0.5555555555555556,
              "#000016"
             ],
             [
              0.6666666666666666,
              "#000017"
             ],
             [
              0.7777777777777778,
              "#000018"
             ],
             [
              0.8888888888888888,
              "#000019"
             ],
             [
              1,
              "#000020"
             ]
            ],
            "type": "histogram2d"
           }
          ],
          "icicle": [
           {
            "textfont": {
             "color": "white"
            },
            "type": "icicle"
           }
          ],
          "sankey": [
           {
            "textfont": {
             "color": "#000036"
            },
            "type": "sankey"
           }
          ],
          "scatter": [
           {
            "marker": {
             "line": {
              "width": 0
             }
            },
            "type": "scatter"
           }
          ],
          "table": [
           {
            "cells": {
             "fill": {
              "color": "#000038"
             },
             "font": {
              "color": "#000037"
             },
             "line": {
              "color": "#000039"
             }
            },
            "header": {
             "fill": {
              "color": "#000040"
             },
             "font": {
              "color": "#000036"
             },
             "line": {
              "color": "#000039"
             }
            },
            "type": "table"
           }
          ],
          "waterfall": [
           {
            "connector": {
             "line": {
              "color": "#000036",
              "width": 2
             }
            },
            "decreasing": {
             "marker": {
              "color": "#000033"
             }
            },
            "increasing": {
             "marker": {
              "color": "#000032"
             }
            },
            "totals": {
             "marker": {
              "color": "#000034"
             }
            },
            "type": "waterfall"
           }
          ]
         },
         "layout": {
          "coloraxis": {
           "colorscale": [
            [
             0,
             "#000011"
            ],
            [
             0.1111111111111111,
             "#000012"
            ],
            [
             0.2222222222222222,
             "#000013"
            ],
            [
             0.3333333333333333,
             "#000014"
            ],
            [
             0.4444444444444444,
             "#000015"
            ],
            [
             0.5555555555555556,
             "#000016"
            ],
            [
             0.6666666666666666,
             "#000017"
            ],
            [
             0.7777777777777778,
             "#000018"
            ],
            [
             0.8888888888888888,
             "#000019"
            ],
            [
             1,
             "#000020"
            ]
           ]
          },
          "colorscale": {
           "diverging": [
            [
             0,
             "#000021"
            ],
            [
             0.1,
             "#000022"
            ],
            [
             0.2,
             "#000023"
            ],
            [
             0.3,
             "#000024"
            ],
            [
             0.4,
             "#000025"
            ],
            [
             0.5,
             "#000026"
            ],
            [
             0.6,
             "#000027"
            ],
            [
             0.7,
             "#000028"
            ],
            [
             0.8,
             "#000029"
            ],
            [
             0.9,
             "#000030"
            ],
            [
             1,
             "#000031"
            ]
           ],
           "sequential": [
            [
             0,
             "#000011"
            ],
            [
             0.1111111111111111,
             "#000012"
            ],
            [
             0.2222222222222222,
             "#000013"
            ],
            [
             0.3333333333333333,
             "#000014"
            ],
            [
             0.4444444444444444,
             "#000015"
            ],
            [
             0.5555555555555556,
             "#000016"
            ],
            [
             0.6666666666666666,
             "#000017"
            ],
            [
             0.7777777777777778,
             "#000018"
            ],
            [
             0.8888888888888888,
             "#000019"
            ],
            [
             1,
             "#000020"
            ]
           ],
           "sequentialminus": [
            [
             0,
             "#000011"
            ],
            [
             0.1111111111111111,
             "#000012"
            ],
            [
             0.2222222222222222,
             "#000013"
            ],
            [
             0.3333333333333333,
             "#000014"
            ],
            [
             0.4444444444444444,
             "#000015"
            ],
            [
             0.5555555555555556,
             "#000016"
            ],
            [
             0.6666666666666666,
             "#000017"
            ],
            [
             0.7777777777777778,
             "#000018"
            ],
            [
             0.8888888888888888,
             "#000019"
            ],
            [
             1,
             "#000020"
            ]
           ]
          },
          "colorway": [
           "#000001",
           "#000002",
           "#000003",
           "#000004",
           "#000005",
           "#000006",
           "#000007",
           "#000008",
           "#000009",
           "#000010"
          ]
         }
        }
       }
      },
      "text/html": [
       "<div>                            <div id=\"1190f3e0-48a7-4f69-8af4-c52275081610\" class=\"plotly-graph-div\" style=\"height:525px; width:100%;\"></div>            <script type=\"text/javascript\">                require([\"plotly\"], function(Plotly) {                    window.PLOTLYENV=window.PLOTLYENV || {};                                    if (document.getElementById(\"1190f3e0-48a7-4f69-8af4-c52275081610\")) {                    Plotly.newPlot(                        \"1190f3e0-48a7-4f69-8af4-c52275081610\",                        [{\"hovertemplate\":\"Major_category=Industrial Arts & Consumer Services<br>Nongrad_employed=%{x}<br>Grad_share=%{y}<br>Grad_premium=%{marker.color}<extra></extra>\",\"legendgroup\":\"Industrial Arts & Consumer Services\",\"marker\":{\"color\":[0.2,0.1,0.2,0.3,0.4,0.3,0.2],\"coloraxis\":\"coloraxis\",\"opacity\":0.7,\"size\":[0.2,0.1,0.2,0.3,0.4,0.3,0.2],\"sizemode\":\"area\",\"sizeref\":0.0049382716049382715,\"symbol\":\"circle\"},\"mode\":\"markers\",\"name\":\"Industrial Arts & Consumer Services\",\"scene\":\"scene\",\"showlegend\":true,\"x\":[0.7,0.3,0.1,0.9,2.2,2.5,0.0],\"y\":[0.1,0.1,0.2,0.2,0.3,0.3,0.4],\"z\":[0.2,0.1,0.2,0.3,0.4,0.3,0.2],\"type\":\"scatter3d\"},{\"hovertemplate\":\"Major_category=Arts<br>Nongrad_employed=%{x}<br>Grad_share=%{y}<br>Grad_premium=%{marker.color}<extra></extra>\",\"legendgroup\":\"Arts\",\"marker\":{\"color\":[0.2,0.1,0.2,0.3,0.3,0.3,0.3,0.3],\"coloraxis\":\"coloraxis\",\"opacity\":0.7,\"size\":[0.2,0.1,0.2,0.3,0.3,0.3,0.3,0.3],\"sizemode\":\"area\",\"sizeref\":0.0049382716049382715,\"symbol\":\"diamond\"},\"mode\":\"markers\",\"name\":\"Arts\",\"scene\":\"scene\",\"showlegend\":true,\"x\":[3.5,0.9,0.1,3.6,0.4,0.5,1.2,1.7],\"y\":[0.1,0.2,0.2,0.3,0.3,0.3,0.3,0.4],\"z\":[0.2,0.1,0.2,0.3,0.3,0.3,0.3,0.3],\"type\":\"scatter3d\"},{\"hovertemplate\":\"Major_category=Business<br>Nongrad_employed=%{x}<br>Grad_share=%{y}<br>Grad_premium=%{marker.color}<extra></extra>\",\"legendgroup\":\"Business\",\"marker\":{\"color\":[0.3,0.3,0.4,0.3,0.2,0.4,0.4,0.4,0.4,0.4,0.3,0.3,0.3],\"coloraxis\":\"coloraxis\",\"opacity\":0.7,\"size\":[0.3,0.3,0.4,0.3,0.2,0.4,0.4,0.4,0.4,0.4,0.3,0.3,0.3],\"sizemode\":\"area\",\"sizeref\":0.0049382716049382715,\"symbol\":\"square\"},\"mode\":\"markers\",\"name\":\"Business\",\"scene\":\"scene\",\"showlegend\":true,\"x\":[1.5,8.2,0.7,22.5,1.3,0.4,15.1,0.1,12.8,6.2,1.4,0.6,0.5],\"y\":[0.1,0.2,0.2,0.2,0.2,0.2,0.2,0.2,0.3,0.3,0.3,0.3,0.3],\"z\":[0.3,0.3,0.4,0.3,0.2,0.4,0.4,0.4,0.4,0.4,0.3,0.3,0.3],\"type\":\"scatter3d\"},{\"hovertemplate\":\"Major_category=Computers & Mathematics<br>Nongrad_employed=%{x}<br>Grad_share=%{y}<br>Grad_premium=%{marker.color}<extra></extra>\",\"legendgroup\":\"Computers & Mathematics\",\"marker\":{\"color\":[0.1,0.4,0.4,0.4,0.2,0.2,0.2,0.1,0.3,0.2,0.3],\"coloraxis\":\"coloraxis\",\"opacity\":0.7,\"size\":[0.1,0.4,0.4,0.4,0.2,0.2,0.2,0.1,0.3,0.2,0.3],\"sizemode\":\"area\",\"sizeref\":0.0049382716049382715,\"symbol\":\"x\"},\"mode\":\"markers\",\"name\":\"Computers & Mathematics\",\"scene\":\"scene\",\"showlegend\":true,\"x\":[0.4,0.2,0.4,0.3,2.1,0.6,6.2,0.1,0.1,0.2,2.6],\"y\":[0.1,0.2,0.2,0.2,0.2,0.3,0.3,0.4,0.5,0.5,0.5],\"z\":[0.1,0.4,0.4,0.4,0.2,0.2,0.2,0.1,0.3,0.2,0.3],\"type\":\"scatter3d\"},{\"hovertemplate\":\"Major_category=Law & Public Policy<br>Nongrad_employed=%{x}<br>Grad_share=%{y}<br>Grad_premium=%{marker.color}<extra></extra>\",\"legendgroup\":\"Law & Public Policy\",\"marker\":{\"color\":[0.5,0.3,0.5,0.3,0.4],\"coloraxis\":\"coloraxis\",\"opacity\":0.7,\"size\":[0.5,0.3,0.5,0.3,0.4],\"sizemode\":\"area\",\"sizeref\":0.0049382716049382715,\"symbol\":\"cross\"},\"mode\":\"markers\",\"name\":\"Law & Public Policy\",\"scene\":\"scene\",\"showlegend\":true,\"x\":[0.1,5.7,0.5,0.4,0.1],\"y\":[0.1,0.2,0.4,0.4,0.6],\"z\":[0.5,0.3,0.5,0.3,0.4],\"type\":\"scatter3d\"},{\"hovertemplate\":\"Major_category=Agriculture & Natural Resources<br>Nongrad_employed=%{x}<br>Grad_share=%{y}<br>Grad_premium=%{marker.color}<extra></extra>\",\"legendgroup\":\"Agriculture & Natural Resources\",\"marker\":{\"color\":[0.2,0.4,0.3,0.3,0.3,0.3,0.0,0.5,-0.0,0.1],\"coloraxis\":\"coloraxis\",\"opacity\":0.7,\"size\":[0.2,0.4,0.3,0.3,0.3,0.3,0.0,0.5,-0.0,0.1],\"sizemode\":\"area\",\"sizeref\":0.0049382716049382715,\"symbol\":\"circle\"},\"mode\":\"markers\",\"name\":\"Agriculture & Natural Resources\",\"scene\":\"scene\",\"showlegend\":true,\"x\":[0.7,0.9,0.5,0.6,0.6,0.3,0.0,0.7,0.1,0.2],\"y\":[0.2,0.3,0.3,0.3,0.3,0.3,0.3,0.4,0.4,0.4],\"z\":[0.2,0.4,0.3,0.3,0.3,0.3,0.0,0.5,-0.0,0.1],\"type\":\"scatter3d\"},{\"hovertemplate\":\"Major_category=Communications & Journalism<br>Nongrad_employed=%{x}<br>Grad_share=%{y}<br>Grad_premium=%{marker.color}<extra></extra>\",\"legendgroup\":\"Communications & Journalism\",\"marker\":{\"color\":[0.2,0.1,0.2,0.3],\"coloraxis\":\"coloraxis\",\"opacity\":0.7,\"size\":[0.2,0.1,0.2,0.3],\"sizemode\":\"area\",\"sizeref\":0.0049382716049382715,\"symbol\":\"diamond\"},\"mode\":\"markers\",\"name\":\"Communications & Journalism\",\"scene\":\"scene\",\"showlegend\":true,\"x\":[1.3,1.5,7.2,2.9],\"y\":[0.2,0.2,0.2,0.2],\"z\":[0.2,0.1,0.2,0.3],\"type\":\"scatter3d\"},{\"hovertemplate\":\"Major_category=Engineering<br>Nongrad_employed=%{x}<br>Grad_share=%{y}<br>Grad_premium=%{marker.color}<extra></extra>\",\"legendgroup\":\"Engineering\",\"marker\":{\"color\":[0.3,0.2,0.2,0.2,0.1,-0.0,-0.0,0.4,0.3,0.1,0.3,0.2,0.2,0.1,0.2,0.3,0.2,0.0,0.2,0.2,0.2,0.1,0.3,0.1,0.0,0.4,0.1,0.3,0.2],\"coloraxis\":\"coloraxis\",\"opacity\":0.7,\"size\":[0.3,0.2,0.2,0.2,0.1,-0.0,-0.0,0.4,0.3,0.1,0.3,0.2,0.2,0.1,0.2,0.3,0.2,0.0,0.2,0.2,0.2,0.1,0.3,0.1,0.0,0.4,0.1,0.3,0.2],\"sizemode\":\"area\",\"sizeref\":0.0049382716049382715,\"symbol\":\"square\"},\"mode\":\"markers\",\"name\":\"Engineering\",\"scene\":\"scene\",\"showlegend\":true,\"x\":[0.2,0.5,0.6,0.7,0.3,0.1,0.1,0.3,0.4,2.1,3.5,2.5,1.2,0.1,4.0,1.0,0.0,0.1,4.7,0.2,0.1,1.2,0.4,0.1,0.1,0.1,0.1,0.1,0.0],\"y\":[0.2,0.2,0.2,0.2,0.2,0.3,0.3,0.3,0.3,0.3,0.4,0.4,0.4,0.4,0.4,0.4,0.4,0.4,0.4,0.4,0.5,0.5,0.5,0.5,0.5,0.5,0.5,0.6,0.7],\"z\":[0.3,0.2,0.2,0.2,0.1,-0.0,-0.0,0.4,0.3,0.1,0.3,0.2,0.2,0.1,0.2,0.3,0.2,0.0,0.2,0.2,0.2,0.1,0.3,0.1,0.0,0.4,0.1,0.3,0.2],\"type\":\"scatter3d\"},{\"hovertemplate\":\"Major_category=Social Science<br>Nongrad_employed=%{x}<br>Grad_share=%{y}<br>Grad_premium=%{marker.color}<extra></extra>\",\"legendgroup\":\"Social Science\",\"marker\":{\"color\":[0.3,0.3,0.4,0.3,0.4,0.4,0.4,0.5,0.4],\"coloraxis\":\"coloraxis\",\"opacity\":0.7,\"size\":[0.3,0.3,0.4,0.3,0.4,0.4,0.4,0.5,0.4],\"sizemode\":\"area\",\"sizeref\":0.0049382716049382715,\"symbol\":\"x\"},\"mode\":\"markers\",\"name\":\"Social Science\",\"scene\":\"scene\",\"showlegend\":true,\"x\":[0.5,0.8,0.4,4.2,0.8,5.0,0.1,4.9,0.5],\"y\":[0.2,0.3,0.3,0.4,0.4,0.4,0.5,0.5,0.5],\"z\":[0.3,0.3,0.4,0.3,0.4,0.4,0.4,0.5,0.4],\"type\":\"scatter3d\"},{\"hovertemplate\":\"Major_category=Health<br>Nongrad_employed=%{x}<br>Grad_share=%{y}<br>Grad_premium=%{marker.color}<extra></extra>\",\"legendgroup\":\"Health\",\"marker\":{\"color\":[0.3,0.4,0.3,0.5,0.1,0.3,0.3,0.3,0.4,0.0,0.5,1.6],\"coloraxis\":\"coloraxis\",\"opacity\":0.7,\"size\":[0.3,0.4,0.3,0.5,0.1,0.3,0.3,0.3,0.4,0.0,0.5,1.6],\"sizemode\":\"area\",\"sizeref\":0.0049382716049382715,\"symbol\":\"cross\"},\"mode\":\"markers\",\"name\":\"Health\",\"scene\":\"scene\",\"showlegend\":true,\"x\":[1.2,0.5,12.6,0.8,1.9,0.5,0.7,0.4,0.4,1.2,0.4,0.2],\"y\":[0.2,0.2,0.3,0.3,0.4,0.4,0.4,0.4,0.4,0.5,0.8,0.8],\"z\":[0.3,0.4,0.3,0.5,0.1,0.3,0.3,0.3,0.4,0.0,0.5,1.6],\"type\":\"scatter3d\"},{\"hovertemplate\":\"Major_category=Interdisciplinary<br>Nongrad_employed=%{x}<br>Grad_share=%{y}<br>Grad_premium=%{marker.color}<extra></extra>\",\"legendgroup\":\"Interdisciplinary\",\"marker\":{\"color\":[0.2],\"coloraxis\":\"coloraxis\",\"opacity\":0.7,\"size\":[0.2],\"sizemode\":\"area\",\"sizeref\":0.0049382716049382715,\"symbol\":\"circle\"},\"mode\":\"markers\",\"name\":\"Interdisciplinary\",\"scene\":\"scene\",\"showlegend\":true,\"x\":[0.3],\"y\":[0.3],\"z\":[0.2],\"type\":\"scatter3d\"},{\"hovertemplate\":\"Major_category=Physical Sciences<br>Nongrad_employed=%{x}<br>Grad_share=%{y}<br>Grad_premium=%{marker.color}<extra></extra>\",\"legendgroup\":\"Physical Sciences\",\"marker\":{\"color\":[0.2,0.5,0.5,0.3,0.3,0.4,0.6,0.1,0.7,0.4],\"coloraxis\":\"coloraxis\",\"opacity\":0.7,\"size\":[0.2,0.5,0.5,0.3,0.3,0.4,0.6,0.1,0.7,0.4],\"sizemode\":\"area\",\"sizeref\":0.0049382716049382715,\"symbol\":\"diamond\"},\"mode\":\"markers\",\"name\":\"Physical Sciences\",\"scene\":\"scene\",\"showlegend\":true,\"x\":[0.1,2.9,0.1,0.7,0.1,0.1,0.1,0.0,1.8,0.7],\"y\":[0.3,0.4,0.4,0.5,0.5,0.5,0.5,0.6,0.6,0.7],\"z\":[0.2,0.5,0.5,0.3,0.3,0.4,0.6,0.1,0.7,0.4],\"type\":\"scatter3d\"},{\"hovertemplate\":\"Major_category=Humanities & Liberal Arts<br>Nongrad_employed=%{x}<br>Grad_share=%{y}<br>Grad_premium=%{marker.color}<extra></extra>\",\"legendgroup\":\"Humanities & Liberal Arts\",\"marker\":{\"color\":[0.4,0.4,0.4,0.4,0.4,0.2,0.3,0.4,0.3,0.4,0.5,0.5,0.3,0.6,0.4],\"coloraxis\":\"coloraxis\",\"opacity\":0.7,\"size\":[0.4,0.4,0.4,0.4,0.4,0.2,0.3,0.4,0.3,0.4,0.5,0.5,0.3,0.6,0.4],\"sizemode\":\"area\",\"sizeref\":0.0049382716049382715,\"symbol\":\"square\"},\"mode\":\"markers\",\"name\":\"Humanities & Liberal Arts\",\"scene\":\"scene\",\"showlegend\":true,\"x\":[3.9,0.4,0.3,0.5,0.3,1.5,0.4,0.9,6.5,0.3,0.7,4.4,1.4,0.1,1.2],\"y\":[0.3,0.3,0.4,0.4,0.4,0.4,0.5,0.5,0.5,0.5,0.5,0.5,0.5,0.5,0.6],\"z\":[0.4,0.4,0.4,0.4,0.4,0.2,0.3,0.4,0.3,0.4,0.5,0.5,0.3,0.6,0.4],\"type\":\"scatter3d\"},{\"hovertemplate\":\"Major_category=Psychology & Social Work<br>Nongrad_employed=%{x}<br>Grad_share=%{y}<br>Grad_premium=%{marker.color}<extra></extra>\",\"legendgroup\":\"Psychology & Social Work\",\"marker\":{\"color\":[0.3,0.4,0.2,0.3,0.4,0.4,0.5,0.2,0.5],\"coloraxis\":\"coloraxis\",\"opacity\":0.7,\"size\":[0.3,0.4,0.2,0.3,0.4,0.4,0.5,0.2,0.5],\"sizemode\":\"area\",\"sizeref\":0.0049382716049382715,\"symbol\":\"x\"},\"mode\":\"markers\",\"name\":\"Psychology & Social Work\",\"scene\":\"scene\",\"showlegend\":true,\"x\":[0.6,0.1,0.1,2.1,9.4,0.2,0.1,0.1,0.0],\"y\":[0.3,0.4,0.4,0.5,0.5,0.5,0.7,0.8,0.8],\"z\":[0.3,0.4,0.2,0.3,0.4,0.4,0.5,0.2,0.5],\"type\":\"scatter3d\"},{\"hovertemplate\":\"Major_category=Biology & Life Science<br>Nongrad_employed=%{x}<br>Grad_share=%{y}<br>Grad_premium=%{marker.color}<extra></extra>\",\"legendgroup\":\"Biology & Life Science\",\"marker\":{\"color\":[0.2,0.3,0.2,0.7,0.4,0.4,0.8,0.8,0.7,0.6,1.0,0.4,0.7,0.4],\"coloraxis\":\"coloraxis\",\"opacity\":0.7,\"size\":[0.2,0.3,0.2,0.7,0.4,0.4,0.8,0.8,0.7,0.6,1.0,0.4,0.7,0.4],\"sizemode\":\"area\",\"sizeref\":0.0049382716049382715,\"symbol\":\"cross\"},\"mode\":\"markers\",\"name\":\"Biology & Life Science\",\"scene\":\"scene\",\"showlegend\":true,\"x\":[0.8,0.3,0.2,0.0,0.4,0.1,5.1,0.3,0.2,0.0,0.3,0.0,0.4,0.0],\"y\":[0.3,0.3,0.5,0.5,0.6,0.6,0.6,0.6,0.6,0.7,0.7,0.7,0.7,0.7],\"z\":[0.2,0.3,0.2,0.7,0.4,0.4,0.8,0.8,0.7,0.6,1.0,0.4,0.7,0.4],\"type\":\"scatter3d\"},{\"hovertemplate\":\"Major_category=Education<br>Nongrad_employed=%{x}<br>Grad_share=%{y}<br>Grad_premium=%{marker.color}<extra></extra>\",\"legendgroup\":\"Education\",\"marker\":{\"color\":[0.4,0.3,0.2,0.4,0.3,0.3,0.4,0.3,0.4,0.3,0.3,0.3,0.3,0.3,0.3,0.1],\"coloraxis\":\"coloraxis\",\"opacity\":0.7,\"size\":[0.4,0.3,0.2,0.4,0.3,0.3,0.4,0.3,0.4,0.3,0.3,0.3,0.3,0.3,0.3,0.1],\"sizemode\":\"area\",\"sizeref\":0.0049382716049382715,\"symbol\":\"circle\"},\"mode\":\"markers\",\"name\":\"Education\",\"scene\":\"scene\",\"showlegend\":true,\"x\":[1.0,1.9,1.2,7.6,8.1,1.4,0.5,0.7,1.2,1.0,0.4,0.3,1.0,0.1,0.0,0.0],\"y\":[0.4,0.4,0.4,0.4,0.4,0.5,0.5,0.5,0.5,0.5,0.6,0.6,0.6,0.6,0.9,0.9],\"z\":[0.4,0.3,0.2,0.4,0.3,0.3,0.4,0.3,0.4,0.3,0.3,0.3,0.3,0.3,0.3,0.1],\"type\":\"scatter3d\"}],                        {\"template\":{\"data\":{\"candlestick\":[{\"decreasing\":{\"line\":{\"color\":\"#000033\"}},\"increasing\":{\"line\":{\"color\":\"#000032\"}},\"type\":\"candlestick\"}],\"contourcarpet\":[{\"colorscale\":[[0.0,\"#000011\"],[0.1111111111111111,\"#000012\"],[0.2222222222222222,\"#000013\"],[0.3333333333333333,\"#000014\"],[0.4444444444444444,\"#000015\"],[0.5555555555555556,\"#000016\"],[0.6666666666666666,\"#000017\"],[0.7777777777777778,\"#000018\"],[0.8888888888888888,\"#000019\"],[1.0,\"#000020\"]],\"type\":\"contourcarpet\"}],\"contour\":[{\"colorscale\":[[0.0,\"#000011\"],[0.1111111111111111,\"#000012\"],[0.2222222222222222,\"#000013\"],[0.3333333333333333,\"#000014\"],[0.4444444444444444,\"#000015\"],[0.5555555555555556,\"#000016\"],[0.6666666666666666,\"#000017\"],[0.7777777777777778,\"#000018\"],[0.8888888888888888,\"#000019\"],[1.0,\"#000020\"]],\"type\":\"contour\"}],\"heatmap\":[{\"colorscale\":[[0.0,\"#000011\"],[0.1111111111111111,\"#000012\"],[0.2222222222222222,\"#000013\"],[0.3333333333333333,\"#000014\"],[0.4444444444444444,\"#000015\"],[0.5555555555555556,\"#000016\"],[0.6666666666666666,\"#000017\"],[0.7777777777777778,\"#000018\"],[0.8888888888888888,\"#000019\"],[1.0,\"#000020\"]],\"type\":\"heatmap\"}],\"histogram2d\":[{\"colorscale\":[[0.0,\"#000011\"],[0.1111111111111111,\"#000012\"],[0.2222222222222222,\"#000013\"],[0.3333333333333333,\"#000014\"],[0.4444444444444444,\"#000015\"],[0.5555555555555556,\"#000016\"],[0.6666666666666666,\"#000017\"],[0.7777777777777778,\"#000018\"],[0.8888888888888888,\"#000019\"],[1.0,\"#000020\"]],\"type\":\"histogram2d\"}],\"icicle\":[{\"textfont\":{\"color\":\"white\"},\"type\":\"icicle\"}],\"sankey\":[{\"textfont\":{\"color\":\"#000036\"},\"type\":\"sankey\"}],\"scatter\":[{\"marker\":{\"line\":{\"width\":0}},\"type\":\"scatter\"}],\"table\":[{\"cells\":{\"fill\":{\"color\":\"#000038\"},\"font\":{\"color\":\"#000037\"},\"line\":{\"color\":\"#000039\"}},\"header\":{\"fill\":{\"color\":\"#000040\"},\"font\":{\"color\":\"#000036\"},\"line\":{\"color\":\"#000039\"}},\"type\":\"table\"}],\"waterfall\":[{\"connector\":{\"line\":{\"color\":\"#000036\",\"width\":2}},\"decreasing\":{\"marker\":{\"color\":\"#000033\"}},\"increasing\":{\"marker\":{\"color\":\"#000032\"}},\"totals\":{\"marker\":{\"color\":\"#000034\"}},\"type\":\"waterfall\"}]},\"layout\":{\"coloraxis\":{\"colorscale\":[[0.0,\"#000011\"],[0.1111111111111111,\"#000012\"],[0.2222222222222222,\"#000013\"],[0.3333333333333333,\"#000014\"],[0.4444444444444444,\"#000015\"],[0.5555555555555556,\"#000016\"],[0.6666666666666666,\"#000017\"],[0.7777777777777778,\"#000018\"],[0.8888888888888888,\"#000019\"],[1.0,\"#000020\"]]},\"colorscale\":{\"diverging\":[[0.0,\"#000021\"],[0.1,\"#000022\"],[0.2,\"#000023\"],[0.3,\"#000024\"],[0.4,\"#000025\"],[0.5,\"#000026\"],[0.6,\"#000027\"],[0.7,\"#000028\"],[0.8,\"#000029\"],[0.9,\"#000030\"],[1.0,\"#000031\"]],\"sequential\":[[0.0,\"#000011\"],[0.1111111111111111,\"#000012\"],[0.2222222222222222,\"#000013\"],[0.3333333333333333,\"#000014\"],[0.4444444444444444,\"#000015\"],[0.5555555555555556,\"#000016\"],[0.6666666666666666,\"#000017\"],[0.7777777777777778,\"#000018\"],[0.8888888888888888,\"#000019\"],[1.0,\"#000020\"]],\"sequentialminus\":[[0.0,\"#000011\"],[0.1111111111111111,\"#000012\"],[0.2222222222222222,\"#000013\"],[0.3333333333333333,\"#000014\"],[0.4444444444444444,\"#000015\"],[0.5555555555555556,\"#000016\"],[0.6666666666666666,\"#000017\"],[0.7777777777777778,\"#000018\"],[0.8888888888888888,\"#000019\"],[1.0,\"#000020\"]]},\"colorway\":[\"#000001\",\"#000002\",\"#000003\",\"#000004\",\"#000005\",\"#000006\",\"#000007\",\"#000008\",\"#000009\",\"#000010\"]}},\"scene\":{\"domain\":{\"x\":[0.0,1.0],\"y\":[0.0,1.0]},\"xaxis\":{\"title\":{\"text\":\"Nongrad_employed\"}},\"yaxis\":{\"title\":{\"text\":\"Grad_share\"}},\"zaxis\":{\"title\":{\"text\":\"Grad_premium\"}}},\"coloraxis\":{\"colorbar\":{\"title\":{\"text\":\"Grad_premium\"}},\"colorscale\":[[0.0,\"#000011\"],[0.1111111111111111,\"#000012\"],[0.2222222222222222,\"#000013\"],[0.3333333333333333,\"#000014\"],[0.4444444444444444,\"#000015\"],[0.5555555555555556,\"#000016\"],[0.6666666666666666,\"#000017\"],[0.7777777777777778,\"#000018\"],[0.8888888888888888,\"#000019\"],[1.0,\"#000020\"]]},\"legend\":{\"title\":{\"text\":\"Major_category\"},\"tracegroupgap\":0,\"itemsizing\":\"constant\"},\"margin\":{\"t\":0,\"l\":0,\"r\":0,\"b\":0}},                        {\"responsive\": true}                    ).then(function(){\n",
       "                            \n",
       "var gd = document.getElementById('1190f3e0-48a7-4f69-8af4-c52275081610');\n",
       "var x = new MutationObserver(function (mutations, observer) {{\n",
       "        var display = window.getComputedStyle(gd).display;\n",
       "        if (!display || display === 'none') {{\n",
       "            console.log([gd, 'removed!']);\n",
       "            Plotly.purge(gd);\n",
       "            observer.disconnect();\n",
       "        }}\n",
       "}});\n",
       "\n",
       "// Listen for the removal of the full notebook cells\n",
       "var notebookContainer = gd.closest('#notebook-container');\n",
       "if (notebookContainer) {{\n",
       "    x.observe(notebookContainer, {childList: true});\n",
       "}}\n",
       "\n",
       "// Listen for the clearing of the current output cell\n",
       "var outputEl = gd.closest('.output');\n",
       "if (outputEl) {{\n",
       "    x.observe(outputEl, {childList: true});\n",
       "}}\n",
       "\n",
       "                        })                };                });            </script>        </div>"
      ]
     },
     "metadata": {},
     "output_type": "display_data"
    }
   ],
   "source": [
    "fig = px.scatter_3d(df_grad, x='Nongrad_employed', y='Grad_share', z='Grad_premium',\n",
    "              color='Grad_premium', size='Grad_premium', size_max=18,\n",
    "              symbol='Major_category', opacity=0.7)\n",
    "\n",
    "# tight layout\n",
    "fig.update_layout(margin=dict(l=0, r=0, b=0, t=0))"
   ]
  },
  {
   "cell_type": "code",
   "execution_count": 145,
   "id": "2d93a2cd",
   "metadata": {},
   "outputs": [
    {
     "data": {
      "application/vnd.plotly.v1+json": {
       "config": {
        "plotlyServerURL": "https://plot.ly"
       },
       "data": [
        {
         "hovertemplate": "species=setosa<br>sepal_length=%{x}<br>sepal_width=%{y}<br>petal_width=%{z}<br>petal_length=%{marker.color}<extra></extra>",
         "legendgroup": "setosa",
         "marker": {
          "color": [
           1.4,
           1.4,
           1.3,
           1.5,
           1.4,
           1.7,
           1.4,
           1.5,
           1.4,
           1.5,
           1.5,
           1.6,
           1.4,
           1.1,
           1.2,
           1.5,
           1.3,
           1.4,
           1.7,
           1.5,
           1.7,
           1.5,
           1,
           1.7,
           1.9,
           1.6,
           1.6,
           1.5,
           1.4,
           1.6,
           1.6,
           1.5,
           1.5,
           1.4,
           1.5,
           1.2,
           1.3,
           1.5,
           1.3,
           1.5,
           1.3,
           1.3,
           1.3,
           1.6,
           1.9,
           1.4,
           1.6,
           1.4,
           1.5,
           1.4
          ],
          "coloraxis": "coloraxis",
          "opacity": 0.7,
          "size": [
           1.4,
           1.4,
           1.3,
           1.5,
           1.4,
           1.7,
           1.4,
           1.5,
           1.4,
           1.5,
           1.5,
           1.6,
           1.4,
           1.1,
           1.2,
           1.5,
           1.3,
           1.4,
           1.7,
           1.5,
           1.7,
           1.5,
           1,
           1.7,
           1.9,
           1.6,
           1.6,
           1.5,
           1.4,
           1.6,
           1.6,
           1.5,
           1.5,
           1.4,
           1.5,
           1.2,
           1.3,
           1.5,
           1.3,
           1.5,
           1.3,
           1.3,
           1.3,
           1.6,
           1.9,
           1.4,
           1.6,
           1.4,
           1.5,
           1.4
          ],
          "sizemode": "area",
          "sizeref": 0.021296296296296296,
          "symbol": "circle"
         },
         "mode": "markers",
         "name": "setosa",
         "scene": "scene",
         "showlegend": true,
         "type": "scatter3d",
         "x": [
          5.1,
          4.9,
          4.7,
          4.6,
          5,
          5.4,
          4.6,
          5,
          4.4,
          4.9,
          5.4,
          4.8,
          4.8,
          4.3,
          5.8,
          5.7,
          5.4,
          5.1,
          5.7,
          5.1,
          5.4,
          5.1,
          4.6,
          5.1,
          4.8,
          5,
          5,
          5.2,
          5.2,
          4.7,
          4.8,
          5.4,
          5.2,
          5.5,
          4.9,
          5,
          5.5,
          4.9,
          4.4,
          5.1,
          5,
          4.5,
          4.4,
          5,
          5.1,
          4.8,
          5.1,
          4.6,
          5.3,
          5
         ],
         "y": [
          3.5,
          3,
          3.2,
          3.1,
          3.6,
          3.9,
          3.4,
          3.4,
          2.9,
          3.1,
          3.7,
          3.4,
          3,
          3,
          4,
          4.4,
          3.9,
          3.5,
          3.8,
          3.8,
          3.4,
          3.7,
          3.6,
          3.3,
          3.4,
          3,
          3.4,
          3.5,
          3.4,
          3.2,
          3.1,
          3.4,
          4.1,
          4.2,
          3.1,
          3.2,
          3.5,
          3.1,
          3,
          3.4,
          3.5,
          2.3,
          3.2,
          3.5,
          3.8,
          3,
          3.8,
          3.2,
          3.7,
          3.3
         ],
         "z": [
          0.2,
          0.2,
          0.2,
          0.2,
          0.2,
          0.4,
          0.3,
          0.2,
          0.2,
          0.1,
          0.2,
          0.2,
          0.1,
          0.1,
          0.2,
          0.4,
          0.4,
          0.3,
          0.3,
          0.3,
          0.2,
          0.4,
          0.2,
          0.5,
          0.2,
          0.2,
          0.4,
          0.2,
          0.2,
          0.2,
          0.2,
          0.4,
          0.1,
          0.2,
          0.1,
          0.2,
          0.2,
          0.1,
          0.2,
          0.2,
          0.3,
          0.3,
          0.2,
          0.6,
          0.4,
          0.3,
          0.2,
          0.2,
          0.2,
          0.2
         ]
        },
        {
         "hovertemplate": "species=versicolor<br>sepal_length=%{x}<br>sepal_width=%{y}<br>petal_width=%{z}<br>petal_length=%{marker.color}<extra></extra>",
         "legendgroup": "versicolor",
         "marker": {
          "color": [
           4.7,
           4.5,
           4.9,
           4,
           4.6,
           4.5,
           4.7,
           3.3,
           4.6,
           3.9,
           3.5,
           4.2,
           4,
           4.7,
           3.6,
           4.4,
           4.5,
           4.1,
           4.5,
           3.9,
           4.8,
           4,
           4.9,
           4.7,
           4.3,
           4.4,
           4.8,
           5,
           4.5,
           3.5,
           3.8,
           3.7,
           3.9,
           5.1,
           4.5,
           4.5,
           4.7,
           4.4,
           4.1,
           4,
           4.4,
           4.6,
           4,
           3.3,
           4.2,
           4.2,
           4.2,
           4.3,
           3,
           4.1
          ],
          "coloraxis": "coloraxis",
          "opacity": 0.7,
          "size": [
           4.7,
           4.5,
           4.9,
           4,
           4.6,
           4.5,
           4.7,
           3.3,
           4.6,
           3.9,
           3.5,
           4.2,
           4,
           4.7,
           3.6,
           4.4,
           4.5,
           4.1,
           4.5,
           3.9,
           4.8,
           4,
           4.9,
           4.7,
           4.3,
           4.4,
           4.8,
           5,
           4.5,
           3.5,
           3.8,
           3.7,
           3.9,
           5.1,
           4.5,
           4.5,
           4.7,
           4.4,
           4.1,
           4,
           4.4,
           4.6,
           4,
           3.3,
           4.2,
           4.2,
           4.2,
           4.3,
           3,
           4.1
          ],
          "sizemode": "area",
          "sizeref": 0.021296296296296296,
          "symbol": "diamond"
         },
         "mode": "markers",
         "name": "versicolor",
         "scene": "scene",
         "showlegend": true,
         "type": "scatter3d",
         "x": [
          7,
          6.4,
          6.9,
          5.5,
          6.5,
          5.7,
          6.3,
          4.9,
          6.6,
          5.2,
          5,
          5.9,
          6,
          6.1,
          5.6,
          6.7,
          5.6,
          5.8,
          6.2,
          5.6,
          5.9,
          6.1,
          6.3,
          6.1,
          6.4,
          6.6,
          6.8,
          6.7,
          6,
          5.7,
          5.5,
          5.5,
          5.8,
          6,
          5.4,
          6,
          6.7,
          6.3,
          5.6,
          5.5,
          5.5,
          6.1,
          5.8,
          5,
          5.6,
          5.7,
          5.7,
          6.2,
          5.1,
          5.7
         ],
         "y": [
          3.2,
          3.2,
          3.1,
          2.3,
          2.8,
          2.8,
          3.3,
          2.4,
          2.9,
          2.7,
          2,
          3,
          2.2,
          2.9,
          2.9,
          3.1,
          3,
          2.7,
          2.2,
          2.5,
          3.2,
          2.8,
          2.5,
          2.8,
          2.9,
          3,
          2.8,
          3,
          2.9,
          2.6,
          2.4,
          2.4,
          2.7,
          2.7,
          3,
          3.4,
          3.1,
          2.3,
          3,
          2.5,
          2.6,
          3,
          2.6,
          2.3,
          2.7,
          3,
          2.9,
          2.9,
          2.5,
          2.8
         ],
         "z": [
          1.4,
          1.5,
          1.5,
          1.3,
          1.5,
          1.3,
          1.6,
          1,
          1.3,
          1.4,
          1,
          1.5,
          1,
          1.4,
          1.3,
          1.4,
          1.5,
          1,
          1.5,
          1.1,
          1.8,
          1.3,
          1.5,
          1.2,
          1.3,
          1.4,
          1.4,
          1.7,
          1.5,
          1,
          1.1,
          1,
          1.2,
          1.6,
          1.5,
          1.6,
          1.5,
          1.3,
          1.3,
          1.3,
          1.2,
          1.4,
          1.2,
          1,
          1.3,
          1.2,
          1.3,
          1.3,
          1.1,
          1.3
         ]
        },
        {
         "hovertemplate": "species=virginica<br>sepal_length=%{x}<br>sepal_width=%{y}<br>petal_width=%{z}<br>petal_length=%{marker.color}<extra></extra>",
         "legendgroup": "virginica",
         "marker": {
          "color": [
           6,
           5.1,
           5.9,
           5.6,
           5.8,
           6.6,
           4.5,
           6.3,
           5.8,
           6.1,
           5.1,
           5.3,
           5.5,
           5,
           5.1,
           5.3,
           5.5,
           6.7,
           6.9,
           5,
           5.7,
           4.9,
           6.7,
           4.9,
           5.7,
           6,
           4.8,
           4.9,
           5.6,
           5.8,
           6.1,
           6.4,
           5.6,
           5.1,
           5.6,
           6.1,
           5.6,
           5.5,
           4.8,
           5.4,
           5.6,
           5.1,
           5.1,
           5.9,
           5.7,
           5.2,
           5,
           5.2,
           5.4,
           5.1
          ],
          "coloraxis": "coloraxis",
          "opacity": 0.7,
          "size": [
           6,
           5.1,
           5.9,
           5.6,
           5.8,
           6.6,
           4.5,
           6.3,
           5.8,
           6.1,
           5.1,
           5.3,
           5.5,
           5,
           5.1,
           5.3,
           5.5,
           6.7,
           6.9,
           5,
           5.7,
           4.9,
           6.7,
           4.9,
           5.7,
           6,
           4.8,
           4.9,
           5.6,
           5.8,
           6.1,
           6.4,
           5.6,
           5.1,
           5.6,
           6.1,
           5.6,
           5.5,
           4.8,
           5.4,
           5.6,
           5.1,
           5.1,
           5.9,
           5.7,
           5.2,
           5,
           5.2,
           5.4,
           5.1
          ],
          "sizemode": "area",
          "sizeref": 0.021296296296296296,
          "symbol": "square"
         },
         "mode": "markers",
         "name": "virginica",
         "scene": "scene",
         "showlegend": true,
         "type": "scatter3d",
         "x": [
          6.3,
          5.8,
          7.1,
          6.3,
          6.5,
          7.6,
          4.9,
          7.3,
          6.7,
          7.2,
          6.5,
          6.4,
          6.8,
          5.7,
          5.8,
          6.4,
          6.5,
          7.7,
          7.7,
          6,
          6.9,
          5.6,
          7.7,
          6.3,
          6.7,
          7.2,
          6.2,
          6.1,
          6.4,
          7.2,
          7.4,
          7.9,
          6.4,
          6.3,
          6.1,
          7.7,
          6.3,
          6.4,
          6,
          6.9,
          6.7,
          6.9,
          5.8,
          6.8,
          6.7,
          6.7,
          6.3,
          6.5,
          6.2,
          5.9
         ],
         "y": [
          3.3,
          2.7,
          3,
          2.9,
          3,
          3,
          2.5,
          2.9,
          2.5,
          3.6,
          3.2,
          2.7,
          3,
          2.5,
          2.8,
          3.2,
          3,
          3.8,
          2.6,
          2.2,
          3.2,
          2.8,
          2.8,
          2.7,
          3.3,
          3.2,
          2.8,
          3,
          2.8,
          3,
          2.8,
          3.8,
          2.8,
          2.8,
          2.6,
          3,
          3.4,
          3.1,
          3,
          3.1,
          3.1,
          3.1,
          2.7,
          3.2,
          3.3,
          3,
          2.5,
          3,
          3.4,
          3
         ],
         "z": [
          2.5,
          1.9,
          2.1,
          1.8,
          2.2,
          2.1,
          1.7,
          1.8,
          1.8,
          2.5,
          2,
          1.9,
          2.1,
          2,
          2.4,
          2.3,
          1.8,
          2.2,
          2.3,
          1.5,
          2.3,
          2,
          2,
          1.8,
          2.1,
          1.8,
          1.8,
          1.8,
          2.1,
          1.6,
          1.9,
          2,
          2.2,
          1.5,
          1.4,
          2.3,
          2.4,
          1.8,
          1.8,
          2.1,
          2.4,
          2.3,
          1.9,
          2.3,
          2.5,
          2.3,
          1.9,
          2,
          2.3,
          1.8
         ]
        }
       ],
       "layout": {
        "coloraxis": {
         "colorbar": {
          "title": {
           "text": "petal_length"
          }
         },
         "colorscale": [
          [
           0,
           "#000011"
          ],
          [
           0.1111111111111111,
           "#000012"
          ],
          [
           0.2222222222222222,
           "#000013"
          ],
          [
           0.3333333333333333,
           "#000014"
          ],
          [
           0.4444444444444444,
           "#000015"
          ],
          [
           0.5555555555555556,
           "#000016"
          ],
          [
           0.6666666666666666,
           "#000017"
          ],
          [
           0.7777777777777778,
           "#000018"
          ],
          [
           0.8888888888888888,
           "#000019"
          ],
          [
           1,
           "#000020"
          ]
         ]
        },
        "legend": {
         "itemsizing": "constant",
         "title": {
          "text": "species"
         },
         "tracegroupgap": 0
        },
        "margin": {
         "b": 0,
         "l": 0,
         "r": 0,
         "t": 0
        },
        "scene": {
         "domain": {
          "x": [
           0,
           1
          ],
          "y": [
           0,
           1
          ]
         },
         "xaxis": {
          "title": {
           "text": "sepal_length"
          }
         },
         "yaxis": {
          "title": {
           "text": "sepal_width"
          }
         },
         "zaxis": {
          "title": {
           "text": "petal_width"
          }
         }
        },
        "template": {
         "data": {
          "candlestick": [
           {
            "decreasing": {
             "line": {
              "color": "#000033"
             }
            },
            "increasing": {
             "line": {
              "color": "#000032"
             }
            },
            "type": "candlestick"
           }
          ],
          "contour": [
           {
            "colorscale": [
             [
              0,
              "#000011"
             ],
             [
              0.1111111111111111,
              "#000012"
             ],
             [
              0.2222222222222222,
              "#000013"
             ],
             [
              0.3333333333333333,
              "#000014"
             ],
             [
              0.4444444444444444,
              "#000015"
             ],
             [
              0.5555555555555556,
              "#000016"
             ],
             [
              0.6666666666666666,
              "#000017"
             ],
             [
              0.7777777777777778,
              "#000018"
             ],
             [
              0.8888888888888888,
              "#000019"
             ],
             [
              1,
              "#000020"
             ]
            ],
            "type": "contour"
           }
          ],
          "contourcarpet": [
           {
            "colorscale": [
             [
              0,
              "#000011"
             ],
             [
              0.1111111111111111,
              "#000012"
             ],
             [
              0.2222222222222222,
              "#000013"
             ],
             [
              0.3333333333333333,
              "#000014"
             ],
             [
              0.4444444444444444,
              "#000015"
             ],
             [
              0.5555555555555556,
              "#000016"
             ],
             [
              0.6666666666666666,
              "#000017"
             ],
             [
              0.7777777777777778,
              "#000018"
             ],
             [
              0.8888888888888888,
              "#000019"
             ],
             [
              1,
              "#000020"
             ]
            ],
            "type": "contourcarpet"
           }
          ],
          "heatmap": [
           {
            "colorscale": [
             [
              0,
              "#000011"
             ],
             [
              0.1111111111111111,
              "#000012"
             ],
             [
              0.2222222222222222,
              "#000013"
             ],
             [
              0.3333333333333333,
              "#000014"
             ],
             [
              0.4444444444444444,
              "#000015"
             ],
             [
              0.5555555555555556,
              "#000016"
             ],
             [
              0.6666666666666666,
              "#000017"
             ],
             [
              0.7777777777777778,
              "#000018"
             ],
             [
              0.8888888888888888,
              "#000019"
             ],
             [
              1,
              "#000020"
             ]
            ],
            "type": "heatmap"
           }
          ],
          "histogram2d": [
           {
            "colorscale": [
             [
              0,
              "#000011"
             ],
             [
              0.1111111111111111,
              "#000012"
             ],
             [
              0.2222222222222222,
              "#000013"
             ],
             [
              0.3333333333333333,
              "#000014"
             ],
             [
              0.4444444444444444,
              "#000015"
             ],
             [
              0.5555555555555556,
              "#000016"
             ],
             [
              0.6666666666666666,
              "#000017"
             ],
             [
              0.7777777777777778,
              "#000018"
             ],
             [
              0.8888888888888888,
              "#000019"
             ],
             [
              1,
              "#000020"
             ]
            ],
            "type": "histogram2d"
           }
          ],
          "icicle": [
           {
            "textfont": {
             "color": "white"
            },
            "type": "icicle"
           }
          ],
          "sankey": [
           {
            "textfont": {
             "color": "#000036"
            },
            "type": "sankey"
           }
          ],
          "scatter": [
           {
            "marker": {
             "line": {
              "width": 0
             }
            },
            "type": "scatter"
           }
          ],
          "table": [
           {
            "cells": {
             "fill": {
              "color": "#000038"
             },
             "font": {
              "color": "#000037"
             },
             "line": {
              "color": "#000039"
             }
            },
            "header": {
             "fill": {
              "color": "#000040"
             },
             "font": {
              "color": "#000036"
             },
             "line": {
              "color": "#000039"
             }
            },
            "type": "table"
           }
          ],
          "waterfall": [
           {
            "connector": {
             "line": {
              "color": "#000036",
              "width": 2
             }
            },
            "decreasing": {
             "marker": {
              "color": "#000033"
             }
            },
            "increasing": {
             "marker": {
              "color": "#000032"
             }
            },
            "totals": {
             "marker": {
              "color": "#000034"
             }
            },
            "type": "waterfall"
           }
          ]
         },
         "layout": {
          "coloraxis": {
           "colorscale": [
            [
             0,
             "#000011"
            ],
            [
             0.1111111111111111,
             "#000012"
            ],
            [
             0.2222222222222222,
             "#000013"
            ],
            [
             0.3333333333333333,
             "#000014"
            ],
            [
             0.4444444444444444,
             "#000015"
            ],
            [
             0.5555555555555556,
             "#000016"
            ],
            [
             0.6666666666666666,
             "#000017"
            ],
            [
             0.7777777777777778,
             "#000018"
            ],
            [
             0.8888888888888888,
             "#000019"
            ],
            [
             1,
             "#000020"
            ]
           ]
          },
          "colorscale": {
           "diverging": [
            [
             0,
             "#000021"
            ],
            [
             0.1,
             "#000022"
            ],
            [
             0.2,
             "#000023"
            ],
            [
             0.3,
             "#000024"
            ],
            [
             0.4,
             "#000025"
            ],
            [
             0.5,
             "#000026"
            ],
            [
             0.6,
             "#000027"
            ],
            [
             0.7,
             "#000028"
            ],
            [
             0.8,
             "#000029"
            ],
            [
             0.9,
             "#000030"
            ],
            [
             1,
             "#000031"
            ]
           ],
           "sequential": [
            [
             0,
             "#000011"
            ],
            [
             0.1111111111111111,
             "#000012"
            ],
            [
             0.2222222222222222,
             "#000013"
            ],
            [
             0.3333333333333333,
             "#000014"
            ],
            [
             0.4444444444444444,
             "#000015"
            ],
            [
             0.5555555555555556,
             "#000016"
            ],
            [
             0.6666666666666666,
             "#000017"
            ],
            [
             0.7777777777777778,
             "#000018"
            ],
            [
             0.8888888888888888,
             "#000019"
            ],
            [
             1,
             "#000020"
            ]
           ],
           "sequentialminus": [
            [
             0,
             "#000011"
            ],
            [
             0.1111111111111111,
             "#000012"
            ],
            [
             0.2222222222222222,
             "#000013"
            ],
            [
             0.3333333333333333,
             "#000014"
            ],
            [
             0.4444444444444444,
             "#000015"
            ],
            [
             0.5555555555555556,
             "#000016"
            ],
            [
             0.6666666666666666,
             "#000017"
            ],
            [
             0.7777777777777778,
             "#000018"
            ],
            [
             0.8888888888888888,
             "#000019"
            ],
            [
             1,
             "#000020"
            ]
           ]
          },
          "colorway": [
           "#000001",
           "#000002",
           "#000003",
           "#000004",
           "#000005",
           "#000006",
           "#000007",
           "#000008",
           "#000009",
           "#000010"
          ]
         }
        }
       }
      },
      "text/html": [
       "<div>                            <div id=\"5b98178e-4b5d-4e3b-8a00-6d75e54e6802\" class=\"plotly-graph-div\" style=\"height:525px; width:100%;\"></div>            <script type=\"text/javascript\">                require([\"plotly\"], function(Plotly) {                    window.PLOTLYENV=window.PLOTLYENV || {};                                    if (document.getElementById(\"5b98178e-4b5d-4e3b-8a00-6d75e54e6802\")) {                    Plotly.newPlot(                        \"5b98178e-4b5d-4e3b-8a00-6d75e54e6802\",                        [{\"hovertemplate\":\"species=setosa<br>sepal_length=%{x}<br>sepal_width=%{y}<br>petal_width=%{z}<br>petal_length=%{marker.color}<extra></extra>\",\"legendgroup\":\"setosa\",\"marker\":{\"color\":[1.4,1.4,1.3,1.5,1.4,1.7,1.4,1.5,1.4,1.5,1.5,1.6,1.4,1.1,1.2,1.5,1.3,1.4,1.7,1.5,1.7,1.5,1.0,1.7,1.9,1.6,1.6,1.5,1.4,1.6,1.6,1.5,1.5,1.4,1.5,1.2,1.3,1.5,1.3,1.5,1.3,1.3,1.3,1.6,1.9,1.4,1.6,1.4,1.5,1.4],\"coloraxis\":\"coloraxis\",\"opacity\":0.7,\"size\":[1.4,1.4,1.3,1.5,1.4,1.7,1.4,1.5,1.4,1.5,1.5,1.6,1.4,1.1,1.2,1.5,1.3,1.4,1.7,1.5,1.7,1.5,1.0,1.7,1.9,1.6,1.6,1.5,1.4,1.6,1.6,1.5,1.5,1.4,1.5,1.2,1.3,1.5,1.3,1.5,1.3,1.3,1.3,1.6,1.9,1.4,1.6,1.4,1.5,1.4],\"sizemode\":\"area\",\"sizeref\":0.021296296296296296,\"symbol\":\"circle\"},\"mode\":\"markers\",\"name\":\"setosa\",\"scene\":\"scene\",\"showlegend\":true,\"x\":[5.1,4.9,4.7,4.6,5.0,5.4,4.6,5.0,4.4,4.9,5.4,4.8,4.8,4.3,5.8,5.7,5.4,5.1,5.7,5.1,5.4,5.1,4.6,5.1,4.8,5.0,5.0,5.2,5.2,4.7,4.8,5.4,5.2,5.5,4.9,5.0,5.5,4.9,4.4,5.1,5.0,4.5,4.4,5.0,5.1,4.8,5.1,4.6,5.3,5.0],\"y\":[3.5,3.0,3.2,3.1,3.6,3.9,3.4,3.4,2.9,3.1,3.7,3.4,3.0,3.0,4.0,4.4,3.9,3.5,3.8,3.8,3.4,3.7,3.6,3.3,3.4,3.0,3.4,3.5,3.4,3.2,3.1,3.4,4.1,4.2,3.1,3.2,3.5,3.1,3.0,3.4,3.5,2.3,3.2,3.5,3.8,3.0,3.8,3.2,3.7,3.3],\"z\":[0.2,0.2,0.2,0.2,0.2,0.4,0.3,0.2,0.2,0.1,0.2,0.2,0.1,0.1,0.2,0.4,0.4,0.3,0.3,0.3,0.2,0.4,0.2,0.5,0.2,0.2,0.4,0.2,0.2,0.2,0.2,0.4,0.1,0.2,0.1,0.2,0.2,0.1,0.2,0.2,0.3,0.3,0.2,0.6,0.4,0.3,0.2,0.2,0.2,0.2],\"type\":\"scatter3d\"},{\"hovertemplate\":\"species=versicolor<br>sepal_length=%{x}<br>sepal_width=%{y}<br>petal_width=%{z}<br>petal_length=%{marker.color}<extra></extra>\",\"legendgroup\":\"versicolor\",\"marker\":{\"color\":[4.7,4.5,4.9,4.0,4.6,4.5,4.7,3.3,4.6,3.9,3.5,4.2,4.0,4.7,3.6,4.4,4.5,4.1,4.5,3.9,4.8,4.0,4.9,4.7,4.3,4.4,4.8,5.0,4.5,3.5,3.8,3.7,3.9,5.1,4.5,4.5,4.7,4.4,4.1,4.0,4.4,4.6,4.0,3.3,4.2,4.2,4.2,4.3,3.0,4.1],\"coloraxis\":\"coloraxis\",\"opacity\":0.7,\"size\":[4.7,4.5,4.9,4.0,4.6,4.5,4.7,3.3,4.6,3.9,3.5,4.2,4.0,4.7,3.6,4.4,4.5,4.1,4.5,3.9,4.8,4.0,4.9,4.7,4.3,4.4,4.8,5.0,4.5,3.5,3.8,3.7,3.9,5.1,4.5,4.5,4.7,4.4,4.1,4.0,4.4,4.6,4.0,3.3,4.2,4.2,4.2,4.3,3.0,4.1],\"sizemode\":\"area\",\"sizeref\":0.021296296296296296,\"symbol\":\"diamond\"},\"mode\":\"markers\",\"name\":\"versicolor\",\"scene\":\"scene\",\"showlegend\":true,\"x\":[7.0,6.4,6.9,5.5,6.5,5.7,6.3,4.9,6.6,5.2,5.0,5.9,6.0,6.1,5.6,6.7,5.6,5.8,6.2,5.6,5.9,6.1,6.3,6.1,6.4,6.6,6.8,6.7,6.0,5.7,5.5,5.5,5.8,6.0,5.4,6.0,6.7,6.3,5.6,5.5,5.5,6.1,5.8,5.0,5.6,5.7,5.7,6.2,5.1,5.7],\"y\":[3.2,3.2,3.1,2.3,2.8,2.8,3.3,2.4,2.9,2.7,2.0,3.0,2.2,2.9,2.9,3.1,3.0,2.7,2.2,2.5,3.2,2.8,2.5,2.8,2.9,3.0,2.8,3.0,2.9,2.6,2.4,2.4,2.7,2.7,3.0,3.4,3.1,2.3,3.0,2.5,2.6,3.0,2.6,2.3,2.7,3.0,2.9,2.9,2.5,2.8],\"z\":[1.4,1.5,1.5,1.3,1.5,1.3,1.6,1.0,1.3,1.4,1.0,1.5,1.0,1.4,1.3,1.4,1.5,1.0,1.5,1.1,1.8,1.3,1.5,1.2,1.3,1.4,1.4,1.7,1.5,1.0,1.1,1.0,1.2,1.6,1.5,1.6,1.5,1.3,1.3,1.3,1.2,1.4,1.2,1.0,1.3,1.2,1.3,1.3,1.1,1.3],\"type\":\"scatter3d\"},{\"hovertemplate\":\"species=virginica<br>sepal_length=%{x}<br>sepal_width=%{y}<br>petal_width=%{z}<br>petal_length=%{marker.color}<extra></extra>\",\"legendgroup\":\"virginica\",\"marker\":{\"color\":[6.0,5.1,5.9,5.6,5.8,6.6,4.5,6.3,5.8,6.1,5.1,5.3,5.5,5.0,5.1,5.3,5.5,6.7,6.9,5.0,5.7,4.9,6.7,4.9,5.7,6.0,4.8,4.9,5.6,5.8,6.1,6.4,5.6,5.1,5.6,6.1,5.6,5.5,4.8,5.4,5.6,5.1,5.1,5.9,5.7,5.2,5.0,5.2,5.4,5.1],\"coloraxis\":\"coloraxis\",\"opacity\":0.7,\"size\":[6.0,5.1,5.9,5.6,5.8,6.6,4.5,6.3,5.8,6.1,5.1,5.3,5.5,5.0,5.1,5.3,5.5,6.7,6.9,5.0,5.7,4.9,6.7,4.9,5.7,6.0,4.8,4.9,5.6,5.8,6.1,6.4,5.6,5.1,5.6,6.1,5.6,5.5,4.8,5.4,5.6,5.1,5.1,5.9,5.7,5.2,5.0,5.2,5.4,5.1],\"sizemode\":\"area\",\"sizeref\":0.021296296296296296,\"symbol\":\"square\"},\"mode\":\"markers\",\"name\":\"virginica\",\"scene\":\"scene\",\"showlegend\":true,\"x\":[6.3,5.8,7.1,6.3,6.5,7.6,4.9,7.3,6.7,7.2,6.5,6.4,6.8,5.7,5.8,6.4,6.5,7.7,7.7,6.0,6.9,5.6,7.7,6.3,6.7,7.2,6.2,6.1,6.4,7.2,7.4,7.9,6.4,6.3,6.1,7.7,6.3,6.4,6.0,6.9,6.7,6.9,5.8,6.8,6.7,6.7,6.3,6.5,6.2,5.9],\"y\":[3.3,2.7,3.0,2.9,3.0,3.0,2.5,2.9,2.5,3.6,3.2,2.7,3.0,2.5,2.8,3.2,3.0,3.8,2.6,2.2,3.2,2.8,2.8,2.7,3.3,3.2,2.8,3.0,2.8,3.0,2.8,3.8,2.8,2.8,2.6,3.0,3.4,3.1,3.0,3.1,3.1,3.1,2.7,3.2,3.3,3.0,2.5,3.0,3.4,3.0],\"z\":[2.5,1.9,2.1,1.8,2.2,2.1,1.7,1.8,1.8,2.5,2.0,1.9,2.1,2.0,2.4,2.3,1.8,2.2,2.3,1.5,2.3,2.0,2.0,1.8,2.1,1.8,1.8,1.8,2.1,1.6,1.9,2.0,2.2,1.5,1.4,2.3,2.4,1.8,1.8,2.1,2.4,2.3,1.9,2.3,2.5,2.3,1.9,2.0,2.3,1.8],\"type\":\"scatter3d\"}],                        {\"template\":{\"data\":{\"candlestick\":[{\"decreasing\":{\"line\":{\"color\":\"#000033\"}},\"increasing\":{\"line\":{\"color\":\"#000032\"}},\"type\":\"candlestick\"}],\"contourcarpet\":[{\"colorscale\":[[0.0,\"#000011\"],[0.1111111111111111,\"#000012\"],[0.2222222222222222,\"#000013\"],[0.3333333333333333,\"#000014\"],[0.4444444444444444,\"#000015\"],[0.5555555555555556,\"#000016\"],[0.6666666666666666,\"#000017\"],[0.7777777777777778,\"#000018\"],[0.8888888888888888,\"#000019\"],[1.0,\"#000020\"]],\"type\":\"contourcarpet\"}],\"contour\":[{\"colorscale\":[[0.0,\"#000011\"],[0.1111111111111111,\"#000012\"],[0.2222222222222222,\"#000013\"],[0.3333333333333333,\"#000014\"],[0.4444444444444444,\"#000015\"],[0.5555555555555556,\"#000016\"],[0.6666666666666666,\"#000017\"],[0.7777777777777778,\"#000018\"],[0.8888888888888888,\"#000019\"],[1.0,\"#000020\"]],\"type\":\"contour\"}],\"heatmap\":[{\"colorscale\":[[0.0,\"#000011\"],[0.1111111111111111,\"#000012\"],[0.2222222222222222,\"#000013\"],[0.3333333333333333,\"#000014\"],[0.4444444444444444,\"#000015\"],[0.5555555555555556,\"#000016\"],[0.6666666666666666,\"#000017\"],[0.7777777777777778,\"#000018\"],[0.8888888888888888,\"#000019\"],[1.0,\"#000020\"]],\"type\":\"heatmap\"}],\"histogram2d\":[{\"colorscale\":[[0.0,\"#000011\"],[0.1111111111111111,\"#000012\"],[0.2222222222222222,\"#000013\"],[0.3333333333333333,\"#000014\"],[0.4444444444444444,\"#000015\"],[0.5555555555555556,\"#000016\"],[0.6666666666666666,\"#000017\"],[0.7777777777777778,\"#000018\"],[0.8888888888888888,\"#000019\"],[1.0,\"#000020\"]],\"type\":\"histogram2d\"}],\"icicle\":[{\"textfont\":{\"color\":\"white\"},\"type\":\"icicle\"}],\"sankey\":[{\"textfont\":{\"color\":\"#000036\"},\"type\":\"sankey\"}],\"scatter\":[{\"marker\":{\"line\":{\"width\":0}},\"type\":\"scatter\"}],\"table\":[{\"cells\":{\"fill\":{\"color\":\"#000038\"},\"font\":{\"color\":\"#000037\"},\"line\":{\"color\":\"#000039\"}},\"header\":{\"fill\":{\"color\":\"#000040\"},\"font\":{\"color\":\"#000036\"},\"line\":{\"color\":\"#000039\"}},\"type\":\"table\"}],\"waterfall\":[{\"connector\":{\"line\":{\"color\":\"#000036\",\"width\":2}},\"decreasing\":{\"marker\":{\"color\":\"#000033\"}},\"increasing\":{\"marker\":{\"color\":\"#000032\"}},\"totals\":{\"marker\":{\"color\":\"#000034\"}},\"type\":\"waterfall\"}]},\"layout\":{\"coloraxis\":{\"colorscale\":[[0.0,\"#000011\"],[0.1111111111111111,\"#000012\"],[0.2222222222222222,\"#000013\"],[0.3333333333333333,\"#000014\"],[0.4444444444444444,\"#000015\"],[0.5555555555555556,\"#000016\"],[0.6666666666666666,\"#000017\"],[0.7777777777777778,\"#000018\"],[0.8888888888888888,\"#000019\"],[1.0,\"#000020\"]]},\"colorscale\":{\"diverging\":[[0.0,\"#000021\"],[0.1,\"#000022\"],[0.2,\"#000023\"],[0.3,\"#000024\"],[0.4,\"#000025\"],[0.5,\"#000026\"],[0.6,\"#000027\"],[0.7,\"#000028\"],[0.8,\"#000029\"],[0.9,\"#000030\"],[1.0,\"#000031\"]],\"sequential\":[[0.0,\"#000011\"],[0.1111111111111111,\"#000012\"],[0.2222222222222222,\"#000013\"],[0.3333333333333333,\"#000014\"],[0.4444444444444444,\"#000015\"],[0.5555555555555556,\"#000016\"],[0.6666666666666666,\"#000017\"],[0.7777777777777778,\"#000018\"],[0.8888888888888888,\"#000019\"],[1.0,\"#000020\"]],\"sequentialminus\":[[0.0,\"#000011\"],[0.1111111111111111,\"#000012\"],[0.2222222222222222,\"#000013\"],[0.3333333333333333,\"#000014\"],[0.4444444444444444,\"#000015\"],[0.5555555555555556,\"#000016\"],[0.6666666666666666,\"#000017\"],[0.7777777777777778,\"#000018\"],[0.8888888888888888,\"#000019\"],[1.0,\"#000020\"]]},\"colorway\":[\"#000001\",\"#000002\",\"#000003\",\"#000004\",\"#000005\",\"#000006\",\"#000007\",\"#000008\",\"#000009\",\"#000010\"]}},\"scene\":{\"domain\":{\"x\":[0.0,1.0],\"y\":[0.0,1.0]},\"xaxis\":{\"title\":{\"text\":\"sepal_length\"}},\"yaxis\":{\"title\":{\"text\":\"sepal_width\"}},\"zaxis\":{\"title\":{\"text\":\"petal_width\"}}},\"coloraxis\":{\"colorbar\":{\"title\":{\"text\":\"petal_length\"}},\"colorscale\":[[0.0,\"#000011\"],[0.1111111111111111,\"#000012\"],[0.2222222222222222,\"#000013\"],[0.3333333333333333,\"#000014\"],[0.4444444444444444,\"#000015\"],[0.5555555555555556,\"#000016\"],[0.6666666666666666,\"#000017\"],[0.7777777777777778,\"#000018\"],[0.8888888888888888,\"#000019\"],[1.0,\"#000020\"]]},\"legend\":{\"title\":{\"text\":\"species\"},\"tracegroupgap\":0,\"itemsizing\":\"constant\"},\"margin\":{\"t\":0,\"l\":0,\"r\":0,\"b\":0}},                        {\"responsive\": true}                    ).then(function(){\n",
       "                            \n",
       "var gd = document.getElementById('5b98178e-4b5d-4e3b-8a00-6d75e54e6802');\n",
       "var x = new MutationObserver(function (mutations, observer) {{\n",
       "        var display = window.getComputedStyle(gd).display;\n",
       "        if (!display || display === 'none') {{\n",
       "            console.log([gd, 'removed!']);\n",
       "            Plotly.purge(gd);\n",
       "            observer.disconnect();\n",
       "        }}\n",
       "}});\n",
       "\n",
       "// Listen for the removal of the full notebook cells\n",
       "var notebookContainer = gd.closest('#notebook-container');\n",
       "if (notebookContainer) {{\n",
       "    x.observe(notebookContainer, {childList: true});\n",
       "}}\n",
       "\n",
       "// Listen for the clearing of the current output cell\n",
       "var outputEl = gd.closest('.output');\n",
       "if (outputEl) {{\n",
       "    x.observe(outputEl, {childList: true});\n",
       "}}\n",
       "\n",
       "                        })                };                });            </script>        </div>"
      ]
     },
     "metadata": {},
     "output_type": "display_data"
    }
   ],
   "source": [
    "df = px.data.iris()\n",
    "fig = px.scatter_3d(df, x='Nongrad_employed', y='Grad_share', z='Grad_premium',\n",
    "              color='Grad_premium', size='Grad_premium', size_max=18,\n",
    "              symbol='Major_category', opacity=0.7)\n",
    "\n",
    "# tight layout\n",
    "fig.update_layout(margin=dict(l=0, r=0, b=0, t=0))"
   ]
  },
  {
   "cell_type": "code",
   "execution_count": 156,
   "id": "e975d991",
   "metadata": {},
   "outputs": [
    {
     "data": {
      "text/plain": [
       "0.1"
      ]
     },
     "execution_count": 156,
     "metadata": {},
     "output_type": "execute_result"
    }
   ],
   "source": [
    "df['petal_width'].min()"
   ]
  },
  {
   "cell_type": "code",
   "execution_count": 153,
   "id": "c7f36bf5",
   "metadata": {
    "scrolled": true
   },
   "outputs": [
    {
     "data": {
      "text/html": [
       "<div>\n",
       "<style scoped>\n",
       "    .dataframe tbody tr th:only-of-type {\n",
       "        vertical-align: middle;\n",
       "    }\n",
       "\n",
       "    .dataframe tbody tr th {\n",
       "        vertical-align: top;\n",
       "    }\n",
       "\n",
       "    .dataframe thead th {\n",
       "        text-align: right;\n",
       "    }\n",
       "</style>\n",
       "<table border=\"1\" class=\"dataframe\">\n",
       "  <thead>\n",
       "    <tr style=\"text-align: right;\">\n",
       "      <th></th>\n",
       "      <th>sepal_length</th>\n",
       "      <th>sepal_width</th>\n",
       "      <th>petal_length</th>\n",
       "      <th>petal_width</th>\n",
       "      <th>species</th>\n",
       "      <th>species_id</th>\n",
       "    </tr>\n",
       "  </thead>\n",
       "  <tbody>\n",
       "    <tr>\n",
       "      <th>0</th>\n",
       "      <td>5.1</td>\n",
       "      <td>3.5</td>\n",
       "      <td>1.4</td>\n",
       "      <td>0.2</td>\n",
       "      <td>setosa</td>\n",
       "      <td>1</td>\n",
       "    </tr>\n",
       "    <tr>\n",
       "      <th>1</th>\n",
       "      <td>4.9</td>\n",
       "      <td>3.0</td>\n",
       "      <td>1.4</td>\n",
       "      <td>0.2</td>\n",
       "      <td>setosa</td>\n",
       "      <td>1</td>\n",
       "    </tr>\n",
       "    <tr>\n",
       "      <th>2</th>\n",
       "      <td>4.7</td>\n",
       "      <td>3.2</td>\n",
       "      <td>1.3</td>\n",
       "      <td>0.2</td>\n",
       "      <td>setosa</td>\n",
       "      <td>1</td>\n",
       "    </tr>\n",
       "    <tr>\n",
       "      <th>3</th>\n",
       "      <td>4.6</td>\n",
       "      <td>3.1</td>\n",
       "      <td>1.5</td>\n",
       "      <td>0.2</td>\n",
       "      <td>setosa</td>\n",
       "      <td>1</td>\n",
       "    </tr>\n",
       "    <tr>\n",
       "      <th>4</th>\n",
       "      <td>5.0</td>\n",
       "      <td>3.6</td>\n",
       "      <td>1.4</td>\n",
       "      <td>0.2</td>\n",
       "      <td>setosa</td>\n",
       "      <td>1</td>\n",
       "    </tr>\n",
       "    <tr>\n",
       "      <th>...</th>\n",
       "      <td>...</td>\n",
       "      <td>...</td>\n",
       "      <td>...</td>\n",
       "      <td>...</td>\n",
       "      <td>...</td>\n",
       "      <td>...</td>\n",
       "    </tr>\n",
       "    <tr>\n",
       "      <th>145</th>\n",
       "      <td>6.7</td>\n",
       "      <td>3.0</td>\n",
       "      <td>5.2</td>\n",
       "      <td>2.3</td>\n",
       "      <td>virginica</td>\n",
       "      <td>3</td>\n",
       "    </tr>\n",
       "    <tr>\n",
       "      <th>146</th>\n",
       "      <td>6.3</td>\n",
       "      <td>2.5</td>\n",
       "      <td>5.0</td>\n",
       "      <td>1.9</td>\n",
       "      <td>virginica</td>\n",
       "      <td>3</td>\n",
       "    </tr>\n",
       "    <tr>\n",
       "      <th>147</th>\n",
       "      <td>6.5</td>\n",
       "      <td>3.0</td>\n",
       "      <td>5.2</td>\n",
       "      <td>2.0</td>\n",
       "      <td>virginica</td>\n",
       "      <td>3</td>\n",
       "    </tr>\n",
       "    <tr>\n",
       "      <th>148</th>\n",
       "      <td>6.2</td>\n",
       "      <td>3.4</td>\n",
       "      <td>5.4</td>\n",
       "      <td>2.3</td>\n",
       "      <td>virginica</td>\n",
       "      <td>3</td>\n",
       "    </tr>\n",
       "    <tr>\n",
       "      <th>149</th>\n",
       "      <td>5.9</td>\n",
       "      <td>3.0</td>\n",
       "      <td>5.1</td>\n",
       "      <td>1.8</td>\n",
       "      <td>virginica</td>\n",
       "      <td>3</td>\n",
       "    </tr>\n",
       "  </tbody>\n",
       "</table>\n",
       "<p>150 rows × 6 columns</p>\n",
       "</div>"
      ],
      "text/plain": [
       "     sepal_length  sepal_width  petal_length  petal_width    species  \\\n",
       "0             5.1          3.5           1.4          0.2     setosa   \n",
       "1             4.9          3.0           1.4          0.2     setosa   \n",
       "2             4.7          3.2           1.3          0.2     setosa   \n",
       "3             4.6          3.1           1.5          0.2     setosa   \n",
       "4             5.0          3.6           1.4          0.2     setosa   \n",
       "..            ...          ...           ...          ...        ...   \n",
       "145           6.7          3.0           5.2          2.3  virginica   \n",
       "146           6.3          2.5           5.0          1.9  virginica   \n",
       "147           6.5          3.0           5.2          2.0  virginica   \n",
       "148           6.2          3.4           5.4          2.3  virginica   \n",
       "149           5.9          3.0           5.1          1.8  virginica   \n",
       "\n",
       "     species_id  \n",
       "0             1  \n",
       "1             1  \n",
       "2             1  \n",
       "3             1  \n",
       "4             1  \n",
       "..          ...  \n",
       "145           3  \n",
       "146           3  \n",
       "147           3  \n",
       "148           3  \n",
       "149           3  \n",
       "\n",
       "[150 rows x 6 columns]"
      ]
     },
     "execution_count": 153,
     "metadata": {},
     "output_type": "execute_result"
    }
   ],
   "source": [
    "df"
   ]
  },
  {
   "cell_type": "code",
   "execution_count": 149,
   "id": "12c37c7e",
   "metadata": {},
   "outputs": [],
   "source": [
    "df_grad['Nongrad_employed'] = df_grad['Nongrad_employed']/100000"
   ]
  },
  {
   "cell_type": "code",
   "execution_count": 161,
   "id": "356fbb54",
   "metadata": {},
   "outputs": [],
   "source": [
    "df_grad['Grad_share'] = round(df_grad['Grad_share'],1)"
   ]
  },
  {
   "cell_type": "code",
   "execution_count": 162,
   "id": "8b8ba40b",
   "metadata": {},
   "outputs": [],
   "source": [
    "df_grad['Grad_premium'] = round(df_grad['Grad_premium'],1)"
   ]
  },
  {
   "cell_type": "code",
   "execution_count": 160,
   "id": "e00ae612",
   "metadata": {},
   "outputs": [],
   "source": [
    "df_grad['Nongrad_employed'] = round(df_grad['Nongrad_employed'],1)"
   ]
  },
  {
   "cell_type": "code",
   "execution_count": 177,
   "id": "f0f5e953",
   "metadata": {
    "scrolled": true
   },
   "outputs": [
    {
     "data": {
      "text/html": [
       "<div>\n",
       "<style scoped>\n",
       "    .dataframe tbody tr th:only-of-type {\n",
       "        vertical-align: middle;\n",
       "    }\n",
       "\n",
       "    .dataframe tbody tr th {\n",
       "        vertical-align: top;\n",
       "    }\n",
       "\n",
       "    .dataframe thead th {\n",
       "        text-align: right;\n",
       "    }\n",
       "</style>\n",
       "<table border=\"1\" class=\"dataframe\">\n",
       "  <thead>\n",
       "    <tr style=\"text-align: right;\">\n",
       "      <th></th>\n",
       "      <th>Rank</th>\n",
       "      <th>Major</th>\n",
       "      <th>Major_category</th>\n",
       "      <th>Total</th>\n",
       "      <th>Men</th>\n",
       "      <th>Women</th>\n",
       "      <th>Employed</th>\n",
       "      <th>Full_time</th>\n",
       "      <th>Part_time</th>\n",
       "      <th>Unemployed</th>\n",
       "      <th>Unemployment_rate</th>\n",
       "      <th>College_jobs</th>\n",
       "      <th>Non_college_jobs</th>\n",
       "      <th>Low_wage_jobs</th>\n",
       "      <th>man_ratio</th>\n",
       "      <th>Woman_ratio</th>\n",
       "    </tr>\n",
       "    <tr>\n",
       "      <th>index</th>\n",
       "      <th></th>\n",
       "      <th></th>\n",
       "      <th></th>\n",
       "      <th></th>\n",
       "      <th></th>\n",
       "      <th></th>\n",
       "      <th></th>\n",
       "      <th></th>\n",
       "      <th></th>\n",
       "      <th></th>\n",
       "      <th></th>\n",
       "      <th></th>\n",
       "      <th></th>\n",
       "      <th></th>\n",
       "      <th></th>\n",
       "      <th></th>\n",
       "    </tr>\n",
       "  </thead>\n",
       "  <tbody>\n",
       "    <tr>\n",
       "      <th>0</th>\n",
       "      <td>1</td>\n",
       "      <td>PETROLEUM ENGINEERING</td>\n",
       "      <td>Engineering</td>\n",
       "      <td>2339</td>\n",
       "      <td>2057</td>\n",
       "      <td>282</td>\n",
       "      <td>1976</td>\n",
       "      <td>1849</td>\n",
       "      <td>270</td>\n",
       "      <td>37</td>\n",
       "      <td>0.018381</td>\n",
       "      <td>1534</td>\n",
       "      <td>364</td>\n",
       "      <td>193</td>\n",
       "      <td>87.943566</td>\n",
       "      <td>12.056434</td>\n",
       "    </tr>\n",
       "    <tr>\n",
       "      <th>1</th>\n",
       "      <td>2</td>\n",
       "      <td>MINING AND MINERAL ENGINEERING</td>\n",
       "      <td>Engineering</td>\n",
       "      <td>756</td>\n",
       "      <td>679</td>\n",
       "      <td>77</td>\n",
       "      <td>640</td>\n",
       "      <td>556</td>\n",
       "      <td>170</td>\n",
       "      <td>85</td>\n",
       "      <td>0.117241</td>\n",
       "      <td>350</td>\n",
       "      <td>257</td>\n",
       "      <td>50</td>\n",
       "      <td>89.814815</td>\n",
       "      <td>10.185185</td>\n",
       "    </tr>\n",
       "    <tr>\n",
       "      <th>2</th>\n",
       "      <td>3</td>\n",
       "      <td>METALLURGICAL ENGINEERING</td>\n",
       "      <td>Engineering</td>\n",
       "      <td>856</td>\n",
       "      <td>725</td>\n",
       "      <td>131</td>\n",
       "      <td>648</td>\n",
       "      <td>558</td>\n",
       "      <td>133</td>\n",
       "      <td>16</td>\n",
       "      <td>0.024096</td>\n",
       "      <td>456</td>\n",
       "      <td>176</td>\n",
       "      <td>0</td>\n",
       "      <td>84.696262</td>\n",
       "      <td>15.303738</td>\n",
       "    </tr>\n",
       "    <tr>\n",
       "      <th>3</th>\n",
       "      <td>4</td>\n",
       "      <td>NAVAL ARCHITECTURE AND MARINE ENGINEERING</td>\n",
       "      <td>Engineering</td>\n",
       "      <td>1258</td>\n",
       "      <td>1123</td>\n",
       "      <td>135</td>\n",
       "      <td>758</td>\n",
       "      <td>1069</td>\n",
       "      <td>150</td>\n",
       "      <td>40</td>\n",
       "      <td>0.050125</td>\n",
       "      <td>529</td>\n",
       "      <td>102</td>\n",
       "      <td>0</td>\n",
       "      <td>89.268680</td>\n",
       "      <td>10.731320</td>\n",
       "    </tr>\n",
       "    <tr>\n",
       "      <th>4</th>\n",
       "      <td>5</td>\n",
       "      <td>CHEMICAL ENGINEERING</td>\n",
       "      <td>Engineering</td>\n",
       "      <td>32260</td>\n",
       "      <td>21239</td>\n",
       "      <td>11021</td>\n",
       "      <td>25694</td>\n",
       "      <td>23170</td>\n",
       "      <td>5180</td>\n",
       "      <td>1672</td>\n",
       "      <td>0.061098</td>\n",
       "      <td>18314</td>\n",
       "      <td>4440</td>\n",
       "      <td>972</td>\n",
       "      <td>65.836950</td>\n",
       "      <td>34.163050</td>\n",
       "    </tr>\n",
       "    <tr>\n",
       "      <th>...</th>\n",
       "      <td>...</td>\n",
       "      <td>...</td>\n",
       "      <td>...</td>\n",
       "      <td>...</td>\n",
       "      <td>...</td>\n",
       "      <td>...</td>\n",
       "      <td>...</td>\n",
       "      <td>...</td>\n",
       "      <td>...</td>\n",
       "      <td>...</td>\n",
       "      <td>...</td>\n",
       "      <td>...</td>\n",
       "      <td>...</td>\n",
       "      <td>...</td>\n",
       "      <td>...</td>\n",
       "      <td>...</td>\n",
       "    </tr>\n",
       "    <tr>\n",
       "      <th>168</th>\n",
       "      <td>169</td>\n",
       "      <td>ZOOLOGY</td>\n",
       "      <td>Biology &amp; Life Science</td>\n",
       "      <td>8409</td>\n",
       "      <td>3050</td>\n",
       "      <td>5359</td>\n",
       "      <td>6259</td>\n",
       "      <td>5043</td>\n",
       "      <td>2190</td>\n",
       "      <td>304</td>\n",
       "      <td>0.046320</td>\n",
       "      <td>2771</td>\n",
       "      <td>2947</td>\n",
       "      <td>743</td>\n",
       "      <td>36.270662</td>\n",
       "      <td>63.729338</td>\n",
       "    </tr>\n",
       "    <tr>\n",
       "      <th>169</th>\n",
       "      <td>170</td>\n",
       "      <td>EDUCATIONAL PSYCHOLOGY</td>\n",
       "      <td>Psychology &amp; Social Work</td>\n",
       "      <td>2854</td>\n",
       "      <td>522</td>\n",
       "      <td>2332</td>\n",
       "      <td>2125</td>\n",
       "      <td>1848</td>\n",
       "      <td>572</td>\n",
       "      <td>148</td>\n",
       "      <td>0.065112</td>\n",
       "      <td>1488</td>\n",
       "      <td>615</td>\n",
       "      <td>82</td>\n",
       "      <td>18.290119</td>\n",
       "      <td>81.709881</td>\n",
       "    </tr>\n",
       "    <tr>\n",
       "      <th>170</th>\n",
       "      <td>171</td>\n",
       "      <td>CLINICAL PSYCHOLOGY</td>\n",
       "      <td>Psychology &amp; Social Work</td>\n",
       "      <td>2838</td>\n",
       "      <td>568</td>\n",
       "      <td>2270</td>\n",
       "      <td>2101</td>\n",
       "      <td>1724</td>\n",
       "      <td>648</td>\n",
       "      <td>368</td>\n",
       "      <td>0.149048</td>\n",
       "      <td>986</td>\n",
       "      <td>870</td>\n",
       "      <td>622</td>\n",
       "      <td>20.014094</td>\n",
       "      <td>79.985906</td>\n",
       "    </tr>\n",
       "    <tr>\n",
       "      <th>171</th>\n",
       "      <td>172</td>\n",
       "      <td>COUNSELING PSYCHOLOGY</td>\n",
       "      <td>Psychology &amp; Social Work</td>\n",
       "      <td>4626</td>\n",
       "      <td>931</td>\n",
       "      <td>3695</td>\n",
       "      <td>3777</td>\n",
       "      <td>3154</td>\n",
       "      <td>965</td>\n",
       "      <td>214</td>\n",
       "      <td>0.053621</td>\n",
       "      <td>2403</td>\n",
       "      <td>1245</td>\n",
       "      <td>308</td>\n",
       "      <td>20.125378</td>\n",
       "      <td>79.874622</td>\n",
       "    </tr>\n",
       "    <tr>\n",
       "      <th>172</th>\n",
       "      <td>173</td>\n",
       "      <td>LIBRARY SCIENCE</td>\n",
       "      <td>Education</td>\n",
       "      <td>1098</td>\n",
       "      <td>134</td>\n",
       "      <td>964</td>\n",
       "      <td>742</td>\n",
       "      <td>593</td>\n",
       "      <td>237</td>\n",
       "      <td>87</td>\n",
       "      <td>0.104946</td>\n",
       "      <td>288</td>\n",
       "      <td>338</td>\n",
       "      <td>192</td>\n",
       "      <td>12.204007</td>\n",
       "      <td>87.795993</td>\n",
       "    </tr>\n",
       "  </tbody>\n",
       "</table>\n",
       "<p>173 rows × 16 columns</p>\n",
       "</div>"
      ],
      "text/plain": [
       "       Rank                                      Major  \\\n",
       "index                                                    \n",
       "0         1                      PETROLEUM ENGINEERING   \n",
       "1         2             MINING AND MINERAL ENGINEERING   \n",
       "2         3                  METALLURGICAL ENGINEERING   \n",
       "3         4  NAVAL ARCHITECTURE AND MARINE ENGINEERING   \n",
       "4         5                       CHEMICAL ENGINEERING   \n",
       "...     ...                                        ...   \n",
       "168     169                                    ZOOLOGY   \n",
       "169     170                     EDUCATIONAL PSYCHOLOGY   \n",
       "170     171                        CLINICAL PSYCHOLOGY   \n",
       "171     172                      COUNSELING PSYCHOLOGY   \n",
       "172     173                            LIBRARY SCIENCE   \n",
       "\n",
       "                 Major_category  Total    Men  Women  Employed  Full_time  \\\n",
       "index                                                                       \n",
       "0                   Engineering   2339   2057    282      1976       1849   \n",
       "1                   Engineering    756    679     77       640        556   \n",
       "2                   Engineering    856    725    131       648        558   \n",
       "3                   Engineering   1258   1123    135       758       1069   \n",
       "4                   Engineering  32260  21239  11021     25694      23170   \n",
       "...                         ...    ...    ...    ...       ...        ...   \n",
       "168      Biology & Life Science   8409   3050   5359      6259       5043   \n",
       "169    Psychology & Social Work   2854    522   2332      2125       1848   \n",
       "170    Psychology & Social Work   2838    568   2270      2101       1724   \n",
       "171    Psychology & Social Work   4626    931   3695      3777       3154   \n",
       "172                   Education   1098    134    964       742        593   \n",
       "\n",
       "       Part_time  Unemployed  Unemployment_rate  College_jobs  \\\n",
       "index                                                           \n",
       "0            270          37           0.018381          1534   \n",
       "1            170          85           0.117241           350   \n",
       "2            133          16           0.024096           456   \n",
       "3            150          40           0.050125           529   \n",
       "4           5180        1672           0.061098         18314   \n",
       "...          ...         ...                ...           ...   \n",
       "168         2190         304           0.046320          2771   \n",
       "169          572         148           0.065112          1488   \n",
       "170          648         368           0.149048           986   \n",
       "171          965         214           0.053621          2403   \n",
       "172          237          87           0.104946           288   \n",
       "\n",
       "       Non_college_jobs  Low_wage_jobs  man_ratio  Woman_ratio  \n",
       "index                                                           \n",
       "0                   364            193  87.943566    12.056434  \n",
       "1                   257             50  89.814815    10.185185  \n",
       "2                   176              0  84.696262    15.303738  \n",
       "3                   102              0  89.268680    10.731320  \n",
       "4                  4440            972  65.836950    34.163050  \n",
       "...                 ...            ...        ...          ...  \n",
       "168                2947            743  36.270662    63.729338  \n",
       "169                 615             82  18.290119    81.709881  \n",
       "170                 870            622  20.014094    79.985906  \n",
       "171                1245            308  20.125378    79.874622  \n",
       "172                 338            192  12.204007    87.795993  \n",
       "\n",
       "[173 rows x 16 columns]"
      ]
     },
     "execution_count": 177,
     "metadata": {},
     "output_type": "execute_result"
    }
   ],
   "source": [
    "df_recent"
   ]
  },
  {
   "cell_type": "code",
   "execution_count": 168,
   "id": "f996d8a6",
   "metadata": {},
   "outputs": [],
   "source": [
    "df_recent = df_recent.drop(['Median','P25th','P75th','ShareWomen','Sample_size','Major_code','Full_time_year_round',axis= 1)"
   ]
  },
  {
   "cell_type": "code",
   "execution_count": 173,
   "id": "aba6e502",
   "metadata": {},
   "outputs": [
    {
     "data": {
      "text/plain": [
       "12.056434373663958"
      ]
     },
     "execution_count": 173,
     "metadata": {},
     "output_type": "execute_result"
    }
   ],
   "source": [
    "282 / 2339 * 100"
   ]
  },
  {
   "cell_type": "code",
   "execution_count": 175,
   "id": "fffd382d",
   "metadata": {},
   "outputs": [],
   "source": [
    "df_recent['man_ratio'] = df_recent['Men'] / df_recent['Total'] * 100 "
   ]
  },
  {
   "cell_type": "code",
   "execution_count": 176,
   "id": "1e219b02",
   "metadata": {},
   "outputs": [],
   "source": [
    "df_recent['Woman_ratio'] = df_recent['Women'] / df_recent['Total'] * 100 "
   ]
  },
  {
   "cell_type": "code",
   "execution_count": 178,
   "id": "2dadae3b",
   "metadata": {},
   "outputs": [],
   "source": [
    "# 남성 비율이 가장 높은 학과는 ?"
   ]
  },
  {
   "cell_type": "code",
   "execution_count": 180,
   "id": "589a45b3",
   "metadata": {},
   "outputs": [
    {
     "data": {
      "text/html": [
       "<div>\n",
       "<style scoped>\n",
       "    .dataframe tbody tr th:only-of-type {\n",
       "        vertical-align: middle;\n",
       "    }\n",
       "\n",
       "    .dataframe tbody tr th {\n",
       "        vertical-align: top;\n",
       "    }\n",
       "\n",
       "    .dataframe thead th {\n",
       "        text-align: right;\n",
       "    }\n",
       "</style>\n",
       "<table border=\"1\" class=\"dataframe\">\n",
       "  <thead>\n",
       "    <tr style=\"text-align: right;\">\n",
       "      <th></th>\n",
       "      <th>Rank</th>\n",
       "      <th>Major</th>\n",
       "      <th>Major_category</th>\n",
       "      <th>Total</th>\n",
       "      <th>Men</th>\n",
       "      <th>Women</th>\n",
       "      <th>Employed</th>\n",
       "      <th>Full_time</th>\n",
       "      <th>Part_time</th>\n",
       "      <th>Unemployed</th>\n",
       "      <th>Unemployment_rate</th>\n",
       "      <th>College_jobs</th>\n",
       "      <th>Non_college_jobs</th>\n",
       "      <th>Low_wage_jobs</th>\n",
       "      <th>man_ratio</th>\n",
       "      <th>Woman_ratio</th>\n",
       "    </tr>\n",
       "    <tr>\n",
       "      <th>index</th>\n",
       "      <th></th>\n",
       "      <th></th>\n",
       "      <th></th>\n",
       "      <th></th>\n",
       "      <th></th>\n",
       "      <th></th>\n",
       "      <th></th>\n",
       "      <th></th>\n",
       "      <th></th>\n",
       "      <th></th>\n",
       "      <th></th>\n",
       "      <th></th>\n",
       "      <th></th>\n",
       "      <th></th>\n",
       "      <th></th>\n",
       "      <th></th>\n",
       "    </tr>\n",
       "  </thead>\n",
       "  <tbody>\n",
       "    <tr>\n",
       "      <th>120</th>\n",
       "      <td>121</td>\n",
       "      <td>EDUCATIONAL ADMINISTRATION AND SUPERVISION</td>\n",
       "      <td>Education</td>\n",
       "      <td>804</td>\n",
       "      <td>78253</td>\n",
       "      <td>63698</td>\n",
       "      <td>703</td>\n",
       "      <td>733</td>\n",
       "      <td>0</td>\n",
       "      <td>0</td>\n",
       "      <td>0.0</td>\n",
       "      <td>346</td>\n",
       "      <td>206</td>\n",
       "      <td>111</td>\n",
       "      <td>9732.960199</td>\n",
       "      <td>7922.636816</td>\n",
       "    </tr>\n",
       "  </tbody>\n",
       "</table>\n",
       "</div>"
      ],
      "text/plain": [
       "       Rank                                       Major Major_category  Total  \\\n",
       "index                                                                           \n",
       "120     121  EDUCATIONAL ADMINISTRATION AND SUPERVISION      Education    804   \n",
       "\n",
       "         Men  Women  Employed  Full_time  Part_time  Unemployed  \\\n",
       "index                                                             \n",
       "120    78253  63698       703        733          0           0   \n",
       "\n",
       "       Unemployment_rate  College_jobs  Non_college_jobs  Low_wage_jobs  \\\n",
       "index                                                                     \n",
       "120                  0.0           346               206            111   \n",
       "\n",
       "         man_ratio  Woman_ratio  \n",
       "index                            \n",
       "120    9732.960199  7922.636816  "
      ]
     },
     "execution_count": 180,
     "metadata": {},
     "output_type": "execute_result"
    }
   ],
   "source": [
    "df_recent.loc[df_recent['man_ratio'].max() == df_recent['man_ratio'] , : ]"
   ]
  },
  {
   "cell_type": "code",
   "execution_count": 181,
   "id": "13e49c5a",
   "metadata": {},
   "outputs": [],
   "source": [
    "# 2. 인기순으로 10개 나열"
   ]
  },
  {
   "cell_type": "code",
   "execution_count": 182,
   "id": "57c27d54",
   "metadata": {},
   "outputs": [
    {
     "data": {
      "text/html": [
       "<div>\n",
       "<style scoped>\n",
       "    .dataframe tbody tr th:only-of-type {\n",
       "        vertical-align: middle;\n",
       "    }\n",
       "\n",
       "    .dataframe tbody tr th {\n",
       "        vertical-align: top;\n",
       "    }\n",
       "\n",
       "    .dataframe thead th {\n",
       "        text-align: right;\n",
       "    }\n",
       "</style>\n",
       "<table border=\"1\" class=\"dataframe\">\n",
       "  <thead>\n",
       "    <tr style=\"text-align: right;\">\n",
       "      <th></th>\n",
       "      <th>Rank</th>\n",
       "      <th>Major</th>\n",
       "      <th>Major_category</th>\n",
       "      <th>Total</th>\n",
       "      <th>Men</th>\n",
       "      <th>Women</th>\n",
       "      <th>Employed</th>\n",
       "      <th>Full_time</th>\n",
       "      <th>Part_time</th>\n",
       "      <th>Unemployed</th>\n",
       "      <th>Unemployment_rate</th>\n",
       "      <th>College_jobs</th>\n",
       "      <th>Non_college_jobs</th>\n",
       "      <th>Low_wage_jobs</th>\n",
       "      <th>man_ratio</th>\n",
       "      <th>Woman_ratio</th>\n",
       "    </tr>\n",
       "    <tr>\n",
       "      <th>index</th>\n",
       "      <th></th>\n",
       "      <th></th>\n",
       "      <th></th>\n",
       "      <th></th>\n",
       "      <th></th>\n",
       "      <th></th>\n",
       "      <th></th>\n",
       "      <th></th>\n",
       "      <th></th>\n",
       "      <th></th>\n",
       "      <th></th>\n",
       "      <th></th>\n",
       "      <th></th>\n",
       "      <th></th>\n",
       "      <th></th>\n",
       "      <th></th>\n",
       "    </tr>\n",
       "  </thead>\n",
       "  <tbody>\n",
       "    <tr>\n",
       "      <th>0</th>\n",
       "      <td>1</td>\n",
       "      <td>PETROLEUM ENGINEERING</td>\n",
       "      <td>Engineering</td>\n",
       "      <td>2339</td>\n",
       "      <td>2057</td>\n",
       "      <td>282</td>\n",
       "      <td>1976</td>\n",
       "      <td>1849</td>\n",
       "      <td>270</td>\n",
       "      <td>37</td>\n",
       "      <td>0.018381</td>\n",
       "      <td>1534</td>\n",
       "      <td>364</td>\n",
       "      <td>193</td>\n",
       "      <td>87.943566</td>\n",
       "      <td>12.056434</td>\n",
       "    </tr>\n",
       "    <tr>\n",
       "      <th>1</th>\n",
       "      <td>2</td>\n",
       "      <td>MINING AND MINERAL ENGINEERING</td>\n",
       "      <td>Engineering</td>\n",
       "      <td>756</td>\n",
       "      <td>679</td>\n",
       "      <td>77</td>\n",
       "      <td>640</td>\n",
       "      <td>556</td>\n",
       "      <td>170</td>\n",
       "      <td>85</td>\n",
       "      <td>0.117241</td>\n",
       "      <td>350</td>\n",
       "      <td>257</td>\n",
       "      <td>50</td>\n",
       "      <td>89.814815</td>\n",
       "      <td>10.185185</td>\n",
       "    </tr>\n",
       "    <tr>\n",
       "      <th>2</th>\n",
       "      <td>3</td>\n",
       "      <td>METALLURGICAL ENGINEERING</td>\n",
       "      <td>Engineering</td>\n",
       "      <td>856</td>\n",
       "      <td>725</td>\n",
       "      <td>131</td>\n",
       "      <td>648</td>\n",
       "      <td>558</td>\n",
       "      <td>133</td>\n",
       "      <td>16</td>\n",
       "      <td>0.024096</td>\n",
       "      <td>456</td>\n",
       "      <td>176</td>\n",
       "      <td>0</td>\n",
       "      <td>84.696262</td>\n",
       "      <td>15.303738</td>\n",
       "    </tr>\n",
       "    <tr>\n",
       "      <th>3</th>\n",
       "      <td>4</td>\n",
       "      <td>NAVAL ARCHITECTURE AND MARINE ENGINEERING</td>\n",
       "      <td>Engineering</td>\n",
       "      <td>1258</td>\n",
       "      <td>1123</td>\n",
       "      <td>135</td>\n",
       "      <td>758</td>\n",
       "      <td>1069</td>\n",
       "      <td>150</td>\n",
       "      <td>40</td>\n",
       "      <td>0.050125</td>\n",
       "      <td>529</td>\n",
       "      <td>102</td>\n",
       "      <td>0</td>\n",
       "      <td>89.268680</td>\n",
       "      <td>10.731320</td>\n",
       "    </tr>\n",
       "    <tr>\n",
       "      <th>4</th>\n",
       "      <td>5</td>\n",
       "      <td>CHEMICAL ENGINEERING</td>\n",
       "      <td>Engineering</td>\n",
       "      <td>32260</td>\n",
       "      <td>21239</td>\n",
       "      <td>11021</td>\n",
       "      <td>25694</td>\n",
       "      <td>23170</td>\n",
       "      <td>5180</td>\n",
       "      <td>1672</td>\n",
       "      <td>0.061098</td>\n",
       "      <td>18314</td>\n",
       "      <td>4440</td>\n",
       "      <td>972</td>\n",
       "      <td>65.836950</td>\n",
       "      <td>34.163050</td>\n",
       "    </tr>\n",
       "    <tr>\n",
       "      <th>5</th>\n",
       "      <td>6</td>\n",
       "      <td>NUCLEAR ENGINEERING</td>\n",
       "      <td>Engineering</td>\n",
       "      <td>2573</td>\n",
       "      <td>2200</td>\n",
       "      <td>373</td>\n",
       "      <td>1857</td>\n",
       "      <td>2038</td>\n",
       "      <td>264</td>\n",
       "      <td>400</td>\n",
       "      <td>0.177226</td>\n",
       "      <td>1142</td>\n",
       "      <td>657</td>\n",
       "      <td>244</td>\n",
       "      <td>85.503304</td>\n",
       "      <td>14.496696</td>\n",
       "    </tr>\n",
       "    <tr>\n",
       "      <th>6</th>\n",
       "      <td>7</td>\n",
       "      <td>ACTUARIAL SCIENCE</td>\n",
       "      <td>Business</td>\n",
       "      <td>3777</td>\n",
       "      <td>832</td>\n",
       "      <td>960</td>\n",
       "      <td>2912</td>\n",
       "      <td>2924</td>\n",
       "      <td>296</td>\n",
       "      <td>308</td>\n",
       "      <td>0.095652</td>\n",
       "      <td>1768</td>\n",
       "      <td>314</td>\n",
       "      <td>259</td>\n",
       "      <td>22.028065</td>\n",
       "      <td>25.416998</td>\n",
       "    </tr>\n",
       "    <tr>\n",
       "      <th>7</th>\n",
       "      <td>8</td>\n",
       "      <td>ASTRONOMY AND ASTROPHYSICS</td>\n",
       "      <td>Physical Sciences</td>\n",
       "      <td>1792</td>\n",
       "      <td>2110</td>\n",
       "      <td>1667</td>\n",
       "      <td>1526</td>\n",
       "      <td>1085</td>\n",
       "      <td>553</td>\n",
       "      <td>33</td>\n",
       "      <td>0.021167</td>\n",
       "      <td>972</td>\n",
       "      <td>500</td>\n",
       "      <td>220</td>\n",
       "      <td>117.745536</td>\n",
       "      <td>93.024554</td>\n",
       "    </tr>\n",
       "    <tr>\n",
       "      <th>8</th>\n",
       "      <td>9</td>\n",
       "      <td>MECHANICAL ENGINEERING</td>\n",
       "      <td>Engineering</td>\n",
       "      <td>91227</td>\n",
       "      <td>12953</td>\n",
       "      <td>2105</td>\n",
       "      <td>76442</td>\n",
       "      <td>71298</td>\n",
       "      <td>13101</td>\n",
       "      <td>4650</td>\n",
       "      <td>0.057342</td>\n",
       "      <td>52844</td>\n",
       "      <td>16384</td>\n",
       "      <td>3253</td>\n",
       "      <td>14.198647</td>\n",
       "      <td>2.307431</td>\n",
       "    </tr>\n",
       "    <tr>\n",
       "      <th>9</th>\n",
       "      <td>10</td>\n",
       "      <td>ELECTRICAL ENGINEERING</td>\n",
       "      <td>Engineering</td>\n",
       "      <td>81527</td>\n",
       "      <td>8407</td>\n",
       "      <td>6548</td>\n",
       "      <td>61928</td>\n",
       "      <td>55450</td>\n",
       "      <td>12695</td>\n",
       "      <td>3895</td>\n",
       "      <td>0.059174</td>\n",
       "      <td>45829</td>\n",
       "      <td>10874</td>\n",
       "      <td>3170</td>\n",
       "      <td>10.311921</td>\n",
       "      <td>8.031695</td>\n",
       "    </tr>\n",
       "  </tbody>\n",
       "</table>\n",
       "</div>"
      ],
      "text/plain": [
       "       Rank                                      Major     Major_category  \\\n",
       "index                                                                       \n",
       "0         1                      PETROLEUM ENGINEERING        Engineering   \n",
       "1         2             MINING AND MINERAL ENGINEERING        Engineering   \n",
       "2         3                  METALLURGICAL ENGINEERING        Engineering   \n",
       "3         4  NAVAL ARCHITECTURE AND MARINE ENGINEERING        Engineering   \n",
       "4         5                       CHEMICAL ENGINEERING        Engineering   \n",
       "5         6                        NUCLEAR ENGINEERING        Engineering   \n",
       "6         7                          ACTUARIAL SCIENCE           Business   \n",
       "7         8                 ASTRONOMY AND ASTROPHYSICS  Physical Sciences   \n",
       "8         9                     MECHANICAL ENGINEERING        Engineering   \n",
       "9        10                     ELECTRICAL ENGINEERING        Engineering   \n",
       "\n",
       "       Total    Men  Women  Employed  Full_time  Part_time  Unemployed  \\\n",
       "index                                                                    \n",
       "0       2339   2057    282      1976       1849        270          37   \n",
       "1        756    679     77       640        556        170          85   \n",
       "2        856    725    131       648        558        133          16   \n",
       "3       1258   1123    135       758       1069        150          40   \n",
       "4      32260  21239  11021     25694      23170       5180        1672   \n",
       "5       2573   2200    373      1857       2038        264         400   \n",
       "6       3777    832    960      2912       2924        296         308   \n",
       "7       1792   2110   1667      1526       1085        553          33   \n",
       "8      91227  12953   2105     76442      71298      13101        4650   \n",
       "9      81527   8407   6548     61928      55450      12695        3895   \n",
       "\n",
       "       Unemployment_rate  College_jobs  Non_college_jobs  Low_wage_jobs  \\\n",
       "index                                                                     \n",
       "0               0.018381          1534               364            193   \n",
       "1               0.117241           350               257             50   \n",
       "2               0.024096           456               176              0   \n",
       "3               0.050125           529               102              0   \n",
       "4               0.061098         18314              4440            972   \n",
       "5               0.177226          1142               657            244   \n",
       "6               0.095652          1768               314            259   \n",
       "7               0.021167           972               500            220   \n",
       "8               0.057342         52844             16384           3253   \n",
       "9               0.059174         45829             10874           3170   \n",
       "\n",
       "        man_ratio  Woman_ratio  \n",
       "index                           \n",
       "0       87.943566    12.056434  \n",
       "1       89.814815    10.185185  \n",
       "2       84.696262    15.303738  \n",
       "3       89.268680    10.731320  \n",
       "4       65.836950    34.163050  \n",
       "5       85.503304    14.496696  \n",
       "6       22.028065    25.416998  \n",
       "7      117.745536    93.024554  \n",
       "8       14.198647     2.307431  \n",
       "9       10.311921     8.031695  "
      ]
     },
     "execution_count": 182,
     "metadata": {},
     "output_type": "execute_result"
    }
   ],
   "source": [
    "df_recent.head(10)"
   ]
  },
  {
   "cell_type": "code",
   "execution_count": 183,
   "id": "fa1bd7e4",
   "metadata": {},
   "outputs": [],
   "source": [
    "# 저임금 노동을 가장 많이 하는 학과"
   ]
  },
  {
   "cell_type": "code",
   "execution_count": 186,
   "id": "b64b8306",
   "metadata": {},
   "outputs": [
    {
     "data": {
      "text/html": [
       "<div>\n",
       "<style scoped>\n",
       "    .dataframe tbody tr th:only-of-type {\n",
       "        vertical-align: middle;\n",
       "    }\n",
       "\n",
       "    .dataframe tbody tr th {\n",
       "        vertical-align: top;\n",
       "    }\n",
       "\n",
       "    .dataframe thead th {\n",
       "        text-align: right;\n",
       "    }\n",
       "</style>\n",
       "<table border=\"1\" class=\"dataframe\">\n",
       "  <thead>\n",
       "    <tr style=\"text-align: right;\">\n",
       "      <th></th>\n",
       "      <th>Rank</th>\n",
       "      <th>Major</th>\n",
       "      <th>Major_category</th>\n",
       "      <th>Total</th>\n",
       "      <th>Men</th>\n",
       "      <th>Women</th>\n",
       "      <th>Employed</th>\n",
       "      <th>Full_time</th>\n",
       "      <th>Part_time</th>\n",
       "      <th>Unemployed</th>\n",
       "      <th>Unemployment_rate</th>\n",
       "      <th>College_jobs</th>\n",
       "      <th>Non_college_jobs</th>\n",
       "      <th>Low_wage_jobs</th>\n",
       "      <th>man_ratio</th>\n",
       "      <th>Woman_ratio</th>\n",
       "    </tr>\n",
       "    <tr>\n",
       "      <th>index</th>\n",
       "      <th></th>\n",
       "      <th></th>\n",
       "      <th></th>\n",
       "      <th></th>\n",
       "      <th></th>\n",
       "      <th></th>\n",
       "      <th></th>\n",
       "      <th></th>\n",
       "      <th></th>\n",
       "      <th></th>\n",
       "      <th></th>\n",
       "      <th></th>\n",
       "      <th></th>\n",
       "      <th></th>\n",
       "      <th></th>\n",
       "      <th></th>\n",
       "    </tr>\n",
       "  </thead>\n",
       "  <tbody>\n",
       "    <tr>\n",
       "      <th>145</th>\n",
       "      <td>146</td>\n",
       "      <td>PSYCHOLOGY</td>\n",
       "      <td>Psychology &amp; Social Work</td>\n",
       "      <td>393735</td>\n",
       "      <td>86648</td>\n",
       "      <td>307087</td>\n",
       "      <td>307933</td>\n",
       "      <td>233205</td>\n",
       "      <td>115172</td>\n",
       "      <td>28169</td>\n",
       "      <td>0.083811</td>\n",
       "      <td>125148</td>\n",
       "      <td>141860</td>\n",
       "      <td>48207</td>\n",
       "      <td>22.00668</td>\n",
       "      <td>77.99332</td>\n",
       "    </tr>\n",
       "  </tbody>\n",
       "</table>\n",
       "</div>"
      ],
      "text/plain": [
       "       Rank       Major            Major_category   Total    Men   Women  \\\n",
       "index                                                                      \n",
       "145     146  PSYCHOLOGY  Psychology & Social Work  393735  86648  307087   \n",
       "\n",
       "       Employed  Full_time  Part_time  Unemployed  Unemployment_rate  \\\n",
       "index                                                                  \n",
       "145      307933     233205     115172       28169           0.083811   \n",
       "\n",
       "       College_jobs  Non_college_jobs  Low_wage_jobs  man_ratio  Woman_ratio  \n",
       "index                                                                         \n",
       "145          125148            141860          48207   22.00668     77.99332  "
      ]
     },
     "execution_count": 186,
     "metadata": {},
     "output_type": "execute_result"
    }
   ],
   "source": [
    "df_recent.loc[df_recent['Low_wage_jobs'].max() == df_recent['Low_wage_jobs'] , :]"
   ]
  },
  {
   "cell_type": "code",
   "execution_count": 187,
   "id": "650fdd07",
   "metadata": {},
   "outputs": [],
   "source": [
    "# 비대학 일자리를 가장 많이 가는 학과 , 나열 "
   ]
  },
  {
   "cell_type": "code",
   "execution_count": 188,
   "id": "b38fb182",
   "metadata": {},
   "outputs": [
    {
     "data": {
      "text/html": [
       "<div>\n",
       "<style scoped>\n",
       "    .dataframe tbody tr th:only-of-type {\n",
       "        vertical-align: middle;\n",
       "    }\n",
       "\n",
       "    .dataframe tbody tr th {\n",
       "        vertical-align: top;\n",
       "    }\n",
       "\n",
       "    .dataframe thead th {\n",
       "        text-align: right;\n",
       "    }\n",
       "</style>\n",
       "<table border=\"1\" class=\"dataframe\">\n",
       "  <thead>\n",
       "    <tr style=\"text-align: right;\">\n",
       "      <th></th>\n",
       "      <th>Rank</th>\n",
       "      <th>Major</th>\n",
       "      <th>Major_category</th>\n",
       "      <th>Total</th>\n",
       "      <th>Men</th>\n",
       "      <th>Women</th>\n",
       "      <th>Employed</th>\n",
       "      <th>Full_time</th>\n",
       "      <th>Part_time</th>\n",
       "      <th>Unemployed</th>\n",
       "      <th>Unemployment_rate</th>\n",
       "      <th>College_jobs</th>\n",
       "      <th>Non_college_jobs</th>\n",
       "      <th>Low_wage_jobs</th>\n",
       "      <th>man_ratio</th>\n",
       "      <th>Woman_ratio</th>\n",
       "    </tr>\n",
       "    <tr>\n",
       "      <th>index</th>\n",
       "      <th></th>\n",
       "      <th></th>\n",
       "      <th></th>\n",
       "      <th></th>\n",
       "      <th></th>\n",
       "      <th></th>\n",
       "      <th></th>\n",
       "      <th></th>\n",
       "      <th></th>\n",
       "      <th></th>\n",
       "      <th></th>\n",
       "      <th></th>\n",
       "      <th></th>\n",
       "      <th></th>\n",
       "      <th></th>\n",
       "      <th></th>\n",
       "    </tr>\n",
       "  </thead>\n",
       "  <tbody>\n",
       "    <tr>\n",
       "      <th>76</th>\n",
       "      <td>77</td>\n",
       "      <td>BUSINESS MANAGEMENT AND ADMINISTRATION</td>\n",
       "      <td>Business</td>\n",
       "      <td>329927</td>\n",
       "      <td>6383</td>\n",
       "      <td>8849</td>\n",
       "      <td>276234</td>\n",
       "      <td>251540</td>\n",
       "      <td>50357</td>\n",
       "      <td>21502</td>\n",
       "      <td>0.072218</td>\n",
       "      <td>36720</td>\n",
       "      <td>148395</td>\n",
       "      <td>32395</td>\n",
       "      <td>1.93467</td>\n",
       "      <td>2.682108</td>\n",
       "    </tr>\n",
       "  </tbody>\n",
       "</table>\n",
       "</div>"
      ],
      "text/plain": [
       "       Rank                                   Major Major_category   Total  \\\n",
       "index                                                                        \n",
       "76       77  BUSINESS MANAGEMENT AND ADMINISTRATION       Business  329927   \n",
       "\n",
       "        Men  Women  Employed  Full_time  Part_time  Unemployed  \\\n",
       "index                                                            \n",
       "76     6383   8849    276234     251540      50357       21502   \n",
       "\n",
       "       Unemployment_rate  College_jobs  Non_college_jobs  Low_wage_jobs  \\\n",
       "index                                                                     \n",
       "76              0.072218         36720            148395          32395   \n",
       "\n",
       "       man_ratio  Woman_ratio  \n",
       "index                          \n",
       "76       1.93467     2.682108  "
      ]
     },
     "execution_count": 188,
     "metadata": {},
     "output_type": "execute_result"
    }
   ],
   "source": [
    "df_recent.loc[df_recent['Non_college_jobs'].max() == df_recent['Non_college_jobs'] , :]"
   ]
  },
  {
   "cell_type": "code",
   "execution_count": 192,
   "id": "80aab052",
   "metadata": {},
   "outputs": [
    {
     "data": {
      "text/html": [
       "<div>\n",
       "<style scoped>\n",
       "    .dataframe tbody tr th:only-of-type {\n",
       "        vertical-align: middle;\n",
       "    }\n",
       "\n",
       "    .dataframe tbody tr th {\n",
       "        vertical-align: top;\n",
       "    }\n",
       "\n",
       "    .dataframe thead th {\n",
       "        text-align: right;\n",
       "    }\n",
       "</style>\n",
       "<table border=\"1\" class=\"dataframe\">\n",
       "  <thead>\n",
       "    <tr style=\"text-align: right;\">\n",
       "      <th></th>\n",
       "      <th>Rank</th>\n",
       "      <th>Major</th>\n",
       "      <th>Major_category</th>\n",
       "      <th>Total</th>\n",
       "      <th>Men</th>\n",
       "      <th>Women</th>\n",
       "      <th>Employed</th>\n",
       "      <th>Full_time</th>\n",
       "      <th>Part_time</th>\n",
       "      <th>Unemployed</th>\n",
       "      <th>Unemployment_rate</th>\n",
       "      <th>College_jobs</th>\n",
       "      <th>Non_college_jobs</th>\n",
       "      <th>Low_wage_jobs</th>\n",
       "      <th>man_ratio</th>\n",
       "      <th>Woman_ratio</th>\n",
       "    </tr>\n",
       "    <tr>\n",
       "      <th>index</th>\n",
       "      <th></th>\n",
       "      <th></th>\n",
       "      <th></th>\n",
       "      <th></th>\n",
       "      <th></th>\n",
       "      <th></th>\n",
       "      <th></th>\n",
       "      <th></th>\n",
       "      <th></th>\n",
       "      <th></th>\n",
       "      <th></th>\n",
       "      <th></th>\n",
       "      <th></th>\n",
       "      <th></th>\n",
       "      <th></th>\n",
       "      <th></th>\n",
       "    </tr>\n",
       "  </thead>\n",
       "  <tbody>\n",
       "    <tr>\n",
       "      <th>76</th>\n",
       "      <td>77</td>\n",
       "      <td>BUSINESS MANAGEMENT AND ADMINISTRATION</td>\n",
       "      <td>Business</td>\n",
       "      <td>329927</td>\n",
       "      <td>6383</td>\n",
       "      <td>8849</td>\n",
       "      <td>276234</td>\n",
       "      <td>251540</td>\n",
       "      <td>50357</td>\n",
       "      <td>21502</td>\n",
       "      <td>0.072218</td>\n",
       "      <td>36720</td>\n",
       "      <td>148395</td>\n",
       "      <td>32395</td>\n",
       "      <td>1.934670</td>\n",
       "      <td>2.682108</td>\n",
       "    </tr>\n",
       "    <tr>\n",
       "      <th>145</th>\n",
       "      <td>146</td>\n",
       "      <td>PSYCHOLOGY</td>\n",
       "      <td>Psychology &amp; Social Work</td>\n",
       "      <td>393735</td>\n",
       "      <td>86648</td>\n",
       "      <td>307087</td>\n",
       "      <td>307933</td>\n",
       "      <td>233205</td>\n",
       "      <td>115172</td>\n",
       "      <td>28169</td>\n",
       "      <td>0.083811</td>\n",
       "      <td>125148</td>\n",
       "      <td>141860</td>\n",
       "      <td>48207</td>\n",
       "      <td>22.006680</td>\n",
       "      <td>77.993320</td>\n",
       "    </tr>\n",
       "    <tr>\n",
       "      <th>57</th>\n",
       "      <td>58</td>\n",
       "      <td>GENERAL BUSINESS</td>\n",
       "      <td>Business</td>\n",
       "      <td>234590</td>\n",
       "      <td>6053</td>\n",
       "      <td>4346</td>\n",
       "      <td>190183</td>\n",
       "      <td>171385</td>\n",
       "      <td>36241</td>\n",
       "      <td>14946</td>\n",
       "      <td>0.072861</td>\n",
       "      <td>29334</td>\n",
       "      <td>100831</td>\n",
       "      <td>27320</td>\n",
       "      <td>2.580246</td>\n",
       "      <td>1.852594</td>\n",
       "    </tr>\n",
       "    <tr>\n",
       "      <th>93</th>\n",
       "      <td>94</td>\n",
       "      <td>COMMUNICATIONS</td>\n",
       "      <td>Communications &amp; Journalism</td>\n",
       "      <td>213996</td>\n",
       "      <td>476</td>\n",
       "      <td>209</td>\n",
       "      <td>179633</td>\n",
       "      <td>147335</td>\n",
       "      <td>49889</td>\n",
       "      <td>14602</td>\n",
       "      <td>0.075177</td>\n",
       "      <td>40763</td>\n",
       "      <td>97964</td>\n",
       "      <td>27440</td>\n",
       "      <td>0.222434</td>\n",
       "      <td>0.097665</td>\n",
       "    </tr>\n",
       "    <tr>\n",
       "      <th>77</th>\n",
       "      <td>78</td>\n",
       "      <td>MARKETING AND MARKETING RESEARCH</td>\n",
       "      <td>Business</td>\n",
       "      <td>205211</td>\n",
       "      <td>11404</td>\n",
       "      <td>7076</td>\n",
       "      <td>178862</td>\n",
       "      <td>156668</td>\n",
       "      <td>35829</td>\n",
       "      <td>11663</td>\n",
       "      <td>0.061215</td>\n",
       "      <td>25320</td>\n",
       "      <td>93889</td>\n",
       "      <td>27968</td>\n",
       "      <td>5.557207</td>\n",
       "      <td>3.448158</td>\n",
       "    </tr>\n",
       "  </tbody>\n",
       "</table>\n",
       "</div>"
      ],
      "text/plain": [
       "       Rank                                   Major  \\\n",
       "index                                                 \n",
       "76       77  BUSINESS MANAGEMENT AND ADMINISTRATION   \n",
       "145     146                              PSYCHOLOGY   \n",
       "57       58                        GENERAL BUSINESS   \n",
       "93       94                          COMMUNICATIONS   \n",
       "77       78        MARKETING AND MARKETING RESEARCH   \n",
       "\n",
       "                    Major_category   Total    Men   Women  Employed  \\\n",
       "index                                                                 \n",
       "76                        Business  329927   6383    8849    276234   \n",
       "145       Psychology & Social Work  393735  86648  307087    307933   \n",
       "57                        Business  234590   6053    4346    190183   \n",
       "93     Communications & Journalism  213996    476     209    179633   \n",
       "77                        Business  205211  11404    7076    178862   \n",
       "\n",
       "       Full_time  Part_time  Unemployed  Unemployment_rate  College_jobs  \\\n",
       "index                                                                      \n",
       "76        251540      50357       21502           0.072218         36720   \n",
       "145       233205     115172       28169           0.083811        125148   \n",
       "57        171385      36241       14946           0.072861         29334   \n",
       "93        147335      49889       14602           0.075177         40763   \n",
       "77        156668      35829       11663           0.061215         25320   \n",
       "\n",
       "       Non_college_jobs  Low_wage_jobs  man_ratio  Woman_ratio  \n",
       "index                                                           \n",
       "76               148395          32395   1.934670     2.682108  \n",
       "145              141860          48207  22.006680    77.993320  \n",
       "57               100831          27320   2.580246     1.852594  \n",
       "93                97964          27440   0.222434     0.097665  \n",
       "77                93889          27968   5.557207     3.448158  "
      ]
     },
     "execution_count": 192,
     "metadata": {},
     "output_type": "execute_result"
    }
   ],
   "source": [
    "df_recent.sort_values('Non_college_jobs',ascending=False).head(5)"
   ]
  },
  {
   "cell_type": "code",
   "execution_count": null,
   "id": "912902b2",
   "metadata": {},
   "outputs": [],
   "source": []
  }
 ],
 "metadata": {
  "kernelspec": {
   "display_name": "Python 3 (ipykernel)",
   "language": "python",
   "name": "python3"
  },
  "language_info": {
   "codemirror_mode": {
    "name": "ipython",
    "version": 3
   },
   "file_extension": ".py",
   "mimetype": "text/x-python",
   "name": "python",
   "nbconvert_exporter": "python",
   "pygments_lexer": "ipython3",
   "version": "3.8.13"
  }
 },
 "nbformat": 4,
 "nbformat_minor": 5
}
